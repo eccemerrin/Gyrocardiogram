{
 "cells": [
  {
   "cell_type": "markdown",
   "id": "5ff5c96f",
   "metadata": {},
   "source": [
    "### features:\n",
    "* selected spectogram coef\n",
    "* zero crossing rate\n",
    "* selected chromogram values\n",
    "* selected tempogram values\n",
    "* wavelet of level 0"
   ]
  },
  {
   "cell_type": "code",
   "execution_count": 1,
   "id": "dcd92ee4",
   "metadata": {},
   "outputs": [],
   "source": [
    "import pandas as pd \n",
    "import numpy as np\n",
    "from sklearn.model_selection import train_test_split\n",
    "from sklearn.metrics import auc\n",
    "from sklearn.feature_selection import VarianceThreshold\n",
    "from sklearn.metrics import confusion_matrix, roc_curve, roc_auc_score, precision_recall_curve, recall_score\n",
    "import matplotlib.pyplot as plt\n",
    "from yellowbrick.classifier import ClassBalance, ROCAUC, ClassificationReport, ClassPredictionError\n",
    "import itertools"
   ]
  },
  {
   "cell_type": "code",
   "execution_count": 2,
   "id": "77055433",
   "metadata": {},
   "outputs": [],
   "source": [
    "csv_path = \"/Users/ecem/Desktop/gyrocardiogram/s-vs-r/feature_extr\""
   ]
  },
  {
   "cell_type": "markdown",
   "id": "859b3496",
   "metadata": {},
   "source": [
    "## Load data"
   ]
  },
  {
   "cell_type": "markdown",
   "id": "84ab66f1",
   "metadata": {},
   "source": [
    "Here, our target is to predict disease correctly. So; our y will be disease column of  dataset"
   ]
  },
  {
   "cell_type": "code",
   "execution_count": 3,
   "id": "7db05d41",
   "metadata": {},
   "outputs": [],
   "source": [
    "features = pd.read_csv(csv_path + \"/pvs_features.csv\", index_col = 0)"
   ]
  },
  {
   "cell_type": "code",
   "execution_count": 4,
   "id": "d31f5089",
   "metadata": {},
   "outputs": [],
   "source": [
    "y = np.concatenate( [np.ones((1070)), np.zeros((2017))] )"
   ]
  },
  {
   "cell_type": "code",
   "execution_count": 5,
   "id": "0b4e2c75",
   "metadata": {},
   "outputs": [
    {
     "data": {
      "text/plain": [
       "(3087,)"
      ]
     },
     "execution_count": 5,
     "metadata": {},
     "output_type": "execute_result"
    }
   ],
   "source": [
    "y.shape"
   ]
  },
  {
   "cell_type": "code",
   "execution_count": 6,
   "id": "fc4b5e19",
   "metadata": {},
   "outputs": [],
   "source": [
    "X_train, X_valid, y_train, y_valid = train_test_split(features, y, train_size=0.8, test_size=0.2,\n",
    "                                                                random_state=42)"
   ]
  },
  {
   "cell_type": "code",
   "execution_count": 7,
   "id": "6d796dcf",
   "metadata": {},
   "outputs": [
    {
     "data": {
      "text/html": [
       "<style>#sk-container-id-1 {color: black;background-color: white;}#sk-container-id-1 pre{padding: 0;}#sk-container-id-1 div.sk-toggleable {background-color: white;}#sk-container-id-1 label.sk-toggleable__label {cursor: pointer;display: block;width: 100%;margin-bottom: 0;padding: 0.3em;box-sizing: border-box;text-align: center;}#sk-container-id-1 label.sk-toggleable__label-arrow:before {content: \"▸\";float: left;margin-right: 0.25em;color: #696969;}#sk-container-id-1 label.sk-toggleable__label-arrow:hover:before {color: black;}#sk-container-id-1 div.sk-estimator:hover label.sk-toggleable__label-arrow:before {color: black;}#sk-container-id-1 div.sk-toggleable__content {max-height: 0;max-width: 0;overflow: hidden;text-align: left;background-color: #f0f8ff;}#sk-container-id-1 div.sk-toggleable__content pre {margin: 0.2em;color: black;border-radius: 0.25em;background-color: #f0f8ff;}#sk-container-id-1 input.sk-toggleable__control:checked~div.sk-toggleable__content {max-height: 200px;max-width: 100%;overflow: auto;}#sk-container-id-1 input.sk-toggleable__control:checked~label.sk-toggleable__label-arrow:before {content: \"▾\";}#sk-container-id-1 div.sk-estimator input.sk-toggleable__control:checked~label.sk-toggleable__label {background-color: #d4ebff;}#sk-container-id-1 div.sk-label input.sk-toggleable__control:checked~label.sk-toggleable__label {background-color: #d4ebff;}#sk-container-id-1 input.sk-hidden--visually {border: 0;clip: rect(1px 1px 1px 1px);clip: rect(1px, 1px, 1px, 1px);height: 1px;margin: -1px;overflow: hidden;padding: 0;position: absolute;width: 1px;}#sk-container-id-1 div.sk-estimator {font-family: monospace;background-color: #f0f8ff;border: 1px dotted black;border-radius: 0.25em;box-sizing: border-box;margin-bottom: 0.5em;}#sk-container-id-1 div.sk-estimator:hover {background-color: #d4ebff;}#sk-container-id-1 div.sk-parallel-item::after {content: \"\";width: 100%;border-bottom: 1px solid gray;flex-grow: 1;}#sk-container-id-1 div.sk-label:hover label.sk-toggleable__label {background-color: #d4ebff;}#sk-container-id-1 div.sk-serial::before {content: \"\";position: absolute;border-left: 1px solid gray;box-sizing: border-box;top: 0;bottom: 0;left: 50%;z-index: 0;}#sk-container-id-1 div.sk-serial {display: flex;flex-direction: column;align-items: center;background-color: white;padding-right: 0.2em;padding-left: 0.2em;position: relative;}#sk-container-id-1 div.sk-item {position: relative;z-index: 1;}#sk-container-id-1 div.sk-parallel {display: flex;align-items: stretch;justify-content: center;background-color: white;position: relative;}#sk-container-id-1 div.sk-item::before, #sk-container-id-1 div.sk-parallel-item::before {content: \"\";position: absolute;border-left: 1px solid gray;box-sizing: border-box;top: 0;bottom: 0;left: 50%;z-index: -1;}#sk-container-id-1 div.sk-parallel-item {display: flex;flex-direction: column;z-index: 1;position: relative;background-color: white;}#sk-container-id-1 div.sk-parallel-item:first-child::after {align-self: flex-end;width: 50%;}#sk-container-id-1 div.sk-parallel-item:last-child::after {align-self: flex-start;width: 50%;}#sk-container-id-1 div.sk-parallel-item:only-child::after {width: 0;}#sk-container-id-1 div.sk-dashed-wrapped {border: 1px dashed gray;margin: 0 0.4em 0.5em 0.4em;box-sizing: border-box;padding-bottom: 0.4em;background-color: white;}#sk-container-id-1 div.sk-label label {font-family: monospace;font-weight: bold;display: inline-block;line-height: 1.2em;}#sk-container-id-1 div.sk-label-container {text-align: center;}#sk-container-id-1 div.sk-container {/* jupyter's `normalize.less` sets `[hidden] { display: none; }` but bootstrap.min.css set `[hidden] { display: none !important; }` so we also need the `!important` here to be able to override the default hidden behavior on the sphinx rendered scikit-learn.org. See: https://github.com/scikit-learn/scikit-learn/issues/21755 */display: inline-block !important;position: relative;}#sk-container-id-1 div.sk-text-repr-fallback {display: none;}</style><div id=\"sk-container-id-1\" class=\"sk-top-container\"><div class=\"sk-text-repr-fallback\"><pre>XGBClassifier(base_score=0.5, booster=&#x27;gbtree&#x27;, callbacks=None,\n",
       "              colsample_bylevel=1, colsample_bynode=1, colsample_bytree=1,\n",
       "              early_stopping_rounds=None, enable_categorical=False,\n",
       "              eval_metric=&#x27;merror&#x27;, gamma=0, gpu_id=-1, grow_policy=&#x27;depthwise&#x27;,\n",
       "              importance_type=None, interaction_constraints=&#x27;&#x27;,\n",
       "              learning_rate=0.300000012, max_bin=256, max_cat_to_onehot=4,\n",
       "              max_delta_step=0, max_depth=6, max_leaves=0, min_child_weight=1,\n",
       "              missing=nan, monotone_constraints=&#x27;()&#x27;, n_estimators=100,\n",
       "              n_jobs=0, num_parallel_tree=1, predictor=&#x27;auto&#x27;, random_state=42,\n",
       "              reg_alpha=0, reg_lambda=1, ...)</pre><b>In a Jupyter environment, please rerun this cell to show the HTML representation or trust the notebook. <br />On GitHub, the HTML representation is unable to render, please try loading this page with nbviewer.org.</b></div><div class=\"sk-container\" hidden><div class=\"sk-item\"><div class=\"sk-estimator sk-toggleable\"><input class=\"sk-toggleable__control sk-hidden--visually\" id=\"sk-estimator-id-1\" type=\"checkbox\" checked><label for=\"sk-estimator-id-1\" class=\"sk-toggleable__label sk-toggleable__label-arrow\">XGBClassifier</label><div class=\"sk-toggleable__content\"><pre>XGBClassifier(base_score=0.5, booster=&#x27;gbtree&#x27;, callbacks=None,\n",
       "              colsample_bylevel=1, colsample_bynode=1, colsample_bytree=1,\n",
       "              early_stopping_rounds=None, enable_categorical=False,\n",
       "              eval_metric=&#x27;merror&#x27;, gamma=0, gpu_id=-1, grow_policy=&#x27;depthwise&#x27;,\n",
       "              importance_type=None, interaction_constraints=&#x27;&#x27;,\n",
       "              learning_rate=0.300000012, max_bin=256, max_cat_to_onehot=4,\n",
       "              max_delta_step=0, max_depth=6, max_leaves=0, min_child_weight=1,\n",
       "              missing=nan, monotone_constraints=&#x27;()&#x27;, n_estimators=100,\n",
       "              n_jobs=0, num_parallel_tree=1, predictor=&#x27;auto&#x27;, random_state=42,\n",
       "              reg_alpha=0, reg_lambda=1, ...)</pre></div></div></div></div></div>"
      ],
      "text/plain": [
       "XGBClassifier(base_score=0.5, booster='gbtree', callbacks=None,\n",
       "              colsample_bylevel=1, colsample_bynode=1, colsample_bytree=1,\n",
       "              early_stopping_rounds=None, enable_categorical=False,\n",
       "              eval_metric='merror', gamma=0, gpu_id=-1, grow_policy='depthwise',\n",
       "              importance_type=None, interaction_constraints='',\n",
       "              learning_rate=0.300000012, max_bin=256, max_cat_to_onehot=4,\n",
       "              max_delta_step=0, max_depth=6, max_leaves=0, min_child_weight=1,\n",
       "              missing=nan, monotone_constraints='()', n_estimators=100,\n",
       "              n_jobs=0, num_parallel_tree=1, predictor='auto', random_state=42,\n",
       "              reg_alpha=0, reg_lambda=1, ...)"
      ]
     },
     "execution_count": 7,
     "metadata": {},
     "output_type": "execute_result"
    }
   ],
   "source": [
    "import xgboost as xgb\n",
    "model  = xgb.XGBClassifier(random_state = 42, eval_metric = 'merror') \n",
    "\n",
    "# Fit the model\n",
    "model.fit(X_train, y_train)"
   ]
  },
  {
   "cell_type": "code",
   "execution_count": 8,
   "id": "3deabbce",
   "metadata": {},
   "outputs": [],
   "source": [
    "predictions = model.predict(X_valid)"
   ]
  },
  {
   "cell_type": "code",
   "execution_count": 9,
   "id": "a4edd857",
   "metadata": {},
   "outputs": [],
   "source": [
    "classes = ['S', 'R']"
   ]
  },
  {
   "cell_type": "code",
   "execution_count": 10,
   "id": "69ecf1cf",
   "metadata": {},
   "outputs": [
    {
     "data": {
      "image/png": "[encoded data removed]",
      "text/plain": [
       "<Figure size 900x500 with 1 Axes>"
      ]
     },
     "metadata": {},
     "output_type": "display_data"
    }
   ],
   "source": [
    "rocauc = ROCAUC(model, size=(900, 500), classes=classes )\n",
    "\n",
    "rocauc.fit(X_train, y_train)       \n",
    "rocauc.score(X_valid, y_valid)  \n",
    "r = rocauc.poof()"
   ]
  },
  {
   "cell_type": "code",
   "execution_count": 11,
   "id": "c8886d49",
   "metadata": {},
   "outputs": [
    {
     "name": "stderr",
     "output_type": "stream",
     "text": [
      "/Users/ecem/miniforge3/envs/tf-metal/lib/python3.9/site-packages/yellowbrick/classifier/base.py:232: YellowbrickWarning: could not determine class_counts_ from previously fitted classifier\n",
      "  warnings.warn(\n"
     ]
    },
    {
     "data": {
      "image/png": "[encoded data removed]",
      "text/plain": [
       "<Figure size 425x400 with 2 Axes>"
      ]
     },
     "metadata": {},
     "output_type": "display_data"
    }
   ],
   "source": [
    "report = ClassificationReport(model, size=(425, 400), classes=classes, cmap = 'BuPu' )\n",
    "\n",
    "report.score(X_valid, y_valid)\n",
    "c = report.poof()"
   ]
  },
  {
   "cell_type": "code",
   "execution_count": 12,
   "id": "2c2f2a40",
   "metadata": {},
   "outputs": [
    {
     "data": {
      "image/png": "[encoded data removed]",
      "text/plain": [
       "<Figure size 576x396 with 2 Axes>"
      ]
     },
     "metadata": {},
     "output_type": "display_data"
    }
   ],
   "source": [
    "from sklearn.metrics import ConfusionMatrixDisplay\n",
    "conf =  ConfusionMatrixDisplay.from_estimator(model, X_valid, y_valid, display_labels= ['S', 'R'], cmap = 'BuPu') \n",
    "conf.ax_.set_title(\"Confusion Matrix\")\n",
    "plt.grid(None)\n",
    "plt.show()"
   ]
  },
  {
   "cell_type": "code",
   "execution_count": 13,
   "id": "e6a3d35a",
   "metadata": {},
   "outputs": [
    {
     "name": "stdout",
     "output_type": "stream",
     "text": [
      "accuracy: 99.35%\n",
      "recall: 99.35%\n",
      "precision: 99.35%\n"
     ]
    }
   ],
   "source": [
    "from sklearn.metrics import accuracy_score\n",
    "accuracy = accuracy_score(y_valid, predictions)\n",
    "print(\"accuracy: %.2f%%\" % (accuracy * 100.0))\n",
    "\n",
    "recall = recall_score(y_valid, predictions, average= 'weighted')\n",
    "print(\"recall: %.2f%%\" % (recall * 100.0))\n",
    "\n",
    "from sklearn.metrics import precision_score\n",
    "precision = precision_score(y_valid, predictions, average= 'weighted')\n",
    "print(\"precision: %.2f%%\" % (precision * 100.0))"
   ]
  },
  {
   "cell_type": "markdown",
   "id": "4a625f55",
   "metadata": {},
   "source": [
    "### with 0.0001 variation"
   ]
  },
  {
   "cell_type": "code",
   "execution_count": 24,
   "id": "e06b3e3f",
   "metadata": {},
   "outputs": [
    {
     "data": {
      "text/html": [
       "<div>\n",
       "<style scoped>\n",
       "    .dataframe tbody tr th:only-of-type {\n",
       "        vertical-align: middle;\n",
       "    }\n",
       "\n",
       "    .dataframe tbody tr th {\n",
       "        vertical-align: top;\n",
       "    }\n",
       "\n",
       "    .dataframe thead th {\n",
       "        text-align: right;\n",
       "    }\n",
       "</style>\n",
       "<table border=\"1\" class=\"dataframe\">\n",
       "  <thead>\n",
       "    <tr style=\"text-align: right;\">\n",
       "      <th></th>\n",
       "      <th>freq_x614</th>\n",
       "      <th>freq_y614</th>\n",
       "      <th>freq_z614</th>\n",
       "      <th>freq_x615</th>\n",
       "      <th>freq_y615</th>\n",
       "      <th>freq_z615</th>\n",
       "      <th>freq_x616</th>\n",
       "      <th>freq_y616</th>\n",
       "      <th>freq_z616</th>\n",
       "      <th>freq_x617</th>\n",
       "      <th>...</th>\n",
       "      <th>lvl0_z40</th>\n",
       "      <th>lvl0_z41</th>\n",
       "      <th>lvl0_z42</th>\n",
       "      <th>lvl0_z43</th>\n",
       "      <th>lvl0_z44</th>\n",
       "      <th>lvl0_z45</th>\n",
       "      <th>lvl0_z46</th>\n",
       "      <th>lvl0_z47</th>\n",
       "      <th>#ofcrossing_x</th>\n",
       "      <th>#ofcrossing_z</th>\n",
       "    </tr>\n",
       "  </thead>\n",
       "  <tbody>\n",
       "    <tr>\n",
       "      <th>0</th>\n",
       "      <td>0.034754</td>\n",
       "      <td>0.033685</td>\n",
       "      <td>0.032464</td>\n",
       "      <td>0.031234</td>\n",
       "      <td>0.030261</td>\n",
       "      <td>0.030007</td>\n",
       "      <td>0.030408</td>\n",
       "      <td>0.031434</td>\n",
       "      <td>0.032818</td>\n",
       "      <td>0.034190</td>\n",
       "      <td>...</td>\n",
       "      <td>3.398055</td>\n",
       "      <td>1.683546</td>\n",
       "      <td>1.953521</td>\n",
       "      <td>1.884336</td>\n",
       "      <td>3.337115</td>\n",
       "      <td>2.892143</td>\n",
       "      <td>2.902176</td>\n",
       "      <td>3.054463</td>\n",
       "      <td>347.0</td>\n",
       "      <td>472.0</td>\n",
       "    </tr>\n",
       "    <tr>\n",
       "      <th>1</th>\n",
       "      <td>0.043895</td>\n",
       "      <td>0.043663</td>\n",
       "      <td>0.043200</td>\n",
       "      <td>0.042348</td>\n",
       "      <td>0.041131</td>\n",
       "      <td>0.039640</td>\n",
       "      <td>0.038126</td>\n",
       "      <td>0.036994</td>\n",
       "      <td>0.036368</td>\n",
       "      <td>0.035995</td>\n",
       "      <td>...</td>\n",
       "      <td>2.596833</td>\n",
       "      <td>2.536577</td>\n",
       "      <td>1.353387</td>\n",
       "      <td>1.348864</td>\n",
       "      <td>1.567292</td>\n",
       "      <td>1.382271</td>\n",
       "      <td>1.446645</td>\n",
       "      <td>1.549479</td>\n",
       "      <td>346.0</td>\n",
       "      <td>419.0</td>\n",
       "    </tr>\n",
       "    <tr>\n",
       "      <th>2</th>\n",
       "      <td>0.027584</td>\n",
       "      <td>0.027438</td>\n",
       "      <td>0.027284</td>\n",
       "      <td>0.027287</td>\n",
       "      <td>0.027256</td>\n",
       "      <td>0.027339</td>\n",
       "      <td>0.027323</td>\n",
       "      <td>0.027233</td>\n",
       "      <td>0.027218</td>\n",
       "      <td>0.027296</td>\n",
       "      <td>...</td>\n",
       "      <td>3.626036</td>\n",
       "      <td>3.209004</td>\n",
       "      <td>-0.134956</td>\n",
       "      <td>1.253442</td>\n",
       "      <td>0.246203</td>\n",
       "      <td>0.389060</td>\n",
       "      <td>0.444405</td>\n",
       "      <td>0.397022</td>\n",
       "      <td>421.0</td>\n",
       "      <td>423.0</td>\n",
       "    </tr>\n",
       "    <tr>\n",
       "      <th>3</th>\n",
       "      <td>0.025446</td>\n",
       "      <td>0.025381</td>\n",
       "      <td>0.025715</td>\n",
       "      <td>0.026790</td>\n",
       "      <td>0.028452</td>\n",
       "      <td>0.030247</td>\n",
       "      <td>0.032038</td>\n",
       "      <td>0.033703</td>\n",
       "      <td>0.035085</td>\n",
       "      <td>0.036071</td>\n",
       "      <td>...</td>\n",
       "      <td>2.162382</td>\n",
       "      <td>0.332423</td>\n",
       "      <td>2.512636</td>\n",
       "      <td>1.868316</td>\n",
       "      <td>1.286057</td>\n",
       "      <td>1.486791</td>\n",
       "      <td>1.487241</td>\n",
       "      <td>1.411369</td>\n",
       "      <td>374.0</td>\n",
       "      <td>476.0</td>\n",
       "    </tr>\n",
       "    <tr>\n",
       "      <th>4</th>\n",
       "      <td>0.029764</td>\n",
       "      <td>0.028996</td>\n",
       "      <td>0.028442</td>\n",
       "      <td>0.027861</td>\n",
       "      <td>0.027124</td>\n",
       "      <td>0.026205</td>\n",
       "      <td>0.025141</td>\n",
       "      <td>0.024045</td>\n",
       "      <td>0.023133</td>\n",
       "      <td>0.022518</td>\n",
       "      <td>...</td>\n",
       "      <td>3.117626</td>\n",
       "      <td>2.255243</td>\n",
       "      <td>1.461551</td>\n",
       "      <td>1.337653</td>\n",
       "      <td>3.555023</td>\n",
       "      <td>3.041664</td>\n",
       "      <td>2.981505</td>\n",
       "      <td>3.120505</td>\n",
       "      <td>413.0</td>\n",
       "      <td>423.0</td>\n",
       "    </tr>\n",
       "    <tr>\n",
       "      <th>...</th>\n",
       "      <td>...</td>\n",
       "      <td>...</td>\n",
       "      <td>...</td>\n",
       "      <td>...</td>\n",
       "      <td>...</td>\n",
       "      <td>...</td>\n",
       "      <td>...</td>\n",
       "      <td>...</td>\n",
       "      <td>...</td>\n",
       "      <td>...</td>\n",
       "      <td>...</td>\n",
       "      <td>...</td>\n",
       "      <td>...</td>\n",
       "      <td>...</td>\n",
       "      <td>...</td>\n",
       "      <td>...</td>\n",
       "      <td>...</td>\n",
       "      <td>...</td>\n",
       "      <td>...</td>\n",
       "      <td>...</td>\n",
       "      <td>...</td>\n",
       "    </tr>\n",
       "    <tr>\n",
       "      <th>3082</th>\n",
       "      <td>0.051870</td>\n",
       "      <td>0.051157</td>\n",
       "      <td>0.050366</td>\n",
       "      <td>0.049564</td>\n",
       "      <td>0.048665</td>\n",
       "      <td>0.047737</td>\n",
       "      <td>0.047090</td>\n",
       "      <td>0.047457</td>\n",
       "      <td>0.049736</td>\n",
       "      <td>0.053233</td>\n",
       "      <td>...</td>\n",
       "      <td>-0.055524</td>\n",
       "      <td>-0.206653</td>\n",
       "      <td>-0.175639</td>\n",
       "      <td>-0.956635</td>\n",
       "      <td>-0.977654</td>\n",
       "      <td>-0.954696</td>\n",
       "      <td>-0.949013</td>\n",
       "      <td>-0.922854</td>\n",
       "      <td>132.0</td>\n",
       "      <td>93.0</td>\n",
       "    </tr>\n",
       "    <tr>\n",
       "      <th>3083</th>\n",
       "      <td>0.310910</td>\n",
       "      <td>0.328245</td>\n",
       "      <td>0.341364</td>\n",
       "      <td>0.349777</td>\n",
       "      <td>0.353462</td>\n",
       "      <td>0.352881</td>\n",
       "      <td>0.349387</td>\n",
       "      <td>0.344217</td>\n",
       "      <td>0.339216</td>\n",
       "      <td>0.337574</td>\n",
       "      <td>...</td>\n",
       "      <td>-0.074291</td>\n",
       "      <td>0.619744</td>\n",
       "      <td>0.322873</td>\n",
       "      <td>0.318044</td>\n",
       "      <td>-0.032990</td>\n",
       "      <td>0.007116</td>\n",
       "      <td>0.036962</td>\n",
       "      <td>0.042782</td>\n",
       "      <td>198.0</td>\n",
       "      <td>125.0</td>\n",
       "    </tr>\n",
       "    <tr>\n",
       "      <th>3084</th>\n",
       "      <td>2.482192</td>\n",
       "      <td>2.607633</td>\n",
       "      <td>2.735864</td>\n",
       "      <td>2.858038</td>\n",
       "      <td>2.968771</td>\n",
       "      <td>3.066731</td>\n",
       "      <td>3.152988</td>\n",
       "      <td>3.227778</td>\n",
       "      <td>3.293103</td>\n",
       "      <td>3.370598</td>\n",
       "      <td>...</td>\n",
       "      <td>0.130729</td>\n",
       "      <td>-0.542842</td>\n",
       "      <td>-0.112488</td>\n",
       "      <td>-0.638902</td>\n",
       "      <td>-1.010991</td>\n",
       "      <td>-0.917975</td>\n",
       "      <td>-0.897326</td>\n",
       "      <td>-0.906142</td>\n",
       "      <td>112.0</td>\n",
       "      <td>107.0</td>\n",
       "    </tr>\n",
       "    <tr>\n",
       "      <th>3085</th>\n",
       "      <td>7.118190</td>\n",
       "      <td>7.193694</td>\n",
       "      <td>7.210407</td>\n",
       "      <td>7.174244</td>\n",
       "      <td>7.089963</td>\n",
       "      <td>6.964227</td>\n",
       "      <td>6.805786</td>\n",
       "      <td>6.621374</td>\n",
       "      <td>6.418880</td>\n",
       "      <td>6.199228</td>\n",
       "      <td>...</td>\n",
       "      <td>-0.118549</td>\n",
       "      <td>0.329681</td>\n",
       "      <td>-0.059718</td>\n",
       "      <td>0.213193</td>\n",
       "      <td>0.465949</td>\n",
       "      <td>0.449462</td>\n",
       "      <td>0.418689</td>\n",
       "      <td>0.400873</td>\n",
       "      <td>134.0</td>\n",
       "      <td>122.0</td>\n",
       "    </tr>\n",
       "    <tr>\n",
       "      <th>3086</th>\n",
       "      <td>5.227460</td>\n",
       "      <td>5.516573</td>\n",
       "      <td>5.789705</td>\n",
       "      <td>6.049747</td>\n",
       "      <td>6.298581</td>\n",
       "      <td>6.525157</td>\n",
       "      <td>6.733338</td>\n",
       "      <td>6.948906</td>\n",
       "      <td>7.125112</td>\n",
       "      <td>7.261013</td>\n",
       "      <td>...</td>\n",
       "      <td>-0.000101</td>\n",
       "      <td>-0.000212</td>\n",
       "      <td>-0.000011</td>\n",
       "      <td>-0.000095</td>\n",
       "      <td>-0.000190</td>\n",
       "      <td>-0.000175</td>\n",
       "      <td>-0.000168</td>\n",
       "      <td>-0.000166</td>\n",
       "      <td>115.0</td>\n",
       "      <td>107.0</td>\n",
       "    </tr>\n",
       "  </tbody>\n",
       "</table>\n",
       "<p>3087 rows × 629 columns</p>\n",
       "</div>"
      ],
      "text/plain": [
       "      freq_x614  freq_y614  freq_z614  freq_x615  freq_y615  freq_z615  \\\n",
       "0      0.034754   0.033685   0.032464   0.031234   0.030261   0.030007   \n",
       "1      0.043895   0.043663   0.043200   0.042348   0.041131   0.039640   \n",
       "2      0.027584   0.027438   0.027284   0.027287   0.027256   0.027339   \n",
       "3      0.025446   0.025381   0.025715   0.026790   0.028452   0.030247   \n",
       "4      0.029764   0.028996   0.028442   0.027861   0.027124   0.026205   \n",
       "...         ...        ...        ...        ...        ...        ...   \n",
       "3082   0.051870   0.051157   0.050366   0.049564   0.048665   0.047737   \n",
       "3083   0.310910   0.328245   0.341364   0.349777   0.353462   0.352881   \n",
       "3084   2.482192   2.607633   2.735864   2.858038   2.968771   3.066731   \n",
       "3085   7.118190   7.193694   7.210407   7.174244   7.089963   6.964227   \n",
       "3086   5.227460   5.516573   5.789705   6.049747   6.298581   6.525157   \n",
       "\n",
       "      freq_x616  freq_y616  freq_z616  freq_x617  ...  lvl0_z40  lvl0_z41  \\\n",
       "0      0.030408   0.031434   0.032818   0.034190  ...  3.398055  1.683546   \n",
       "1      0.038126   0.036994   0.036368   0.035995  ...  2.596833  2.536577   \n",
       "2      0.027323   0.027233   0.027218   0.027296  ...  3.626036  3.209004   \n",
       "3      0.032038   0.033703   0.035085   0.036071  ...  2.162382  0.332423   \n",
       "4      0.025141   0.024045   0.023133   0.022518  ...  3.117626  2.255243   \n",
       "...         ...        ...        ...        ...  ...       ...       ...   \n",
       "3082   0.047090   0.047457   0.049736   0.053233  ... -0.055524 -0.206653   \n",
       "3083   0.349387   0.344217   0.339216   0.337574  ... -0.074291  0.619744   \n",
       "3084   3.152988   3.227778   3.293103   3.370598  ...  0.130729 -0.542842   \n",
       "3085   6.805786   6.621374   6.418880   6.199228  ... -0.118549  0.329681   \n",
       "3086   6.733338   6.948906   7.125112   7.261013  ... -0.000101 -0.000212   \n",
       "\n",
       "      lvl0_z42  lvl0_z43  lvl0_z44  lvl0_z45  lvl0_z46  lvl0_z47  \\\n",
       "0     1.953521  1.884336  3.337115  2.892143  2.902176  3.054463   \n",
       "1     1.353387  1.348864  1.567292  1.382271  1.446645  1.549479   \n",
       "2    -0.134956  1.253442  0.246203  0.389060  0.444405  0.397022   \n",
       "3     2.512636  1.868316  1.286057  1.486791  1.487241  1.411369   \n",
       "4     1.461551  1.337653  3.555023  3.041664  2.981505  3.120505   \n",
       "...        ...       ...       ...       ...       ...       ...   \n",
       "3082 -0.175639 -0.956635 -0.977654 -0.954696 -0.949013 -0.922854   \n",
       "3083  0.322873  0.318044 -0.032990  0.007116  0.036962  0.042782   \n",
       "3084 -0.112488 -0.638902 -1.010991 -0.917975 -0.897326 -0.906142   \n",
       "3085 -0.059718  0.213193  0.465949  0.449462  0.418689  0.400873   \n",
       "3086 -0.000011 -0.000095 -0.000190 -0.000175 -0.000168 -0.000166   \n",
       "\n",
       "      #ofcrossing_x  #ofcrossing_z  \n",
       "0             347.0          472.0  \n",
       "1             346.0          419.0  \n",
       "2             421.0          423.0  \n",
       "3             374.0          476.0  \n",
       "4             413.0          423.0  \n",
       "...             ...            ...  \n",
       "3082          132.0           93.0  \n",
       "3083          198.0          125.0  \n",
       "3084          112.0          107.0  \n",
       "3085          134.0          122.0  \n",
       "3086          115.0          107.0  \n",
       "\n",
       "[3087 rows x 629 columns]"
      ]
     },
     "execution_count": 24,
     "metadata": {},
     "output_type": "execute_result"
    }
   ],
   "source": [
    "vt = VarianceThreshold(threshold = 0.5)\n",
    "_ = vt.fit(features)\n",
    "masked = vt.get_support()\n",
    "features_masked = features.loc[:, masked]\n",
    "features_masked # uncomment to see the dataframe"
   ]
  },
  {
   "cell_type": "code",
   "execution_count": 25,
   "id": "dab19914",
   "metadata": {},
   "outputs": [],
   "source": [
    "X_train_, X_valid_, y_train_, y_valid_ = train_test_split(features_masked, y, train_size=0.8, test_size=0.2,\n",
    "                                                                random_state=42)"
   ]
  },
  {
   "cell_type": "code",
   "execution_count": 26,
   "id": "d36e716e",
   "metadata": {},
   "outputs": [
    {
     "data": {
      "text/html": [
       "<style>#sk-container-id-3 {color: black;background-color: white;}#sk-container-id-3 pre{padding: 0;}#sk-container-id-3 div.sk-toggleable {background-color: white;}#sk-container-id-3 label.sk-toggleable__label {cursor: pointer;display: block;width: 100%;margin-bottom: 0;padding: 0.3em;box-sizing: border-box;text-align: center;}#sk-container-id-3 label.sk-toggleable__label-arrow:before {content: \"▸\";float: left;margin-right: 0.25em;color: #696969;}#sk-container-id-3 label.sk-toggleable__label-arrow:hover:before {color: black;}#sk-container-id-3 div.sk-estimator:hover label.sk-toggleable__label-arrow:before {color: black;}#sk-container-id-3 div.sk-toggleable__content {max-height: 0;max-width: 0;overflow: hidden;text-align: left;background-color: #f0f8ff;}#sk-container-id-3 div.sk-toggleable__content pre {margin: 0.2em;color: black;border-radius: 0.25em;background-color: #f0f8ff;}#sk-container-id-3 input.sk-toggleable__control:checked~div.sk-toggleable__content {max-height: 200px;max-width: 100%;overflow: auto;}#sk-container-id-3 input.sk-toggleable__control:checked~label.sk-toggleable__label-arrow:before {content: \"▾\";}#sk-container-id-3 div.sk-estimator input.sk-toggleable__control:checked~label.sk-toggleable__label {background-color: #d4ebff;}#sk-container-id-3 div.sk-label input.sk-toggleable__control:checked~label.sk-toggleable__label {background-color: #d4ebff;}#sk-container-id-3 input.sk-hidden--visually {border: 0;clip: rect(1px 1px 1px 1px);clip: rect(1px, 1px, 1px, 1px);height: 1px;margin: -1px;overflow: hidden;padding: 0;position: absolute;width: 1px;}#sk-container-id-3 div.sk-estimator {font-family: monospace;background-color: #f0f8ff;border: 1px dotted black;border-radius: 0.25em;box-sizing: border-box;margin-bottom: 0.5em;}#sk-container-id-3 div.sk-estimator:hover {background-color: #d4ebff;}#sk-container-id-3 div.sk-parallel-item::after {content: \"\";width: 100%;border-bottom: 1px solid gray;flex-grow: 1;}#sk-container-id-3 div.sk-label:hover label.sk-toggleable__label {background-color: #d4ebff;}#sk-container-id-3 div.sk-serial::before {content: \"\";position: absolute;border-left: 1px solid gray;box-sizing: border-box;top: 0;bottom: 0;left: 50%;z-index: 0;}#sk-container-id-3 div.sk-serial {display: flex;flex-direction: column;align-items: center;background-color: white;padding-right: 0.2em;padding-left: 0.2em;position: relative;}#sk-container-id-3 div.sk-item {position: relative;z-index: 1;}#sk-container-id-3 div.sk-parallel {display: flex;align-items: stretch;justify-content: center;background-color: white;position: relative;}#sk-container-id-3 div.sk-item::before, #sk-container-id-3 div.sk-parallel-item::before {content: \"\";position: absolute;border-left: 1px solid gray;box-sizing: border-box;top: 0;bottom: 0;left: 50%;z-index: -1;}#sk-container-id-3 div.sk-parallel-item {display: flex;flex-direction: column;z-index: 1;position: relative;background-color: white;}#sk-container-id-3 div.sk-parallel-item:first-child::after {align-self: flex-end;width: 50%;}#sk-container-id-3 div.sk-parallel-item:last-child::after {align-self: flex-start;width: 50%;}#sk-container-id-3 div.sk-parallel-item:only-child::after {width: 0;}#sk-container-id-3 div.sk-dashed-wrapped {border: 1px dashed gray;margin: 0 0.4em 0.5em 0.4em;box-sizing: border-box;padding-bottom: 0.4em;background-color: white;}#sk-container-id-3 div.sk-label label {font-family: monospace;font-weight: bold;display: inline-block;line-height: 1.2em;}#sk-container-id-3 div.sk-label-container {text-align: center;}#sk-container-id-3 div.sk-container {/* jupyter's `normalize.less` sets `[hidden] { display: none; }` but bootstrap.min.css set `[hidden] { display: none !important; }` so we also need the `!important` here to be able to override the default hidden behavior on the sphinx rendered scikit-learn.org. See: https://github.com/scikit-learn/scikit-learn/issues/21755 */display: inline-block !important;position: relative;}#sk-container-id-3 div.sk-text-repr-fallback {display: none;}</style><div id=\"sk-container-id-3\" class=\"sk-top-container\"><div class=\"sk-text-repr-fallback\"><pre>XGBClassifier(base_score=0.5, booster=&#x27;gbtree&#x27;, callbacks=None,\n",
       "              colsample_bylevel=1, colsample_bynode=1, colsample_bytree=1,\n",
       "              early_stopping_rounds=None, enable_categorical=False,\n",
       "              eval_metric=&#x27;merror&#x27;, gamma=0, gpu_id=-1, grow_policy=&#x27;depthwise&#x27;,\n",
       "              importance_type=None, interaction_constraints=&#x27;&#x27;,\n",
       "              learning_rate=0.300000012, max_bin=256, max_cat_to_onehot=4,\n",
       "              max_delta_step=0, max_depth=6, max_leaves=0, min_child_weight=1,\n",
       "              missing=nan, monotone_constraints=&#x27;()&#x27;, n_estimators=100,\n",
       "              n_jobs=0, num_parallel_tree=1, predictor=&#x27;auto&#x27;, random_state=42,\n",
       "              reg_alpha=0, reg_lambda=1, ...)</pre><b>In a Jupyter environment, please rerun this cell to show the HTML representation or trust the notebook. <br />On GitHub, the HTML representation is unable to render, please try loading this page with nbviewer.org.</b></div><div class=\"sk-container\" hidden><div class=\"sk-item\"><div class=\"sk-estimator sk-toggleable\"><input class=\"sk-toggleable__control sk-hidden--visually\" id=\"sk-estimator-id-3\" type=\"checkbox\" checked><label for=\"sk-estimator-id-3\" class=\"sk-toggleable__label sk-toggleable__label-arrow\">XGBClassifier</label><div class=\"sk-toggleable__content\"><pre>XGBClassifier(base_score=0.5, booster=&#x27;gbtree&#x27;, callbacks=None,\n",
       "              colsample_bylevel=1, colsample_bynode=1, colsample_bytree=1,\n",
       "              early_stopping_rounds=None, enable_categorical=False,\n",
       "              eval_metric=&#x27;merror&#x27;, gamma=0, gpu_id=-1, grow_policy=&#x27;depthwise&#x27;,\n",
       "              importance_type=None, interaction_constraints=&#x27;&#x27;,\n",
       "              learning_rate=0.300000012, max_bin=256, max_cat_to_onehot=4,\n",
       "              max_delta_step=0, max_depth=6, max_leaves=0, min_child_weight=1,\n",
       "              missing=nan, monotone_constraints=&#x27;()&#x27;, n_estimators=100,\n",
       "              n_jobs=0, num_parallel_tree=1, predictor=&#x27;auto&#x27;, random_state=42,\n",
       "              reg_alpha=0, reg_lambda=1, ...)</pre></div></div></div></div></div>"
      ],
      "text/plain": [
       "XGBClassifier(base_score=0.5, booster='gbtree', callbacks=None,\n",
       "              colsample_bylevel=1, colsample_bynode=1, colsample_bytree=1,\n",
       "              early_stopping_rounds=None, enable_categorical=False,\n",
       "              eval_metric='merror', gamma=0, gpu_id=-1, grow_policy='depthwise',\n",
       "              importance_type=None, interaction_constraints='',\n",
       "              learning_rate=0.300000012, max_bin=256, max_cat_to_onehot=4,\n",
       "              max_delta_step=0, max_depth=6, max_leaves=0, min_child_weight=1,\n",
       "              missing=nan, monotone_constraints='()', n_estimators=100,\n",
       "              n_jobs=0, num_parallel_tree=1, predictor='auto', random_state=42,\n",
       "              reg_alpha=0, reg_lambda=1, ...)"
      ]
     },
     "execution_count": 26,
     "metadata": {},
     "output_type": "execute_result"
    }
   ],
   "source": [
    "import xgboost as xgb\n",
    "model_  = xgb.XGBClassifier(random_state = 42, eval_metric = 'merror' ) \n",
    "\n",
    "# Fit the model\n",
    "model_.fit(X_train_, y_train_)"
   ]
  },
  {
   "cell_type": "code",
   "execution_count": 27,
   "id": "0077a40d",
   "metadata": {},
   "outputs": [],
   "source": [
    "predictions_ = model_.predict(X_valid_)"
   ]
  },
  {
   "cell_type": "code",
   "execution_count": 28,
   "id": "414ca68d",
   "metadata": {},
   "outputs": [
    {
     "data": {
      "image/png": "[encoded data removed]",
      "text/plain": [
       "<Figure size 900x500 with 1 Axes>"
      ]
     },
     "metadata": {},
     "output_type": "display_data"
    }
   ],
   "source": [
    "rocauc_ = ROCAUC(model_, size=(900, 500), classes=classes)\n",
    "\n",
    "rocauc_.fit(X_train_, y_train_)       \n",
    "rocauc_.score(X_valid_, y_valid_)  \n",
    "r = rocauc_.poof()"
   ]
  },
  {
   "cell_type": "code",
   "execution_count": 29,
   "id": "86cf9fc6",
   "metadata": {},
   "outputs": [
    {
     "data": {
      "image/png": "[encoded data removed]",
      "text/plain": [
       "<Figure size 576x396 with 2 Axes>"
      ]
     },
     "metadata": {},
     "output_type": "display_data"
    }
   ],
   "source": [
    "conf_ =  ConfusionMatrixDisplay.from_estimator(model_, X_valid_, y_valid_, display_labels= ['S','R' ], cmap = 'BuPu')   \n",
    "conf_.ax_.set_title(\"Confusion Matrix\")\n",
    "plt.grid(None)\n",
    "plt.show()"
   ]
  },
  {
   "cell_type": "code",
   "execution_count": 30,
   "id": "e62bc362",
   "metadata": {},
   "outputs": [
    {
     "name": "stdout",
     "output_type": "stream",
     "text": [
      "Accuracy: 99.03%\n"
     ]
    }
   ],
   "source": [
    "from sklearn.metrics import accuracy_score\n",
    "accuracy = accuracy_score(y_valid_, predictions_)\n",
    "print(\"Accuracy: %.2f%%\" % (accuracy * 100.0))"
   ]
  },
  {
   "cell_type": "code",
   "execution_count": 31,
   "id": "91b3c76e",
   "metadata": {},
   "outputs": [
    {
     "name": "stdout",
     "output_type": "stream",
     "text": [
      "recall: 99.03%\n",
      "precision: 99.03%\n"
     ]
    }
   ],
   "source": [
    "recall = recall_score(y_valid_, predictions_, average= 'weighted')\n",
    "print(\"recall: %.2f%%\" % (recall * 100.0))\n",
    "\n",
    "from sklearn.metrics import precision_score\n",
    "precision = precision_score(y_valid_, predictions_, average= 'weighted')\n",
    "print(\"precision: %.2f%%\" % (precision * 100.0))"
   ]
  },
  {
   "cell_type": "code",
   "execution_count": null,
   "id": "7bd829ae",
   "metadata": {},
   "outputs": [],
   "source": []
  },
  {
   "cell_type": "code",
   "execution_count": null,
   "id": "a2f14f2e",
   "metadata": {},
   "outputs": [],
   "source": []
  }
 ],
 "metadata": {
  "kernelspec": {
   "display_name": "Python 3 (ipykernel)",
   "language": "python",
   "name": "python3"
  },
  "language_info": {
   "codemirror_mode": {
    "name": "ipython",
    "version": 3
   },
   "file_extension": ".py",
   "mimetype": "text/x-python",
   "name": "python",
   "nbconvert_exporter": "python",
   "pygments_lexer": "ipython3",
   "version": "3.9.9"
  }
 },
 "nbformat": 4,
 "nbformat_minor": 5
}
