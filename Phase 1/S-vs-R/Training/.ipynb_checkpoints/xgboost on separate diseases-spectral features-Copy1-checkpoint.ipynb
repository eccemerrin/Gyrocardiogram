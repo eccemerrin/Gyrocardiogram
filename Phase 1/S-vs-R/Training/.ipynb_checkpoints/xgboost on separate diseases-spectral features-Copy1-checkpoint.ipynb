{
 "cells": [
  {
   "cell_type": "markdown",
   "id": "5ff5c96f",
   "metadata": {},
   "source": [
    "### features:\n",
    "* selected spectogram coef\n",
    "* zero crossing rate\n",
    "* selected chromogram values\n",
    "* selected tempogram values\n",
    "* wavelet of level 0"
   ]
  },
  {
   "cell_type": "code",
   "execution_count": 1,
   "id": "dcd92ee4",
   "metadata": {},
   "outputs": [],
   "source": [
    "import pandas as pd \n",
    "import numpy as np\n",
    "from sklearn.model_selection import train_test_split\n",
    "from sklearn.metrics import auc\n",
    "from sklearn.feature_selection import VarianceThreshold\n",
    "from sklearn.metrics import confusion_matrix, roc_curve, roc_auc_score, precision_recall_curve, recall_score\n",
    "import matplotlib.pyplot as plt\n",
    "from yellowbrick.classifier import ClassBalance, ROCAUC, ClassificationReport, ClassPredictionError\n",
    "import itertools"
   ]
  },
  {
   "cell_type": "code",
   "execution_count": 2,
   "id": "77055433",
   "metadata": {},
   "outputs": [],
   "source": [
    "csv_path = \"/Users/ecem/Desktop/gyrocardiogram/s-vs-r/feature_extr\""
   ]
  },
  {
   "cell_type": "markdown",
   "id": "859b3496",
   "metadata": {},
   "source": [
    "## Load data"
   ]
  },
  {
   "cell_type": "markdown",
   "id": "84ab66f1",
   "metadata": {},
   "source": [
    "Here, our target is to predict disease correctly. So; our y will be disease column of  dataset"
   ]
  },
  {
   "cell_type": "code",
   "execution_count": 3,
   "id": "7db05d41",
   "metadata": {},
   "outputs": [],
   "source": [
    "features = pd.read_csv(csv_path + \"/spectral_features.csv\", index_col = 0)"
   ]
  },
  {
   "cell_type": "code",
   "execution_count": 4,
   "id": "110960ee",
   "metadata": {},
   "outputs": [
    {
     "data": {
      "text/html": [
       "<div>\n",
       "<style scoped>\n",
       "    .dataframe tbody tr th:only-of-type {\n",
       "        vertical-align: middle;\n",
       "    }\n",
       "\n",
       "    .dataframe tbody tr th {\n",
       "        vertical-align: top;\n",
       "    }\n",
       "\n",
       "    .dataframe thead th {\n",
       "        text-align: right;\n",
       "    }\n",
       "</style>\n",
       "<table border=\"1\" class=\"dataframe\">\n",
       "  <thead>\n",
       "    <tr style=\"text-align: right;\">\n",
       "      <th></th>\n",
       "      <th>SC x</th>\n",
       "      <th>SC z</th>\n",
       "      <th>SS y</th>\n",
       "      <th>SR y</th>\n",
       "      <th>SS z</th>\n",
       "      <th>SR x</th>\n",
       "      <th>SR z</th>\n",
       "      <th>SE z</th>\n",
       "      <th>SE x</th>\n",
       "      <th>SE y</th>\n",
       "      <th>SC y</th>\n",
       "      <th>E z</th>\n",
       "      <th>SS x</th>\n",
       "      <th>E x</th>\n",
       "      <th>E y</th>\n",
       "    </tr>\n",
       "  </thead>\n",
       "  <tbody>\n",
       "    <tr>\n",
       "      <th>0</th>\n",
       "      <td>0.265644</td>\n",
       "      <td>4.157178e-01</td>\n",
       "      <td>0.266299</td>\n",
       "      <td>0.177344</td>\n",
       "      <td>0.311216</td>\n",
       "      <td>0.186719</td>\n",
       "      <td>8.101563e-01</td>\n",
       "      <td>2.720335</td>\n",
       "      <td>1.147296</td>\n",
       "      <td>1.137282</td>\n",
       "      <td>0.246914</td>\n",
       "      <td>3.216961</td>\n",
       "      <td>0.277956</td>\n",
       "      <td>3.076283</td>\n",
       "      <td>3.159694</td>\n",
       "    </tr>\n",
       "    <tr>\n",
       "      <th>1</th>\n",
       "      <td>0.279646</td>\n",
       "      <td>4.310229e-01</td>\n",
       "      <td>0.277671</td>\n",
       "      <td>0.246875</td>\n",
       "      <td>0.307812</td>\n",
       "      <td>0.203906</td>\n",
       "      <td>8.484375e-01</td>\n",
       "      <td>2.980266</td>\n",
       "      <td>1.200881</td>\n",
       "      <td>1.497325</td>\n",
       "      <td>0.276328</td>\n",
       "      <td>3.298141</td>\n",
       "      <td>0.278084</td>\n",
       "      <td>3.038338</td>\n",
       "      <td>3.238392</td>\n",
       "    </tr>\n",
       "    <tr>\n",
       "      <th>2</th>\n",
       "      <td>0.297894</td>\n",
       "      <td>4.308083e-01</td>\n",
       "      <td>0.274223</td>\n",
       "      <td>0.235156</td>\n",
       "      <td>0.303927</td>\n",
       "      <td>0.227344</td>\n",
       "      <td>8.351563e-01</td>\n",
       "      <td>2.967876</td>\n",
       "      <td>1.192592</td>\n",
       "      <td>1.464650</td>\n",
       "      <td>0.274229</td>\n",
       "      <td>3.299910</td>\n",
       "      <td>0.285333</td>\n",
       "      <td>3.057839</td>\n",
       "      <td>3.255923</td>\n",
       "    </tr>\n",
       "    <tr>\n",
       "      <th>3</th>\n",
       "      <td>0.297172</td>\n",
       "      <td>4.365125e-01</td>\n",
       "      <td>0.276357</td>\n",
       "      <td>0.260156</td>\n",
       "      <td>0.302908</td>\n",
       "      <td>0.197656</td>\n",
       "      <td>8.476562e-01</td>\n",
       "      <td>3.041578</td>\n",
       "      <td>1.046914</td>\n",
       "      <td>1.532031</td>\n",
       "      <td>0.278313</td>\n",
       "      <td>3.304233</td>\n",
       "      <td>0.287122</td>\n",
       "      <td>2.865379</td>\n",
       "      <td>3.291108</td>\n",
       "    </tr>\n",
       "    <tr>\n",
       "      <th>4</th>\n",
       "      <td>0.293139</td>\n",
       "      <td>4.396676e-01</td>\n",
       "      <td>0.271878</td>\n",
       "      <td>0.217969</td>\n",
       "      <td>0.302744</td>\n",
       "      <td>0.196094</td>\n",
       "      <td>8.484375e-01</td>\n",
       "      <td>3.049081</td>\n",
       "      <td>1.122829</td>\n",
       "      <td>1.396609</td>\n",
       "      <td>0.268818</td>\n",
       "      <td>3.311308</td>\n",
       "      <td>0.287785</td>\n",
       "      <td>2.932381</td>\n",
       "      <td>3.215899</td>\n",
       "    </tr>\n",
       "    <tr>\n",
       "      <th>...</th>\n",
       "      <td>...</td>\n",
       "      <td>...</td>\n",
       "      <td>...</td>\n",
       "      <td>...</td>\n",
       "      <td>...</td>\n",
       "      <td>...</td>\n",
       "      <td>...</td>\n",
       "      <td>...</td>\n",
       "      <td>...</td>\n",
       "      <td>...</td>\n",
       "      <td>...</td>\n",
       "      <td>...</td>\n",
       "      <td>...</td>\n",
       "      <td>...</td>\n",
       "      <td>...</td>\n",
       "    </tr>\n",
       "    <tr>\n",
       "      <th>2012</th>\n",
       "      <td>-0.342749</td>\n",
       "      <td>2.146985e-314</td>\n",
       "      <td>0.313289</td>\n",
       "      <td>-1.411189</td>\n",
       "      <td>0.317396</td>\n",
       "      <td>-0.342749</td>\n",
       "      <td>7.085093e+91</td>\n",
       "      <td>1.680623</td>\n",
       "      <td>0.277297</td>\n",
       "      <td>0.689034</td>\n",
       "      <td>-1.411189</td>\n",
       "      <td>3.289960</td>\n",
       "      <td>0.285787</td>\n",
       "      <td>3.135881</td>\n",
       "      <td>3.175903</td>\n",
       "    </tr>\n",
       "    <tr>\n",
       "      <th>2013</th>\n",
       "      <td>0.194755</td>\n",
       "      <td>1.242809e+151</td>\n",
       "      <td>0.270916</td>\n",
       "      <td>-1.064346</td>\n",
       "      <td>0.233114</td>\n",
       "      <td>0.194755</td>\n",
       "      <td>5.981993e-154</td>\n",
       "      <td>1.476057</td>\n",
       "      <td>1.367344</td>\n",
       "      <td>2.114864</td>\n",
       "      <td>-1.064346</td>\n",
       "      <td>1.345448</td>\n",
       "      <td>0.187350</td>\n",
       "      <td>1.590117</td>\n",
       "      <td>1.829873</td>\n",
       "    </tr>\n",
       "    <tr>\n",
       "      <th>2014</th>\n",
       "      <td>-0.311291</td>\n",
       "      <td>2.146985e-314</td>\n",
       "      <td>0.212103</td>\n",
       "      <td>1.797036</td>\n",
       "      <td>0.167797</td>\n",
       "      <td>-0.311291</td>\n",
       "      <td>4.056030e+232</td>\n",
       "      <td>0.663752</td>\n",
       "      <td>0.538687</td>\n",
       "      <td>0.704298</td>\n",
       "      <td>1.797036</td>\n",
       "      <td>2.099313</td>\n",
       "      <td>0.168540</td>\n",
       "      <td>1.893738</td>\n",
       "      <td>2.026987</td>\n",
       "    </tr>\n",
       "    <tr>\n",
       "      <th>2015</th>\n",
       "      <td>0.464122</td>\n",
       "      <td>2.146985e-314</td>\n",
       "      <td>0.216680</td>\n",
       "      <td>1.861138</td>\n",
       "      <td>0.187534</td>\n",
       "      <td>0.464122</td>\n",
       "      <td>2.181744e+243</td>\n",
       "      <td>0.412348</td>\n",
       "      <td>0.590904</td>\n",
       "      <td>0.428958</td>\n",
       "      <td>1.861138</td>\n",
       "      <td>1.494696</td>\n",
       "      <td>0.214936</td>\n",
       "      <td>1.966712</td>\n",
       "      <td>1.872642</td>\n",
       "    </tr>\n",
       "    <tr>\n",
       "      <th>2016</th>\n",
       "      <td>-0.378393</td>\n",
       "      <td>-2.557025e-94</td>\n",
       "      <td>0.188694</td>\n",
       "      <td>0.284201</td>\n",
       "      <td>0.200515</td>\n",
       "      <td>-0.378393</td>\n",
       "      <td>6.081667e+247</td>\n",
       "      <td>0.432010</td>\n",
       "      <td>0.566781</td>\n",
       "      <td>0.738112</td>\n",
       "      <td>0.284201</td>\n",
       "      <td>2.659138</td>\n",
       "      <td>0.207718</td>\n",
       "      <td>2.398841</td>\n",
       "      <td>2.194605</td>\n",
       "    </tr>\n",
       "  </tbody>\n",
       "</table>\n",
       "<p>3087 rows × 15 columns</p>\n",
       "</div>"
      ],
      "text/plain": [
       "          SC x           SC z      SS y      SR y      SS z      SR x  \\\n",
       "0     0.265644   4.157178e-01  0.266299  0.177344  0.311216  0.186719   \n",
       "1     0.279646   4.310229e-01  0.277671  0.246875  0.307812  0.203906   \n",
       "2     0.297894   4.308083e-01  0.274223  0.235156  0.303927  0.227344   \n",
       "3     0.297172   4.365125e-01  0.276357  0.260156  0.302908  0.197656   \n",
       "4     0.293139   4.396676e-01  0.271878  0.217969  0.302744  0.196094   \n",
       "...        ...            ...       ...       ...       ...       ...   \n",
       "2012 -0.342749  2.146985e-314  0.313289 -1.411189  0.317396 -0.342749   \n",
       "2013  0.194755  1.242809e+151  0.270916 -1.064346  0.233114  0.194755   \n",
       "2014 -0.311291  2.146985e-314  0.212103  1.797036  0.167797 -0.311291   \n",
       "2015  0.464122  2.146985e-314  0.216680  1.861138  0.187534  0.464122   \n",
       "2016 -0.378393  -2.557025e-94  0.188694  0.284201  0.200515 -0.378393   \n",
       "\n",
       "               SR z      SE z      SE x      SE y      SC y       E z  \\\n",
       "0      8.101563e-01  2.720335  1.147296  1.137282  0.246914  3.216961   \n",
       "1      8.484375e-01  2.980266  1.200881  1.497325  0.276328  3.298141   \n",
       "2      8.351563e-01  2.967876  1.192592  1.464650  0.274229  3.299910   \n",
       "3      8.476562e-01  3.041578  1.046914  1.532031  0.278313  3.304233   \n",
       "4      8.484375e-01  3.049081  1.122829  1.396609  0.268818  3.311308   \n",
       "...             ...       ...       ...       ...       ...       ...   \n",
       "2012   7.085093e+91  1.680623  0.277297  0.689034 -1.411189  3.289960   \n",
       "2013  5.981993e-154  1.476057  1.367344  2.114864 -1.064346  1.345448   \n",
       "2014  4.056030e+232  0.663752  0.538687  0.704298  1.797036  2.099313   \n",
       "2015  2.181744e+243  0.412348  0.590904  0.428958  1.861138  1.494696   \n",
       "2016  6.081667e+247  0.432010  0.566781  0.738112  0.284201  2.659138   \n",
       "\n",
       "          SS x       E x       E y  \n",
       "0     0.277956  3.076283  3.159694  \n",
       "1     0.278084  3.038338  3.238392  \n",
       "2     0.285333  3.057839  3.255923  \n",
       "3     0.287122  2.865379  3.291108  \n",
       "4     0.287785  2.932381  3.215899  \n",
       "...        ...       ...       ...  \n",
       "2012  0.285787  3.135881  3.175903  \n",
       "2013  0.187350  1.590117  1.829873  \n",
       "2014  0.168540  1.893738  2.026987  \n",
       "2015  0.214936  1.966712  1.872642  \n",
       "2016  0.207718  2.398841  2.194605  \n",
       "\n",
       "[3087 rows x 15 columns]"
      ]
     },
     "execution_count": 4,
     "metadata": {},
     "output_type": "execute_result"
    }
   ],
   "source": [
    "features"
   ]
  },
  {
   "cell_type": "code",
   "execution_count": 5,
   "id": "5763a424",
   "metadata": {},
   "outputs": [
    {
     "data": {
      "text/plain": [
       "SC x    0\n",
       "SC z    0\n",
       "SS y    0\n",
       "SR y    0\n",
       "SS z    0\n",
       "SR x    0\n",
       "SR z    0\n",
       "SE z    0\n",
       "SE x    0\n",
       "SE y    0\n",
       "SC y    0\n",
       "E z     0\n",
       "SS x    0\n",
       "E x     0\n",
       "E y     0\n",
       "dtype: int64"
      ]
     },
     "execution_count": 5,
     "metadata": {},
     "output_type": "execute_result"
    }
   ],
   "source": [
    "features.isna().sum()"
   ]
  },
  {
   "cell_type": "code",
   "execution_count": 6,
   "id": "c0315ccc",
   "metadata": {},
   "outputs": [
    {
     "data": {
      "text/plain": [
       "SC x    0\n",
       "SC z    0\n",
       "SS y    0\n",
       "SR y    0\n",
       "SS z    0\n",
       "SR x    0\n",
       "SR z    0\n",
       "SE z    0\n",
       "SE x    0\n",
       "SE y    0\n",
       "SC y    0\n",
       "E z     0\n",
       "SS x    0\n",
       "E x     0\n",
       "E y     0\n",
       "dtype: int64"
      ]
     },
     "execution_count": 6,
     "metadata": {},
     "output_type": "execute_result"
    }
   ],
   "source": [
    "features[features == np.inf].count()"
   ]
  },
  {
   "cell_type": "code",
   "execution_count": 7,
   "id": "d31f5089",
   "metadata": {},
   "outputs": [],
   "source": [
    "y = np.concatenate( [np.ones((1070)), np.zeros((2017))] )"
   ]
  },
  {
   "cell_type": "code",
   "execution_count": 8,
   "id": "0b4e2c75",
   "metadata": {},
   "outputs": [
    {
     "data": {
      "text/plain": [
       "(3087,)"
      ]
     },
     "execution_count": 8,
     "metadata": {},
     "output_type": "execute_result"
    }
   ],
   "source": [
    "y.shape"
   ]
  },
  {
   "cell_type": "code",
   "execution_count": 9,
   "id": "a9b6bdfd",
   "metadata": {},
   "outputs": [
    {
     "name": "stderr",
     "output_type": "stream",
     "text": [
      "/Users/ecem/miniforge3/envs/tf-metal/lib/python3.9/site-packages/sklearn/utils/extmath.py:999: RuntimeWarning: overflow encountered in square\n",
      "  temp **= 2\n",
      "/Users/ecem/miniforge3/envs/tf-metal/lib/python3.9/site-packages/sklearn/utils/extmath.py:1005: RuntimeWarning: overflow encountered in square\n",
      "  new_unnormalized_variance -= correction**2 / new_sample_count\n",
      "/Users/ecem/miniforge3/envs/tf-metal/lib/python3.9/site-packages/sklearn/utils/extmath.py:1005: RuntimeWarning: invalid value encountered in subtract\n",
      "  new_unnormalized_variance -= correction**2 / new_sample_count\n",
      "/Users/ecem/miniforge3/envs/tf-metal/lib/python3.9/site-packages/sklearn/preprocessing/_data.py:84: RuntimeWarning: overflow encountered in square\n",
      "  upper_bound = n_samples * eps * var + (n_samples * mean * eps) ** 2\n"
     ]
    }
   ],
   "source": [
    "from sklearn.preprocessing import StandardScaler\n",
    "scaler = StandardScaler()\n",
    "x_train = scaler.fit_transform(features)"
   ]
  },
  {
   "cell_type": "code",
   "execution_count": 10,
   "id": "f88a99cb",
   "metadata": {},
   "outputs": [],
   "source": [
    "x_train_df = pd.DataFrame(x_train, index=features.index, columns=features.columns)\n"
   ]
  },
  {
   "cell_type": "code",
   "execution_count": 11,
   "id": "fc4b5e19",
   "metadata": {},
   "outputs": [],
   "source": [
    "X_train, X_valid, y_train, y_valid = train_test_split(x_train_df, y, train_size=0.8, test_size=0.2,\n",
    "                                                                random_state=42)"
   ]
  },
  {
   "cell_type": "code",
   "execution_count": 12,
   "id": "6dde06c6",
   "metadata": {},
   "outputs": [
    {
     "data": {
      "text/html": [
       "<div>\n",
       "<style scoped>\n",
       "    .dataframe tbody tr th:only-of-type {\n",
       "        vertical-align: middle;\n",
       "    }\n",
       "\n",
       "    .dataframe tbody tr th {\n",
       "        vertical-align: top;\n",
       "    }\n",
       "\n",
       "    .dataframe thead th {\n",
       "        text-align: right;\n",
       "    }\n",
       "</style>\n",
       "<table border=\"1\" class=\"dataframe\">\n",
       "  <thead>\n",
       "    <tr style=\"text-align: right;\">\n",
       "      <th></th>\n",
       "      <th>SC x</th>\n",
       "      <th>SC z</th>\n",
       "      <th>SS y</th>\n",
       "      <th>SR y</th>\n",
       "      <th>SS z</th>\n",
       "      <th>SR x</th>\n",
       "      <th>SR z</th>\n",
       "      <th>SE z</th>\n",
       "      <th>SE x</th>\n",
       "      <th>SE y</th>\n",
       "      <th>SC y</th>\n",
       "      <th>E z</th>\n",
       "      <th>SS x</th>\n",
       "      <th>E x</th>\n",
       "      <th>E y</th>\n",
       "    </tr>\n",
       "  </thead>\n",
       "  <tbody>\n",
       "    <tr>\n",
       "      <th>1304</th>\n",
       "      <td>-2.033069</td>\n",
       "      <td>NaN</td>\n",
       "      <td>-0.313886</td>\n",
       "      <td>-1.485696</td>\n",
       "      <td>-0.664291</td>\n",
       "      <td>-1.891491</td>\n",
       "      <td>NaN</td>\n",
       "      <td>-0.501850</td>\n",
       "      <td>0.207740</td>\n",
       "      <td>0.330086</td>\n",
       "      <td>-1.598092</td>\n",
       "      <td>0.371584</td>\n",
       "      <td>-0.480145</td>\n",
       "      <td>0.146881</td>\n",
       "      <td>0.260990</td>\n",
       "    </tr>\n",
       "    <tr>\n",
       "      <th>839</th>\n",
       "      <td>0.170347</td>\n",
       "      <td>NaN</td>\n",
       "      <td>1.050415</td>\n",
       "      <td>-0.228422</td>\n",
       "      <td>0.573751</td>\n",
       "      <td>-0.035897</td>\n",
       "      <td>NaN</td>\n",
       "      <td>-0.953364</td>\n",
       "      <td>-0.238696</td>\n",
       "      <td>-1.094219</td>\n",
       "      <td>0.166451</td>\n",
       "      <td>-0.448731</td>\n",
       "      <td>0.465091</td>\n",
       "      <td>0.441528</td>\n",
       "      <td>-1.119506</td>\n",
       "    </tr>\n",
       "    <tr>\n",
       "      <th>1789</th>\n",
       "      <td>2.532073</td>\n",
       "      <td>NaN</td>\n",
       "      <td>-0.832939</td>\n",
       "      <td>-1.812084</td>\n",
       "      <td>-0.040171</td>\n",
       "      <td>2.658471</td>\n",
       "      <td>NaN</td>\n",
       "      <td>-1.266617</td>\n",
       "      <td>-1.036548</td>\n",
       "      <td>-0.567769</td>\n",
       "      <td>-1.936755</td>\n",
       "      <td>0.405819</td>\n",
       "      <td>-0.474911</td>\n",
       "      <td>0.262049</td>\n",
       "      <td>0.307746</td>\n",
       "    </tr>\n",
       "    <tr>\n",
       "      <th>761</th>\n",
       "      <td>0.367264</td>\n",
       "      <td>NaN</td>\n",
       "      <td>1.009903</td>\n",
       "      <td>-0.134157</td>\n",
       "      <td>0.341282</td>\n",
       "      <td>0.829239</td>\n",
       "      <td>NaN</td>\n",
       "      <td>0.342397</td>\n",
       "      <td>2.249457</td>\n",
       "      <td>-0.704507</td>\n",
       "      <td>0.233895</td>\n",
       "      <td>0.278019</td>\n",
       "      <td>0.857512</td>\n",
       "      <td>0.512785</td>\n",
       "      <td>0.271317</td>\n",
       "    </tr>\n",
       "    <tr>\n",
       "      <th>1982</th>\n",
       "      <td>-0.005335</td>\n",
       "      <td>NaN</td>\n",
       "      <td>1.010648</td>\n",
       "      <td>-1.172796</td>\n",
       "      <td>0.573615</td>\n",
       "      <td>0.129500</td>\n",
       "      <td>NaN</td>\n",
       "      <td>0.236257</td>\n",
       "      <td>-1.595268</td>\n",
       "      <td>-1.000307</td>\n",
       "      <td>-1.273425</td>\n",
       "      <td>0.397108</td>\n",
       "      <td>0.235608</td>\n",
       "      <td>0.496204</td>\n",
       "      <td>-0.137106</td>\n",
       "    </tr>\n",
       "    <tr>\n",
       "      <th>...</th>\n",
       "      <td>...</td>\n",
       "      <td>...</td>\n",
       "      <td>...</td>\n",
       "      <td>...</td>\n",
       "      <td>...</td>\n",
       "      <td>...</td>\n",
       "      <td>...</td>\n",
       "      <td>...</td>\n",
       "      <td>...</td>\n",
       "      <td>...</td>\n",
       "      <td>...</td>\n",
       "      <td>...</td>\n",
       "      <td>...</td>\n",
       "      <td>...</td>\n",
       "      <td>...</td>\n",
       "    </tr>\n",
       "    <tr>\n",
       "      <th>568</th>\n",
       "      <td>0.323951</td>\n",
       "      <td>NaN</td>\n",
       "      <td>1.108230</td>\n",
       "      <td>1.047514</td>\n",
       "      <td>0.136296</td>\n",
       "      <td>0.210546</td>\n",
       "      <td>NaN</td>\n",
       "      <td>1.740778</td>\n",
       "      <td>0.305313</td>\n",
       "      <td>1.335743</td>\n",
       "      <td>0.398089</td>\n",
       "      <td>0.262431</td>\n",
       "      <td>1.102297</td>\n",
       "      <td>0.016636</td>\n",
       "      <td>0.462189</td>\n",
       "    </tr>\n",
       "    <tr>\n",
       "      <th>25</th>\n",
       "      <td>0.166740</td>\n",
       "      <td>NaN</td>\n",
       "      <td>0.343404</td>\n",
       "      <td>0.195768</td>\n",
       "      <td>0.256100</td>\n",
       "      <td>-0.037620</td>\n",
       "      <td>NaN</td>\n",
       "      <td>0.582386</td>\n",
       "      <td>-0.287099</td>\n",
       "      <td>0.242576</td>\n",
       "      <td>0.203038</td>\n",
       "      <td>0.398797</td>\n",
       "      <td>0.461559</td>\n",
       "      <td>0.550323</td>\n",
       "      <td>0.495839</td>\n",
       "    </tr>\n",
       "    <tr>\n",
       "      <th>60</th>\n",
       "      <td>0.391839</td>\n",
       "      <td>NaN</td>\n",
       "      <td>0.938368</td>\n",
       "      <td>0.783237</td>\n",
       "      <td>0.139597</td>\n",
       "      <td>0.444926</td>\n",
       "      <td>NaN</td>\n",
       "      <td>1.946681</td>\n",
       "      <td>0.512073</td>\n",
       "      <td>1.099272</td>\n",
       "      <td>0.349275</td>\n",
       "      <td>0.408551</td>\n",
       "      <td>1.367003</td>\n",
       "      <td>0.353884</td>\n",
       "      <td>0.506620</td>\n",
       "    </tr>\n",
       "    <tr>\n",
       "      <th>224</th>\n",
       "      <td>0.394572</td>\n",
       "      <td>NaN</td>\n",
       "      <td>0.448831</td>\n",
       "      <td>0.727688</td>\n",
       "      <td>0.166038</td>\n",
       "      <td>1.029151</td>\n",
       "      <td>NaN</td>\n",
       "      <td>1.746734</td>\n",
       "      <td>2.038818</td>\n",
       "      <td>1.866913</td>\n",
       "      <td>0.299194</td>\n",
       "      <td>0.427383</td>\n",
       "      <td>0.982674</td>\n",
       "      <td>0.448264</td>\n",
       "      <td>0.368513</td>\n",
       "    </tr>\n",
       "    <tr>\n",
       "      <th>860</th>\n",
       "      <td>0.025033</td>\n",
       "      <td>NaN</td>\n",
       "      <td>0.617134</td>\n",
       "      <td>-0.334469</td>\n",
       "      <td>-0.148341</td>\n",
       "      <td>-0.225469</td>\n",
       "      <td>NaN</td>\n",
       "      <td>-1.593865</td>\n",
       "      <td>-1.495440</td>\n",
       "      <td>-1.879165</td>\n",
       "      <td>0.047628</td>\n",
       "      <td>-1.101379</td>\n",
       "      <td>-0.294124</td>\n",
       "      <td>-1.543723</td>\n",
       "      <td>-1.138367</td>\n",
       "    </tr>\n",
       "  </tbody>\n",
       "</table>\n",
       "<p>2469 rows × 15 columns</p>\n",
       "</div>"
      ],
      "text/plain": [
       "          SC x  SC z      SS y      SR y      SS z      SR x  SR z      SE z  \\\n",
       "1304 -2.033069   NaN -0.313886 -1.485696 -0.664291 -1.891491   NaN -0.501850   \n",
       "839   0.170347   NaN  1.050415 -0.228422  0.573751 -0.035897   NaN -0.953364   \n",
       "1789  2.532073   NaN -0.832939 -1.812084 -0.040171  2.658471   NaN -1.266617   \n",
       "761   0.367264   NaN  1.009903 -0.134157  0.341282  0.829239   NaN  0.342397   \n",
       "1982 -0.005335   NaN  1.010648 -1.172796  0.573615  0.129500   NaN  0.236257   \n",
       "...        ...   ...       ...       ...       ...       ...   ...       ...   \n",
       "568   0.323951   NaN  1.108230  1.047514  0.136296  0.210546   NaN  1.740778   \n",
       "25    0.166740   NaN  0.343404  0.195768  0.256100 -0.037620   NaN  0.582386   \n",
       "60    0.391839   NaN  0.938368  0.783237  0.139597  0.444926   NaN  1.946681   \n",
       "224   0.394572   NaN  0.448831  0.727688  0.166038  1.029151   NaN  1.746734   \n",
       "860   0.025033   NaN  0.617134 -0.334469 -0.148341 -0.225469   NaN -1.593865   \n",
       "\n",
       "          SE x      SE y      SC y       E z      SS x       E x       E y  \n",
       "1304  0.207740  0.330086 -1.598092  0.371584 -0.480145  0.146881  0.260990  \n",
       "839  -0.238696 -1.094219  0.166451 -0.448731  0.465091  0.441528 -1.119506  \n",
       "1789 -1.036548 -0.567769 -1.936755  0.405819 -0.474911  0.262049  0.307746  \n",
       "761   2.249457 -0.704507  0.233895  0.278019  0.857512  0.512785  0.271317  \n",
       "1982 -1.595268 -1.000307 -1.273425  0.397108  0.235608  0.496204 -0.137106  \n",
       "...        ...       ...       ...       ...       ...       ...       ...  \n",
       "568   0.305313  1.335743  0.398089  0.262431  1.102297  0.016636  0.462189  \n",
       "25   -0.287099  0.242576  0.203038  0.398797  0.461559  0.550323  0.495839  \n",
       "60    0.512073  1.099272  0.349275  0.408551  1.367003  0.353884  0.506620  \n",
       "224   2.038818  1.866913  0.299194  0.427383  0.982674  0.448264  0.368513  \n",
       "860  -1.495440 -1.879165  0.047628 -1.101379 -0.294124 -1.543723 -1.138367  \n",
       "\n",
       "[2469 rows x 15 columns]"
      ]
     },
     "execution_count": 12,
     "metadata": {},
     "output_type": "execute_result"
    }
   ],
   "source": [
    "X_train"
   ]
  },
  {
   "cell_type": "code",
   "execution_count": 13,
   "id": "6d796dcf",
   "metadata": {},
   "outputs": [
    {
     "data": {
      "text/html": [
       "<style>#sk-container-id-1 {color: black;background-color: white;}#sk-container-id-1 pre{padding: 0;}#sk-container-id-1 div.sk-toggleable {background-color: white;}#sk-container-id-1 label.sk-toggleable__label {cursor: pointer;display: block;width: 100%;margin-bottom: 0;padding: 0.3em;box-sizing: border-box;text-align: center;}#sk-container-id-1 label.sk-toggleable__label-arrow:before {content: \"▸\";float: left;margin-right: 0.25em;color: #696969;}#sk-container-id-1 label.sk-toggleable__label-arrow:hover:before {color: black;}#sk-container-id-1 div.sk-estimator:hover label.sk-toggleable__label-arrow:before {color: black;}#sk-container-id-1 div.sk-toggleable__content {max-height: 0;max-width: 0;overflow: hidden;text-align: left;background-color: #f0f8ff;}#sk-container-id-1 div.sk-toggleable__content pre {margin: 0.2em;color: black;border-radius: 0.25em;background-color: #f0f8ff;}#sk-container-id-1 input.sk-toggleable__control:checked~div.sk-toggleable__content {max-height: 200px;max-width: 100%;overflow: auto;}#sk-container-id-1 input.sk-toggleable__control:checked~label.sk-toggleable__label-arrow:before {content: \"▾\";}#sk-container-id-1 div.sk-estimator input.sk-toggleable__control:checked~label.sk-toggleable__label {background-color: #d4ebff;}#sk-container-id-1 div.sk-label input.sk-toggleable__control:checked~label.sk-toggleable__label {background-color: #d4ebff;}#sk-container-id-1 input.sk-hidden--visually {border: 0;clip: rect(1px 1px 1px 1px);clip: rect(1px, 1px, 1px, 1px);height: 1px;margin: -1px;overflow: hidden;padding: 0;position: absolute;width: 1px;}#sk-container-id-1 div.sk-estimator {font-family: monospace;background-color: #f0f8ff;border: 1px dotted black;border-radius: 0.25em;box-sizing: border-box;margin-bottom: 0.5em;}#sk-container-id-1 div.sk-estimator:hover {background-color: #d4ebff;}#sk-container-id-1 div.sk-parallel-item::after {content: \"\";width: 100%;border-bottom: 1px solid gray;flex-grow: 1;}#sk-container-id-1 div.sk-label:hover label.sk-toggleable__label {background-color: #d4ebff;}#sk-container-id-1 div.sk-serial::before {content: \"\";position: absolute;border-left: 1px solid gray;box-sizing: border-box;top: 0;bottom: 0;left: 50%;z-index: 0;}#sk-container-id-1 div.sk-serial {display: flex;flex-direction: column;align-items: center;background-color: white;padding-right: 0.2em;padding-left: 0.2em;position: relative;}#sk-container-id-1 div.sk-item {position: relative;z-index: 1;}#sk-container-id-1 div.sk-parallel {display: flex;align-items: stretch;justify-content: center;background-color: white;position: relative;}#sk-container-id-1 div.sk-item::before, #sk-container-id-1 div.sk-parallel-item::before {content: \"\";position: absolute;border-left: 1px solid gray;box-sizing: border-box;top: 0;bottom: 0;left: 50%;z-index: -1;}#sk-container-id-1 div.sk-parallel-item {display: flex;flex-direction: column;z-index: 1;position: relative;background-color: white;}#sk-container-id-1 div.sk-parallel-item:first-child::after {align-self: flex-end;width: 50%;}#sk-container-id-1 div.sk-parallel-item:last-child::after {align-self: flex-start;width: 50%;}#sk-container-id-1 div.sk-parallel-item:only-child::after {width: 0;}#sk-container-id-1 div.sk-dashed-wrapped {border: 1px dashed gray;margin: 0 0.4em 0.5em 0.4em;box-sizing: border-box;padding-bottom: 0.4em;background-color: white;}#sk-container-id-1 div.sk-label label {font-family: monospace;font-weight: bold;display: inline-block;line-height: 1.2em;}#sk-container-id-1 div.sk-label-container {text-align: center;}#sk-container-id-1 div.sk-container {/* jupyter's `normalize.less` sets `[hidden] { display: none; }` but bootstrap.min.css set `[hidden] { display: none !important; }` so we also need the `!important` here to be able to override the default hidden behavior on the sphinx rendered scikit-learn.org. See: https://github.com/scikit-learn/scikit-learn/issues/21755 */display: inline-block !important;position: relative;}#sk-container-id-1 div.sk-text-repr-fallback {display: none;}</style><div id=\"sk-container-id-1\" class=\"sk-top-container\"><div class=\"sk-text-repr-fallback\"><pre>XGBClassifier(base_score=0.5, booster=&#x27;gbtree&#x27;, callbacks=None,\n",
       "              colsample_bylevel=1, colsample_bynode=1, colsample_bytree=1,\n",
       "              early_stopping_rounds=None, enable_categorical=False,\n",
       "              eval_metric=&#x27;merror&#x27;, gamma=0, gpu_id=-1, grow_policy=&#x27;depthwise&#x27;,\n",
       "              importance_type=None, interaction_constraints=&#x27;&#x27;,\n",
       "              learning_rate=0.300000012, max_bin=256, max_cat_to_onehot=4,\n",
       "              max_delta_step=0, max_depth=6, max_leaves=0, min_child_weight=1,\n",
       "              missing=nan, monotone_constraints=&#x27;()&#x27;, n_estimators=100,\n",
       "              n_jobs=0, num_parallel_tree=1, predictor=&#x27;auto&#x27;, random_state=42,\n",
       "              reg_alpha=0, reg_lambda=1, ...)</pre><b>In a Jupyter environment, please rerun this cell to show the HTML representation or trust the notebook. <br />On GitHub, the HTML representation is unable to render, please try loading this page with nbviewer.org.</b></div><div class=\"sk-container\" hidden><div class=\"sk-item\"><div class=\"sk-estimator sk-toggleable\"><input class=\"sk-toggleable__control sk-hidden--visually\" id=\"sk-estimator-id-1\" type=\"checkbox\" checked><label for=\"sk-estimator-id-1\" class=\"sk-toggleable__label sk-toggleable__label-arrow\">XGBClassifier</label><div class=\"sk-toggleable__content\"><pre>XGBClassifier(base_score=0.5, booster=&#x27;gbtree&#x27;, callbacks=None,\n",
       "              colsample_bylevel=1, colsample_bynode=1, colsample_bytree=1,\n",
       "              early_stopping_rounds=None, enable_categorical=False,\n",
       "              eval_metric=&#x27;merror&#x27;, gamma=0, gpu_id=-1, grow_policy=&#x27;depthwise&#x27;,\n",
       "              importance_type=None, interaction_constraints=&#x27;&#x27;,\n",
       "              learning_rate=0.300000012, max_bin=256, max_cat_to_onehot=4,\n",
       "              max_delta_step=0, max_depth=6, max_leaves=0, min_child_weight=1,\n",
       "              missing=nan, monotone_constraints=&#x27;()&#x27;, n_estimators=100,\n",
       "              n_jobs=0, num_parallel_tree=1, predictor=&#x27;auto&#x27;, random_state=42,\n",
       "              reg_alpha=0, reg_lambda=1, ...)</pre></div></div></div></div></div>"
      ],
      "text/plain": [
       "XGBClassifier(base_score=0.5, booster='gbtree', callbacks=None,\n",
       "              colsample_bylevel=1, colsample_bynode=1, colsample_bytree=1,\n",
       "              early_stopping_rounds=None, enable_categorical=False,\n",
       "              eval_metric='merror', gamma=0, gpu_id=-1, grow_policy='depthwise',\n",
       "              importance_type=None, interaction_constraints='',\n",
       "              learning_rate=0.300000012, max_bin=256, max_cat_to_onehot=4,\n",
       "              max_delta_step=0, max_depth=6, max_leaves=0, min_child_weight=1,\n",
       "              missing=nan, monotone_constraints='()', n_estimators=100,\n",
       "              n_jobs=0, num_parallel_tree=1, predictor='auto', random_state=42,\n",
       "              reg_alpha=0, reg_lambda=1, ...)"
      ]
     },
     "execution_count": 13,
     "metadata": {},
     "output_type": "execute_result"
    }
   ],
   "source": [
    "import xgboost as xgb\n",
    "model  = xgb.XGBClassifier(random_state = 42, eval_metric = 'merror') \n",
    "\n",
    "# Fit the model\n",
    "model.fit(X_train, y_train)"
   ]
  },
  {
   "cell_type": "code",
   "execution_count": 14,
   "id": "3deabbce",
   "metadata": {},
   "outputs": [],
   "source": [
    "predictions = model.predict(X_valid)"
   ]
  },
  {
   "cell_type": "code",
   "execution_count": 15,
   "id": "a4edd857",
   "metadata": {},
   "outputs": [],
   "source": [
    "classes = ['S', 'R']"
   ]
  },
  {
   "cell_type": "code",
   "execution_count": 16,
   "id": "69ecf1cf",
   "metadata": {},
   "outputs": [
    {
     "data": {
      "image/png": "[encoded data removed]",
      "text/plain": [
       "<Figure size 900x500 with 1 Axes>"
      ]
     },
     "metadata": {},
     "output_type": "display_data"
    }
   ],
   "source": [
    "rocauc = ROCAUC(model, size=(900, 500), classes=classes )\n",
    "\n",
    "rocauc.fit(X_train, y_train)       \n",
    "rocauc.score(X_valid, y_valid)  \n",
    "r = rocauc.poof()"
   ]
  },
  {
   "cell_type": "code",
   "execution_count": 17,
   "id": "c8886d49",
   "metadata": {},
   "outputs": [
    {
     "name": "stderr",
     "output_type": "stream",
     "text": [
      "/Users/ecem/miniforge3/envs/tf-metal/lib/python3.9/site-packages/yellowbrick/classifier/base.py:232: YellowbrickWarning: could not determine class_counts_ from previously fitted classifier\n",
      "  warnings.warn(\n"
     ]
    },
    {
     "data": {
      "image/png": "[encoded data removed]",
      "text/plain": [
       "<Figure size 425x400 with 2 Axes>"
      ]
     },
     "metadata": {},
     "output_type": "display_data"
    }
   ],
   "source": [
    "report = ClassificationReport(model, size=(425, 400), classes=classes, cmap = 'Blues', fontsize=15 )\n",
    "\n",
    "report.score(X_valid, y_valid)\n",
    "c = report.poof()"
   ]
  },
  {
   "cell_type": "code",
   "execution_count": 18,
   "id": "2c2f2a40",
   "metadata": {},
   "outputs": [
    {
     "data": {
      "image/png": "[encoded data removed]",
      "text/plain": [
       "<Figure size 576x396 with 2 Axes>"
      ]
     },
     "metadata": {},
     "output_type": "display_data"
    }
   ],
   "source": [
    "from sklearn.metrics import ConfusionMatrixDisplay\n",
    "conf =  ConfusionMatrixDisplay.from_estimator(model, X_valid, y_valid, display_labels= ['S', 'R'], cmap = 'Blues') \n",
    "conf.ax_.set_title(\"Confusion Matrix\")\n",
    "plt.grid(None)\n",
    "plt.show()"
   ]
  },
  {
   "cell_type": "code",
   "execution_count": 19,
   "id": "e6a3d35a",
   "metadata": {},
   "outputs": [
    {
     "name": "stdout",
     "output_type": "stream",
     "text": [
      "accuracy: 95.95%\n",
      "recall: 95.95%\n",
      "precision: 96.00%\n"
     ]
    }
   ],
   "source": [
    "from sklearn.metrics import accuracy_score\n",
    "accuracy = accuracy_score(y_valid, predictions)\n",
    "print(\"accuracy: %.2f%%\" % (accuracy * 100.0))\n",
    "\n",
    "recall = recall_score(y_valid, predictions, average= 'weighted')\n",
    "print(\"recall: %.2f%%\" % (recall * 100.0))\n",
    "\n",
    "from sklearn.metrics import precision_score\n",
    "precision = precision_score(y_valid, predictions, average= 'weighted')\n",
    "print(\"precision: %.2f%%\" % (precision * 100.0))"
   ]
  },
  {
   "cell_type": "code",
   "execution_count": 20,
   "id": "80ee5d40",
   "metadata": {},
   "outputs": [
    {
     "name": "stdout",
     "output_type": "stream",
     "text": [
      "[0.218887   0.         0.06542025 0.09809601 0.07143566 0.061821\n",
      " 0.         0.0613343  0.08248273 0.04930927 0.11408982 0.0478448\n",
      " 0.05497197 0.04265834 0.03164883]\n"
     ]
    }
   ],
   "source": [
    "print(model.feature_importances_)"
   ]
  },
  {
   "cell_type": "code",
   "execution_count": 21,
   "id": "62fbc31b",
   "metadata": {},
   "outputs": [
    {
     "data": {
      "image/png": "[encoded data removed]",
      "text/plain": [
       "<Figure size 576x396 with 1 Axes>"
      ]
     },
     "metadata": {},
     "output_type": "display_data"
    }
   ],
   "source": [
    "# plot\n",
    "plt.bar(model.feature_names_in_, model.feature_importances_ )\n",
    "plt.show()"
   ]
  },
  {
   "cell_type": "code",
   "execution_count": 25,
   "id": "5a078c88",
   "metadata": {},
   "outputs": [],
   "source": [
    "importance = np.array([0.218887, 0.11408982,  0.09809601, 0.08248273, 0.07143566 ])"
   ]
  },
  {
   "cell_type": "code",
   "execution_count": 26,
   "id": "7bb8127f",
   "metadata": {},
   "outputs": [],
   "source": [
    "names = [\"Spectral-Centoid x\", 'Spectral-Centorid y', 'Spectral-Rolloff y', 'Spectral-Entropy  x', 'Spectral-Spread z']"
   ]
  },
  {
   "cell_type": "code",
   "execution_count": 27,
   "id": "3e377a86",
   "metadata": {},
   "outputs": [
    {
     "data": {
      "image/png": "[encoded data removed]",
      "text/plain": [
       "<Figure size 576x396 with 1 Axes>"
      ]
     },
     "metadata": {},
     "output_type": "display_data"
    }
   ],
   "source": [
    "# plot\n",
    "plt.bar(names, importance, color = \"MediumBlue\" )\n",
    "plt.title(\"Feature Importance Scores\", fontsize =20)\n",
    "xlabels_new = [name.replace('-', '\\n') for name in names]\n",
    "plt.xticks(ticks =range(5), labels = xlabels_new, fontsize=14, rotation = 90)\n",
    "plt.yticks(fontsize=14)\n",
    "plt.show()\n"
   ]
  },
  {
   "cell_type": "code",
   "execution_count": 28,
   "id": "60647036",
   "metadata": {},
   "outputs": [],
   "source": [
    "from xgboost import plot_importance;"
   ]
  },
  {
   "cell_type": "code",
   "execution_count": 38,
   "id": "3aeca3cf",
   "metadata": {},
   "outputs": [
    {
     "data": {
      "image/png": "[encoded data removed]",
      "text/plain": [
       "<Figure size 576x396 with 1 Axes>"
      ]
     },
     "metadata": {},
     "output_type": "display_data"
    }
   ],
   "source": [
    "plot_importance(model, importance_type  = \"gain\")\n",
    "plt.show()"
   ]
  },
  {
   "cell_type": "code",
   "execution_count": null,
   "id": "56d640fc",
   "metadata": {},
   "outputs": [],
   "source": []
  },
  {
   "cell_type": "code",
   "execution_count": null,
   "id": "cf2a8d2b",
   "metadata": {},
   "outputs": [],
   "source": []
  }
 ],
 "metadata": {
  "kernelspec": {
   "display_name": "Python 3 (ipykernel)",
   "language": "python",
   "name": "python3"
  },
  "language_info": {
   "codemirror_mode": {
    "name": "ipython",
    "version": 3
   },
   "file_extension": ".py",
   "mimetype": "text/x-python",
   "name": "python",
   "nbconvert_exporter": "python",
   "pygments_lexer": "ipython3",
   "version": "3.9.9"
  }
 },
 "nbformat": 4,
 "nbformat_minor": 5
}
