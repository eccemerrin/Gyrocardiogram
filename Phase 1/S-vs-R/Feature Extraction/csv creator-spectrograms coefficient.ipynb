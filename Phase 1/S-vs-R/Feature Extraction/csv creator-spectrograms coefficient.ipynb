{
 "cells": [
  {
   "cell_type": "markdown",
   "id": "a10707b4",
   "metadata": {},
   "source": [
    "## Imports:"
   ]
  },
  {
   "cell_type": "code",
   "execution_count": 1,
   "id": "5b0b2dcc",
   "metadata": {},
   "outputs": [],
   "source": [
    "import scipy.io\n",
    "import os\n",
    "import pandas\n",
    "import numpy as np\n",
    "import matplotlib.pyplot as plt\n",
    "import matplotlib.pylab as plt_lab\n",
    "import matplotlib.gridspec as gridspec\n",
    "import obspy\n",
    "import pandas as pd"
   ]
  },
  {
   "cell_type": "markdown",
   "id": "41b4c77f",
   "metadata": {},
   "source": [
    "## Load data:\n",
    "We are going to use this data to plot spectograms of SCG signals. "
   ]
  },
  {
   "cell_type": "code",
   "execution_count": 2,
   "id": "75a415fd",
   "metadata": {},
   "outputs": [
    {
     "name": "stdout",
     "output_type": "stream",
     "text": [
      "(3, 1070, 2560)\n"
     ]
    }
   ],
   "source": [
    "path = \"/Users/ecem/Desktop/gyrocardiogram/s-vs-r/\"\n",
    "diseased_s = np.load(path + \"data/diseased-10sec-s.npy\", allow_pickle= True)\n",
    "diseased_r = np.load(path + \"data/diseased-10sec-r.npy\", allow_pickle= True)\n",
    "\n",
    "print(diseased_s.shape)"
   ]
  },
  {
   "cell_type": "code",
   "execution_count": 3,
   "id": "e1d59219",
   "metadata": {},
   "outputs": [],
   "source": [
    "def converter(array):\n",
    "    x,y,z = [],[],[]\n",
    "    for i in range(array.shape[1]):\n",
    "        x.append(obspy.core.trace.Trace(array[0][i]))\n",
    "        y.append(obspy.core.trace.Trace(array[1][i]))\n",
    "        z.append(obspy.core.trace.Trace(array[2][i]))\n",
    "        \n",
    "        x[i].stats.sampling_rate = 256\n",
    "        y[i].stats.sampling_rate = 256\n",
    "        z[i].stats.sampling_rate = 256\n",
    "    return [x,y,z]"
   ]
  },
  {
   "cell_type": "code",
   "execution_count": 4,
   "id": "9cbf9437",
   "metadata": {},
   "outputs": [],
   "source": [
    "diseased_s = converter(diseased_s)\n",
    "\n",
    "diseased_r = converter(diseased_r)\n",
    "\n"
   ]
  },
  {
   "cell_type": "markdown",
   "id": "8df87e77",
   "metadata": {},
   "source": [
    "## comparison of two dataset:\n",
    "\n",
    "Now we will to try visualize spectograms. So far we have used Obspy to visualize SCG signals. However, with obspy we are not able to plot spectograms side by side. This is important for us because we want to see spectograms of x,y and z components simultaneously for both healty and diseased people. So, from now on I will refer to those plots, for 3 components of healty and diseased (in total six plot, as \"PAIR\".\n",
    "\n",
    "\n",
    "I have mentioned that Obpsy has a problem in side by side plotting. So I changed it source code. I have added and deleted some part to operate according to my need. ???????????\n",
    "\n",
    "Thats why from now on we are going to use **output_spectogram** function to get values needed to plot spectogram."
   ]
  },
  {
   "cell_type": "markdown",
   "id": "0e61264a",
   "metadata": {},
   "source": [
    "These are the imports for output_spectogram function to work."
   ]
  },
  {
   "cell_type": "code",
   "execution_count": 5,
   "id": "d37506c8",
   "metadata": {},
   "outputs": [],
   "source": [
    "from obspy.imaging.cm import obspy_sequential\n",
    "import math\n",
    "from matplotlib import mlab\n",
    "from matplotlib.colors import Normalize"
   ]
  },
  {
   "cell_type": "code",
   "execution_count": 6,
   "id": "7422b887",
   "metadata": {},
   "outputs": [],
   "source": [
    "def _nearest_pow_2(x):\n",
    "    a = math.pow(2, math.ceil(np.log2(x)))\n",
    "    b = math.pow(2, math.floor(np.log2(x)))\n",
    "    if abs(a - x) < abs(b - x):\n",
    "        return a\n",
    "    else:\n",
    "        return b"
   ]
  },
  {
   "cell_type": "code",
   "execution_count": 7,
   "id": "abafe36e",
   "metadata": {},
   "outputs": [],
   "source": [
    "def output_spectrogram(data, samp_rate, per_lap=0.9, wlen=None, log=False,\n",
    "                outfile=None, fmt=None, axes=None, dbscale=False,\n",
    "                mult=8.0, cmap=obspy_sequential, zorder=None, title=None,\n",
    "                show=True, clip=[0.0, 1.0]):\n",
    " \n",
    "    import matplotlib.pyplot as plt\n",
    "    \n",
    "    # enforce float for samp_rate\n",
    "    samp_rate = float(samp_rate)\n",
    "\n",
    "    # set wlen from samp_rate if not specified otherwise\n",
    "    if not wlen:\n",
    "        wlen = samp_rate / 100.\n",
    "\n",
    "    npts = len(data)\n",
    "    # nfft needs to be an integer, otherwise a deprecation will be raised\n",
    "    # XXX add condition for too many windows => calculation takes for ever\n",
    "    nfft = int(_nearest_pow_2(wlen * samp_rate))\n",
    "    if nfft > npts:\n",
    "        nfft = int(_nearest_pow_2(npts / 8.0))\n",
    "\n",
    "    if mult is not None:\n",
    "        mult = int(_nearest_pow_2(mult))\n",
    "        mult = mult * nfft\n",
    "    nlap = int(nfft * float(per_lap))\n",
    "\n",
    "    data = data - np.array(data).mean()\n",
    "    end = npts / samp_rate\n",
    "\n",
    "    # Here we call not plt.specgram as this already produces a plot\n",
    "    # matplotlib.mlab.specgram should be faster as it computes only the\n",
    "    # arrays\n",
    "    # XXX mlab.specgram uses fft, would be better and faster use rfft\n",
    "    specgram, freq, time = mlab.specgram(data, Fs=samp_rate, NFFT=nfft,\n",
    "                                         pad_to=mult, noverlap=nlap, mode = 'psd')\n",
    "\n",
    "    # db scale and remove zero/offset for amplitude\n",
    "    if dbscale:\n",
    "        specgram = 10 * np.log10(specgram[1:, :])\n",
    "    else:\n",
    "        specgram = np.sqrt(specgram[1:, :])\n",
    "    freq = freq[1:]\n",
    "    \n",
    "    vmin, vmax = clip\n",
    "    if vmin < 0 or vmax > 1 or vmin >= vmax:\n",
    "        msg = \"Invalid parameters for clip option.\"\n",
    "        raise ValueError(msg)\n",
    "    _range = float(specgram.max() - specgram.min())\n",
    "    vmin = specgram.min() + vmin * _range\n",
    "    vmax = specgram.min() + vmax * _range\n",
    "    norm = Normalize(vmin, vmax, clip=True)\n",
    "\n",
    "    # calculate half bin width\n",
    "    halfbin_time = (time[1] - time[0]) / 2.0\n",
    "    halfbin_freq = (freq[1] - freq[0]) / 2.0\n",
    "\n",
    "    # argument None is not allowed for kwargs on matplotlib python 3.3\n",
    "    kwargs = {k: v for k, v in (('cmap', cmap), ('zorder', zorder))\n",
    "              if v is not None}\n",
    "\n",
    "    if log:\n",
    "        # pcolor expects one bin more at the right end\n",
    "        freq = np.concatenate((freq, [freq[-1] + 2 * halfbin_freq]))\n",
    "        time = np.concatenate((time, [time[-1] + 2 * halfbin_time]))\n",
    "        # center bin\n",
    "        time -= halfbin_time\n",
    "        freq -= halfbin_freq\n",
    "        # Log scaling for frequency values (y-axis)\n",
    "        ax.set_yscale('log')\n",
    "        # Plot times\n",
    "        ax.pcolormesh(time, freq, specgram, norm=norm, **kwargs)\n",
    "    else:\n",
    "        # this method is much much faster!\n",
    "        specgram = np.flipud(specgram)\n",
    "        # center bin\n",
    "        extent = (time[0] - halfbin_time, time[-1] + halfbin_time,\n",
    "                  freq[0] - halfbin_freq, freq[-1] + halfbin_freq)\n",
    "    return [specgram, extent, end]\n",
    "\n",
    "    \n",
    "\n"
   ]
  },
  {
   "cell_type": "markdown",
   "id": "ed4bb35c",
   "metadata": {},
   "source": [
    "## Plotting spectogram:"
   ]
  },
  {
   "cell_type": "markdown",
   "id": "029b8674",
   "metadata": {},
   "source": [
    "f is the frequency array, containing the frequencies of every band of the fft. Which can be used as the labels for a graph\n",
    "\n",
    "t is the time array, containing the time at which this FFT was made relative to the source signal. Again can be used for labels.\n",
    "\n",
    "The Sxx array contains the amplitudes and is a 2d array whose shape is the length of f by the length of t.\n",
    "\n",
    "\n",
    " The purpose of a spectogram is to take the FFT of small, equal-sized time chunks. This produces a 2D fourier transform where the X axis is the start time of the time chunk and the Y axis is the energy (or power, etc.) in each frequency in that time chunk. This allows you to see how the frequency components change over time.\n",
    " \n",
    "  A spectrogram is a representation of frequency over time with the addition of amplitude as a third dimension, denoting the intensity or volume of the signal at a frequency and a time."
   ]
  },
  {
   "cell_type": "code",
   "execution_count": 8,
   "id": "18a0b440",
   "metadata": {},
   "outputs": [],
   "source": [
    "def freq_average(array):\n",
    "    means= []\n",
    "    for i in range(array.shape[0]):\n",
    "        means.append(array[i][0:40].mean())\n",
    "    return np.array(means)\n",
    "        "
   ]
  },
  {
   "cell_type": "code",
   "execution_count": 9,
   "id": "3657c33b",
   "metadata": {},
   "outputs": [
    {
     "data": {
      "text/plain": [
       "(2048, 40)"
      ]
     },
     "execution_count": 9,
     "metadata": {},
     "output_type": "execute_result"
    }
   ],
   "source": [
    "output_spectrogram(diseased_s[0][0].data, 256)[0].shape"
   ]
  },
  {
   "cell_type": "code",
   "execution_count": 10,
   "id": "51ccd450",
   "metadata": {},
   "outputs": [
    {
     "data": {
      "text/plain": [
       "array([0.00342719, 0.00512656, 0.00567603, ..., 0.42324948, 0.42909873,\n",
       "       0.43112987])"
      ]
     },
     "execution_count": 10,
     "metadata": {},
     "output_type": "execute_result"
    }
   ],
   "source": [
    "freq_average(array = output_spectrogram(diseased_s[0][0].data, 256)[0])"
   ]
  },
  {
   "cell_type": "code",
   "execution_count": 11,
   "id": "4ca7cef9",
   "metadata": {},
   "outputs": [
    {
     "data": {
      "text/plain": [
       "(2048,)"
      ]
     },
     "execution_count": 11,
     "metadata": {},
     "output_type": "execute_result"
    }
   ],
   "source": [
    "freq_average(array = output_spectrogram(diseased_r[0][0].data, 256)[0]).shape"
   ]
  },
  {
   "cell_type": "code",
   "execution_count": 12,
   "id": "58055a89",
   "metadata": {},
   "outputs": [],
   "source": [
    "def spec_values(array):\n",
    "    x_, y_, z_ = [],[],[]\n",
    "    for i in range(len(array[0])):\n",
    "        _x = output_spectrogram(array[0][i].data, 256)[0]\n",
    "        _y = output_spectrogram(array[1][i].data, 256)[0]\n",
    "        _z = output_spectrogram(array[2][i].data, 256)[0]\n",
    "\n",
    "        x_.append(freq_average(array = _x))\n",
    "        y_.append(freq_average(array = _y))\n",
    "        z_.append(freq_average(array = _z)) \n",
    "        \n",
    "        \n",
    "    return np.stack((x_, y_, z_), axis = 0)"
   ]
  },
  {
   "cell_type": "code",
   "execution_count": 13,
   "id": "298423aa",
   "metadata": {},
   "outputs": [],
   "source": [
    "diseased_s = spec_values(diseased_s)\n",
    "diseased_r = spec_values(diseased_r)"
   ]
  },
  {
   "cell_type": "code",
   "execution_count": 14,
   "id": "33ff627a",
   "metadata": {},
   "outputs": [
    {
     "data": {
      "text/plain": [
       "array([0.00342719, 0.00512656, 0.00567603, ..., 0.42324948, 0.42909873,\n",
       "       0.43112987])"
      ]
     },
     "execution_count": 14,
     "metadata": {},
     "output_type": "execute_result"
    }
   ],
   "source": [
    "diseased_s[0][0]"
   ]
  },
  {
   "cell_type": "code",
   "execution_count": 15,
   "id": "213176d8",
   "metadata": {},
   "outputs": [
    {
     "data": {
      "text/plain": [
       "array([0.00958285, 0.01355766, 0.01349824, ..., 0.12608085, 0.12633624,\n",
       "       0.12579942])"
      ]
     },
     "execution_count": 15,
     "metadata": {},
     "output_type": "execute_result"
    }
   ],
   "source": [
    "diseased_s[0][30]"
   ]
  },
  {
   "cell_type": "code",
   "execution_count": 16,
   "id": "a525dcf1",
   "metadata": {},
   "outputs": [
    {
     "name": "stdout",
     "output_type": "stream",
     "text": [
      "(3, 1070, 2048)\n",
      "(3, 2017, 2048)\n"
     ]
    }
   ],
   "source": [
    "print(diseased_s.shape)\n",
    "print(diseased_r.shape)\n"
   ]
  },
  {
   "cell_type": "code",
   "execution_count": 17,
   "id": "a4376fb8",
   "metadata": {},
   "outputs": [
    {
     "name": "stdout",
     "output_type": "stream",
     "text": [
      "['freq_x0', 'freq_y0', 'freq_z0', 'freq_x1', 'freq_y1', 'freq_z1', 'freq_x2', 'freq_y2', 'freq_z2', 'freq_x3', 'freq_y3', 'freq_z3', 'freq_x4', 'freq_y4', 'freq_z4', 'freq_x5', 'freq_y5', 'freq_z5', 'freq_x6', 'freq_y6', 'freq_z6', 'freq_x7', 'freq_y7', 'freq_z7', 'freq_x8', 'freq_y8', 'freq_z8', 'freq_x9', 'freq_y9', 'freq_z9', 'freq_x10', 'freq_y10', 'freq_z10', 'freq_x11', 'freq_y11', 'freq_z11', 'freq_x12', 'freq_y12', 'freq_z12', 'freq_x13', 'freq_y13', 'freq_z13', 'freq_x14', 'freq_y14', 'freq_z14', 'freq_x15', 'freq_y15', 'freq_z15', 'freq_x16', 'freq_y16', 'freq_z16', 'freq_x17', 'freq_y17', 'freq_z17', 'freq_x18', 'freq_y18', 'freq_z18', 'freq_x19', 'freq_y19', 'freq_z19', 'freq_x20', 'freq_y20', 'freq_z20', 'freq_x21', 'freq_y21', 'freq_z21', 'freq_x22', 'freq_y22', 'freq_z22', 'freq_x23', 'freq_y23', 'freq_z23', 'freq_x24', 'freq_y24', 'freq_z24', 'freq_x25', 'freq_y25', 'freq_z25', 'freq_x26', 'freq_y26', 'freq_z26', 'freq_x27', 'freq_y27', 'freq_z27', 'freq_x28', 'freq_y28', 'freq_z28', 'freq_x29', 'freq_y29', 'freq_z29', 'freq_x30', 'freq_y30', 'freq_z30', 'freq_x31', 'freq_y31', 'freq_z31', 'freq_x32', 'freq_y32', 'freq_z32', 'freq_x33', 'freq_y33', 'freq_z33', 'freq_x34', 'freq_y34', 'freq_z34', 'freq_x35', 'freq_y35', 'freq_z35', 'freq_x36', 'freq_y36', 'freq_z36', 'freq_x37', 'freq_y37', 'freq_z37', 'freq_x38', 'freq_y38', 'freq_z38', 'freq_x39', 'freq_y39', 'freq_z39', 'freq_x40', 'freq_y40', 'freq_z40', 'freq_x41', 'freq_y41', 'freq_z41', 'freq_x42', 'freq_y42', 'freq_z42', 'freq_x43', 'freq_y43', 'freq_z43', 'freq_x44', 'freq_y44', 'freq_z44', 'freq_x45', 'freq_y45', 'freq_z45', 'freq_x46', 'freq_y46', 'freq_z46', 'freq_x47', 'freq_y47', 'freq_z47', 'freq_x48', 'freq_y48', 'freq_z48', 'freq_x49', 'freq_y49', 'freq_z49', 'freq_x50', 'freq_y50', 'freq_z50', 'freq_x51', 'freq_y51', 'freq_z51', 'freq_x52', 'freq_y52', 'freq_z52', 'freq_x53', 'freq_y53', 'freq_z53', 'freq_x54', 'freq_y54', 'freq_z54', 'freq_x55', 'freq_y55', 'freq_z55', 'freq_x56', 'freq_y56', 'freq_z56', 'freq_x57', 'freq_y57', 'freq_z57', 'freq_x58', 'freq_y58', 'freq_z58', 'freq_x59', 'freq_y59', 'freq_z59', 'freq_x60', 'freq_y60', 'freq_z60', 'freq_x61', 'freq_y61', 'freq_z61', 'freq_x62', 'freq_y62', 'freq_z62', 'freq_x63', 'freq_y63', 'freq_z63', 'freq_x64', 'freq_y64', 'freq_z64', 'freq_x65', 'freq_y65', 'freq_z65', 'freq_x66', 'freq_y66', 'freq_z66', 'freq_x67', 'freq_y67', 'freq_z67', 'freq_x68', 'freq_y68', 'freq_z68', 'freq_x69', 'freq_y69', 'freq_z69', 'freq_x70', 'freq_y70', 'freq_z70', 'freq_x71', 'freq_y71', 'freq_z71', 'freq_x72', 'freq_y72', 'freq_z72', 'freq_x73', 'freq_y73', 'freq_z73', 'freq_x74', 'freq_y74', 'freq_z74', 'freq_x75', 'freq_y75', 'freq_z75', 'freq_x76', 'freq_y76', 'freq_z76', 'freq_x77', 'freq_y77', 'freq_z77', 'freq_x78', 'freq_y78', 'freq_z78', 'freq_x79', 'freq_y79', 'freq_z79', 'freq_x80', 'freq_y80', 'freq_z80', 'freq_x81', 'freq_y81', 'freq_z81', 'freq_x82', 'freq_y82', 'freq_z82', 'freq_x83', 'freq_y83', 'freq_z83', 'freq_x84', 'freq_y84', 'freq_z84', 'freq_x85', 'freq_y85', 'freq_z85', 'freq_x86', 'freq_y86', 'freq_z86', 'freq_x87', 'freq_y87', 'freq_z87', 'freq_x88', 'freq_y88', 'freq_z88', 'freq_x89', 'freq_y89', 'freq_z89', 'freq_x90', 'freq_y90', 'freq_z90', 'freq_x91', 'freq_y91', 'freq_z91', 'freq_x92', 'freq_y92', 'freq_z92', 'freq_x93', 'freq_y93', 'freq_z93', 'freq_x94', 'freq_y94', 'freq_z94', 'freq_x95', 'freq_y95', 'freq_z95', 'freq_x96', 'freq_y96', 'freq_z96', 'freq_x97', 'freq_y97', 'freq_z97', 'freq_x98', 'freq_y98', 'freq_z98', 'freq_x99', 'freq_y99', 'freq_z99', 'freq_x100', 'freq_y100', 'freq_z100', 'freq_x101', 'freq_y101', 'freq_z101', 'freq_x102', 'freq_y102', 'freq_z102', 'freq_x103', 'freq_y103', 'freq_z103', 'freq_x104', 'freq_y104', 'freq_z104', 'freq_x105', 'freq_y105', 'freq_z105', 'freq_x106', 'freq_y106', 'freq_z106', 'freq_x107', 'freq_y107', 'freq_z107', 'freq_x108', 'freq_y108', 'freq_z108', 'freq_x109', 'freq_y109', 'freq_z109', 'freq_x110', 'freq_y110', 'freq_z110', 'freq_x111', 'freq_y111', 'freq_z111', 'freq_x112', 'freq_y112', 'freq_z112', 'freq_x113', 'freq_y113', 'freq_z113', 'freq_x114', 'freq_y114', 'freq_z114', 'freq_x115', 'freq_y115', 'freq_z115', 'freq_x116', 'freq_y116', 'freq_z116', 'freq_x117', 'freq_y117', 'freq_z117', 'freq_x118', 'freq_y118', 'freq_z118', 'freq_x119', 'freq_y119', 'freq_z119', 'freq_x120', 'freq_y120', 'freq_z120', 'freq_x121', 'freq_y121', 'freq_z121', 'freq_x122', 'freq_y122', 'freq_z122', 'freq_x123', 'freq_y123', 'freq_z123', 'freq_x124', 'freq_y124', 'freq_z124', 'freq_x125', 'freq_y125', 'freq_z125', 'freq_x126', 'freq_y126', 'freq_z126', 'freq_x127', 'freq_y127', 'freq_z127', 'freq_x128', 'freq_y128', 'freq_z128', 'freq_x129', 'freq_y129', 'freq_z129', 'freq_x130', 'freq_y130', 'freq_z130', 'freq_x131', 'freq_y131', 'freq_z131', 'freq_x132', 'freq_y132', 'freq_z132', 'freq_x133', 'freq_y133', 'freq_z133', 'freq_x134', 'freq_y134', 'freq_z134', 'freq_x135', 'freq_y135', 'freq_z135', 'freq_x136', 'freq_y136', 'freq_z136', 'freq_x137', 'freq_y137', 'freq_z137', 'freq_x138', 'freq_y138', 'freq_z138', 'freq_x139', 'freq_y139', 'freq_z139', 'freq_x140', 'freq_y140', 'freq_z140', 'freq_x141', 'freq_y141', 'freq_z141', 'freq_x142', 'freq_y142', 'freq_z142', 'freq_x143', 'freq_y143', 'freq_z143', 'freq_x144', 'freq_y144', 'freq_z144', 'freq_x145', 'freq_y145', 'freq_z145', 'freq_x146', 'freq_y146', 'freq_z146', 'freq_x147', 'freq_y147', 'freq_z147', 'freq_x148', 'freq_y148', 'freq_z148', 'freq_x149', 'freq_y149', 'freq_z149', 'freq_x150', 'freq_y150', 'freq_z150', 'freq_x151', 'freq_y151', 'freq_z151', 'freq_x152', 'freq_y152', 'freq_z152', 'freq_x153', 'freq_y153', 'freq_z153', 'freq_x154', 'freq_y154', 'freq_z154', 'freq_x155', 'freq_y155', 'freq_z155', 'freq_x156', 'freq_y156', 'freq_z156', 'freq_x157', 'freq_y157', 'freq_z157', 'freq_x158', 'freq_y158', 'freq_z158', 'freq_x159', 'freq_y159', 'freq_z159', 'freq_x160', 'freq_y160', 'freq_z160', 'freq_x161', 'freq_y161', 'freq_z161', 'freq_x162', 'freq_y162', 'freq_z162', 'freq_x163', 'freq_y163', 'freq_z163', 'freq_x164', 'freq_y164', 'freq_z164', 'freq_x165', 'freq_y165', 'freq_z165', 'freq_x166', 'freq_y166', 'freq_z166', 'freq_x167', 'freq_y167', 'freq_z167', 'freq_x168', 'freq_y168', 'freq_z168', 'freq_x169', 'freq_y169', 'freq_z169', 'freq_x170', 'freq_y170', 'freq_z170', 'freq_x171', 'freq_y171', 'freq_z171', 'freq_x172', 'freq_y172', 'freq_z172', 'freq_x173', 'freq_y173', 'freq_z173', 'freq_x174', 'freq_y174', 'freq_z174', 'freq_x175', 'freq_y175', 'freq_z175', 'freq_x176', 'freq_y176', 'freq_z176', 'freq_x177', 'freq_y177', 'freq_z177', 'freq_x178', 'freq_y178', 'freq_z178', 'freq_x179', 'freq_y179', 'freq_z179', 'freq_x180', 'freq_y180', 'freq_z180', 'freq_x181', 'freq_y181', 'freq_z181', 'freq_x182', 'freq_y182', 'freq_z182', 'freq_x183', 'freq_y183', 'freq_z183', 'freq_x184', 'freq_y184', 'freq_z184', 'freq_x185', 'freq_y185', 'freq_z185', 'freq_x186', 'freq_y186', 'freq_z186', 'freq_x187', 'freq_y187', 'freq_z187', 'freq_x188', 'freq_y188', 'freq_z188', 'freq_x189', 'freq_y189', 'freq_z189', 'freq_x190', 'freq_y190', 'freq_z190', 'freq_x191', 'freq_y191', 'freq_z191', 'freq_x192', 'freq_y192', 'freq_z192', 'freq_x193', 'freq_y193', 'freq_z193', 'freq_x194', 'freq_y194', 'freq_z194', 'freq_x195', 'freq_y195', 'freq_z195', 'freq_x196', 'freq_y196', 'freq_z196', 'freq_x197', 'freq_y197', 'freq_z197', 'freq_x198', 'freq_y198', 'freq_z198', 'freq_x199', 'freq_y199', 'freq_z199', 'freq_x200', 'freq_y200', 'freq_z200', 'freq_x201', 'freq_y201', 'freq_z201', 'freq_x202', 'freq_y202', 'freq_z202', 'freq_x203', 'freq_y203', 'freq_z203', 'freq_x204', 'freq_y204', 'freq_z204', 'freq_x205', 'freq_y205', 'freq_z205', 'freq_x206', 'freq_y206', 'freq_z206', 'freq_x207', 'freq_y207', 'freq_z207', 'freq_x208', 'freq_y208', 'freq_z208', 'freq_x209', 'freq_y209', 'freq_z209', 'freq_x210', 'freq_y210', 'freq_z210', 'freq_x211', 'freq_y211', 'freq_z211', 'freq_x212', 'freq_y212', 'freq_z212', 'freq_x213', 'freq_y213', 'freq_z213', 'freq_x214', 'freq_y214', 'freq_z214', 'freq_x215', 'freq_y215', 'freq_z215', 'freq_x216', 'freq_y216', 'freq_z216', 'freq_x217', 'freq_y217', 'freq_z217', 'freq_x218', 'freq_y218', 'freq_z218', 'freq_x219', 'freq_y219', 'freq_z219', 'freq_x220', 'freq_y220', 'freq_z220', 'freq_x221', 'freq_y221', 'freq_z221', 'freq_x222', 'freq_y222', 'freq_z222', 'freq_x223', 'freq_y223', 'freq_z223', 'freq_x224', 'freq_y224', 'freq_z224', 'freq_x225', 'freq_y225', 'freq_z225', 'freq_x226', 'freq_y226', 'freq_z226', 'freq_x227', 'freq_y227', 'freq_z227', 'freq_x228', 'freq_y228', 'freq_z228', 'freq_x229', 'freq_y229', 'freq_z229', 'freq_x230', 'freq_y230', 'freq_z230', 'freq_x231', 'freq_y231', 'freq_z231', 'freq_x232', 'freq_y232', 'freq_z232', 'freq_x233', 'freq_y233', 'freq_z233', 'freq_x234', 'freq_y234', 'freq_z234', 'freq_x235', 'freq_y235', 'freq_z235', 'freq_x236', 'freq_y236', 'freq_z236', 'freq_x237', 'freq_y237', 'freq_z237', 'freq_x238', 'freq_y238', 'freq_z238', 'freq_x239', 'freq_y239', 'freq_z239', 'freq_x240', 'freq_y240', 'freq_z240', 'freq_x241', 'freq_y241', 'freq_z241', 'freq_x242', 'freq_y242', 'freq_z242', 'freq_x243', 'freq_y243', 'freq_z243', 'freq_x244', 'freq_y244', 'freq_z244', 'freq_x245', 'freq_y245', 'freq_z245', 'freq_x246', 'freq_y246', 'freq_z246', 'freq_x247', 'freq_y247', 'freq_z247', 'freq_x248', 'freq_y248', 'freq_z248', 'freq_x249', 'freq_y249', 'freq_z249', 'freq_x250', 'freq_y250', 'freq_z250', 'freq_x251', 'freq_y251', 'freq_z251', 'freq_x252', 'freq_y252', 'freq_z252', 'freq_x253', 'freq_y253', 'freq_z253', 'freq_x254', 'freq_y254', 'freq_z254', 'freq_x255', 'freq_y255', 'freq_z255', 'freq_x256', 'freq_y256', 'freq_z256', 'freq_x257', 'freq_y257', 'freq_z257', 'freq_x258', 'freq_y258', 'freq_z258', 'freq_x259', 'freq_y259', 'freq_z259', 'freq_x260', 'freq_y260', 'freq_z260', 'freq_x261', 'freq_y261', 'freq_z261', 'freq_x262', 'freq_y262', 'freq_z262', 'freq_x263', 'freq_y263', 'freq_z263', 'freq_x264', 'freq_y264', 'freq_z264', 'freq_x265', 'freq_y265', 'freq_z265', 'freq_x266', 'freq_y266', 'freq_z266', 'freq_x267', 'freq_y267', 'freq_z267', 'freq_x268', 'freq_y268', 'freq_z268', 'freq_x269', 'freq_y269', 'freq_z269', 'freq_x270', 'freq_y270', 'freq_z270', 'freq_x271', 'freq_y271', 'freq_z271', 'freq_x272', 'freq_y272', 'freq_z272', 'freq_x273', 'freq_y273', 'freq_z273', 'freq_x274', 'freq_y274', 'freq_z274', 'freq_x275', 'freq_y275', 'freq_z275', 'freq_x276', 'freq_y276', 'freq_z276', 'freq_x277', 'freq_y277', 'freq_z277', 'freq_x278', 'freq_y278', 'freq_z278', 'freq_x279', 'freq_y279', 'freq_z279', 'freq_x280', 'freq_y280', 'freq_z280', 'freq_x281', 'freq_y281', 'freq_z281', 'freq_x282', 'freq_y282', 'freq_z282', 'freq_x283', 'freq_y283', 'freq_z283', 'freq_x284', 'freq_y284', 'freq_z284', 'freq_x285', 'freq_y285', 'freq_z285', 'freq_x286', 'freq_y286', 'freq_z286', 'freq_x287', 'freq_y287', 'freq_z287', 'freq_x288', 'freq_y288', 'freq_z288', 'freq_x289', 'freq_y289', 'freq_z289', 'freq_x290', 'freq_y290', 'freq_z290', 'freq_x291', 'freq_y291', 'freq_z291', 'freq_x292', 'freq_y292', 'freq_z292', 'freq_x293', 'freq_y293', 'freq_z293', 'freq_x294', 'freq_y294', 'freq_z294', 'freq_x295', 'freq_y295', 'freq_z295', 'freq_x296', 'freq_y296', 'freq_z296', 'freq_x297', 'freq_y297', 'freq_z297', 'freq_x298', 'freq_y298', 'freq_z298', 'freq_x299', 'freq_y299', 'freq_z299', 'freq_x300', 'freq_y300', 'freq_z300', 'freq_x301', 'freq_y301', 'freq_z301', 'freq_x302', 'freq_y302', 'freq_z302', 'freq_x303', 'freq_y303', 'freq_z303', 'freq_x304', 'freq_y304', 'freq_z304', 'freq_x305', 'freq_y305', 'freq_z305', 'freq_x306', 'freq_y306', 'freq_z306', 'freq_x307', 'freq_y307', 'freq_z307', 'freq_x308', 'freq_y308', 'freq_z308', 'freq_x309', 'freq_y309', 'freq_z309', 'freq_x310', 'freq_y310', 'freq_z310', 'freq_x311', 'freq_y311', 'freq_z311', 'freq_x312', 'freq_y312', 'freq_z312', 'freq_x313', 'freq_y313', 'freq_z313', 'freq_x314', 'freq_y314', 'freq_z314', 'freq_x315', 'freq_y315', 'freq_z315', 'freq_x316', 'freq_y316', 'freq_z316', 'freq_x317', 'freq_y317', 'freq_z317', 'freq_x318', 'freq_y318', 'freq_z318', 'freq_x319', 'freq_y319', 'freq_z319', 'freq_x320', 'freq_y320', 'freq_z320', 'freq_x321', 'freq_y321', 'freq_z321', 'freq_x322', 'freq_y322', 'freq_z322', 'freq_x323', 'freq_y323', 'freq_z323', 'freq_x324', 'freq_y324', 'freq_z324', 'freq_x325', 'freq_y325', 'freq_z325', 'freq_x326', 'freq_y326', 'freq_z326', 'freq_x327', 'freq_y327', 'freq_z327', 'freq_x328', 'freq_y328', 'freq_z328', 'freq_x329', 'freq_y329', 'freq_z329', 'freq_x330', 'freq_y330', 'freq_z330', 'freq_x331', 'freq_y331', 'freq_z331', 'freq_x332', 'freq_y332', 'freq_z332', 'freq_x333', 'freq_y333', 'freq_z333', 'freq_x334', 'freq_y334', 'freq_z334', 'freq_x335', 'freq_y335', 'freq_z335', 'freq_x336', 'freq_y336', 'freq_z336', 'freq_x337', 'freq_y337', 'freq_z337', 'freq_x338', 'freq_y338', 'freq_z338', 'freq_x339', 'freq_y339', 'freq_z339', 'freq_x340', 'freq_y340', 'freq_z340', 'freq_x341', 'freq_y341', 'freq_z341', 'freq_x342', 'freq_y342', 'freq_z342', 'freq_x343', 'freq_y343', 'freq_z343', 'freq_x344', 'freq_y344', 'freq_z344', 'freq_x345', 'freq_y345', 'freq_z345', 'freq_x346', 'freq_y346', 'freq_z346', 'freq_x347', 'freq_y347', 'freq_z347', 'freq_x348', 'freq_y348', 'freq_z348', 'freq_x349', 'freq_y349', 'freq_z349', 'freq_x350', 'freq_y350', 'freq_z350', 'freq_x351', 'freq_y351', 'freq_z351', 'freq_x352', 'freq_y352', 'freq_z352', 'freq_x353', 'freq_y353', 'freq_z353', 'freq_x354', 'freq_y354', 'freq_z354', 'freq_x355', 'freq_y355', 'freq_z355', 'freq_x356', 'freq_y356', 'freq_z356', 'freq_x357', 'freq_y357', 'freq_z357', 'freq_x358', 'freq_y358', 'freq_z358', 'freq_x359', 'freq_y359', 'freq_z359', 'freq_x360', 'freq_y360', 'freq_z360', 'freq_x361', 'freq_y361', 'freq_z361', 'freq_x362', 'freq_y362', 'freq_z362', 'freq_x363', 'freq_y363', 'freq_z363', 'freq_x364', 'freq_y364', 'freq_z364', 'freq_x365', 'freq_y365', 'freq_z365', 'freq_x366', 'freq_y366', 'freq_z366', 'freq_x367', 'freq_y367', 'freq_z367', 'freq_x368', 'freq_y368', 'freq_z368', 'freq_x369', 'freq_y369', 'freq_z369', 'freq_x370', 'freq_y370', 'freq_z370', 'freq_x371', 'freq_y371', 'freq_z371', 'freq_x372', 'freq_y372', 'freq_z372', 'freq_x373', 'freq_y373', 'freq_z373', 'freq_x374', 'freq_y374', 'freq_z374', 'freq_x375', 'freq_y375', 'freq_z375', 'freq_x376', 'freq_y376', 'freq_z376', 'freq_x377', 'freq_y377', 'freq_z377', 'freq_x378', 'freq_y378', 'freq_z378', 'freq_x379', 'freq_y379', 'freq_z379', 'freq_x380', 'freq_y380', 'freq_z380', 'freq_x381', 'freq_y381', 'freq_z381', 'freq_x382', 'freq_y382', 'freq_z382', 'freq_x383', 'freq_y383', 'freq_z383', 'freq_x384', 'freq_y384', 'freq_z384', 'freq_x385', 'freq_y385', 'freq_z385', 'freq_x386', 'freq_y386', 'freq_z386', 'freq_x387', 'freq_y387', 'freq_z387', 'freq_x388', 'freq_y388', 'freq_z388', 'freq_x389', 'freq_y389', 'freq_z389', 'freq_x390', 'freq_y390', 'freq_z390', 'freq_x391', 'freq_y391', 'freq_z391', 'freq_x392', 'freq_y392', 'freq_z392', 'freq_x393', 'freq_y393', 'freq_z393', 'freq_x394', 'freq_y394', 'freq_z394', 'freq_x395', 'freq_y395', 'freq_z395', 'freq_x396', 'freq_y396', 'freq_z396', 'freq_x397', 'freq_y397', 'freq_z397', 'freq_x398', 'freq_y398', 'freq_z398', 'freq_x399', 'freq_y399', 'freq_z399', 'freq_x400', 'freq_y400', 'freq_z400', 'freq_x401', 'freq_y401', 'freq_z401', 'freq_x402', 'freq_y402', 'freq_z402', 'freq_x403', 'freq_y403', 'freq_z403', 'freq_x404', 'freq_y404', 'freq_z404', 'freq_x405', 'freq_y405', 'freq_z405', 'freq_x406', 'freq_y406', 'freq_z406', 'freq_x407', 'freq_y407', 'freq_z407', 'freq_x408', 'freq_y408', 'freq_z408', 'freq_x409', 'freq_y409', 'freq_z409', 'freq_x410', 'freq_y410', 'freq_z410', 'freq_x411', 'freq_y411', 'freq_z411', 'freq_x412', 'freq_y412', 'freq_z412', 'freq_x413', 'freq_y413', 'freq_z413', 'freq_x414', 'freq_y414', 'freq_z414', 'freq_x415', 'freq_y415', 'freq_z415', 'freq_x416', 'freq_y416', 'freq_z416', 'freq_x417', 'freq_y417', 'freq_z417', 'freq_x418', 'freq_y418', 'freq_z418', 'freq_x419', 'freq_y419', 'freq_z419', 'freq_x420', 'freq_y420', 'freq_z420', 'freq_x421', 'freq_y421', 'freq_z421', 'freq_x422', 'freq_y422', 'freq_z422', 'freq_x423', 'freq_y423', 'freq_z423', 'freq_x424', 'freq_y424', 'freq_z424', 'freq_x425', 'freq_y425', 'freq_z425', 'freq_x426', 'freq_y426', 'freq_z426', 'freq_x427', 'freq_y427', 'freq_z427', 'freq_x428', 'freq_y428', 'freq_z428', 'freq_x429', 'freq_y429', 'freq_z429', 'freq_x430', 'freq_y430', 'freq_z430', 'freq_x431', 'freq_y431', 'freq_z431', 'freq_x432', 'freq_y432', 'freq_z432', 'freq_x433', 'freq_y433', 'freq_z433', 'freq_x434', 'freq_y434', 'freq_z434', 'freq_x435', 'freq_y435', 'freq_z435', 'freq_x436', 'freq_y436', 'freq_z436', 'freq_x437', 'freq_y437', 'freq_z437', 'freq_x438', 'freq_y438', 'freq_z438', 'freq_x439', 'freq_y439', 'freq_z439', 'freq_x440', 'freq_y440', 'freq_z440', 'freq_x441', 'freq_y441', 'freq_z441', 'freq_x442', 'freq_y442', 'freq_z442', 'freq_x443', 'freq_y443', 'freq_z443', 'freq_x444', 'freq_y444', 'freq_z444', 'freq_x445', 'freq_y445', 'freq_z445', 'freq_x446', 'freq_y446', 'freq_z446', 'freq_x447', 'freq_y447', 'freq_z447', 'freq_x448', 'freq_y448', 'freq_z448', 'freq_x449', 'freq_y449', 'freq_z449', 'freq_x450', 'freq_y450', 'freq_z450', 'freq_x451', 'freq_y451', 'freq_z451', 'freq_x452', 'freq_y452', 'freq_z452', 'freq_x453', 'freq_y453', 'freq_z453', 'freq_x454', 'freq_y454', 'freq_z454', 'freq_x455', 'freq_y455', 'freq_z455', 'freq_x456', 'freq_y456', 'freq_z456', 'freq_x457', 'freq_y457', 'freq_z457', 'freq_x458', 'freq_y458', 'freq_z458', 'freq_x459', 'freq_y459', 'freq_z459', 'freq_x460', 'freq_y460', 'freq_z460', 'freq_x461', 'freq_y461', 'freq_z461', 'freq_x462', 'freq_y462', 'freq_z462', 'freq_x463', 'freq_y463', 'freq_z463', 'freq_x464', 'freq_y464', 'freq_z464', 'freq_x465', 'freq_y465', 'freq_z465', 'freq_x466', 'freq_y466', 'freq_z466', 'freq_x467', 'freq_y467', 'freq_z467', 'freq_x468', 'freq_y468', 'freq_z468', 'freq_x469', 'freq_y469', 'freq_z469', 'freq_x470', 'freq_y470', 'freq_z470', 'freq_x471', 'freq_y471', 'freq_z471', 'freq_x472', 'freq_y472', 'freq_z472', 'freq_x473', 'freq_y473', 'freq_z473', 'freq_x474', 'freq_y474', 'freq_z474', 'freq_x475', 'freq_y475', 'freq_z475', 'freq_x476', 'freq_y476', 'freq_z476', 'freq_x477', 'freq_y477', 'freq_z477', 'freq_x478', 'freq_y478', 'freq_z478', 'freq_x479', 'freq_y479', 'freq_z479', 'freq_x480', 'freq_y480', 'freq_z480', 'freq_x481', 'freq_y481', 'freq_z481', 'freq_x482', 'freq_y482', 'freq_z482', 'freq_x483', 'freq_y483', 'freq_z483', 'freq_x484', 'freq_y484', 'freq_z484', 'freq_x485', 'freq_y485', 'freq_z485', 'freq_x486', 'freq_y486', 'freq_z486', 'freq_x487', 'freq_y487', 'freq_z487', 'freq_x488', 'freq_y488', 'freq_z488', 'freq_x489', 'freq_y489', 'freq_z489', 'freq_x490', 'freq_y490', 'freq_z490', 'freq_x491', 'freq_y491', 'freq_z491', 'freq_x492', 'freq_y492', 'freq_z492', 'freq_x493', 'freq_y493', 'freq_z493', 'freq_x494', 'freq_y494', 'freq_z494', 'freq_x495', 'freq_y495', 'freq_z495', 'freq_x496', 'freq_y496', 'freq_z496', 'freq_x497', 'freq_y497', 'freq_z497', 'freq_x498', 'freq_y498', 'freq_z498', 'freq_x499', 'freq_y499', 'freq_z499', 'freq_x500', 'freq_y500', 'freq_z500', 'freq_x501', 'freq_y501', 'freq_z501', 'freq_x502', 'freq_y502', 'freq_z502', 'freq_x503', 'freq_y503', 'freq_z503', 'freq_x504', 'freq_y504', 'freq_z504', 'freq_x505', 'freq_y505', 'freq_z505', 'freq_x506', 'freq_y506', 'freq_z506', 'freq_x507', 'freq_y507', 'freq_z507', 'freq_x508', 'freq_y508', 'freq_z508', 'freq_x509', 'freq_y509', 'freq_z509', 'freq_x510', 'freq_y510', 'freq_z510', 'freq_x511', 'freq_y511', 'freq_z511', 'freq_x512', 'freq_y512', 'freq_z512', 'freq_x513', 'freq_y513', 'freq_z513', 'freq_x514', 'freq_y514', 'freq_z514', 'freq_x515', 'freq_y515', 'freq_z515', 'freq_x516', 'freq_y516', 'freq_z516', 'freq_x517', 'freq_y517', 'freq_z517', 'freq_x518', 'freq_y518', 'freq_z518', 'freq_x519', 'freq_y519', 'freq_z519', 'freq_x520', 'freq_y520', 'freq_z520', 'freq_x521', 'freq_y521', 'freq_z521', 'freq_x522', 'freq_y522', 'freq_z522', 'freq_x523', 'freq_y523', 'freq_z523', 'freq_x524', 'freq_y524', 'freq_z524', 'freq_x525', 'freq_y525', 'freq_z525', 'freq_x526', 'freq_y526', 'freq_z526', 'freq_x527', 'freq_y527', 'freq_z527', 'freq_x528', 'freq_y528', 'freq_z528', 'freq_x529', 'freq_y529', 'freq_z529', 'freq_x530', 'freq_y530', 'freq_z530', 'freq_x531', 'freq_y531', 'freq_z531', 'freq_x532', 'freq_y532', 'freq_z532', 'freq_x533', 'freq_y533', 'freq_z533', 'freq_x534', 'freq_y534', 'freq_z534', 'freq_x535', 'freq_y535', 'freq_z535', 'freq_x536', 'freq_y536', 'freq_z536', 'freq_x537', 'freq_y537', 'freq_z537', 'freq_x538', 'freq_y538', 'freq_z538', 'freq_x539', 'freq_y539', 'freq_z539', 'freq_x540', 'freq_y540', 'freq_z540', 'freq_x541', 'freq_y541', 'freq_z541', 'freq_x542', 'freq_y542', 'freq_z542', 'freq_x543', 'freq_y543', 'freq_z543', 'freq_x544', 'freq_y544', 'freq_z544', 'freq_x545', 'freq_y545', 'freq_z545', 'freq_x546', 'freq_y546', 'freq_z546', 'freq_x547', 'freq_y547', 'freq_z547', 'freq_x548', 'freq_y548', 'freq_z548', 'freq_x549', 'freq_y549', 'freq_z549', 'freq_x550', 'freq_y550', 'freq_z550', 'freq_x551', 'freq_y551', 'freq_z551', 'freq_x552', 'freq_y552', 'freq_z552', 'freq_x553', 'freq_y553', 'freq_z553', 'freq_x554', 'freq_y554', 'freq_z554', 'freq_x555', 'freq_y555', 'freq_z555', 'freq_x556', 'freq_y556', 'freq_z556', 'freq_x557', 'freq_y557', 'freq_z557', 'freq_x558', 'freq_y558', 'freq_z558', 'freq_x559', 'freq_y559', 'freq_z559', 'freq_x560', 'freq_y560', 'freq_z560', 'freq_x561', 'freq_y561', 'freq_z561', 'freq_x562', 'freq_y562', 'freq_z562', 'freq_x563', 'freq_y563', 'freq_z563', 'freq_x564', 'freq_y564', 'freq_z564', 'freq_x565', 'freq_y565', 'freq_z565', 'freq_x566', 'freq_y566', 'freq_z566', 'freq_x567', 'freq_y567', 'freq_z567', 'freq_x568', 'freq_y568', 'freq_z568', 'freq_x569', 'freq_y569', 'freq_z569', 'freq_x570', 'freq_y570', 'freq_z570', 'freq_x571', 'freq_y571', 'freq_z571', 'freq_x572', 'freq_y572', 'freq_z572', 'freq_x573', 'freq_y573', 'freq_z573', 'freq_x574', 'freq_y574', 'freq_z574', 'freq_x575', 'freq_y575', 'freq_z575', 'freq_x576', 'freq_y576', 'freq_z576', 'freq_x577', 'freq_y577', 'freq_z577', 'freq_x578', 'freq_y578', 'freq_z578', 'freq_x579', 'freq_y579', 'freq_z579', 'freq_x580', 'freq_y580', 'freq_z580', 'freq_x581', 'freq_y581', 'freq_z581', 'freq_x582', 'freq_y582', 'freq_z582', 'freq_x583', 'freq_y583', 'freq_z583', 'freq_x584', 'freq_y584', 'freq_z584', 'freq_x585', 'freq_y585', 'freq_z585', 'freq_x586', 'freq_y586', 'freq_z586', 'freq_x587', 'freq_y587', 'freq_z587', 'freq_x588', 'freq_y588', 'freq_z588', 'freq_x589', 'freq_y589', 'freq_z589', 'freq_x590', 'freq_y590', 'freq_z590', 'freq_x591', 'freq_y591', 'freq_z591', 'freq_x592', 'freq_y592', 'freq_z592', 'freq_x593', 'freq_y593', 'freq_z593', 'freq_x594', 'freq_y594', 'freq_z594', 'freq_x595', 'freq_y595', 'freq_z595', 'freq_x596', 'freq_y596', 'freq_z596', 'freq_x597', 'freq_y597', 'freq_z597', 'freq_x598', 'freq_y598', 'freq_z598', 'freq_x599', 'freq_y599', 'freq_z599', 'freq_x600', 'freq_y600', 'freq_z600', 'freq_x601', 'freq_y601', 'freq_z601', 'freq_x602', 'freq_y602', 'freq_z602', 'freq_x603', 'freq_y603', 'freq_z603', 'freq_x604', 'freq_y604', 'freq_z604', 'freq_x605', 'freq_y605', 'freq_z605', 'freq_x606', 'freq_y606', 'freq_z606', 'freq_x607', 'freq_y607', 'freq_z607', 'freq_x608', 'freq_y608', 'freq_z608', 'freq_x609', 'freq_y609', 'freq_z609', 'freq_x610', 'freq_y610', 'freq_z610', 'freq_x611', 'freq_y611', 'freq_z611', 'freq_x612', 'freq_y612', 'freq_z612', 'freq_x613', 'freq_y613', 'freq_z613', 'freq_x614', 'freq_y614', 'freq_z614', 'freq_x615', 'freq_y615', 'freq_z615', 'freq_x616', 'freq_y616', 'freq_z616', 'freq_x617', 'freq_y617', 'freq_z617', 'freq_x618', 'freq_y618', 'freq_z618', 'freq_x619', 'freq_y619', 'freq_z619', 'freq_x620', 'freq_y620', 'freq_z620', 'freq_x621', 'freq_y621', 'freq_z621', 'freq_x622', 'freq_y622', 'freq_z622', 'freq_x623', 'freq_y623', 'freq_z623', 'freq_x624', 'freq_y624', 'freq_z624', 'freq_x625', 'freq_y625', 'freq_z625', 'freq_x626', 'freq_y626', 'freq_z626', 'freq_x627', 'freq_y627', 'freq_z627', 'freq_x628', 'freq_y628', 'freq_z628', 'freq_x629', 'freq_y629', 'freq_z629', 'freq_x630', 'freq_y630', 'freq_z630', 'freq_x631', 'freq_y631', 'freq_z631', 'freq_x632', 'freq_y632', 'freq_z632', 'freq_x633', 'freq_y633', 'freq_z633', 'freq_x634', 'freq_y634', 'freq_z634', 'freq_x635', 'freq_y635', 'freq_z635', 'freq_x636', 'freq_y636', 'freq_z636', 'freq_x637', 'freq_y637', 'freq_z637', 'freq_x638', 'freq_y638', 'freq_z638', 'freq_x639', 'freq_y639', 'freq_z639', 'freq_x640', 'freq_y640', 'freq_z640', 'freq_x641', 'freq_y641', 'freq_z641', 'freq_x642', 'freq_y642', 'freq_z642', 'freq_x643', 'freq_y643', 'freq_z643', 'freq_x644', 'freq_y644', 'freq_z644', 'freq_x645', 'freq_y645', 'freq_z645', 'freq_x646', 'freq_y646', 'freq_z646', 'freq_x647', 'freq_y647', 'freq_z647', 'freq_x648', 'freq_y648', 'freq_z648', 'freq_x649', 'freq_y649', 'freq_z649', 'freq_x650', 'freq_y650', 'freq_z650', 'freq_x651', 'freq_y651', 'freq_z651', 'freq_x652', 'freq_y652', 'freq_z652', 'freq_x653', 'freq_y653', 'freq_z653', 'freq_x654', 'freq_y654', 'freq_z654', 'freq_x655', 'freq_y655', 'freq_z655', 'freq_x656', 'freq_y656', 'freq_z656', 'freq_x657', 'freq_y657', 'freq_z657', 'freq_x658', 'freq_y658', 'freq_z658', 'freq_x659', 'freq_y659', 'freq_z659', 'freq_x660', 'freq_y660', 'freq_z660', 'freq_x661', 'freq_y661', 'freq_z661', 'freq_x662', 'freq_y662', 'freq_z662', 'freq_x663', 'freq_y663', 'freq_z663', 'freq_x664', 'freq_y664', 'freq_z664', 'freq_x665', 'freq_y665', 'freq_z665', 'freq_x666', 'freq_y666', 'freq_z666', 'freq_x667', 'freq_y667', 'freq_z667', 'freq_x668', 'freq_y668', 'freq_z668', 'freq_x669', 'freq_y669', 'freq_z669', 'freq_x670', 'freq_y670', 'freq_z670', 'freq_x671', 'freq_y671', 'freq_z671', 'freq_x672', 'freq_y672', 'freq_z672', 'freq_x673', 'freq_y673', 'freq_z673', 'freq_x674', 'freq_y674', 'freq_z674', 'freq_x675', 'freq_y675', 'freq_z675', 'freq_x676', 'freq_y676', 'freq_z676', 'freq_x677', 'freq_y677', 'freq_z677', 'freq_x678', 'freq_y678', 'freq_z678', 'freq_x679', 'freq_y679', 'freq_z679', 'freq_x680', 'freq_y680', 'freq_z680', 'freq_x681', 'freq_y681', 'freq_z681', 'freq_x682', 'freq_y682', 'freq_z682', 'freq_x683', 'freq_y683', 'freq_z683', 'freq_x684', 'freq_y684', 'freq_z684', 'freq_x685', 'freq_y685', 'freq_z685', 'freq_x686', 'freq_y686', 'freq_z686', 'freq_x687', 'freq_y687', 'freq_z687', 'freq_x688', 'freq_y688', 'freq_z688', 'freq_x689', 'freq_y689', 'freq_z689', 'freq_x690', 'freq_y690', 'freq_z690', 'freq_x691', 'freq_y691', 'freq_z691', 'freq_x692', 'freq_y692', 'freq_z692', 'freq_x693', 'freq_y693', 'freq_z693', 'freq_x694', 'freq_y694', 'freq_z694', 'freq_x695', 'freq_y695', 'freq_z695', 'freq_x696', 'freq_y696', 'freq_z696', 'freq_x697', 'freq_y697', 'freq_z697', 'freq_x698', 'freq_y698', 'freq_z698', 'freq_x699', 'freq_y699', 'freq_z699', 'freq_x700', 'freq_y700', 'freq_z700', 'freq_x701', 'freq_y701', 'freq_z701', 'freq_x702', 'freq_y702', 'freq_z702', 'freq_x703', 'freq_y703', 'freq_z703', 'freq_x704', 'freq_y704', 'freq_z704', 'freq_x705', 'freq_y705', 'freq_z705', 'freq_x706', 'freq_y706', 'freq_z706', 'freq_x707', 'freq_y707', 'freq_z707', 'freq_x708', 'freq_y708', 'freq_z708', 'freq_x709', 'freq_y709', 'freq_z709', 'freq_x710', 'freq_y710', 'freq_z710', 'freq_x711', 'freq_y711', 'freq_z711', 'freq_x712', 'freq_y712', 'freq_z712', 'freq_x713', 'freq_y713', 'freq_z713', 'freq_x714', 'freq_y714', 'freq_z714', 'freq_x715', 'freq_y715', 'freq_z715', 'freq_x716', 'freq_y716', 'freq_z716', 'freq_x717', 'freq_y717', 'freq_z717', 'freq_x718', 'freq_y718', 'freq_z718', 'freq_x719', 'freq_y719', 'freq_z719', 'freq_x720', 'freq_y720', 'freq_z720', 'freq_x721', 'freq_y721', 'freq_z721', 'freq_x722', 'freq_y722', 'freq_z722', 'freq_x723', 'freq_y723', 'freq_z723', 'freq_x724', 'freq_y724', 'freq_z724', 'freq_x725', 'freq_y725', 'freq_z725', 'freq_x726', 'freq_y726', 'freq_z726', 'freq_x727', 'freq_y727', 'freq_z727', 'freq_x728', 'freq_y728', 'freq_z728', 'freq_x729', 'freq_y729', 'freq_z729', 'freq_x730', 'freq_y730', 'freq_z730', 'freq_x731', 'freq_y731', 'freq_z731', 'freq_x732', 'freq_y732', 'freq_z732', 'freq_x733', 'freq_y733', 'freq_z733', 'freq_x734', 'freq_y734', 'freq_z734', 'freq_x735', 'freq_y735', 'freq_z735', 'freq_x736', 'freq_y736', 'freq_z736', 'freq_x737', 'freq_y737', 'freq_z737', 'freq_x738', 'freq_y738', 'freq_z738', 'freq_x739', 'freq_y739', 'freq_z739', 'freq_x740', 'freq_y740', 'freq_z740', 'freq_x741', 'freq_y741', 'freq_z741', 'freq_x742', 'freq_y742', 'freq_z742', 'freq_x743', 'freq_y743', 'freq_z743', 'freq_x744', 'freq_y744', 'freq_z744', 'freq_x745', 'freq_y745', 'freq_z745', 'freq_x746', 'freq_y746', 'freq_z746', 'freq_x747', 'freq_y747', 'freq_z747', 'freq_x748', 'freq_y748', 'freq_z748', 'freq_x749', 'freq_y749', 'freq_z749', 'freq_x750', 'freq_y750', 'freq_z750', 'freq_x751', 'freq_y751', 'freq_z751', 'freq_x752', 'freq_y752', 'freq_z752', 'freq_x753', 'freq_y753', 'freq_z753', 'freq_x754', 'freq_y754', 'freq_z754', 'freq_x755', 'freq_y755', 'freq_z755', 'freq_x756', 'freq_y756', 'freq_z756', 'freq_x757', 'freq_y757', 'freq_z757', 'freq_x758', 'freq_y758', 'freq_z758', 'freq_x759', 'freq_y759', 'freq_z759', 'freq_x760', 'freq_y760', 'freq_z760', 'freq_x761', 'freq_y761', 'freq_z761', 'freq_x762', 'freq_y762', 'freq_z762', 'freq_x763', 'freq_y763', 'freq_z763', 'freq_x764', 'freq_y764', 'freq_z764', 'freq_x765', 'freq_y765', 'freq_z765', 'freq_x766', 'freq_y766', 'freq_z766', 'freq_x767', 'freq_y767', 'freq_z767', 'freq_x768', 'freq_y768', 'freq_z768', 'freq_x769', 'freq_y769', 'freq_z769', 'freq_x770', 'freq_y770', 'freq_z770', 'freq_x771', 'freq_y771', 'freq_z771', 'freq_x772', 'freq_y772', 'freq_z772', 'freq_x773', 'freq_y773', 'freq_z773', 'freq_x774', 'freq_y774', 'freq_z774', 'freq_x775', 'freq_y775', 'freq_z775', 'freq_x776', 'freq_y776', 'freq_z776', 'freq_x777', 'freq_y777', 'freq_z777', 'freq_x778', 'freq_y778', 'freq_z778', 'freq_x779', 'freq_y779', 'freq_z779', 'freq_x780', 'freq_y780', 'freq_z780', 'freq_x781', 'freq_y781', 'freq_z781', 'freq_x782', 'freq_y782', 'freq_z782', 'freq_x783', 'freq_y783', 'freq_z783', 'freq_x784', 'freq_y784', 'freq_z784', 'freq_x785', 'freq_y785', 'freq_z785', 'freq_x786', 'freq_y786', 'freq_z786', 'freq_x787', 'freq_y787', 'freq_z787', 'freq_x788', 'freq_y788', 'freq_z788', 'freq_x789', 'freq_y789', 'freq_z789', 'freq_x790', 'freq_y790', 'freq_z790', 'freq_x791', 'freq_y791', 'freq_z791', 'freq_x792', 'freq_y792', 'freq_z792', 'freq_x793', 'freq_y793', 'freq_z793', 'freq_x794', 'freq_y794', 'freq_z794', 'freq_x795', 'freq_y795', 'freq_z795', 'freq_x796', 'freq_y796', 'freq_z796', 'freq_x797', 'freq_y797', 'freq_z797', 'freq_x798', 'freq_y798', 'freq_z798', 'freq_x799', 'freq_y799', 'freq_z799', 'freq_x800', 'freq_y800', 'freq_z800', 'freq_x801', 'freq_y801', 'freq_z801', 'freq_x802', 'freq_y802', 'freq_z802', 'freq_x803', 'freq_y803', 'freq_z803', 'freq_x804', 'freq_y804', 'freq_z804', 'freq_x805', 'freq_y805', 'freq_z805', 'freq_x806', 'freq_y806', 'freq_z806', 'freq_x807', 'freq_y807', 'freq_z807', 'freq_x808', 'freq_y808', 'freq_z808', 'freq_x809', 'freq_y809', 'freq_z809', 'freq_x810', 'freq_y810', 'freq_z810', 'freq_x811', 'freq_y811', 'freq_z811', 'freq_x812', 'freq_y812', 'freq_z812', 'freq_x813', 'freq_y813', 'freq_z813', 'freq_x814', 'freq_y814', 'freq_z814', 'freq_x815', 'freq_y815', 'freq_z815', 'freq_x816', 'freq_y816', 'freq_z816', 'freq_x817', 'freq_y817', 'freq_z817', 'freq_x818', 'freq_y818', 'freq_z818', 'freq_x819', 'freq_y819', 'freq_z819', 'freq_x820', 'freq_y820', 'freq_z820', 'freq_x821', 'freq_y821', 'freq_z821', 'freq_x822', 'freq_y822', 'freq_z822', 'freq_x823', 'freq_y823', 'freq_z823', 'freq_x824', 'freq_y824', 'freq_z824', 'freq_x825', 'freq_y825', 'freq_z825', 'freq_x826', 'freq_y826', 'freq_z826', 'freq_x827', 'freq_y827', 'freq_z827', 'freq_x828', 'freq_y828', 'freq_z828', 'freq_x829', 'freq_y829', 'freq_z829', 'freq_x830', 'freq_y830', 'freq_z830', 'freq_x831', 'freq_y831', 'freq_z831', 'freq_x832', 'freq_y832', 'freq_z832', 'freq_x833', 'freq_y833', 'freq_z833', 'freq_x834', 'freq_y834', 'freq_z834', 'freq_x835', 'freq_y835', 'freq_z835', 'freq_x836', 'freq_y836', 'freq_z836', 'freq_x837', 'freq_y837', 'freq_z837', 'freq_x838', 'freq_y838', 'freq_z838', 'freq_x839', 'freq_y839', 'freq_z839', 'freq_x840', 'freq_y840', 'freq_z840', 'freq_x841', 'freq_y841', 'freq_z841', 'freq_x842', 'freq_y842', 'freq_z842', 'freq_x843', 'freq_y843', 'freq_z843', 'freq_x844', 'freq_y844', 'freq_z844', 'freq_x845', 'freq_y845', 'freq_z845', 'freq_x846', 'freq_y846', 'freq_z846', 'freq_x847', 'freq_y847', 'freq_z847', 'freq_x848', 'freq_y848', 'freq_z848', 'freq_x849', 'freq_y849', 'freq_z849', 'freq_x850', 'freq_y850', 'freq_z850', 'freq_x851', 'freq_y851', 'freq_z851', 'freq_x852', 'freq_y852', 'freq_z852', 'freq_x853', 'freq_y853', 'freq_z853', 'freq_x854', 'freq_y854', 'freq_z854', 'freq_x855', 'freq_y855', 'freq_z855', 'freq_x856', 'freq_y856', 'freq_z856', 'freq_x857', 'freq_y857', 'freq_z857', 'freq_x858', 'freq_y858', 'freq_z858', 'freq_x859', 'freq_y859', 'freq_z859', 'freq_x860', 'freq_y860', 'freq_z860', 'freq_x861', 'freq_y861', 'freq_z861', 'freq_x862', 'freq_y862', 'freq_z862', 'freq_x863', 'freq_y863', 'freq_z863', 'freq_x864', 'freq_y864', 'freq_z864', 'freq_x865', 'freq_y865', 'freq_z865', 'freq_x866', 'freq_y866', 'freq_z866', 'freq_x867', 'freq_y867', 'freq_z867', 'freq_x868', 'freq_y868', 'freq_z868', 'freq_x869', 'freq_y869', 'freq_z869', 'freq_x870', 'freq_y870', 'freq_z870', 'freq_x871', 'freq_y871', 'freq_z871', 'freq_x872', 'freq_y872', 'freq_z872', 'freq_x873', 'freq_y873', 'freq_z873', 'freq_x874', 'freq_y874', 'freq_z874', 'freq_x875', 'freq_y875', 'freq_z875', 'freq_x876', 'freq_y876', 'freq_z876', 'freq_x877', 'freq_y877', 'freq_z877', 'freq_x878', 'freq_y878', 'freq_z878', 'freq_x879', 'freq_y879', 'freq_z879', 'freq_x880', 'freq_y880', 'freq_z880', 'freq_x881', 'freq_y881', 'freq_z881', 'freq_x882', 'freq_y882', 'freq_z882', 'freq_x883', 'freq_y883', 'freq_z883', 'freq_x884', 'freq_y884', 'freq_z884', 'freq_x885', 'freq_y885', 'freq_z885', 'freq_x886', 'freq_y886', 'freq_z886', 'freq_x887', 'freq_y887', 'freq_z887', 'freq_x888', 'freq_y888', 'freq_z888', 'freq_x889', 'freq_y889', 'freq_z889', 'freq_x890', 'freq_y890', 'freq_z890', 'freq_x891', 'freq_y891', 'freq_z891', 'freq_x892', 'freq_y892', 'freq_z892', 'freq_x893', 'freq_y893', 'freq_z893', 'freq_x894', 'freq_y894', 'freq_z894', 'freq_x895', 'freq_y895', 'freq_z895', 'freq_x896', 'freq_y896', 'freq_z896', 'freq_x897', 'freq_y897', 'freq_z897', 'freq_x898', 'freq_y898', 'freq_z898', 'freq_x899', 'freq_y899', 'freq_z899', 'freq_x900', 'freq_y900', 'freq_z900', 'freq_x901', 'freq_y901', 'freq_z901', 'freq_x902', 'freq_y902', 'freq_z902', 'freq_x903', 'freq_y903', 'freq_z903', 'freq_x904', 'freq_y904', 'freq_z904', 'freq_x905', 'freq_y905', 'freq_z905', 'freq_x906', 'freq_y906', 'freq_z906', 'freq_x907', 'freq_y907', 'freq_z907', 'freq_x908', 'freq_y908', 'freq_z908', 'freq_x909', 'freq_y909', 'freq_z909', 'freq_x910', 'freq_y910', 'freq_z910', 'freq_x911', 'freq_y911', 'freq_z911', 'freq_x912', 'freq_y912', 'freq_z912', 'freq_x913', 'freq_y913', 'freq_z913', 'freq_x914', 'freq_y914', 'freq_z914', 'freq_x915', 'freq_y915', 'freq_z915', 'freq_x916', 'freq_y916', 'freq_z916', 'freq_x917', 'freq_y917', 'freq_z917', 'freq_x918', 'freq_y918', 'freq_z918', 'freq_x919', 'freq_y919', 'freq_z919', 'freq_x920', 'freq_y920', 'freq_z920', 'freq_x921', 'freq_y921', 'freq_z921', 'freq_x922', 'freq_y922', 'freq_z922', 'freq_x923', 'freq_y923', 'freq_z923', 'freq_x924', 'freq_y924', 'freq_z924', 'freq_x925', 'freq_y925', 'freq_z925', 'freq_x926', 'freq_y926', 'freq_z926', 'freq_x927', 'freq_y927', 'freq_z927', 'freq_x928', 'freq_y928', 'freq_z928', 'freq_x929', 'freq_y929', 'freq_z929', 'freq_x930', 'freq_y930', 'freq_z930', 'freq_x931', 'freq_y931', 'freq_z931', 'freq_x932', 'freq_y932', 'freq_z932', 'freq_x933', 'freq_y933', 'freq_z933', 'freq_x934', 'freq_y934', 'freq_z934', 'freq_x935', 'freq_y935', 'freq_z935', 'freq_x936', 'freq_y936', 'freq_z936', 'freq_x937', 'freq_y937', 'freq_z937', 'freq_x938', 'freq_y938', 'freq_z938', 'freq_x939', 'freq_y939', 'freq_z939', 'freq_x940', 'freq_y940', 'freq_z940', 'freq_x941', 'freq_y941', 'freq_z941', 'freq_x942', 'freq_y942', 'freq_z942', 'freq_x943', 'freq_y943', 'freq_z943', 'freq_x944', 'freq_y944', 'freq_z944', 'freq_x945', 'freq_y945', 'freq_z945', 'freq_x946', 'freq_y946', 'freq_z946', 'freq_x947', 'freq_y947', 'freq_z947', 'freq_x948', 'freq_y948', 'freq_z948', 'freq_x949', 'freq_y949', 'freq_z949', 'freq_x950', 'freq_y950', 'freq_z950', 'freq_x951', 'freq_y951', 'freq_z951', 'freq_x952', 'freq_y952', 'freq_z952', 'freq_x953', 'freq_y953', 'freq_z953', 'freq_x954', 'freq_y954', 'freq_z954', 'freq_x955', 'freq_y955', 'freq_z955', 'freq_x956', 'freq_y956', 'freq_z956', 'freq_x957', 'freq_y957', 'freq_z957', 'freq_x958', 'freq_y958', 'freq_z958', 'freq_x959', 'freq_y959', 'freq_z959', 'freq_x960', 'freq_y960', 'freq_z960', 'freq_x961', 'freq_y961', 'freq_z961', 'freq_x962', 'freq_y962', 'freq_z962', 'freq_x963', 'freq_y963', 'freq_z963', 'freq_x964', 'freq_y964', 'freq_z964', 'freq_x965', 'freq_y965', 'freq_z965', 'freq_x966', 'freq_y966', 'freq_z966', 'freq_x967', 'freq_y967', 'freq_z967', 'freq_x968', 'freq_y968', 'freq_z968', 'freq_x969', 'freq_y969', 'freq_z969', 'freq_x970', 'freq_y970', 'freq_z970', 'freq_x971', 'freq_y971', 'freq_z971', 'freq_x972', 'freq_y972', 'freq_z972', 'freq_x973', 'freq_y973', 'freq_z973', 'freq_x974', 'freq_y974', 'freq_z974', 'freq_x975', 'freq_y975', 'freq_z975', 'freq_x976', 'freq_y976', 'freq_z976', 'freq_x977', 'freq_y977', 'freq_z977', 'freq_x978', 'freq_y978', 'freq_z978', 'freq_x979', 'freq_y979', 'freq_z979', 'freq_x980', 'freq_y980', 'freq_z980', 'freq_x981', 'freq_y981', 'freq_z981', 'freq_x982', 'freq_y982', 'freq_z982', 'freq_x983', 'freq_y983', 'freq_z983', 'freq_x984', 'freq_y984', 'freq_z984', 'freq_x985', 'freq_y985', 'freq_z985', 'freq_x986', 'freq_y986', 'freq_z986', 'freq_x987', 'freq_y987', 'freq_z987', 'freq_x988', 'freq_y988', 'freq_z988', 'freq_x989', 'freq_y989', 'freq_z989', 'freq_x990', 'freq_y990', 'freq_z990', 'freq_x991', 'freq_y991', 'freq_z991', 'freq_x992', 'freq_y992', 'freq_z992', 'freq_x993', 'freq_y993', 'freq_z993', 'freq_x994', 'freq_y994', 'freq_z994', 'freq_x995', 'freq_y995', 'freq_z995', 'freq_x996', 'freq_y996', 'freq_z996', 'freq_x997', 'freq_y997', 'freq_z997', 'freq_x998', 'freq_y998', 'freq_z998', 'freq_x999', 'freq_y999', 'freq_z999', 'freq_x1000', 'freq_y1000', 'freq_z1000', 'freq_x1001', 'freq_y1001', 'freq_z1001', 'freq_x1002', 'freq_y1002', 'freq_z1002', 'freq_x1003', 'freq_y1003', 'freq_z1003', 'freq_x1004', 'freq_y1004', 'freq_z1004', 'freq_x1005', 'freq_y1005', 'freq_z1005', 'freq_x1006', 'freq_y1006', 'freq_z1006', 'freq_x1007', 'freq_y1007', 'freq_z1007', 'freq_x1008', 'freq_y1008', 'freq_z1008', 'freq_x1009', 'freq_y1009', 'freq_z1009', 'freq_x1010', 'freq_y1010', 'freq_z1010', 'freq_x1011', 'freq_y1011', 'freq_z1011', 'freq_x1012', 'freq_y1012', 'freq_z1012', 'freq_x1013', 'freq_y1013', 'freq_z1013', 'freq_x1014', 'freq_y1014', 'freq_z1014', 'freq_x1015', 'freq_y1015', 'freq_z1015', 'freq_x1016', 'freq_y1016', 'freq_z1016', 'freq_x1017', 'freq_y1017', 'freq_z1017', 'freq_x1018', 'freq_y1018', 'freq_z1018', 'freq_x1019', 'freq_y1019', 'freq_z1019', 'freq_x1020', 'freq_y1020', 'freq_z1020', 'freq_x1021', 'freq_y1021', 'freq_z1021', 'freq_x1022', 'freq_y1022', 'freq_z1022', 'freq_x1023', 'freq_y1023', 'freq_z1023', 'freq_x1024', 'freq_y1024', 'freq_z1024', 'freq_x1025', 'freq_y1025', 'freq_z1025', 'freq_x1026', 'freq_y1026', 'freq_z1026', 'freq_x1027', 'freq_y1027', 'freq_z1027', 'freq_x1028', 'freq_y1028', 'freq_z1028', 'freq_x1029', 'freq_y1029', 'freq_z1029', 'freq_x1030', 'freq_y1030', 'freq_z1030', 'freq_x1031', 'freq_y1031', 'freq_z1031', 'freq_x1032', 'freq_y1032', 'freq_z1032', 'freq_x1033', 'freq_y1033', 'freq_z1033', 'freq_x1034', 'freq_y1034', 'freq_z1034', 'freq_x1035', 'freq_y1035', 'freq_z1035', 'freq_x1036', 'freq_y1036', 'freq_z1036', 'freq_x1037', 'freq_y1037', 'freq_z1037', 'freq_x1038', 'freq_y1038', 'freq_z1038', 'freq_x1039', 'freq_y1039', 'freq_z1039', 'freq_x1040', 'freq_y1040', 'freq_z1040', 'freq_x1041', 'freq_y1041', 'freq_z1041', 'freq_x1042', 'freq_y1042', 'freq_z1042', 'freq_x1043', 'freq_y1043', 'freq_z1043', 'freq_x1044', 'freq_y1044', 'freq_z1044', 'freq_x1045', 'freq_y1045', 'freq_z1045', 'freq_x1046', 'freq_y1046', 'freq_z1046', 'freq_x1047', 'freq_y1047', 'freq_z1047', 'freq_x1048', 'freq_y1048', 'freq_z1048', 'freq_x1049', 'freq_y1049', 'freq_z1049', 'freq_x1050', 'freq_y1050', 'freq_z1050', 'freq_x1051', 'freq_y1051', 'freq_z1051', 'freq_x1052', 'freq_y1052', 'freq_z1052', 'freq_x1053', 'freq_y1053', 'freq_z1053', 'freq_x1054', 'freq_y1054', 'freq_z1054', 'freq_x1055', 'freq_y1055', 'freq_z1055', 'freq_x1056', 'freq_y1056', 'freq_z1056', 'freq_x1057', 'freq_y1057', 'freq_z1057', 'freq_x1058', 'freq_y1058', 'freq_z1058', 'freq_x1059', 'freq_y1059', 'freq_z1059', 'freq_x1060', 'freq_y1060', 'freq_z1060', 'freq_x1061', 'freq_y1061', 'freq_z1061', 'freq_x1062', 'freq_y1062', 'freq_z1062', 'freq_x1063', 'freq_y1063', 'freq_z1063', 'freq_x1064', 'freq_y1064', 'freq_z1064', 'freq_x1065', 'freq_y1065', 'freq_z1065', 'freq_x1066', 'freq_y1066', 'freq_z1066', 'freq_x1067', 'freq_y1067', 'freq_z1067', 'freq_x1068', 'freq_y1068', 'freq_z1068', 'freq_x1069', 'freq_y1069', 'freq_z1069', 'freq_x1070', 'freq_y1070', 'freq_z1070', 'freq_x1071', 'freq_y1071', 'freq_z1071', 'freq_x1072', 'freq_y1072', 'freq_z1072', 'freq_x1073', 'freq_y1073', 'freq_z1073', 'freq_x1074', 'freq_y1074', 'freq_z1074', 'freq_x1075', 'freq_y1075', 'freq_z1075', 'freq_x1076', 'freq_y1076', 'freq_z1076', 'freq_x1077', 'freq_y1077', 'freq_z1077', 'freq_x1078', 'freq_y1078', 'freq_z1078', 'freq_x1079', 'freq_y1079', 'freq_z1079', 'freq_x1080', 'freq_y1080', 'freq_z1080', 'freq_x1081', 'freq_y1081', 'freq_z1081', 'freq_x1082', 'freq_y1082', 'freq_z1082', 'freq_x1083', 'freq_y1083', 'freq_z1083', 'freq_x1084', 'freq_y1084', 'freq_z1084', 'freq_x1085', 'freq_y1085', 'freq_z1085', 'freq_x1086', 'freq_y1086', 'freq_z1086', 'freq_x1087', 'freq_y1087', 'freq_z1087', 'freq_x1088', 'freq_y1088', 'freq_z1088', 'freq_x1089', 'freq_y1089', 'freq_z1089', 'freq_x1090', 'freq_y1090', 'freq_z1090', 'freq_x1091', 'freq_y1091', 'freq_z1091', 'freq_x1092', 'freq_y1092', 'freq_z1092', 'freq_x1093', 'freq_y1093', 'freq_z1093', 'freq_x1094', 'freq_y1094', 'freq_z1094', 'freq_x1095', 'freq_y1095', 'freq_z1095', 'freq_x1096', 'freq_y1096', 'freq_z1096', 'freq_x1097', 'freq_y1097', 'freq_z1097', 'freq_x1098', 'freq_y1098', 'freq_z1098', 'freq_x1099', 'freq_y1099', 'freq_z1099', 'freq_x1100', 'freq_y1100', 'freq_z1100', 'freq_x1101', 'freq_y1101', 'freq_z1101', 'freq_x1102', 'freq_y1102', 'freq_z1102', 'freq_x1103', 'freq_y1103', 'freq_z1103', 'freq_x1104', 'freq_y1104', 'freq_z1104', 'freq_x1105', 'freq_y1105', 'freq_z1105', 'freq_x1106', 'freq_y1106', 'freq_z1106', 'freq_x1107', 'freq_y1107', 'freq_z1107', 'freq_x1108', 'freq_y1108', 'freq_z1108', 'freq_x1109', 'freq_y1109', 'freq_z1109', 'freq_x1110', 'freq_y1110', 'freq_z1110', 'freq_x1111', 'freq_y1111', 'freq_z1111', 'freq_x1112', 'freq_y1112', 'freq_z1112', 'freq_x1113', 'freq_y1113', 'freq_z1113', 'freq_x1114', 'freq_y1114', 'freq_z1114', 'freq_x1115', 'freq_y1115', 'freq_z1115', 'freq_x1116', 'freq_y1116', 'freq_z1116', 'freq_x1117', 'freq_y1117', 'freq_z1117', 'freq_x1118', 'freq_y1118', 'freq_z1118', 'freq_x1119', 'freq_y1119', 'freq_z1119', 'freq_x1120', 'freq_y1120', 'freq_z1120', 'freq_x1121', 'freq_y1121', 'freq_z1121', 'freq_x1122', 'freq_y1122', 'freq_z1122', 'freq_x1123', 'freq_y1123', 'freq_z1123', 'freq_x1124', 'freq_y1124', 'freq_z1124', 'freq_x1125', 'freq_y1125', 'freq_z1125', 'freq_x1126', 'freq_y1126', 'freq_z1126', 'freq_x1127', 'freq_y1127', 'freq_z1127', 'freq_x1128', 'freq_y1128', 'freq_z1128', 'freq_x1129', 'freq_y1129', 'freq_z1129', 'freq_x1130', 'freq_y1130', 'freq_z1130', 'freq_x1131', 'freq_y1131', 'freq_z1131', 'freq_x1132', 'freq_y1132', 'freq_z1132', 'freq_x1133', 'freq_y1133', 'freq_z1133', 'freq_x1134', 'freq_y1134', 'freq_z1134', 'freq_x1135', 'freq_y1135', 'freq_z1135', 'freq_x1136', 'freq_y1136', 'freq_z1136', 'freq_x1137', 'freq_y1137', 'freq_z1137', 'freq_x1138', 'freq_y1138', 'freq_z1138', 'freq_x1139', 'freq_y1139', 'freq_z1139', 'freq_x1140', 'freq_y1140', 'freq_z1140', 'freq_x1141', 'freq_y1141', 'freq_z1141', 'freq_x1142', 'freq_y1142', 'freq_z1142', 'freq_x1143', 'freq_y1143', 'freq_z1143', 'freq_x1144', 'freq_y1144', 'freq_z1144', 'freq_x1145', 'freq_y1145', 'freq_z1145', 'freq_x1146', 'freq_y1146', 'freq_z1146', 'freq_x1147', 'freq_y1147', 'freq_z1147', 'freq_x1148', 'freq_y1148', 'freq_z1148', 'freq_x1149', 'freq_y1149', 'freq_z1149', 'freq_x1150', 'freq_y1150', 'freq_z1150', 'freq_x1151', 'freq_y1151', 'freq_z1151', 'freq_x1152', 'freq_y1152', 'freq_z1152', 'freq_x1153', 'freq_y1153', 'freq_z1153', 'freq_x1154', 'freq_y1154', 'freq_z1154', 'freq_x1155', 'freq_y1155', 'freq_z1155', 'freq_x1156', 'freq_y1156', 'freq_z1156', 'freq_x1157', 'freq_y1157', 'freq_z1157', 'freq_x1158', 'freq_y1158', 'freq_z1158', 'freq_x1159', 'freq_y1159', 'freq_z1159', 'freq_x1160', 'freq_y1160', 'freq_z1160', 'freq_x1161', 'freq_y1161', 'freq_z1161', 'freq_x1162', 'freq_y1162', 'freq_z1162', 'freq_x1163', 'freq_y1163', 'freq_z1163', 'freq_x1164', 'freq_y1164', 'freq_z1164', 'freq_x1165', 'freq_y1165', 'freq_z1165', 'freq_x1166', 'freq_y1166', 'freq_z1166', 'freq_x1167', 'freq_y1167', 'freq_z1167', 'freq_x1168', 'freq_y1168', 'freq_z1168', 'freq_x1169', 'freq_y1169', 'freq_z1169', 'freq_x1170', 'freq_y1170', 'freq_z1170', 'freq_x1171', 'freq_y1171', 'freq_z1171', 'freq_x1172', 'freq_y1172', 'freq_z1172', 'freq_x1173', 'freq_y1173', 'freq_z1173', 'freq_x1174', 'freq_y1174', 'freq_z1174', 'freq_x1175', 'freq_y1175', 'freq_z1175', 'freq_x1176', 'freq_y1176', 'freq_z1176', 'freq_x1177', 'freq_y1177', 'freq_z1177', 'freq_x1178', 'freq_y1178', 'freq_z1178', 'freq_x1179', 'freq_y1179', 'freq_z1179', 'freq_x1180', 'freq_y1180', 'freq_z1180', 'freq_x1181', 'freq_y1181', 'freq_z1181', 'freq_x1182', 'freq_y1182', 'freq_z1182', 'freq_x1183', 'freq_y1183', 'freq_z1183', 'freq_x1184', 'freq_y1184', 'freq_z1184', 'freq_x1185', 'freq_y1185', 'freq_z1185', 'freq_x1186', 'freq_y1186', 'freq_z1186', 'freq_x1187', 'freq_y1187', 'freq_z1187', 'freq_x1188', 'freq_y1188', 'freq_z1188', 'freq_x1189', 'freq_y1189', 'freq_z1189', 'freq_x1190', 'freq_y1190', 'freq_z1190', 'freq_x1191', 'freq_y1191', 'freq_z1191', 'freq_x1192', 'freq_y1192', 'freq_z1192', 'freq_x1193', 'freq_y1193', 'freq_z1193', 'freq_x1194', 'freq_y1194', 'freq_z1194', 'freq_x1195', 'freq_y1195', 'freq_z1195', 'freq_x1196', 'freq_y1196', 'freq_z1196', 'freq_x1197', 'freq_y1197', 'freq_z1197', 'freq_x1198', 'freq_y1198', 'freq_z1198', 'freq_x1199', 'freq_y1199', 'freq_z1199', 'freq_x1200', 'freq_y1200', 'freq_z1200', 'freq_x1201', 'freq_y1201', 'freq_z1201', 'freq_x1202', 'freq_y1202', 'freq_z1202', 'freq_x1203', 'freq_y1203', 'freq_z1203', 'freq_x1204', 'freq_y1204', 'freq_z1204', 'freq_x1205', 'freq_y1205', 'freq_z1205', 'freq_x1206', 'freq_y1206', 'freq_z1206', 'freq_x1207', 'freq_y1207', 'freq_z1207', 'freq_x1208', 'freq_y1208', 'freq_z1208', 'freq_x1209', 'freq_y1209', 'freq_z1209', 'freq_x1210', 'freq_y1210', 'freq_z1210', 'freq_x1211', 'freq_y1211', 'freq_z1211', 'freq_x1212', 'freq_y1212', 'freq_z1212', 'freq_x1213', 'freq_y1213', 'freq_z1213', 'freq_x1214', 'freq_y1214', 'freq_z1214', 'freq_x1215', 'freq_y1215', 'freq_z1215', 'freq_x1216', 'freq_y1216', 'freq_z1216', 'freq_x1217', 'freq_y1217', 'freq_z1217', 'freq_x1218', 'freq_y1218', 'freq_z1218', 'freq_x1219', 'freq_y1219', 'freq_z1219', 'freq_x1220', 'freq_y1220', 'freq_z1220', 'freq_x1221', 'freq_y1221', 'freq_z1221', 'freq_x1222', 'freq_y1222', 'freq_z1222', 'freq_x1223', 'freq_y1223', 'freq_z1223', 'freq_x1224', 'freq_y1224', 'freq_z1224', 'freq_x1225', 'freq_y1225', 'freq_z1225', 'freq_x1226', 'freq_y1226', 'freq_z1226', 'freq_x1227', 'freq_y1227', 'freq_z1227', 'freq_x1228', 'freq_y1228', 'freq_z1228', 'freq_x1229', 'freq_y1229', 'freq_z1229', 'freq_x1230', 'freq_y1230', 'freq_z1230', 'freq_x1231', 'freq_y1231', 'freq_z1231', 'freq_x1232', 'freq_y1232', 'freq_z1232', 'freq_x1233', 'freq_y1233', 'freq_z1233', 'freq_x1234', 'freq_y1234', 'freq_z1234', 'freq_x1235', 'freq_y1235', 'freq_z1235', 'freq_x1236', 'freq_y1236', 'freq_z1236', 'freq_x1237', 'freq_y1237', 'freq_z1237', 'freq_x1238', 'freq_y1238', 'freq_z1238', 'freq_x1239', 'freq_y1239', 'freq_z1239', 'freq_x1240', 'freq_y1240', 'freq_z1240', 'freq_x1241', 'freq_y1241', 'freq_z1241', 'freq_x1242', 'freq_y1242', 'freq_z1242', 'freq_x1243', 'freq_y1243', 'freq_z1243', 'freq_x1244', 'freq_y1244', 'freq_z1244', 'freq_x1245', 'freq_y1245', 'freq_z1245', 'freq_x1246', 'freq_y1246', 'freq_z1246', 'freq_x1247', 'freq_y1247', 'freq_z1247', 'freq_x1248', 'freq_y1248', 'freq_z1248', 'freq_x1249', 'freq_y1249', 'freq_z1249', 'freq_x1250', 'freq_y1250', 'freq_z1250', 'freq_x1251', 'freq_y1251', 'freq_z1251', 'freq_x1252', 'freq_y1252', 'freq_z1252', 'freq_x1253', 'freq_y1253', 'freq_z1253', 'freq_x1254', 'freq_y1254', 'freq_z1254', 'freq_x1255', 'freq_y1255', 'freq_z1255', 'freq_x1256', 'freq_y1256', 'freq_z1256', 'freq_x1257', 'freq_y1257', 'freq_z1257', 'freq_x1258', 'freq_y1258', 'freq_z1258', 'freq_x1259', 'freq_y1259', 'freq_z1259', 'freq_x1260', 'freq_y1260', 'freq_z1260', 'freq_x1261', 'freq_y1261', 'freq_z1261', 'freq_x1262', 'freq_y1262', 'freq_z1262', 'freq_x1263', 'freq_y1263', 'freq_z1263', 'freq_x1264', 'freq_y1264', 'freq_z1264', 'freq_x1265', 'freq_y1265', 'freq_z1265', 'freq_x1266', 'freq_y1266', 'freq_z1266', 'freq_x1267', 'freq_y1267', 'freq_z1267', 'freq_x1268', 'freq_y1268', 'freq_z1268', 'freq_x1269', 'freq_y1269', 'freq_z1269', 'freq_x1270', 'freq_y1270', 'freq_z1270', 'freq_x1271', 'freq_y1271', 'freq_z1271', 'freq_x1272', 'freq_y1272', 'freq_z1272', 'freq_x1273', 'freq_y1273', 'freq_z1273', 'freq_x1274', 'freq_y1274', 'freq_z1274', 'freq_x1275', 'freq_y1275', 'freq_z1275', 'freq_x1276', 'freq_y1276', 'freq_z1276', 'freq_x1277', 'freq_y1277', 'freq_z1277', 'freq_x1278', 'freq_y1278', 'freq_z1278', 'freq_x1279', 'freq_y1279', 'freq_z1279', 'freq_x1280', 'freq_y1280', 'freq_z1280', 'freq_x1281', 'freq_y1281', 'freq_z1281', 'freq_x1282', 'freq_y1282', 'freq_z1282', 'freq_x1283', 'freq_y1283', 'freq_z1283', 'freq_x1284', 'freq_y1284', 'freq_z1284', 'freq_x1285', 'freq_y1285', 'freq_z1285', 'freq_x1286', 'freq_y1286', 'freq_z1286', 'freq_x1287', 'freq_y1287', 'freq_z1287', 'freq_x1288', 'freq_y1288', 'freq_z1288', 'freq_x1289', 'freq_y1289', 'freq_z1289', 'freq_x1290', 'freq_y1290', 'freq_z1290', 'freq_x1291', 'freq_y1291', 'freq_z1291', 'freq_x1292', 'freq_y1292', 'freq_z1292', 'freq_x1293', 'freq_y1293', 'freq_z1293', 'freq_x1294', 'freq_y1294', 'freq_z1294', 'freq_x1295', 'freq_y1295', 'freq_z1295', 'freq_x1296', 'freq_y1296', 'freq_z1296', 'freq_x1297', 'freq_y1297', 'freq_z1297', 'freq_x1298', 'freq_y1298', 'freq_z1298', 'freq_x1299', 'freq_y1299', 'freq_z1299', 'freq_x1300', 'freq_y1300', 'freq_z1300', 'freq_x1301', 'freq_y1301', 'freq_z1301', 'freq_x1302', 'freq_y1302', 'freq_z1302', 'freq_x1303', 'freq_y1303', 'freq_z1303', 'freq_x1304', 'freq_y1304', 'freq_z1304', 'freq_x1305', 'freq_y1305', 'freq_z1305', 'freq_x1306', 'freq_y1306', 'freq_z1306', 'freq_x1307', 'freq_y1307', 'freq_z1307', 'freq_x1308', 'freq_y1308', 'freq_z1308', 'freq_x1309', 'freq_y1309', 'freq_z1309', 'freq_x1310', 'freq_y1310', 'freq_z1310', 'freq_x1311', 'freq_y1311', 'freq_z1311', 'freq_x1312', 'freq_y1312', 'freq_z1312', 'freq_x1313', 'freq_y1313', 'freq_z1313', 'freq_x1314', 'freq_y1314', 'freq_z1314', 'freq_x1315', 'freq_y1315', 'freq_z1315', 'freq_x1316', 'freq_y1316', 'freq_z1316', 'freq_x1317', 'freq_y1317', 'freq_z1317', 'freq_x1318', 'freq_y1318', 'freq_z1318', 'freq_x1319', 'freq_y1319', 'freq_z1319', 'freq_x1320', 'freq_y1320', 'freq_z1320', 'freq_x1321', 'freq_y1321', 'freq_z1321', 'freq_x1322', 'freq_y1322', 'freq_z1322', 'freq_x1323', 'freq_y1323', 'freq_z1323', 'freq_x1324', 'freq_y1324', 'freq_z1324', 'freq_x1325', 'freq_y1325', 'freq_z1325', 'freq_x1326', 'freq_y1326', 'freq_z1326', 'freq_x1327', 'freq_y1327', 'freq_z1327', 'freq_x1328', 'freq_y1328', 'freq_z1328', 'freq_x1329', 'freq_y1329', 'freq_z1329', 'freq_x1330', 'freq_y1330', 'freq_z1330', 'freq_x1331', 'freq_y1331', 'freq_z1331', 'freq_x1332', 'freq_y1332', 'freq_z1332', 'freq_x1333', 'freq_y1333', 'freq_z1333', 'freq_x1334', 'freq_y1334', 'freq_z1334', 'freq_x1335', 'freq_y1335', 'freq_z1335', 'freq_x1336', 'freq_y1336', 'freq_z1336', 'freq_x1337', 'freq_y1337', 'freq_z1337', 'freq_x1338', 'freq_y1338', 'freq_z1338', 'freq_x1339', 'freq_y1339', 'freq_z1339', 'freq_x1340', 'freq_y1340', 'freq_z1340', 'freq_x1341', 'freq_y1341', 'freq_z1341', 'freq_x1342', 'freq_y1342', 'freq_z1342', 'freq_x1343', 'freq_y1343', 'freq_z1343', 'freq_x1344', 'freq_y1344', 'freq_z1344', 'freq_x1345', 'freq_y1345', 'freq_z1345', 'freq_x1346', 'freq_y1346', 'freq_z1346', 'freq_x1347', 'freq_y1347', 'freq_z1347', 'freq_x1348', 'freq_y1348', 'freq_z1348', 'freq_x1349', 'freq_y1349', 'freq_z1349', 'freq_x1350', 'freq_y1350', 'freq_z1350', 'freq_x1351', 'freq_y1351', 'freq_z1351', 'freq_x1352', 'freq_y1352', 'freq_z1352', 'freq_x1353', 'freq_y1353', 'freq_z1353', 'freq_x1354', 'freq_y1354', 'freq_z1354', 'freq_x1355', 'freq_y1355', 'freq_z1355', 'freq_x1356', 'freq_y1356', 'freq_z1356', 'freq_x1357', 'freq_y1357', 'freq_z1357', 'freq_x1358', 'freq_y1358', 'freq_z1358', 'freq_x1359', 'freq_y1359', 'freq_z1359', 'freq_x1360', 'freq_y1360', 'freq_z1360', 'freq_x1361', 'freq_y1361', 'freq_z1361', 'freq_x1362', 'freq_y1362', 'freq_z1362', 'freq_x1363', 'freq_y1363', 'freq_z1363', 'freq_x1364', 'freq_y1364', 'freq_z1364', 'freq_x1365', 'freq_y1365', 'freq_z1365', 'freq_x1366', 'freq_y1366', 'freq_z1366', 'freq_x1367', 'freq_y1367', 'freq_z1367', 'freq_x1368', 'freq_y1368', 'freq_z1368', 'freq_x1369', 'freq_y1369', 'freq_z1369', 'freq_x1370', 'freq_y1370', 'freq_z1370', 'freq_x1371', 'freq_y1371', 'freq_z1371', 'freq_x1372', 'freq_y1372', 'freq_z1372', 'freq_x1373', 'freq_y1373', 'freq_z1373', 'freq_x1374', 'freq_y1374', 'freq_z1374', 'freq_x1375', 'freq_y1375', 'freq_z1375', 'freq_x1376', 'freq_y1376', 'freq_z1376', 'freq_x1377', 'freq_y1377', 'freq_z1377', 'freq_x1378', 'freq_y1378', 'freq_z1378', 'freq_x1379', 'freq_y1379', 'freq_z1379', 'freq_x1380', 'freq_y1380', 'freq_z1380', 'freq_x1381', 'freq_y1381', 'freq_z1381', 'freq_x1382', 'freq_y1382', 'freq_z1382', 'freq_x1383', 'freq_y1383', 'freq_z1383', 'freq_x1384', 'freq_y1384', 'freq_z1384', 'freq_x1385', 'freq_y1385', 'freq_z1385', 'freq_x1386', 'freq_y1386', 'freq_z1386', 'freq_x1387', 'freq_y1387', 'freq_z1387', 'freq_x1388', 'freq_y1388', 'freq_z1388', 'freq_x1389', 'freq_y1389', 'freq_z1389', 'freq_x1390', 'freq_y1390', 'freq_z1390', 'freq_x1391', 'freq_y1391', 'freq_z1391', 'freq_x1392', 'freq_y1392', 'freq_z1392', 'freq_x1393', 'freq_y1393', 'freq_z1393', 'freq_x1394', 'freq_y1394', 'freq_z1394', 'freq_x1395', 'freq_y1395', 'freq_z1395', 'freq_x1396', 'freq_y1396', 'freq_z1396', 'freq_x1397', 'freq_y1397', 'freq_z1397', 'freq_x1398', 'freq_y1398', 'freq_z1398', 'freq_x1399', 'freq_y1399', 'freq_z1399', 'freq_x1400', 'freq_y1400', 'freq_z1400', 'freq_x1401', 'freq_y1401', 'freq_z1401', 'freq_x1402', 'freq_y1402', 'freq_z1402', 'freq_x1403', 'freq_y1403', 'freq_z1403', 'freq_x1404', 'freq_y1404', 'freq_z1404', 'freq_x1405', 'freq_y1405', 'freq_z1405', 'freq_x1406', 'freq_y1406', 'freq_z1406', 'freq_x1407', 'freq_y1407', 'freq_z1407', 'freq_x1408', 'freq_y1408', 'freq_z1408', 'freq_x1409', 'freq_y1409', 'freq_z1409', 'freq_x1410', 'freq_y1410', 'freq_z1410', 'freq_x1411', 'freq_y1411', 'freq_z1411', 'freq_x1412', 'freq_y1412', 'freq_z1412', 'freq_x1413', 'freq_y1413', 'freq_z1413', 'freq_x1414', 'freq_y1414', 'freq_z1414', 'freq_x1415', 'freq_y1415', 'freq_z1415', 'freq_x1416', 'freq_y1416', 'freq_z1416', 'freq_x1417', 'freq_y1417', 'freq_z1417', 'freq_x1418', 'freq_y1418', 'freq_z1418', 'freq_x1419', 'freq_y1419', 'freq_z1419', 'freq_x1420', 'freq_y1420', 'freq_z1420', 'freq_x1421', 'freq_y1421', 'freq_z1421', 'freq_x1422', 'freq_y1422', 'freq_z1422', 'freq_x1423', 'freq_y1423', 'freq_z1423', 'freq_x1424', 'freq_y1424', 'freq_z1424', 'freq_x1425', 'freq_y1425', 'freq_z1425', 'freq_x1426', 'freq_y1426', 'freq_z1426', 'freq_x1427', 'freq_y1427', 'freq_z1427', 'freq_x1428', 'freq_y1428', 'freq_z1428', 'freq_x1429', 'freq_y1429', 'freq_z1429', 'freq_x1430', 'freq_y1430', 'freq_z1430', 'freq_x1431', 'freq_y1431', 'freq_z1431', 'freq_x1432', 'freq_y1432', 'freq_z1432', 'freq_x1433', 'freq_y1433', 'freq_z1433', 'freq_x1434', 'freq_y1434', 'freq_z1434', 'freq_x1435', 'freq_y1435', 'freq_z1435', 'freq_x1436', 'freq_y1436', 'freq_z1436', 'freq_x1437', 'freq_y1437', 'freq_z1437', 'freq_x1438', 'freq_y1438', 'freq_z1438', 'freq_x1439', 'freq_y1439', 'freq_z1439', 'freq_x1440', 'freq_y1440', 'freq_z1440', 'freq_x1441', 'freq_y1441', 'freq_z1441', 'freq_x1442', 'freq_y1442', 'freq_z1442', 'freq_x1443', 'freq_y1443', 'freq_z1443', 'freq_x1444', 'freq_y1444', 'freq_z1444', 'freq_x1445', 'freq_y1445', 'freq_z1445', 'freq_x1446', 'freq_y1446', 'freq_z1446', 'freq_x1447', 'freq_y1447', 'freq_z1447', 'freq_x1448', 'freq_y1448', 'freq_z1448', 'freq_x1449', 'freq_y1449', 'freq_z1449', 'freq_x1450', 'freq_y1450', 'freq_z1450', 'freq_x1451', 'freq_y1451', 'freq_z1451', 'freq_x1452', 'freq_y1452', 'freq_z1452', 'freq_x1453', 'freq_y1453', 'freq_z1453', 'freq_x1454', 'freq_y1454', 'freq_z1454', 'freq_x1455', 'freq_y1455', 'freq_z1455', 'freq_x1456', 'freq_y1456', 'freq_z1456', 'freq_x1457', 'freq_y1457', 'freq_z1457', 'freq_x1458', 'freq_y1458', 'freq_z1458', 'freq_x1459', 'freq_y1459', 'freq_z1459', 'freq_x1460', 'freq_y1460', 'freq_z1460', 'freq_x1461', 'freq_y1461', 'freq_z1461', 'freq_x1462', 'freq_y1462', 'freq_z1462', 'freq_x1463', 'freq_y1463', 'freq_z1463', 'freq_x1464', 'freq_y1464', 'freq_z1464', 'freq_x1465', 'freq_y1465', 'freq_z1465', 'freq_x1466', 'freq_y1466', 'freq_z1466', 'freq_x1467', 'freq_y1467', 'freq_z1467', 'freq_x1468', 'freq_y1468', 'freq_z1468', 'freq_x1469', 'freq_y1469', 'freq_z1469', 'freq_x1470', 'freq_y1470', 'freq_z1470', 'freq_x1471', 'freq_y1471', 'freq_z1471', 'freq_x1472', 'freq_y1472', 'freq_z1472', 'freq_x1473', 'freq_y1473', 'freq_z1473', 'freq_x1474', 'freq_y1474', 'freq_z1474', 'freq_x1475', 'freq_y1475', 'freq_z1475', 'freq_x1476', 'freq_y1476', 'freq_z1476', 'freq_x1477', 'freq_y1477', 'freq_z1477', 'freq_x1478', 'freq_y1478', 'freq_z1478', 'freq_x1479', 'freq_y1479', 'freq_z1479', 'freq_x1480', 'freq_y1480', 'freq_z1480', 'freq_x1481', 'freq_y1481', 'freq_z1481', 'freq_x1482', 'freq_y1482', 'freq_z1482', 'freq_x1483', 'freq_y1483', 'freq_z1483', 'freq_x1484', 'freq_y1484', 'freq_z1484', 'freq_x1485', 'freq_y1485', 'freq_z1485', 'freq_x1486', 'freq_y1486', 'freq_z1486', 'freq_x1487', 'freq_y1487', 'freq_z1487', 'freq_x1488', 'freq_y1488', 'freq_z1488', 'freq_x1489', 'freq_y1489', 'freq_z1489', 'freq_x1490', 'freq_y1490', 'freq_z1490', 'freq_x1491', 'freq_y1491', 'freq_z1491', 'freq_x1492', 'freq_y1492', 'freq_z1492', 'freq_x1493', 'freq_y1493', 'freq_z1493', 'freq_x1494', 'freq_y1494', 'freq_z1494', 'freq_x1495', 'freq_y1495', 'freq_z1495', 'freq_x1496', 'freq_y1496', 'freq_z1496', 'freq_x1497', 'freq_y1497', 'freq_z1497', 'freq_x1498', 'freq_y1498', 'freq_z1498', 'freq_x1499', 'freq_y1499', 'freq_z1499', 'freq_x1500', 'freq_y1500', 'freq_z1500', 'freq_x1501', 'freq_y1501', 'freq_z1501', 'freq_x1502', 'freq_y1502', 'freq_z1502', 'freq_x1503', 'freq_y1503', 'freq_z1503', 'freq_x1504', 'freq_y1504', 'freq_z1504', 'freq_x1505', 'freq_y1505', 'freq_z1505', 'freq_x1506', 'freq_y1506', 'freq_z1506', 'freq_x1507', 'freq_y1507', 'freq_z1507', 'freq_x1508', 'freq_y1508', 'freq_z1508', 'freq_x1509', 'freq_y1509', 'freq_z1509', 'freq_x1510', 'freq_y1510', 'freq_z1510', 'freq_x1511', 'freq_y1511', 'freq_z1511', 'freq_x1512', 'freq_y1512', 'freq_z1512', 'freq_x1513', 'freq_y1513', 'freq_z1513', 'freq_x1514', 'freq_y1514', 'freq_z1514', 'freq_x1515', 'freq_y1515', 'freq_z1515', 'freq_x1516', 'freq_y1516', 'freq_z1516', 'freq_x1517', 'freq_y1517', 'freq_z1517', 'freq_x1518', 'freq_y1518', 'freq_z1518', 'freq_x1519', 'freq_y1519', 'freq_z1519', 'freq_x1520', 'freq_y1520', 'freq_z1520', 'freq_x1521', 'freq_y1521', 'freq_z1521', 'freq_x1522', 'freq_y1522', 'freq_z1522', 'freq_x1523', 'freq_y1523', 'freq_z1523', 'freq_x1524', 'freq_y1524', 'freq_z1524', 'freq_x1525', 'freq_y1525', 'freq_z1525', 'freq_x1526', 'freq_y1526', 'freq_z1526', 'freq_x1527', 'freq_y1527', 'freq_z1527', 'freq_x1528', 'freq_y1528', 'freq_z1528', 'freq_x1529', 'freq_y1529', 'freq_z1529', 'freq_x1530', 'freq_y1530', 'freq_z1530', 'freq_x1531', 'freq_y1531', 'freq_z1531', 'freq_x1532', 'freq_y1532', 'freq_z1532', 'freq_x1533', 'freq_y1533', 'freq_z1533', 'freq_x1534', 'freq_y1534', 'freq_z1534', 'freq_x1535', 'freq_y1535', 'freq_z1535', 'freq_x1536', 'freq_y1536', 'freq_z1536', 'freq_x1537', 'freq_y1537', 'freq_z1537', 'freq_x1538', 'freq_y1538', 'freq_z1538', 'freq_x1539', 'freq_y1539', 'freq_z1539', 'freq_x1540', 'freq_y1540', 'freq_z1540', 'freq_x1541', 'freq_y1541', 'freq_z1541', 'freq_x1542', 'freq_y1542', 'freq_z1542', 'freq_x1543', 'freq_y1543', 'freq_z1543', 'freq_x1544', 'freq_y1544', 'freq_z1544', 'freq_x1545', 'freq_y1545', 'freq_z1545', 'freq_x1546', 'freq_y1546', 'freq_z1546', 'freq_x1547', 'freq_y1547', 'freq_z1547', 'freq_x1548', 'freq_y1548', 'freq_z1548', 'freq_x1549', 'freq_y1549', 'freq_z1549', 'freq_x1550', 'freq_y1550', 'freq_z1550', 'freq_x1551', 'freq_y1551', 'freq_z1551', 'freq_x1552', 'freq_y1552', 'freq_z1552', 'freq_x1553', 'freq_y1553', 'freq_z1553', 'freq_x1554', 'freq_y1554', 'freq_z1554', 'freq_x1555', 'freq_y1555', 'freq_z1555', 'freq_x1556', 'freq_y1556', 'freq_z1556', 'freq_x1557', 'freq_y1557', 'freq_z1557', 'freq_x1558', 'freq_y1558', 'freq_z1558', 'freq_x1559', 'freq_y1559', 'freq_z1559', 'freq_x1560', 'freq_y1560', 'freq_z1560', 'freq_x1561', 'freq_y1561', 'freq_z1561', 'freq_x1562', 'freq_y1562', 'freq_z1562', 'freq_x1563', 'freq_y1563', 'freq_z1563', 'freq_x1564', 'freq_y1564', 'freq_z1564', 'freq_x1565', 'freq_y1565', 'freq_z1565', 'freq_x1566', 'freq_y1566', 'freq_z1566', 'freq_x1567', 'freq_y1567', 'freq_z1567', 'freq_x1568', 'freq_y1568', 'freq_z1568', 'freq_x1569', 'freq_y1569', 'freq_z1569', 'freq_x1570', 'freq_y1570', 'freq_z1570', 'freq_x1571', 'freq_y1571', 'freq_z1571', 'freq_x1572', 'freq_y1572', 'freq_z1572', 'freq_x1573', 'freq_y1573', 'freq_z1573', 'freq_x1574', 'freq_y1574', 'freq_z1574', 'freq_x1575', 'freq_y1575', 'freq_z1575', 'freq_x1576', 'freq_y1576', 'freq_z1576', 'freq_x1577', 'freq_y1577', 'freq_z1577', 'freq_x1578', 'freq_y1578', 'freq_z1578', 'freq_x1579', 'freq_y1579', 'freq_z1579', 'freq_x1580', 'freq_y1580', 'freq_z1580', 'freq_x1581', 'freq_y1581', 'freq_z1581', 'freq_x1582', 'freq_y1582', 'freq_z1582', 'freq_x1583', 'freq_y1583', 'freq_z1583', 'freq_x1584', 'freq_y1584', 'freq_z1584', 'freq_x1585', 'freq_y1585', 'freq_z1585', 'freq_x1586', 'freq_y1586', 'freq_z1586', 'freq_x1587', 'freq_y1587', 'freq_z1587', 'freq_x1588', 'freq_y1588', 'freq_z1588', 'freq_x1589', 'freq_y1589', 'freq_z1589', 'freq_x1590', 'freq_y1590', 'freq_z1590', 'freq_x1591', 'freq_y1591', 'freq_z1591', 'freq_x1592', 'freq_y1592', 'freq_z1592', 'freq_x1593', 'freq_y1593', 'freq_z1593', 'freq_x1594', 'freq_y1594', 'freq_z1594', 'freq_x1595', 'freq_y1595', 'freq_z1595', 'freq_x1596', 'freq_y1596', 'freq_z1596', 'freq_x1597', 'freq_y1597', 'freq_z1597', 'freq_x1598', 'freq_y1598', 'freq_z1598', 'freq_x1599', 'freq_y1599', 'freq_z1599', 'freq_x1600', 'freq_y1600', 'freq_z1600', 'freq_x1601', 'freq_y1601', 'freq_z1601', 'freq_x1602', 'freq_y1602', 'freq_z1602', 'freq_x1603', 'freq_y1603', 'freq_z1603', 'freq_x1604', 'freq_y1604', 'freq_z1604', 'freq_x1605', 'freq_y1605', 'freq_z1605', 'freq_x1606', 'freq_y1606', 'freq_z1606', 'freq_x1607', 'freq_y1607', 'freq_z1607', 'freq_x1608', 'freq_y1608', 'freq_z1608', 'freq_x1609', 'freq_y1609', 'freq_z1609', 'freq_x1610', 'freq_y1610', 'freq_z1610', 'freq_x1611', 'freq_y1611', 'freq_z1611', 'freq_x1612', 'freq_y1612', 'freq_z1612', 'freq_x1613', 'freq_y1613', 'freq_z1613', 'freq_x1614', 'freq_y1614', 'freq_z1614', 'freq_x1615', 'freq_y1615', 'freq_z1615', 'freq_x1616', 'freq_y1616', 'freq_z1616', 'freq_x1617', 'freq_y1617', 'freq_z1617', 'freq_x1618', 'freq_y1618', 'freq_z1618', 'freq_x1619', 'freq_y1619', 'freq_z1619', 'freq_x1620', 'freq_y1620', 'freq_z1620', 'freq_x1621', 'freq_y1621', 'freq_z1621', 'freq_x1622', 'freq_y1622', 'freq_z1622', 'freq_x1623', 'freq_y1623', 'freq_z1623', 'freq_x1624', 'freq_y1624', 'freq_z1624', 'freq_x1625', 'freq_y1625', 'freq_z1625', 'freq_x1626', 'freq_y1626', 'freq_z1626', 'freq_x1627', 'freq_y1627', 'freq_z1627', 'freq_x1628', 'freq_y1628', 'freq_z1628', 'freq_x1629', 'freq_y1629', 'freq_z1629', 'freq_x1630', 'freq_y1630', 'freq_z1630', 'freq_x1631', 'freq_y1631', 'freq_z1631', 'freq_x1632', 'freq_y1632', 'freq_z1632', 'freq_x1633', 'freq_y1633', 'freq_z1633', 'freq_x1634', 'freq_y1634', 'freq_z1634', 'freq_x1635', 'freq_y1635', 'freq_z1635', 'freq_x1636', 'freq_y1636', 'freq_z1636', 'freq_x1637', 'freq_y1637', 'freq_z1637', 'freq_x1638', 'freq_y1638', 'freq_z1638', 'freq_x1639', 'freq_y1639', 'freq_z1639', 'freq_x1640', 'freq_y1640', 'freq_z1640', 'freq_x1641', 'freq_y1641', 'freq_z1641', 'freq_x1642', 'freq_y1642', 'freq_z1642', 'freq_x1643', 'freq_y1643', 'freq_z1643', 'freq_x1644', 'freq_y1644', 'freq_z1644', 'freq_x1645', 'freq_y1645', 'freq_z1645', 'freq_x1646', 'freq_y1646', 'freq_z1646', 'freq_x1647', 'freq_y1647', 'freq_z1647', 'freq_x1648', 'freq_y1648', 'freq_z1648', 'freq_x1649', 'freq_y1649', 'freq_z1649', 'freq_x1650', 'freq_y1650', 'freq_z1650', 'freq_x1651', 'freq_y1651', 'freq_z1651', 'freq_x1652', 'freq_y1652', 'freq_z1652', 'freq_x1653', 'freq_y1653', 'freq_z1653', 'freq_x1654', 'freq_y1654', 'freq_z1654', 'freq_x1655', 'freq_y1655', 'freq_z1655', 'freq_x1656', 'freq_y1656', 'freq_z1656', 'freq_x1657', 'freq_y1657', 'freq_z1657', 'freq_x1658', 'freq_y1658', 'freq_z1658', 'freq_x1659', 'freq_y1659', 'freq_z1659', 'freq_x1660', 'freq_y1660', 'freq_z1660', 'freq_x1661', 'freq_y1661', 'freq_z1661', 'freq_x1662', 'freq_y1662', 'freq_z1662', 'freq_x1663', 'freq_y1663', 'freq_z1663', 'freq_x1664', 'freq_y1664', 'freq_z1664', 'freq_x1665', 'freq_y1665', 'freq_z1665', 'freq_x1666', 'freq_y1666', 'freq_z1666', 'freq_x1667', 'freq_y1667', 'freq_z1667', 'freq_x1668', 'freq_y1668', 'freq_z1668', 'freq_x1669', 'freq_y1669', 'freq_z1669', 'freq_x1670', 'freq_y1670', 'freq_z1670', 'freq_x1671', 'freq_y1671', 'freq_z1671', 'freq_x1672', 'freq_y1672', 'freq_z1672', 'freq_x1673', 'freq_y1673', 'freq_z1673', 'freq_x1674', 'freq_y1674', 'freq_z1674', 'freq_x1675', 'freq_y1675', 'freq_z1675', 'freq_x1676', 'freq_y1676', 'freq_z1676', 'freq_x1677', 'freq_y1677', 'freq_z1677', 'freq_x1678', 'freq_y1678', 'freq_z1678', 'freq_x1679', 'freq_y1679', 'freq_z1679', 'freq_x1680', 'freq_y1680', 'freq_z1680', 'freq_x1681', 'freq_y1681', 'freq_z1681', 'freq_x1682', 'freq_y1682', 'freq_z1682', 'freq_x1683', 'freq_y1683', 'freq_z1683', 'freq_x1684', 'freq_y1684', 'freq_z1684', 'freq_x1685', 'freq_y1685', 'freq_z1685', 'freq_x1686', 'freq_y1686', 'freq_z1686', 'freq_x1687', 'freq_y1687', 'freq_z1687', 'freq_x1688', 'freq_y1688', 'freq_z1688', 'freq_x1689', 'freq_y1689', 'freq_z1689', 'freq_x1690', 'freq_y1690', 'freq_z1690', 'freq_x1691', 'freq_y1691', 'freq_z1691', 'freq_x1692', 'freq_y1692', 'freq_z1692', 'freq_x1693', 'freq_y1693', 'freq_z1693', 'freq_x1694', 'freq_y1694', 'freq_z1694', 'freq_x1695', 'freq_y1695', 'freq_z1695', 'freq_x1696', 'freq_y1696', 'freq_z1696', 'freq_x1697', 'freq_y1697', 'freq_z1697', 'freq_x1698', 'freq_y1698', 'freq_z1698', 'freq_x1699', 'freq_y1699', 'freq_z1699', 'freq_x1700', 'freq_y1700', 'freq_z1700', 'freq_x1701', 'freq_y1701', 'freq_z1701', 'freq_x1702', 'freq_y1702', 'freq_z1702', 'freq_x1703', 'freq_y1703', 'freq_z1703', 'freq_x1704', 'freq_y1704', 'freq_z1704', 'freq_x1705', 'freq_y1705', 'freq_z1705', 'freq_x1706', 'freq_y1706', 'freq_z1706', 'freq_x1707', 'freq_y1707', 'freq_z1707', 'freq_x1708', 'freq_y1708', 'freq_z1708', 'freq_x1709', 'freq_y1709', 'freq_z1709', 'freq_x1710', 'freq_y1710', 'freq_z1710', 'freq_x1711', 'freq_y1711', 'freq_z1711', 'freq_x1712', 'freq_y1712', 'freq_z1712', 'freq_x1713', 'freq_y1713', 'freq_z1713', 'freq_x1714', 'freq_y1714', 'freq_z1714', 'freq_x1715', 'freq_y1715', 'freq_z1715', 'freq_x1716', 'freq_y1716', 'freq_z1716', 'freq_x1717', 'freq_y1717', 'freq_z1717', 'freq_x1718', 'freq_y1718', 'freq_z1718', 'freq_x1719', 'freq_y1719', 'freq_z1719', 'freq_x1720', 'freq_y1720', 'freq_z1720', 'freq_x1721', 'freq_y1721', 'freq_z1721', 'freq_x1722', 'freq_y1722', 'freq_z1722', 'freq_x1723', 'freq_y1723', 'freq_z1723', 'freq_x1724', 'freq_y1724', 'freq_z1724', 'freq_x1725', 'freq_y1725', 'freq_z1725', 'freq_x1726', 'freq_y1726', 'freq_z1726', 'freq_x1727', 'freq_y1727', 'freq_z1727', 'freq_x1728', 'freq_y1728', 'freq_z1728', 'freq_x1729', 'freq_y1729', 'freq_z1729', 'freq_x1730', 'freq_y1730', 'freq_z1730', 'freq_x1731', 'freq_y1731', 'freq_z1731', 'freq_x1732', 'freq_y1732', 'freq_z1732', 'freq_x1733', 'freq_y1733', 'freq_z1733', 'freq_x1734', 'freq_y1734', 'freq_z1734', 'freq_x1735', 'freq_y1735', 'freq_z1735', 'freq_x1736', 'freq_y1736', 'freq_z1736', 'freq_x1737', 'freq_y1737', 'freq_z1737', 'freq_x1738', 'freq_y1738', 'freq_z1738', 'freq_x1739', 'freq_y1739', 'freq_z1739', 'freq_x1740', 'freq_y1740', 'freq_z1740', 'freq_x1741', 'freq_y1741', 'freq_z1741', 'freq_x1742', 'freq_y1742', 'freq_z1742', 'freq_x1743', 'freq_y1743', 'freq_z1743', 'freq_x1744', 'freq_y1744', 'freq_z1744', 'freq_x1745', 'freq_y1745', 'freq_z1745', 'freq_x1746', 'freq_y1746', 'freq_z1746', 'freq_x1747', 'freq_y1747', 'freq_z1747', 'freq_x1748', 'freq_y1748', 'freq_z1748', 'freq_x1749', 'freq_y1749', 'freq_z1749', 'freq_x1750', 'freq_y1750', 'freq_z1750', 'freq_x1751', 'freq_y1751', 'freq_z1751', 'freq_x1752', 'freq_y1752', 'freq_z1752', 'freq_x1753', 'freq_y1753', 'freq_z1753', 'freq_x1754', 'freq_y1754', 'freq_z1754', 'freq_x1755', 'freq_y1755', 'freq_z1755', 'freq_x1756', 'freq_y1756', 'freq_z1756', 'freq_x1757', 'freq_y1757', 'freq_z1757', 'freq_x1758', 'freq_y1758', 'freq_z1758', 'freq_x1759', 'freq_y1759', 'freq_z1759', 'freq_x1760', 'freq_y1760', 'freq_z1760', 'freq_x1761', 'freq_y1761', 'freq_z1761', 'freq_x1762', 'freq_y1762', 'freq_z1762', 'freq_x1763', 'freq_y1763', 'freq_z1763', 'freq_x1764', 'freq_y1764', 'freq_z1764', 'freq_x1765', 'freq_y1765', 'freq_z1765', 'freq_x1766', 'freq_y1766', 'freq_z1766', 'freq_x1767', 'freq_y1767', 'freq_z1767', 'freq_x1768', 'freq_y1768', 'freq_z1768', 'freq_x1769', 'freq_y1769', 'freq_z1769', 'freq_x1770', 'freq_y1770', 'freq_z1770', 'freq_x1771', 'freq_y1771', 'freq_z1771', 'freq_x1772', 'freq_y1772', 'freq_z1772', 'freq_x1773', 'freq_y1773', 'freq_z1773', 'freq_x1774', 'freq_y1774', 'freq_z1774', 'freq_x1775', 'freq_y1775', 'freq_z1775', 'freq_x1776', 'freq_y1776', 'freq_z1776', 'freq_x1777', 'freq_y1777', 'freq_z1777', 'freq_x1778', 'freq_y1778', 'freq_z1778', 'freq_x1779', 'freq_y1779', 'freq_z1779', 'freq_x1780', 'freq_y1780', 'freq_z1780', 'freq_x1781', 'freq_y1781', 'freq_z1781', 'freq_x1782', 'freq_y1782', 'freq_z1782', 'freq_x1783', 'freq_y1783', 'freq_z1783', 'freq_x1784', 'freq_y1784', 'freq_z1784', 'freq_x1785', 'freq_y1785', 'freq_z1785', 'freq_x1786', 'freq_y1786', 'freq_z1786', 'freq_x1787', 'freq_y1787', 'freq_z1787', 'freq_x1788', 'freq_y1788', 'freq_z1788', 'freq_x1789', 'freq_y1789', 'freq_z1789', 'freq_x1790', 'freq_y1790', 'freq_z1790', 'freq_x1791', 'freq_y1791', 'freq_z1791', 'freq_x1792', 'freq_y1792', 'freq_z1792', 'freq_x1793', 'freq_y1793', 'freq_z1793', 'freq_x1794', 'freq_y1794', 'freq_z1794', 'freq_x1795', 'freq_y1795', 'freq_z1795', 'freq_x1796', 'freq_y1796', 'freq_z1796', 'freq_x1797', 'freq_y1797', 'freq_z1797', 'freq_x1798', 'freq_y1798', 'freq_z1798', 'freq_x1799', 'freq_y1799', 'freq_z1799', 'freq_x1800', 'freq_y1800', 'freq_z1800', 'freq_x1801', 'freq_y1801', 'freq_z1801', 'freq_x1802', 'freq_y1802', 'freq_z1802', 'freq_x1803', 'freq_y1803', 'freq_z1803', 'freq_x1804', 'freq_y1804', 'freq_z1804', 'freq_x1805', 'freq_y1805', 'freq_z1805', 'freq_x1806', 'freq_y1806', 'freq_z1806', 'freq_x1807', 'freq_y1807', 'freq_z1807', 'freq_x1808', 'freq_y1808', 'freq_z1808', 'freq_x1809', 'freq_y1809', 'freq_z1809', 'freq_x1810', 'freq_y1810', 'freq_z1810', 'freq_x1811', 'freq_y1811', 'freq_z1811', 'freq_x1812', 'freq_y1812', 'freq_z1812', 'freq_x1813', 'freq_y1813', 'freq_z1813', 'freq_x1814', 'freq_y1814', 'freq_z1814', 'freq_x1815', 'freq_y1815', 'freq_z1815', 'freq_x1816', 'freq_y1816', 'freq_z1816', 'freq_x1817', 'freq_y1817', 'freq_z1817', 'freq_x1818', 'freq_y1818', 'freq_z1818', 'freq_x1819', 'freq_y1819', 'freq_z1819', 'freq_x1820', 'freq_y1820', 'freq_z1820', 'freq_x1821', 'freq_y1821', 'freq_z1821', 'freq_x1822', 'freq_y1822', 'freq_z1822', 'freq_x1823', 'freq_y1823', 'freq_z1823', 'freq_x1824', 'freq_y1824', 'freq_z1824', 'freq_x1825', 'freq_y1825', 'freq_z1825', 'freq_x1826', 'freq_y1826', 'freq_z1826', 'freq_x1827', 'freq_y1827', 'freq_z1827', 'freq_x1828', 'freq_y1828', 'freq_z1828', 'freq_x1829', 'freq_y1829', 'freq_z1829', 'freq_x1830', 'freq_y1830', 'freq_z1830', 'freq_x1831', 'freq_y1831', 'freq_z1831', 'freq_x1832', 'freq_y1832', 'freq_z1832', 'freq_x1833', 'freq_y1833', 'freq_z1833', 'freq_x1834', 'freq_y1834', 'freq_z1834', 'freq_x1835', 'freq_y1835', 'freq_z1835', 'freq_x1836', 'freq_y1836', 'freq_z1836', 'freq_x1837', 'freq_y1837', 'freq_z1837', 'freq_x1838', 'freq_y1838', 'freq_z1838', 'freq_x1839', 'freq_y1839', 'freq_z1839', 'freq_x1840', 'freq_y1840', 'freq_z1840', 'freq_x1841', 'freq_y1841', 'freq_z1841', 'freq_x1842', 'freq_y1842', 'freq_z1842', 'freq_x1843', 'freq_y1843', 'freq_z1843', 'freq_x1844', 'freq_y1844', 'freq_z1844', 'freq_x1845', 'freq_y1845', 'freq_z1845', 'freq_x1846', 'freq_y1846', 'freq_z1846', 'freq_x1847', 'freq_y1847', 'freq_z1847', 'freq_x1848', 'freq_y1848', 'freq_z1848', 'freq_x1849', 'freq_y1849', 'freq_z1849', 'freq_x1850', 'freq_y1850', 'freq_z1850', 'freq_x1851', 'freq_y1851', 'freq_z1851', 'freq_x1852', 'freq_y1852', 'freq_z1852', 'freq_x1853', 'freq_y1853', 'freq_z1853', 'freq_x1854', 'freq_y1854', 'freq_z1854', 'freq_x1855', 'freq_y1855', 'freq_z1855', 'freq_x1856', 'freq_y1856', 'freq_z1856', 'freq_x1857', 'freq_y1857', 'freq_z1857', 'freq_x1858', 'freq_y1858', 'freq_z1858', 'freq_x1859', 'freq_y1859', 'freq_z1859', 'freq_x1860', 'freq_y1860', 'freq_z1860', 'freq_x1861', 'freq_y1861', 'freq_z1861', 'freq_x1862', 'freq_y1862', 'freq_z1862', 'freq_x1863', 'freq_y1863', 'freq_z1863', 'freq_x1864', 'freq_y1864', 'freq_z1864', 'freq_x1865', 'freq_y1865', 'freq_z1865', 'freq_x1866', 'freq_y1866', 'freq_z1866', 'freq_x1867', 'freq_y1867', 'freq_z1867', 'freq_x1868', 'freq_y1868', 'freq_z1868', 'freq_x1869', 'freq_y1869', 'freq_z1869', 'freq_x1870', 'freq_y1870', 'freq_z1870', 'freq_x1871', 'freq_y1871', 'freq_z1871', 'freq_x1872', 'freq_y1872', 'freq_z1872', 'freq_x1873', 'freq_y1873', 'freq_z1873', 'freq_x1874', 'freq_y1874', 'freq_z1874', 'freq_x1875', 'freq_y1875', 'freq_z1875', 'freq_x1876', 'freq_y1876', 'freq_z1876', 'freq_x1877', 'freq_y1877', 'freq_z1877', 'freq_x1878', 'freq_y1878', 'freq_z1878', 'freq_x1879', 'freq_y1879', 'freq_z1879', 'freq_x1880', 'freq_y1880', 'freq_z1880', 'freq_x1881', 'freq_y1881', 'freq_z1881', 'freq_x1882', 'freq_y1882', 'freq_z1882', 'freq_x1883', 'freq_y1883', 'freq_z1883', 'freq_x1884', 'freq_y1884', 'freq_z1884', 'freq_x1885', 'freq_y1885', 'freq_z1885', 'freq_x1886', 'freq_y1886', 'freq_z1886', 'freq_x1887', 'freq_y1887', 'freq_z1887', 'freq_x1888', 'freq_y1888', 'freq_z1888', 'freq_x1889', 'freq_y1889', 'freq_z1889', 'freq_x1890', 'freq_y1890', 'freq_z1890', 'freq_x1891', 'freq_y1891', 'freq_z1891', 'freq_x1892', 'freq_y1892', 'freq_z1892', 'freq_x1893', 'freq_y1893', 'freq_z1893', 'freq_x1894', 'freq_y1894', 'freq_z1894', 'freq_x1895', 'freq_y1895', 'freq_z1895', 'freq_x1896', 'freq_y1896', 'freq_z1896', 'freq_x1897', 'freq_y1897', 'freq_z1897', 'freq_x1898', 'freq_y1898', 'freq_z1898', 'freq_x1899', 'freq_y1899', 'freq_z1899', 'freq_x1900', 'freq_y1900', 'freq_z1900', 'freq_x1901', 'freq_y1901', 'freq_z1901', 'freq_x1902', 'freq_y1902', 'freq_z1902', 'freq_x1903', 'freq_y1903', 'freq_z1903', 'freq_x1904', 'freq_y1904', 'freq_z1904', 'freq_x1905', 'freq_y1905', 'freq_z1905', 'freq_x1906', 'freq_y1906', 'freq_z1906', 'freq_x1907', 'freq_y1907', 'freq_z1907', 'freq_x1908', 'freq_y1908', 'freq_z1908', 'freq_x1909', 'freq_y1909', 'freq_z1909', 'freq_x1910', 'freq_y1910', 'freq_z1910', 'freq_x1911', 'freq_y1911', 'freq_z1911', 'freq_x1912', 'freq_y1912', 'freq_z1912', 'freq_x1913', 'freq_y1913', 'freq_z1913', 'freq_x1914', 'freq_y1914', 'freq_z1914', 'freq_x1915', 'freq_y1915', 'freq_z1915', 'freq_x1916', 'freq_y1916', 'freq_z1916', 'freq_x1917', 'freq_y1917', 'freq_z1917', 'freq_x1918', 'freq_y1918', 'freq_z1918', 'freq_x1919', 'freq_y1919', 'freq_z1919', 'freq_x1920', 'freq_y1920', 'freq_z1920', 'freq_x1921', 'freq_y1921', 'freq_z1921', 'freq_x1922', 'freq_y1922', 'freq_z1922', 'freq_x1923', 'freq_y1923', 'freq_z1923', 'freq_x1924', 'freq_y1924', 'freq_z1924', 'freq_x1925', 'freq_y1925', 'freq_z1925', 'freq_x1926', 'freq_y1926', 'freq_z1926', 'freq_x1927', 'freq_y1927', 'freq_z1927', 'freq_x1928', 'freq_y1928', 'freq_z1928', 'freq_x1929', 'freq_y1929', 'freq_z1929', 'freq_x1930', 'freq_y1930', 'freq_z1930', 'freq_x1931', 'freq_y1931', 'freq_z1931', 'freq_x1932', 'freq_y1932', 'freq_z1932', 'freq_x1933', 'freq_y1933', 'freq_z1933', 'freq_x1934', 'freq_y1934', 'freq_z1934', 'freq_x1935', 'freq_y1935', 'freq_z1935', 'freq_x1936', 'freq_y1936', 'freq_z1936', 'freq_x1937', 'freq_y1937', 'freq_z1937', 'freq_x1938', 'freq_y1938', 'freq_z1938', 'freq_x1939', 'freq_y1939', 'freq_z1939', 'freq_x1940', 'freq_y1940', 'freq_z1940', 'freq_x1941', 'freq_y1941', 'freq_z1941', 'freq_x1942', 'freq_y1942', 'freq_z1942', 'freq_x1943', 'freq_y1943', 'freq_z1943', 'freq_x1944', 'freq_y1944', 'freq_z1944', 'freq_x1945', 'freq_y1945', 'freq_z1945', 'freq_x1946', 'freq_y1946', 'freq_z1946', 'freq_x1947', 'freq_y1947', 'freq_z1947', 'freq_x1948', 'freq_y1948', 'freq_z1948', 'freq_x1949', 'freq_y1949', 'freq_z1949', 'freq_x1950', 'freq_y1950', 'freq_z1950', 'freq_x1951', 'freq_y1951', 'freq_z1951', 'freq_x1952', 'freq_y1952', 'freq_z1952', 'freq_x1953', 'freq_y1953', 'freq_z1953', 'freq_x1954', 'freq_y1954', 'freq_z1954', 'freq_x1955', 'freq_y1955', 'freq_z1955', 'freq_x1956', 'freq_y1956', 'freq_z1956', 'freq_x1957', 'freq_y1957', 'freq_z1957', 'freq_x1958', 'freq_y1958', 'freq_z1958', 'freq_x1959', 'freq_y1959', 'freq_z1959', 'freq_x1960', 'freq_y1960', 'freq_z1960', 'freq_x1961', 'freq_y1961', 'freq_z1961', 'freq_x1962', 'freq_y1962', 'freq_z1962', 'freq_x1963', 'freq_y1963', 'freq_z1963', 'freq_x1964', 'freq_y1964', 'freq_z1964', 'freq_x1965', 'freq_y1965', 'freq_z1965', 'freq_x1966', 'freq_y1966', 'freq_z1966', 'freq_x1967', 'freq_y1967', 'freq_z1967', 'freq_x1968', 'freq_y1968', 'freq_z1968', 'freq_x1969', 'freq_y1969', 'freq_z1969', 'freq_x1970', 'freq_y1970', 'freq_z1970', 'freq_x1971', 'freq_y1971', 'freq_z1971', 'freq_x1972', 'freq_y1972', 'freq_z1972', 'freq_x1973', 'freq_y1973', 'freq_z1973', 'freq_x1974', 'freq_y1974', 'freq_z1974', 'freq_x1975', 'freq_y1975', 'freq_z1975', 'freq_x1976', 'freq_y1976', 'freq_z1976', 'freq_x1977', 'freq_y1977', 'freq_z1977', 'freq_x1978', 'freq_y1978', 'freq_z1978', 'freq_x1979', 'freq_y1979', 'freq_z1979', 'freq_x1980', 'freq_y1980', 'freq_z1980', 'freq_x1981', 'freq_y1981', 'freq_z1981', 'freq_x1982', 'freq_y1982', 'freq_z1982', 'freq_x1983', 'freq_y1983', 'freq_z1983', 'freq_x1984', 'freq_y1984', 'freq_z1984', 'freq_x1985', 'freq_y1985', 'freq_z1985', 'freq_x1986', 'freq_y1986', 'freq_z1986', 'freq_x1987', 'freq_y1987', 'freq_z1987', 'freq_x1988', 'freq_y1988', 'freq_z1988', 'freq_x1989', 'freq_y1989', 'freq_z1989', 'freq_x1990', 'freq_y1990', 'freq_z1990', 'freq_x1991', 'freq_y1991', 'freq_z1991', 'freq_x1992', 'freq_y1992', 'freq_z1992', 'freq_x1993', 'freq_y1993', 'freq_z1993', 'freq_x1994', 'freq_y1994', 'freq_z1994', 'freq_x1995', 'freq_y1995', 'freq_z1995', 'freq_x1996', 'freq_y1996', 'freq_z1996', 'freq_x1997', 'freq_y1997', 'freq_z1997', 'freq_x1998', 'freq_y1998', 'freq_z1998', 'freq_x1999', 'freq_y1999', 'freq_z1999', 'freq_x2000', 'freq_y2000', 'freq_z2000', 'freq_x2001', 'freq_y2001', 'freq_z2001', 'freq_x2002', 'freq_y2002', 'freq_z2002', 'freq_x2003', 'freq_y2003', 'freq_z2003', 'freq_x2004', 'freq_y2004', 'freq_z2004', 'freq_x2005', 'freq_y2005', 'freq_z2005', 'freq_x2006', 'freq_y2006', 'freq_z2006', 'freq_x2007', 'freq_y2007', 'freq_z2007', 'freq_x2008', 'freq_y2008', 'freq_z2008', 'freq_x2009', 'freq_y2009', 'freq_z2009', 'freq_x2010', 'freq_y2010', 'freq_z2010', 'freq_x2011', 'freq_y2011', 'freq_z2011', 'freq_x2012', 'freq_y2012', 'freq_z2012', 'freq_x2013', 'freq_y2013', 'freq_z2013', 'freq_x2014', 'freq_y2014', 'freq_z2014', 'freq_x2015', 'freq_y2015', 'freq_z2015', 'freq_x2016', 'freq_y2016', 'freq_z2016', 'freq_x2017', 'freq_y2017', 'freq_z2017', 'freq_x2018', 'freq_y2018', 'freq_z2018', 'freq_x2019', 'freq_y2019', 'freq_z2019', 'freq_x2020', 'freq_y2020', 'freq_z2020', 'freq_x2021', 'freq_y2021', 'freq_z2021', 'freq_x2022', 'freq_y2022', 'freq_z2022', 'freq_x2023', 'freq_y2023', 'freq_z2023', 'freq_x2024', 'freq_y2024', 'freq_z2024', 'freq_x2025', 'freq_y2025', 'freq_z2025', 'freq_x2026', 'freq_y2026', 'freq_z2026', 'freq_x2027', 'freq_y2027', 'freq_z2027', 'freq_x2028', 'freq_y2028', 'freq_z2028', 'freq_x2029', 'freq_y2029', 'freq_z2029', 'freq_x2030', 'freq_y2030', 'freq_z2030', 'freq_x2031', 'freq_y2031', 'freq_z2031', 'freq_x2032', 'freq_y2032', 'freq_z2032', 'freq_x2033', 'freq_y2033', 'freq_z2033', 'freq_x2034', 'freq_y2034', 'freq_z2034', 'freq_x2035', 'freq_y2035', 'freq_z2035', 'freq_x2036', 'freq_y2036', 'freq_z2036', 'freq_x2037', 'freq_y2037', 'freq_z2037', 'freq_x2038', 'freq_y2038', 'freq_z2038', 'freq_x2039', 'freq_y2039', 'freq_z2039', 'freq_x2040', 'freq_y2040', 'freq_z2040', 'freq_x2041', 'freq_y2041', 'freq_z2041', 'freq_x2042', 'freq_y2042', 'freq_z2042', 'freq_x2043', 'freq_y2043', 'freq_z2043', 'freq_x2044', 'freq_y2044', 'freq_z2044', 'freq_x2045', 'freq_y2045', 'freq_z2045', 'freq_x2046', 'freq_y2046', 'freq_z2046', 'freq_x2047', 'freq_y2047', 'freq_z2047']\n"
     ]
    }
   ],
   "source": [
    "columns = []\n",
    "for i in range(diseased_s.shape[2]):\n",
    "    columns.append(\"freq_x{}\".format(i))\n",
    "    columns.append(\"freq_y{}\".format(i))\n",
    "    columns.append(\"freq_z{}\".format(i))\n",
    "print(columns)"
   ]
  },
  {
   "cell_type": "code",
   "execution_count": 18,
   "id": "129564fa",
   "metadata": {},
   "outputs": [
    {
     "name": "stdout",
     "output_type": "stream",
     "text": [
      "6144\n"
     ]
    }
   ],
   "source": [
    "print(len(columns))"
   ]
  },
  {
   "cell_type": "code",
   "execution_count": 19,
   "id": "c6294905",
   "metadata": {},
   "outputs": [],
   "source": [
    "def dataframe_creator(array, df = pd.DataFrame()):\n",
    "    values = []\n",
    "    for i in range(array.shape[1]):\n",
    "        values.append(array[0][i][0:2048].tolist() + array[1][i][0:2048].tolist() \n",
    "                        + array [2][i][0:2048].tolist())\n",
    "\n",
    "        \n",
    "        medium = pd.DataFrame([values[i]], columns = columns)\n",
    "        \n",
    "        \n",
    "        df = pd.concat([df, medium], axis = 0)\n",
    "    return df "
   ]
  },
  {
   "cell_type": "code",
   "execution_count": 20,
   "id": "14fe9239",
   "metadata": {},
   "outputs": [],
   "source": [
    "df = dataframe_creator(diseased_s, \n",
    "                         df =pd.DataFrame(columns = columns))\n",
    "df = dataframe_creator(diseased_r, \n",
    "                         df =df )"
   ]
  },
  {
   "cell_type": "code",
   "execution_count": 21,
   "id": "a04e36d9",
   "metadata": {},
   "outputs": [],
   "source": [
    "df = df.reset_index(drop= True)"
   ]
  },
  {
   "cell_type": "code",
   "execution_count": 22,
   "id": "d8ce8bed",
   "metadata": {},
   "outputs": [
    {
     "data": {
      "text/html": [
       "<div>\n",
       "<style scoped>\n",
       "    .dataframe tbody tr th:only-of-type {\n",
       "        vertical-align: middle;\n",
       "    }\n",
       "\n",
       "    .dataframe tbody tr th {\n",
       "        vertical-align: top;\n",
       "    }\n",
       "\n",
       "    .dataframe thead th {\n",
       "        text-align: right;\n",
       "    }\n",
       "</style>\n",
       "<table border=\"1\" class=\"dataframe\">\n",
       "  <thead>\n",
       "    <tr style=\"text-align: right;\">\n",
       "      <th></th>\n",
       "      <th>freq_x0</th>\n",
       "      <th>freq_y0</th>\n",
       "      <th>freq_z0</th>\n",
       "      <th>freq_x1</th>\n",
       "      <th>freq_y1</th>\n",
       "      <th>freq_z1</th>\n",
       "      <th>freq_x2</th>\n",
       "      <th>freq_y2</th>\n",
       "      <th>freq_z2</th>\n",
       "      <th>freq_x3</th>\n",
       "      <th>...</th>\n",
       "      <th>freq_z2044</th>\n",
       "      <th>freq_x2045</th>\n",
       "      <th>freq_y2045</th>\n",
       "      <th>freq_z2045</th>\n",
       "      <th>freq_x2046</th>\n",
       "      <th>freq_y2046</th>\n",
       "      <th>freq_z2046</th>\n",
       "      <th>freq_x2047</th>\n",
       "      <th>freq_y2047</th>\n",
       "      <th>freq_z2047</th>\n",
       "    </tr>\n",
       "  </thead>\n",
       "  <tbody>\n",
       "    <tr>\n",
       "      <th>0</th>\n",
       "      <td>0.003427</td>\n",
       "      <td>0.005127</td>\n",
       "      <td>0.005676</td>\n",
       "      <td>0.006353</td>\n",
       "      <td>0.007078</td>\n",
       "      <td>0.007797</td>\n",
       "      <td>0.008472</td>\n",
       "      <td>0.009078</td>\n",
       "      <td>0.00961</td>\n",
       "      <td>0.010098</td>\n",
       "      <td>...</td>\n",
       "      <td>0.048074</td>\n",
       "      <td>0.051574</td>\n",
       "      <td>0.054949</td>\n",
       "      <td>0.057982</td>\n",
       "      <td>0.060547</td>\n",
       "      <td>0.062563</td>\n",
       "      <td>0.063992</td>\n",
       "      <td>0.064843</td>\n",
       "      <td>0.065181</td>\n",
       "      <td>0.065136</td>\n",
       "    </tr>\n",
       "    <tr>\n",
       "      <th>1</th>\n",
       "      <td>0.005258</td>\n",
       "      <td>0.007622</td>\n",
       "      <td>0.007945</td>\n",
       "      <td>0.008296</td>\n",
       "      <td>0.008626</td>\n",
       "      <td>0.00891</td>\n",
       "      <td>0.009148</td>\n",
       "      <td>0.009371</td>\n",
       "      <td>0.009616</td>\n",
       "      <td>0.009921</td>\n",
       "      <td>...</td>\n",
       "      <td>0.027374</td>\n",
       "      <td>0.029678</td>\n",
       "      <td>0.032078</td>\n",
       "      <td>0.034552</td>\n",
       "      <td>0.036875</td>\n",
       "      <td>0.038896</td>\n",
       "      <td>0.040515</td>\n",
       "      <td>0.041683</td>\n",
       "      <td>0.042398</td>\n",
       "      <td>0.042708</td>\n",
       "    </tr>\n",
       "    <tr>\n",
       "      <th>2</th>\n",
       "      <td>0.007979</td>\n",
       "      <td>0.011349</td>\n",
       "      <td>0.011402</td>\n",
       "      <td>0.011404</td>\n",
       "      <td>0.011338</td>\n",
       "      <td>0.0112</td>\n",
       "      <td>0.010997</td>\n",
       "      <td>0.010755</td>\n",
       "      <td>0.010524</td>\n",
       "      <td>0.010372</td>\n",
       "      <td>...</td>\n",
       "      <td>0.028008</td>\n",
       "      <td>0.030592</td>\n",
       "      <td>0.033098</td>\n",
       "      <td>0.035447</td>\n",
       "      <td>0.037558</td>\n",
       "      <td>0.03935</td>\n",
       "      <td>0.040772</td>\n",
       "      <td>0.0418</td>\n",
       "      <td>0.042438</td>\n",
       "      <td>0.042715</td>\n",
       "    </tr>\n",
       "    <tr>\n",
       "      <th>3</th>\n",
       "      <td>0.003781</td>\n",
       "      <td>0.005553</td>\n",
       "      <td>0.005987</td>\n",
       "      <td>0.006505</td>\n",
       "      <td>0.00704</td>\n",
       "      <td>0.007551</td>\n",
       "      <td>0.008016</td>\n",
       "      <td>0.008439</td>\n",
       "      <td>0.008825</td>\n",
       "      <td>0.009131</td>\n",
       "      <td>...</td>\n",
       "      <td>0.028074</td>\n",
       "      <td>0.029409</td>\n",
       "      <td>0.030634</td>\n",
       "      <td>0.031775</td>\n",
       "      <td>0.032806</td>\n",
       "      <td>0.033703</td>\n",
       "      <td>0.034519</td>\n",
       "      <td>0.035153</td>\n",
       "      <td>0.035573</td>\n",
       "      <td>0.03577</td>\n",
       "    </tr>\n",
       "    <tr>\n",
       "      <th>4</th>\n",
       "      <td>0.009495</td>\n",
       "      <td>0.013529</td>\n",
       "      <td>0.013682</td>\n",
       "      <td>0.01381</td>\n",
       "      <td>0.013878</td>\n",
       "      <td>0.013879</td>\n",
       "      <td>0.013838</td>\n",
       "      <td>0.013796</td>\n",
       "      <td>0.013739</td>\n",
       "      <td>0.013616</td>\n",
       "      <td>...</td>\n",
       "      <td>0.020864</td>\n",
       "      <td>0.022995</td>\n",
       "      <td>0.02512</td>\n",
       "      <td>0.027146</td>\n",
       "      <td>0.028956</td>\n",
       "      <td>0.030463</td>\n",
       "      <td>0.031618</td>\n",
       "      <td>0.032407</td>\n",
       "      <td>0.032848</td>\n",
       "      <td>0.033003</td>\n",
       "    </tr>\n",
       "    <tr>\n",
       "      <th>...</th>\n",
       "      <td>...</td>\n",
       "      <td>...</td>\n",
       "      <td>...</td>\n",
       "      <td>...</td>\n",
       "      <td>...</td>\n",
       "      <td>...</td>\n",
       "      <td>...</td>\n",
       "      <td>...</td>\n",
       "      <td>...</td>\n",
       "      <td>...</td>\n",
       "      <td>...</td>\n",
       "      <td>...</td>\n",
       "      <td>...</td>\n",
       "      <td>...</td>\n",
       "      <td>...</td>\n",
       "      <td>...</td>\n",
       "      <td>...</td>\n",
       "      <td>...</td>\n",
       "      <td>...</td>\n",
       "      <td>...</td>\n",
       "      <td>...</td>\n",
       "    </tr>\n",
       "    <tr>\n",
       "      <th>3082</th>\n",
       "      <td>0.005453</td>\n",
       "      <td>0.007844</td>\n",
       "      <td>0.008084</td>\n",
       "      <td>0.008326</td>\n",
       "      <td>0.008522</td>\n",
       "      <td>0.008645</td>\n",
       "      <td>0.008687</td>\n",
       "      <td>0.008651</td>\n",
       "      <td>0.008561</td>\n",
       "      <td>0.008455</td>\n",
       "      <td>...</td>\n",
       "      <td>0.091397</td>\n",
       "      <td>0.091212</td>\n",
       "      <td>0.090284</td>\n",
       "      <td>0.088847</td>\n",
       "      <td>0.087394</td>\n",
       "      <td>0.086162</td>\n",
       "      <td>0.084872</td>\n",
       "      <td>0.083445</td>\n",
       "      <td>0.081755</td>\n",
       "      <td>0.080073</td>\n",
       "    </tr>\n",
       "    <tr>\n",
       "      <th>3083</th>\n",
       "      <td>0.005401</td>\n",
       "      <td>0.007962</td>\n",
       "      <td>0.008597</td>\n",
       "      <td>0.009344</td>\n",
       "      <td>0.010111</td>\n",
       "      <td>0.010841</td>\n",
       "      <td>0.011494</td>\n",
       "      <td>0.012073</td>\n",
       "      <td>0.012587</td>\n",
       "      <td>0.012953</td>\n",
       "      <td>...</td>\n",
       "      <td>0.266124</td>\n",
       "      <td>0.275595</td>\n",
       "      <td>0.286313</td>\n",
       "      <td>0.296864</td>\n",
       "      <td>0.306311</td>\n",
       "      <td>0.313949</td>\n",
       "      <td>0.319278</td>\n",
       "      <td>0.322037</td>\n",
       "      <td>0.322307</td>\n",
       "      <td>0.320785</td>\n",
       "    </tr>\n",
       "    <tr>\n",
       "      <th>3084</th>\n",
       "      <td>0.018487</td>\n",
       "      <td>0.027552</td>\n",
       "      <td>0.030742</td>\n",
       "      <td>0.034638</td>\n",
       "      <td>0.03872</td>\n",
       "      <td>0.042704</td>\n",
       "      <td>0.046408</td>\n",
       "      <td>0.049736</td>\n",
       "      <td>0.052701</td>\n",
       "      <td>0.055224</td>\n",
       "      <td>...</td>\n",
       "      <td>13.706523</td>\n",
       "      <td>14.085274</td>\n",
       "      <td>14.478497</td>\n",
       "      <td>14.826008</td>\n",
       "      <td>15.098279</td>\n",
       "      <td>15.300386</td>\n",
       "      <td>15.459038</td>\n",
       "      <td>15.529028</td>\n",
       "      <td>15.500269</td>\n",
       "      <td>15.411286</td>\n",
       "    </tr>\n",
       "    <tr>\n",
       "      <th>3085</th>\n",
       "      <td>0.249094</td>\n",
       "      <td>0.351497</td>\n",
       "      <td>0.34908</td>\n",
       "      <td>0.344997</td>\n",
       "      <td>0.339428</td>\n",
       "      <td>0.332734</td>\n",
       "      <td>0.325438</td>\n",
       "      <td>0.318325</td>\n",
       "      <td>0.312635</td>\n",
       "      <td>0.308642</td>\n",
       "      <td>...</td>\n",
       "      <td>33.853434</td>\n",
       "      <td>34.652292</td>\n",
       "      <td>35.200565</td>\n",
       "      <td>35.515092</td>\n",
       "      <td>35.61452</td>\n",
       "      <td>35.455935</td>\n",
       "      <td>35.078689</td>\n",
       "      <td>34.553846</td>\n",
       "      <td>33.989792</td>\n",
       "      <td>33.52198</td>\n",
       "    </tr>\n",
       "    <tr>\n",
       "      <th>3086</th>\n",
       "      <td>0.158378</td>\n",
       "      <td>0.228601</td>\n",
       "      <td>0.238856</td>\n",
       "      <td>0.251533</td>\n",
       "      <td>0.264823</td>\n",
       "      <td>0.277567</td>\n",
       "      <td>0.288984</td>\n",
       "      <td>0.298477</td>\n",
       "      <td>0.305635</td>\n",
       "      <td>0.31023</td>\n",
       "      <td>...</td>\n",
       "      <td>38.489511</td>\n",
       "      <td>37.957665</td>\n",
       "      <td>37.665925</td>\n",
       "      <td>37.853868</td>\n",
       "      <td>38.518311</td>\n",
       "      <td>39.643982</td>\n",
       "      <td>40.85647</td>\n",
       "      <td>41.850758</td>\n",
       "      <td>42.522157</td>\n",
       "      <td>42.838853</td>\n",
       "    </tr>\n",
       "  </tbody>\n",
       "</table>\n",
       "<p>3087 rows × 6144 columns</p>\n",
       "</div>"
      ],
      "text/plain": [
       "       freq_x0   freq_y0   freq_z0   freq_x1   freq_y1   freq_z1   freq_x2  \\\n",
       "0     0.003427  0.005127  0.005676  0.006353  0.007078  0.007797  0.008472   \n",
       "1     0.005258  0.007622  0.007945  0.008296  0.008626   0.00891  0.009148   \n",
       "2     0.007979  0.011349  0.011402  0.011404  0.011338    0.0112  0.010997   \n",
       "3     0.003781  0.005553  0.005987  0.006505   0.00704  0.007551  0.008016   \n",
       "4     0.009495  0.013529  0.013682   0.01381  0.013878  0.013879  0.013838   \n",
       "...        ...       ...       ...       ...       ...       ...       ...   \n",
       "3082  0.005453  0.007844  0.008084  0.008326  0.008522  0.008645  0.008687   \n",
       "3083  0.005401  0.007962  0.008597  0.009344  0.010111  0.010841  0.011494   \n",
       "3084  0.018487  0.027552  0.030742  0.034638   0.03872  0.042704  0.046408   \n",
       "3085  0.249094  0.351497   0.34908  0.344997  0.339428  0.332734  0.325438   \n",
       "3086  0.158378  0.228601  0.238856  0.251533  0.264823  0.277567  0.288984   \n",
       "\n",
       "       freq_y2   freq_z2   freq_x3  ... freq_z2044 freq_x2045 freq_y2045  \\\n",
       "0     0.009078   0.00961  0.010098  ...   0.048074   0.051574   0.054949   \n",
       "1     0.009371  0.009616  0.009921  ...   0.027374   0.029678   0.032078   \n",
       "2     0.010755  0.010524  0.010372  ...   0.028008   0.030592   0.033098   \n",
       "3     0.008439  0.008825  0.009131  ...   0.028074   0.029409   0.030634   \n",
       "4     0.013796  0.013739  0.013616  ...   0.020864   0.022995    0.02512   \n",
       "...        ...       ...       ...  ...        ...        ...        ...   \n",
       "3082  0.008651  0.008561  0.008455  ...   0.091397   0.091212   0.090284   \n",
       "3083  0.012073  0.012587  0.012953  ...   0.266124   0.275595   0.286313   \n",
       "3084  0.049736  0.052701  0.055224  ...  13.706523  14.085274  14.478497   \n",
       "3085  0.318325  0.312635  0.308642  ...  33.853434  34.652292  35.200565   \n",
       "3086  0.298477  0.305635   0.31023  ...  38.489511  37.957665  37.665925   \n",
       "\n",
       "     freq_z2045 freq_x2046 freq_y2046 freq_z2046 freq_x2047 freq_y2047  \\\n",
       "0      0.057982   0.060547   0.062563   0.063992   0.064843   0.065181   \n",
       "1      0.034552   0.036875   0.038896   0.040515   0.041683   0.042398   \n",
       "2      0.035447   0.037558    0.03935   0.040772     0.0418   0.042438   \n",
       "3      0.031775   0.032806   0.033703   0.034519   0.035153   0.035573   \n",
       "4      0.027146   0.028956   0.030463   0.031618   0.032407   0.032848   \n",
       "...         ...        ...        ...        ...        ...        ...   \n",
       "3082   0.088847   0.087394   0.086162   0.084872   0.083445   0.081755   \n",
       "3083   0.296864   0.306311   0.313949   0.319278   0.322037   0.322307   \n",
       "3084  14.826008  15.098279  15.300386  15.459038  15.529028  15.500269   \n",
       "3085  35.515092   35.61452  35.455935  35.078689  34.553846  33.989792   \n",
       "3086  37.853868  38.518311  39.643982   40.85647  41.850758  42.522157   \n",
       "\n",
       "     freq_z2047  \n",
       "0      0.065136  \n",
       "1      0.042708  \n",
       "2      0.042715  \n",
       "3       0.03577  \n",
       "4      0.033003  \n",
       "...         ...  \n",
       "3082   0.080073  \n",
       "3083   0.320785  \n",
       "3084  15.411286  \n",
       "3085   33.52198  \n",
       "3086  42.838853  \n",
       "\n",
       "[3087 rows x 6144 columns]"
      ]
     },
     "execution_count": 22,
     "metadata": {},
     "output_type": "execute_result"
    }
   ],
   "source": [
    "df"
   ]
  },
  {
   "cell_type": "code",
   "execution_count": 24,
   "id": "f37816e7",
   "metadata": {},
   "outputs": [],
   "source": [
    "df.to_csv(path + 'feature_extr/s-vs-r-spectogram_coef.csv')"
   ]
  },
  {
   "cell_type": "code",
   "execution_count": null,
   "id": "b16403a3",
   "metadata": {},
   "outputs": [],
   "source": []
  },
  {
   "cell_type": "code",
   "execution_count": null,
   "id": "2da6a31d",
   "metadata": {},
   "outputs": [],
   "source": []
  }
 ],
 "metadata": {
  "kernelspec": {
   "display_name": "Python 3 (ipykernel)",
   "language": "python",
   "name": "python3"
  },
  "language_info": {
   "codemirror_mode": {
    "name": "ipython",
    "version": 3
   },
   "file_extension": ".py",
   "mimetype": "text/x-python",
   "name": "python",
   "nbconvert_exporter": "python",
   "pygments_lexer": "ipython3",
   "version": "3.9.9"
  }
 },
 "nbformat": 4,
 "nbformat_minor": 5
}
