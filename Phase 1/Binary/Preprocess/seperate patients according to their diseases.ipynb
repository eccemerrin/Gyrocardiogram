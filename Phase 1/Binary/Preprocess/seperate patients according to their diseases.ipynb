{
 "cells": [
  {
   "cell_type": "markdown",
   "id": "a10707b4",
   "metadata": {},
   "source": [
    "## Imports:"
   ]
  },
  {
   "cell_type": "code",
   "execution_count": 1,
   "id": "5b0b2dcc",
   "metadata": {},
   "outputs": [],
   "source": [
    "import scipy.io\n",
    "import os\n",
    "import pandas\n",
    "import numpy as np\n",
    "import matplotlib.pyplot as plt\n",
    "import matplotlib.pylab as plt_lab\n",
    "import matplotlib.gridspec as gridspec\n",
    "import obspy\n",
    "import pandas as pd"
   ]
  },
  {
   "cell_type": "code",
   "execution_count": 2,
   "id": "995724bf",
   "metadata": {},
   "outputs": [],
   "source": [
    "import warnings\n",
    "warnings.filterwarnings('ignore')"
   ]
  },
  {
   "cell_type": "markdown",
   "id": "41b4c77f",
   "metadata": {},
   "source": [
    "## Load data:\n",
    "We are going to use this data to plot spectograms of SCG signals. "
   ]
  },
  {
   "cell_type": "code",
   "execution_count": 3,
   "id": "75a415fd",
   "metadata": {},
   "outputs": [],
   "source": [
    "dir_path = \"/Users/ecem/Desktop/gyrocardiogram/data\""
   ]
  },
  {
   "cell_type": "code",
   "execution_count": 4,
   "id": "cff5b561",
   "metadata": {},
   "outputs": [],
   "source": [
    "x = np.load(dir_path + \"/gyro_x.npy\", allow_pickle= True)\n",
    "y = np.load(dir_path + \"/gyro_y.npy\", allow_pickle= True)\n",
    "z = np.load(dir_path + \"/gyro_z.npy\", allow_pickle= True)"
   ]
  },
  {
   "cell_type": "code",
   "execution_count": 5,
   "id": "1a7b8403",
   "metadata": {},
   "outputs": [
    {
     "data": {
      "text/plain": [
       "(100,)"
      ]
     },
     "execution_count": 5,
     "metadata": {},
     "output_type": "execute_result"
    }
   ],
   "source": [
    "x.shape"
   ]
  },
  {
   "cell_type": "markdown",
   "id": "45e75421",
   "metadata": {},
   "source": [
    "## Load csv and create two seperate dataframe:\n",
    "We are going to use heart dataframe to differentiate healty people from the people with diaseaes. Data's of healty people will be stored in the healty dataset while diseased people will be in diseased dataset."
   ]
  },
  {
   "cell_type": "code",
   "execution_count": 6,
   "id": "d770eb2f",
   "metadata": {},
   "outputs": [],
   "source": [
    "heart = pd.read_excel(\"/Users/ecem/Desktop/seismocardiogram/data/diseased-dataset/Summary_Pub_Deidentified.xlsx\")\n",
    "df = heart.copy().fillna(0)"
   ]
  },
  {
   "cell_type": "markdown",
   "id": "651352d7",
   "metadata": {},
   "source": [
    "I have dropped some columns because they didnt have much information. ????????"
   ]
  },
  {
   "cell_type": "code",
   "execution_count": 7,
   "id": "386d808a",
   "metadata": {},
   "outputs": [],
   "source": [
    "df.drop([\"Mitral valve Peak velocity (m/sec)\",\n",
    "         \"Mitral valve Mean gradient(mmHg)\", \n",
    "         \"Echo available\",\n",
    "        \"Date of collection\",\n",
    "        \"Date of echo\"], \n",
    "        inplace = True, axis = 1)\n",
    "df.drop(df.tail(1).index,inplace=True)"
   ]
  },
  {
   "cell_type": "code",
   "execution_count": 8,
   "id": "d385722e",
   "metadata": {},
   "outputs": [
    {
     "data": {
      "text/plain": [
       "99"
      ]
     },
     "execution_count": 8,
     "metadata": {},
     "output_type": "execute_result"
    }
   ],
   "source": [
    "df.index[-1]"
   ]
  },
  {
   "cell_type": "code",
   "execution_count": 9,
   "id": "ed27656a",
   "metadata": {},
   "outputs": [
    {
     "data": {
      "text/plain": [
       "array([ 4.26017729e-05, -4.26175975e-05,  4.26296482e-05, ...,\n",
       "       -4.25612980e-05,  4.25696676e-05, -4.25869591e-05])"
      ]
     },
     "execution_count": 9,
     "metadata": {},
     "output_type": "execute_result"
    }
   ],
   "source": [
    "x[99]"
   ]
  },
  {
   "cell_type": "markdown",
   "id": "dbd6f79f",
   "metadata": {},
   "source": [
    "## MS "
   ]
  },
  {
   "cell_type": "code",
   "execution_count": 10,
   "id": "31039361",
   "metadata": {},
   "outputs": [],
   "source": [
    "idx_MS = np.where((df['Moderate or greater MS'] == 1.0)  \n",
    "                  &(df['Moderate or greater MR'] == 0.0)  \n",
    "                  & (df['Moderate or greater AR'] == 0.0)\n",
    "                  &(df['Moderate or greater AS'] == 0.0)  \n",
    "                  & (df['moderate or greater TR'] == 0.0))\n"
   ]
  },
  {
   "cell_type": "code",
   "execution_count": 11,
   "id": "a6e21993",
   "metadata": {},
   "outputs": [
    {
     "data": {
      "text/plain": [
       "(array([ 8, 28, 62]),)"
      ]
     },
     "execution_count": 11,
     "metadata": {},
     "output_type": "execute_result"
    }
   ],
   "source": [
    "idx_MS"
   ]
  },
  {
   "cell_type": "code",
   "execution_count": 12,
   "id": "2f279480",
   "metadata": {},
   "outputs": [],
   "source": [
    "diseased_MS = df.loc[idx_MS]"
   ]
  },
  {
   "cell_type": "code",
   "execution_count": 13,
   "id": "d1f0658c",
   "metadata": {},
   "outputs": [],
   "source": [
    "idx_AR = np.where((df['Moderate or greater MS'] == 0.0)  \n",
    "                  &(df['Moderate or greater MR'] == 0.0)  \n",
    "                  & (df['Moderate or greater AR'] == 1.0)\n",
    "                  &(df['Moderate or greater AS'] == 0.0)  \n",
    "                  & (df['moderate or greater TR'] == 0.0))"
   ]
  },
  {
   "cell_type": "code",
   "execution_count": 14,
   "id": "32cfdaef",
   "metadata": {},
   "outputs": [
    {
     "data": {
      "text/plain": [
       "(array([17, 21, 26, 39, 68]),)"
      ]
     },
     "execution_count": 14,
     "metadata": {},
     "output_type": "execute_result"
    }
   ],
   "source": [
    "idx_AR"
   ]
  },
  {
   "cell_type": "code",
   "execution_count": 15,
   "id": "30ad9ef0",
   "metadata": {},
   "outputs": [],
   "source": [
    "diseased_AR = df.loc[idx_AR]"
   ]
  },
  {
   "cell_type": "code",
   "execution_count": 16,
   "id": "edd8530e",
   "metadata": {},
   "outputs": [],
   "source": [
    "idx_MR = np.where((df['Moderate or greater MS'] == 0.0)  \n",
    "                  &(df['Moderate or greater MR'] == 1.0)  \n",
    "                  & (df['Moderate or greater AR'] == 0.0)\n",
    "                  &(df['Moderate or greater AS'] == 0.0)  \n",
    "                  & (df['moderate or greater TR'] == 0.0))"
   ]
  },
  {
   "cell_type": "code",
   "execution_count": 17,
   "id": "e68b5d71",
   "metadata": {},
   "outputs": [
    {
     "data": {
      "text/plain": [
       "(array([ 0,  2, 12, 19, 27, 31, 32, 37, 45, 50, 54, 60, 65]),)"
      ]
     },
     "execution_count": 17,
     "metadata": {},
     "output_type": "execute_result"
    }
   ],
   "source": [
    "idx_MR"
   ]
  },
  {
   "cell_type": "code",
   "execution_count": 18,
   "id": "d9e050c2",
   "metadata": {},
   "outputs": [],
   "source": [
    "diseased_MR = df.loc[idx_MR]"
   ]
  },
  {
   "cell_type": "code",
   "execution_count": 19,
   "id": "48f7fffc",
   "metadata": {},
   "outputs": [],
   "source": [
    "idx_AS = np.where((df['Moderate or greater MS'] == 0.0)  \n",
    "                  &(df['Moderate or greater MR'] == 0.0)  \n",
    "                  & (df['Moderate or greater AR'] == 0.0)\n",
    "                  &(df['Moderate or greater AS'] == 1.0)  \n",
    "                  & (df['moderate or greater TR'] == 0.0))"
   ]
  },
  {
   "cell_type": "code",
   "execution_count": 20,
   "id": "c0aba641",
   "metadata": {},
   "outputs": [
    {
     "data": {
      "text/plain": [
       "(array([44, 71, 73, 76, 78, 80, 84, 85, 87, 88, 92, 95, 96, 97, 98, 99]),)"
      ]
     },
     "execution_count": 20,
     "metadata": {},
     "output_type": "execute_result"
    }
   ],
   "source": [
    "idx_AS"
   ]
  },
  {
   "cell_type": "code",
   "execution_count": 21,
   "id": "7a023333",
   "metadata": {},
   "outputs": [],
   "source": [
    "diseased_AS = df.loc[idx_AS]"
   ]
  },
  {
   "cell_type": "code",
   "execution_count": 22,
   "id": "7a2c2752",
   "metadata": {},
   "outputs": [],
   "source": [
    "MS_x, MS_y, MS_z = [],[],[]\n",
    "MR_x, MR_y, MR_z = [],[],[]\n",
    "\n",
    "AS_x, AS_y, AS_z = [],[],[]\n",
    "AR_x, AR_y, AR_z = [],[],[]\n"
   ]
  },
  {
   "cell_type": "code",
   "execution_count": 23,
   "id": "46add168",
   "metadata": {},
   "outputs": [],
   "source": [
    "for i in range(len(diseased_MS['Patient ID'].index)):\n",
    "    x_ = x[diseased_MS['Patient ID'].index[i]]\n",
    "    y_ = y[diseased_MS['Patient ID'].index[i]]\n",
    "    z_ = z[diseased_MS['Patient ID'].index[i]]\n",
    "    \n",
    "    MS_x.append(x_)\n",
    "    MS_y.append(y_) \n",
    "    MS_z.append(z_) \n",
    "del x_, y_, z_"
   ]
  },
  {
   "cell_type": "code",
   "execution_count": 24,
   "id": "10b51068",
   "metadata": {},
   "outputs": [],
   "source": [
    "for i in range(len(diseased_AR['Patient ID'].index)):\n",
    "    x_ = x[diseased_AR['Patient ID'].index[i]]\n",
    "    y_ = y[diseased_AR['Patient ID'].index[i]]\n",
    "    z_ = z[diseased_AR['Patient ID'].index[i]]\n",
    "    \n",
    "    AR_x.append(x_)\n",
    "    AR_y.append(y_) \n",
    "    AR_z.append(z_) \n",
    "del x_, y_, z_"
   ]
  },
  {
   "cell_type": "code",
   "execution_count": 25,
   "id": "4abe8deb",
   "metadata": {},
   "outputs": [],
   "source": [
    "for i in range(len(diseased_MR['Patient ID'].index)):\n",
    "    x_ = x[diseased_MR['Patient ID'].index[i]]\n",
    "    y_ = y[diseased_MR['Patient ID'].index[i]]\n",
    "    z_ = z[diseased_MR['Patient ID'].index[i]]\n",
    "    \n",
    "    MR_x.append(x_)\n",
    "    MR_y.append(y_) \n",
    "    MR_z.append(z_) \n",
    "del x_, y_, z_"
   ]
  },
  {
   "cell_type": "code",
   "execution_count": 26,
   "id": "000947ee",
   "metadata": {},
   "outputs": [],
   "source": [
    "for i in range(len(diseased_AS['Patient ID'].index)):\n",
    "    x_ = x[diseased_AS['Patient ID'].index[i]]\n",
    "    y_ = y[diseased_AS['Patient ID'].index[i]]\n",
    "    z_ = z[diseased_AS['Patient ID'].index[i]]\n",
    "    \n",
    "    AS_x.append(x_)\n",
    "    AS_y.append(y_) \n",
    "    AS_z.append(z_) \n",
    "del x_, y_, z_"
   ]
  },
  {
   "cell_type": "code",
   "execution_count": 27,
   "id": "130fcfe3",
   "metadata": {},
   "outputs": [],
   "source": [
    "#note to myself: do not change order\n",
    "dataset1 = np.stack((MR_x, MR_y, MR_z), axis=-1)\n",
    "dataset2 = np.stack((AR_x, AR_y, AR_z), axis=-1)\n",
    "dataset3 = np.stack((AS_x, AS_y, AS_z), axis=-1)\n",
    "dataset4 = np.stack((MS_x, MS_y, MS_z), axis=-1)"
   ]
  },
  {
   "cell_type": "code",
   "execution_count": 28,
   "id": "34f617a4",
   "metadata": {},
   "outputs": [
    {
     "name": "stdout",
     "output_type": "stream",
     "text": [
      "(13, 3)\n",
      "(5, 3)\n",
      "(16, 3)\n",
      "(3, 3)\n"
     ]
    }
   ],
   "source": [
    "print(dataset1.shape)\n",
    "print(dataset2.shape)\n",
    "print(dataset3.shape)\n",
    "print(dataset4.shape)\n"
   ]
  },
  {
   "cell_type": "code",
   "execution_count": 29,
   "id": "d62f3b1d",
   "metadata": {},
   "outputs": [],
   "source": [
    "np.save(dir_path + \"/mr.npy\", dataset1, allow_pickle= True)\n",
    "np.save(dir_path + \"/ar.npy\", dataset2, allow_pickle= True)\n",
    "np.save(dir_path + \"/as.npy\", dataset3, allow_pickle= True)\n",
    "np.save(dir_path + \"/ms.npy\", dataset4, allow_pickle= True)"
   ]
  }
 ],
 "metadata": {
  "kernelspec": {
   "display_name": "Python 3 (ipykernel)",
   "language": "python",
   "name": "python3"
  },
  "language_info": {
   "codemirror_mode": {
    "name": "ipython",
    "version": 3
   },
   "file_extension": ".py",
   "mimetype": "text/x-python",
   "name": "python",
   "nbconvert_exporter": "python",
   "pygments_lexer": "ipython3",
   "version": "3.9.9"
  }
 },
 "nbformat": 4,
 "nbformat_minor": 5
}
