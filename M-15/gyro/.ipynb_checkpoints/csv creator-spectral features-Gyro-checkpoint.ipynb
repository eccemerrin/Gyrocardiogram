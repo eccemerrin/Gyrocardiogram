{
 "cells": [
  {
   "cell_type": "code",
   "execution_count": 1,
   "id": "694203bd",
   "metadata": {},
   "outputs": [],
   "source": [
    "import numpy as np\n",
    "import math"
   ]
  },
  {
   "cell_type": "markdown",
   "id": "5f48c0b6",
   "metadata": {},
   "source": [
    "### define functions:"
   ]
  },
  {
   "cell_type": "code",
   "execution_count": 2,
   "id": "4210daf5",
   "metadata": {},
   "outputs": [],
   "source": [
    "def entropy(data, num_short_blocks=10):\n",
    "    eol = np.sum(np.square(data))\n",
    "    win_len = len(data)\n",
    "    sub_win_len = math.floor(win_len / num_short_blocks)\n",
    "\n",
    "    if win_len != sub_win_len * num_short_blocks:\n",
    "        data = data[0:sub_win_len * num_short_blocks]\n",
    "    sub_wins = data.reshape(sub_win_len, num_short_blocks, order='F').copy()\n",
    "    norm_sub_frame_energies = np.zeros((1, sub_wins.shape[1]))\n",
    "    for i in range(sub_wins.shape[1]):\n",
    "        norm_sub_frame_energies[0, i] = np.sum(np.square(sub_wins[:, i])) / (eol + np.spacing(1))\n",
    "    energy_entropy = 0\n",
    "    for i in range(norm_sub_frame_energies.shape[1]):\n",
    "        energy_entropy -= norm_sub_frame_energies[0, i] * math.log(norm_sub_frame_energies[0, i] + np.spacing(1), 2)\n",
    "    return energy_entropy"
   ]
  },
  {
   "cell_type": "code",
   "execution_count": 3,
   "id": "8f996db2",
   "metadata": {},
   "outputs": [],
   "source": [
    "def dft(data, f_s = 4000, p=0):\n",
    "    win_len = len(data)\n",
    "    fft = np.abs(np.fft.fft(data)) / win_len\n",
    "    if not p:\n",
    "        fft = fft[0:math.ceil(win_len)]\n",
    "        f_req = (f_s / 2) * np.arange(0, np.ceil(win_len / 2) + 1) / np.ceil(win_len / 2)\n",
    "    else:\n",
    "        fft = np.fft.fftshift(fft)\n",
    "        if win_len % 2:\n",
    "            f_req = np.arange(-(win_len - 1) / 2, (win_len - 1) / 2 + 1)\n",
    "        else:\n",
    "            f_req = np.arange(-win_len / 2, win_len / 2)\n",
    "    fft_1 = np.abs(fft)/win_len\n",
    "    fft_2 = fft_1[1:(round(win_len / 2) + 1)]\n",
    "    fft_2 = 2*fft_2\n",
    "    return fft_2, f_req"
   ]
  },
  {
   "cell_type": "code",
   "execution_count": 4,
   "id": "11f3894d",
   "metadata": {},
   "outputs": [],
   "source": [
    "def spectral_rolloff(data, c=0.90):\n",
    "    total_energy = np.sum(np.square(data))\n",
    "    curr_energy = 0\n",
    "    count_fft = 0\n",
    "    fft_len = len(data)\n",
    "    while curr_energy <= c * total_energy and count_fft <= fft_len:\n",
    "        curr_energy += data[count_fft] ** 2\n",
    "        count_fft += 1\n",
    "    count_fft -= 1\n",
    "    return (count_fft - 1) / fft_len"
   ]
  },
  {
   "cell_type": "code",
   "execution_count": 5,
   "id": "319c48bb",
   "metadata": {},
   "outputs": [],
   "source": [
    "def spectral_centroid(data, f_s = 4000):\n",
    "    fft_len = len(data)\n",
    "    m = np.transpose((f_s / (2 * fft_len)) * np.arange(1, fft_len+1))\n",
    "    data = data / np.max(data)\n",
    "    c = np.sum(np.multiply(m, data)) / (np.sum(data) + np.spacing(1))\n",
    "    k = np.sum(np.square(m - c) * data)\n",
    "    l = (np.sum(data) + np.spacing(1))\n",
    "    \n",
    "    if k*l <0 :\n",
    "        s = math.sqrt( -1* k / l ) / (f_s / 2)\n",
    "        c = c / (f_s / 2)\n",
    "        return c\n",
    "    else:\n",
    "        s = math.sqrt( k / l ) / (f_s / 2)\n",
    "        c = c / (f_s / 2)\n",
    "        return c"
   ]
  },
  {
   "cell_type": "code",
   "execution_count": 6,
   "id": "55532b45",
   "metadata": {},
   "outputs": [],
   "source": [
    "def spectral_spread(data, f_s=4000):\n",
    "    fft_len = len(data)\n",
    "    m = np.transpose((f_s / (2 * fft_len)) * np.arange(1, fft_len+1))\n",
    "    data = data / np.max(data)\n",
    "    c = np.sum(np.multiply(m, data)) / (np.sum(data) + np.spacing(1))\n",
    "    k = np.sum(np.square(m - c) * data)\n",
    "    l = (np.sum(data) + np.spacing(1))\n",
    "    \n",
    "    if k*l <0 :\n",
    "        s = math.sqrt( -1* k / l ) / (f_s / 2)\n",
    "        c = c / (f_s / 2)\n",
    "        return c\n",
    "    else:\n",
    "        s = math.sqrt( k / l ) / (f_s / 2)\n",
    "        c = c / (f_s / 2)\n",
    "        return s"
   ]
  },
  {
   "cell_type": "markdown",
   "id": "ab6409f8",
   "metadata": {},
   "source": [
    "### define data"
   ]
  },
  {
   "cell_type": "code",
   "execution_count": 7,
   "id": "ef5bf150",
   "metadata": {},
   "outputs": [
    {
     "name": "stdout",
     "output_type": "stream",
     "text": [
      "(3, 2106, 2560)\n"
     ]
    }
   ],
   "source": [
    "path = \"/Users/ecem/Desktop/gyrocardiogram/multiclass_data/\"\n",
    "diseased = np.load(path + \"data/diseased-10sec.npy\", allow_pickle= True)\n",
    "print(diseased.shape)"
   ]
  },
  {
   "cell_type": "markdown",
   "id": "74e55e4c",
   "metadata": {},
   "source": [
    "## Feature Extraction:\n"
   ]
  },
  {
   "cell_type": "markdown",
   "id": "a090eeb8",
   "metadata": {},
   "source": [
    "### Entropy:"
   ]
  },
  {
   "cell_type": "code",
   "execution_count": 8,
   "id": "b802405c",
   "metadata": {},
   "outputs": [
    {
     "data": {
      "text/plain": [
       "2106"
      ]
     },
     "execution_count": 8,
     "metadata": {},
     "output_type": "execute_result"
    }
   ],
   "source": [
    "diseased.shape[1]"
   ]
  },
  {
   "cell_type": "code",
   "execution_count": 9,
   "id": "f16052a5",
   "metadata": {},
   "outputs": [],
   "source": [
    "entropy_ = np.empty((3,diseased.shape[1]))\n",
    "\n",
    "for i in range(diseased.shape[1]):\n",
    "    entropy_[0,i] = entropy(diseased[0,i], num_short_blocks = 10)\n",
    "    entropy_[1,i] = entropy(diseased[1,i], num_short_blocks = 10)\n",
    "    entropy_[2,i] = entropy(diseased[2,i], num_short_blocks = 10)"
   ]
  },
  {
   "cell_type": "code",
   "execution_count": 10,
   "id": "d3daceca",
   "metadata": {},
   "outputs": [],
   "source": [
    "##dft\n",
    "x = dft(diseased[0,i])[0]\n",
    "y = dft(diseased[1,i])[0]\n",
    "z = dft(diseased[2,i])[0]"
   ]
  },
  {
   "cell_type": "markdown",
   "id": "9d918c4f",
   "metadata": {},
   "source": [
    "### Spectral Entropy:"
   ]
  },
  {
   "cell_type": "code",
   "execution_count": 11,
   "id": "f97fac82",
   "metadata": {},
   "outputs": [],
   "source": [
    "spec_ent = np.ndarray((3,diseased.shape[1]))\n",
    "for i in range(diseased.shape[1]):\n",
    "    spec_ent[0,i] = entropy(x, num_short_blocks = 10)\n",
    "    spec_ent[1,i] = entropy(y, num_short_blocks = 10)\n",
    "    spec_ent[2,i] = entropy(z, num_short_blocks = 10)"
   ]
  },
  {
   "cell_type": "markdown",
   "id": "96f7ed64",
   "metadata": {},
   "source": [
    "### Spectral Rolloff"
   ]
  },
  {
   "cell_type": "code",
   "execution_count": 12,
   "id": "6c951ae1",
   "metadata": {},
   "outputs": [],
   "source": [
    "spec_roll = np.ndarray((3,diseased.shape[1]))\n",
    "for i in range(diseased.shape[1]):\n",
    "    \n",
    "    spec_roll[0,i] = spectral_rolloff(x)\n",
    "    spec_roll[1,i] = spectral_rolloff(y)\n",
    "    spec_roll[2,i] = spectral_rolloff(z)"
   ]
  },
  {
   "cell_type": "markdown",
   "id": "fb344b3a",
   "metadata": {},
   "source": [
    "### Spectral Centroid:"
   ]
  },
  {
   "cell_type": "code",
   "execution_count": 13,
   "id": "0d8a001f",
   "metadata": {},
   "outputs": [],
   "source": [
    "centr = np.ndarray((3,diseased.shape[1]))\n",
    "for i in range(diseased.shape[1]):\n",
    "    centr[0,i] = spectral_centroid(x)\n",
    "    centr[1,i] = spectral_centroid(y)\n",
    "    centr[2,i] = spectral_centroid(z)\n",
    "    \n",
    "                                "
   ]
  },
  {
   "cell_type": "markdown",
   "id": "5019fb68",
   "metadata": {},
   "source": [
    "### Spectral Spread"
   ]
  },
  {
   "cell_type": "code",
   "execution_count": 14,
   "id": "0f6668ea",
   "metadata": {},
   "outputs": [],
   "source": [
    "spec_spread = np.ndarray((3,diseased.shape[1]))\n",
    "for i in range(diseased.shape[1]):\n",
    "  \n",
    "    spec_spread[0,i] = spectral_spread(x)\n",
    "    spec_spread[1,i] = spectral_spread(y)\n",
    "    spec_spread[2,i] = spectral_spread(z)\n",
    "    \n",
    "                                "
   ]
  },
  {
   "cell_type": "markdown",
   "id": "cf8d541f",
   "metadata": {},
   "source": [
    "### Create DataFrame"
   ]
  },
  {
   "cell_type": "code",
   "execution_count": 15,
   "id": "aa73ff1e",
   "metadata": {},
   "outputs": [],
   "source": [
    "import pandas as pd"
   ]
  },
  {
   "cell_type": "markdown",
   "id": "48fc14f7",
   "metadata": {},
   "source": [
    "### for S:\n"
   ]
  },
  {
   "cell_type": "code",
   "execution_count": 16,
   "id": "75b33461",
   "metadata": {},
   "outputs": [
    {
     "data": {
      "text/html": [
       "<div>\n",
       "<style scoped>\n",
       "    .dataframe tbody tr th:only-of-type {\n",
       "        vertical-align: middle;\n",
       "    }\n",
       "\n",
       "    .dataframe tbody tr th {\n",
       "        vertical-align: top;\n",
       "    }\n",
       "\n",
       "    .dataframe thead th {\n",
       "        text-align: right;\n",
       "    }\n",
       "</style>\n",
       "<table border=\"1\" class=\"dataframe\">\n",
       "  <thead>\n",
       "    <tr style=\"text-align: right;\">\n",
       "      <th></th>\n",
       "      <th>E x</th>\n",
       "      <th>E y</th>\n",
       "      <th>E z</th>\n",
       "      <th>SE x</th>\n",
       "      <th>SE y</th>\n",
       "      <th>SE z</th>\n",
       "      <th>SR x</th>\n",
       "      <th>SR y</th>\n",
       "      <th>SR z</th>\n",
       "      <th>SC x</th>\n",
       "      <th>SC y</th>\n",
       "      <th>SC z</th>\n",
       "      <th>SS x</th>\n",
       "      <th>SS y</th>\n",
       "      <th>SS z</th>\n",
       "    </tr>\n",
       "  </thead>\n",
       "  <tbody>\n",
       "    <tr>\n",
       "      <th>0</th>\n",
       "      <td>2.764249</td>\n",
       "      <td>3.213640</td>\n",
       "      <td>3.292419</td>\n",
       "      <td>0.618559</td>\n",
       "      <td>0.358275</td>\n",
       "      <td>1.717385</td>\n",
       "      <td>0.107031</td>\n",
       "      <td>0.021094</td>\n",
       "      <td>0.253906</td>\n",
       "      <td>0.1931</td>\n",
       "      <td>0.185179</td>\n",
       "      <td>0.274958</td>\n",
       "      <td>0.239925</td>\n",
       "      <td>0.23255</td>\n",
       "      <td>0.253164</td>\n",
       "    </tr>\n",
       "    <tr>\n",
       "      <th>1</th>\n",
       "      <td>3.274312</td>\n",
       "      <td>3.309540</td>\n",
       "      <td>3.312831</td>\n",
       "      <td>0.618559</td>\n",
       "      <td>0.358275</td>\n",
       "      <td>1.717385</td>\n",
       "      <td>0.107031</td>\n",
       "      <td>0.021094</td>\n",
       "      <td>0.253906</td>\n",
       "      <td>0.1931</td>\n",
       "      <td>0.185179</td>\n",
       "      <td>0.274958</td>\n",
       "      <td>0.239925</td>\n",
       "      <td>0.23255</td>\n",
       "      <td>0.253164</td>\n",
       "    </tr>\n",
       "    <tr>\n",
       "      <th>2</th>\n",
       "      <td>3.298964</td>\n",
       "      <td>3.275258</td>\n",
       "      <td>3.308264</td>\n",
       "      <td>0.618559</td>\n",
       "      <td>0.358275</td>\n",
       "      <td>1.717385</td>\n",
       "      <td>0.107031</td>\n",
       "      <td>0.021094</td>\n",
       "      <td>0.253906</td>\n",
       "      <td>0.1931</td>\n",
       "      <td>0.185179</td>\n",
       "      <td>0.274958</td>\n",
       "      <td>0.239925</td>\n",
       "      <td>0.23255</td>\n",
       "      <td>0.253164</td>\n",
       "    </tr>\n",
       "    <tr>\n",
       "      <th>3</th>\n",
       "      <td>3.284066</td>\n",
       "      <td>3.275852</td>\n",
       "      <td>3.306214</td>\n",
       "      <td>0.618559</td>\n",
       "      <td>0.358275</td>\n",
       "      <td>1.717385</td>\n",
       "      <td>0.107031</td>\n",
       "      <td>0.021094</td>\n",
       "      <td>0.253906</td>\n",
       "      <td>0.1931</td>\n",
       "      <td>0.185179</td>\n",
       "      <td>0.274958</td>\n",
       "      <td>0.239925</td>\n",
       "      <td>0.23255</td>\n",
       "      <td>0.253164</td>\n",
       "    </tr>\n",
       "    <tr>\n",
       "      <th>4</th>\n",
       "      <td>3.280501</td>\n",
       "      <td>3.294480</td>\n",
       "      <td>3.312584</td>\n",
       "      <td>0.618559</td>\n",
       "      <td>0.358275</td>\n",
       "      <td>1.717385</td>\n",
       "      <td>0.107031</td>\n",
       "      <td>0.021094</td>\n",
       "      <td>0.253906</td>\n",
       "      <td>0.1931</td>\n",
       "      <td>0.185179</td>\n",
       "      <td>0.274958</td>\n",
       "      <td>0.239925</td>\n",
       "      <td>0.23255</td>\n",
       "      <td>0.253164</td>\n",
       "    </tr>\n",
       "    <tr>\n",
       "      <th>...</th>\n",
       "      <td>...</td>\n",
       "      <td>...</td>\n",
       "      <td>...</td>\n",
       "      <td>...</td>\n",
       "      <td>...</td>\n",
       "      <td>...</td>\n",
       "      <td>...</td>\n",
       "      <td>...</td>\n",
       "      <td>...</td>\n",
       "      <td>...</td>\n",
       "      <td>...</td>\n",
       "      <td>...</td>\n",
       "      <td>...</td>\n",
       "      <td>...</td>\n",
       "      <td>...</td>\n",
       "    </tr>\n",
       "    <tr>\n",
       "      <th>2101</th>\n",
       "      <td>3.309207</td>\n",
       "      <td>3.281770</td>\n",
       "      <td>3.289307</td>\n",
       "      <td>0.618559</td>\n",
       "      <td>0.358275</td>\n",
       "      <td>1.717385</td>\n",
       "      <td>0.107031</td>\n",
       "      <td>0.021094</td>\n",
       "      <td>0.253906</td>\n",
       "      <td>0.1931</td>\n",
       "      <td>0.185179</td>\n",
       "      <td>0.274958</td>\n",
       "      <td>0.239925</td>\n",
       "      <td>0.23255</td>\n",
       "      <td>0.253164</td>\n",
       "    </tr>\n",
       "    <tr>\n",
       "      <th>2102</th>\n",
       "      <td>3.275286</td>\n",
       "      <td>3.215557</td>\n",
       "      <td>3.293427</td>\n",
       "      <td>0.618559</td>\n",
       "      <td>0.358275</td>\n",
       "      <td>1.717385</td>\n",
       "      <td>0.107031</td>\n",
       "      <td>0.021094</td>\n",
       "      <td>0.253906</td>\n",
       "      <td>0.1931</td>\n",
       "      <td>0.185179</td>\n",
       "      <td>0.274958</td>\n",
       "      <td>0.239925</td>\n",
       "      <td>0.23255</td>\n",
       "      <td>0.253164</td>\n",
       "    </tr>\n",
       "    <tr>\n",
       "      <th>2103</th>\n",
       "      <td>3.209732</td>\n",
       "      <td>3.136212</td>\n",
       "      <td>3.293772</td>\n",
       "      <td>0.618559</td>\n",
       "      <td>0.358275</td>\n",
       "      <td>1.717385</td>\n",
       "      <td>0.107031</td>\n",
       "      <td>0.021094</td>\n",
       "      <td>0.253906</td>\n",
       "      <td>0.1931</td>\n",
       "      <td>0.185179</td>\n",
       "      <td>0.274958</td>\n",
       "      <td>0.239925</td>\n",
       "      <td>0.23255</td>\n",
       "      <td>0.253164</td>\n",
       "    </tr>\n",
       "    <tr>\n",
       "      <th>2104</th>\n",
       "      <td>3.174726</td>\n",
       "      <td>3.102717</td>\n",
       "      <td>3.294035</td>\n",
       "      <td>0.618559</td>\n",
       "      <td>0.358275</td>\n",
       "      <td>1.717385</td>\n",
       "      <td>0.107031</td>\n",
       "      <td>0.021094</td>\n",
       "      <td>0.253906</td>\n",
       "      <td>0.1931</td>\n",
       "      <td>0.185179</td>\n",
       "      <td>0.274958</td>\n",
       "      <td>0.239925</td>\n",
       "      <td>0.23255</td>\n",
       "      <td>0.253164</td>\n",
       "    </tr>\n",
       "    <tr>\n",
       "      <th>2105</th>\n",
       "      <td>2.399446</td>\n",
       "      <td>2.325134</td>\n",
       "      <td>2.481740</td>\n",
       "      <td>0.618559</td>\n",
       "      <td>0.358275</td>\n",
       "      <td>1.717385</td>\n",
       "      <td>0.107031</td>\n",
       "      <td>0.021094</td>\n",
       "      <td>0.253906</td>\n",
       "      <td>0.1931</td>\n",
       "      <td>0.185179</td>\n",
       "      <td>0.274958</td>\n",
       "      <td>0.239925</td>\n",
       "      <td>0.23255</td>\n",
       "      <td>0.253164</td>\n",
       "    </tr>\n",
       "  </tbody>\n",
       "</table>\n",
       "<p>2106 rows × 15 columns</p>\n",
       "</div>"
      ],
      "text/plain": [
       "           E x       E y       E z      SE x      SE y      SE z      SR x  \\\n",
       "0     2.764249  3.213640  3.292419  0.618559  0.358275  1.717385  0.107031   \n",
       "1     3.274312  3.309540  3.312831  0.618559  0.358275  1.717385  0.107031   \n",
       "2     3.298964  3.275258  3.308264  0.618559  0.358275  1.717385  0.107031   \n",
       "3     3.284066  3.275852  3.306214  0.618559  0.358275  1.717385  0.107031   \n",
       "4     3.280501  3.294480  3.312584  0.618559  0.358275  1.717385  0.107031   \n",
       "...        ...       ...       ...       ...       ...       ...       ...   \n",
       "2101  3.309207  3.281770  3.289307  0.618559  0.358275  1.717385  0.107031   \n",
       "2102  3.275286  3.215557  3.293427  0.618559  0.358275  1.717385  0.107031   \n",
       "2103  3.209732  3.136212  3.293772  0.618559  0.358275  1.717385  0.107031   \n",
       "2104  3.174726  3.102717  3.294035  0.618559  0.358275  1.717385  0.107031   \n",
       "2105  2.399446  2.325134  2.481740  0.618559  0.358275  1.717385  0.107031   \n",
       "\n",
       "          SR y      SR z    SC x      SC y      SC z      SS x     SS y  \\\n",
       "0     0.021094  0.253906  0.1931  0.185179  0.274958  0.239925  0.23255   \n",
       "1     0.021094  0.253906  0.1931  0.185179  0.274958  0.239925  0.23255   \n",
       "2     0.021094  0.253906  0.1931  0.185179  0.274958  0.239925  0.23255   \n",
       "3     0.021094  0.253906  0.1931  0.185179  0.274958  0.239925  0.23255   \n",
       "4     0.021094  0.253906  0.1931  0.185179  0.274958  0.239925  0.23255   \n",
       "...        ...       ...     ...       ...       ...       ...      ...   \n",
       "2101  0.021094  0.253906  0.1931  0.185179  0.274958  0.239925  0.23255   \n",
       "2102  0.021094  0.253906  0.1931  0.185179  0.274958  0.239925  0.23255   \n",
       "2103  0.021094  0.253906  0.1931  0.185179  0.274958  0.239925  0.23255   \n",
       "2104  0.021094  0.253906  0.1931  0.185179  0.274958  0.239925  0.23255   \n",
       "2105  0.021094  0.253906  0.1931  0.185179  0.274958  0.239925  0.23255   \n",
       "\n",
       "          SS z  \n",
       "0     0.253164  \n",
       "1     0.253164  \n",
       "2     0.253164  \n",
       "3     0.253164  \n",
       "4     0.253164  \n",
       "...        ...  \n",
       "2101  0.253164  \n",
       "2102  0.253164  \n",
       "2103  0.253164  \n",
       "2104  0.253164  \n",
       "2105  0.253164  \n",
       "\n",
       "[2106 rows x 15 columns]"
      ]
     },
     "execution_count": 16,
     "metadata": {},
     "output_type": "execute_result"
    }
   ],
   "source": [
    "entropy_ = pd.DataFrame(entropy_.T, columns =[\"E x\", \"E y\", \"E z\"])\n",
    "spec_entropy_ = pd.DataFrame(spec_ent.T, columns =[\"SE x\", \"SE y\", \"SE z\"])\n",
    "specroll_ = pd.DataFrame(spec_roll.T, columns =[\"SR x\", \"SR y\", \"SR z\"])\n",
    "spec_centr_ = pd.DataFrame(centr.T, columns =[\"SC x\", \"SC y\", \"SC z\"])\n",
    "spec_spread_ = pd.DataFrame(spec_spread.T, columns =[\"SS x\", \"SS y\", \"SS z\"])\n",
    "\n",
    "df_s = pd.concat([entropy_, spec_entropy_, specroll_, spec_centr_, spec_spread_], axis =1)\n",
    "df_s"
   ]
  },
  {
   "cell_type": "code",
   "execution_count": 17,
   "id": "1cc42634",
   "metadata": {},
   "outputs": [],
   "source": [
    "df_s.to_csv(\"/Users/ecem/Desktop/gyrocardiogram/M-15/spectral_features_gyro.csv\")"
   ]
  },
  {
   "cell_type": "code",
   "execution_count": null,
   "id": "dd59b9c0",
   "metadata": {},
   "outputs": [],
   "source": []
  }
 ],
 "metadata": {
  "kernelspec": {
   "display_name": "Python 3 (ipykernel)",
   "language": "python",
   "name": "python3"
  },
  "language_info": {
   "codemirror_mode": {
    "name": "ipython",
    "version": 3
   },
   "file_extension": ".py",
   "mimetype": "text/x-python",
   "name": "python",
   "nbconvert_exporter": "python",
   "pygments_lexer": "ipython3",
   "version": "3.9.9"
  }
 },
 "nbformat": 4,
 "nbformat_minor": 5
}
