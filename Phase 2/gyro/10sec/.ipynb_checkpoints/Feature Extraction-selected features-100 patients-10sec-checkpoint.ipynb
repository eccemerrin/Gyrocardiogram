{
 "cells": [
  {
   "cell_type": "code",
   "execution_count": 1,
   "id": "694203bd",
   "metadata": {},
   "outputs": [],
   "source": [
    "import numpy as np\n",
    "import math"
   ]
  },
  {
   "cell_type": "markdown",
   "id": "5f48c0b6",
   "metadata": {},
   "source": [
    "### define functions:"
   ]
  },
  {
   "cell_type": "code",
   "execution_count": 2,
   "id": "4210daf5",
   "metadata": {},
   "outputs": [],
   "source": [
    "def entropy(data, num_short_blocks=10):\n",
    "    eol = np.sum(np.square(data))\n",
    "    win_len = len(data)\n",
    "    sub_win_len = math.floor(win_len / num_short_blocks)\n",
    "\n",
    "    if win_len != sub_win_len * num_short_blocks:\n",
    "        data = data[0:sub_win_len * num_short_blocks]\n",
    "    sub_wins = data.reshape(sub_win_len, num_short_blocks, order='F').copy()\n",
    "    norm_sub_frame_energies = np.zeros((1, sub_wins.shape[1]))\n",
    "    for i in range(sub_wins.shape[1]):\n",
    "        norm_sub_frame_energies[0, i] = np.sum(np.square(sub_wins[:, i])) / (eol + np.spacing(1))\n",
    "    energy_entropy = 0\n",
    "    for i in range(norm_sub_frame_energies.shape[1]):\n",
    "        energy_entropy -= norm_sub_frame_energies[0, i] * math.log(norm_sub_frame_energies[0, i] + np.spacing(1), 2)\n",
    "    return energy_entropy"
   ]
  },
  {
   "cell_type": "code",
   "execution_count": 3,
   "id": "8f996db2",
   "metadata": {},
   "outputs": [],
   "source": [
    "def dft(data, f_s = 4000, p=0):\n",
    "    win_len = len(data)\n",
    "    fft = np.abs(np.fft.fft(data)) / win_len\n",
    "    if not p:\n",
    "        fft = fft[0:math.ceil(win_len)]\n",
    "        f_req = (f_s / 2) * np.arange(0, np.ceil(win_len / 2) + 1) / np.ceil(win_len / 2)\n",
    "    else:\n",
    "        fft = np.fft.fftshift(fft)\n",
    "        if win_len % 2:\n",
    "            f_req = np.arange(-(win_len - 1) / 2, (win_len - 1) / 2 + 1)\n",
    "        else:\n",
    "            f_req = np.arange(-win_len / 2, win_len / 2)\n",
    "    fft_1 = np.abs(fft)/win_len\n",
    "    fft_2 = fft_1[1:(round(win_len / 2) + 1)]\n",
    "    fft_2 = 2*fft_2\n",
    "    return fft_2, f_req"
   ]
  },
  {
   "cell_type": "code",
   "execution_count": 4,
   "id": "11f3894d",
   "metadata": {},
   "outputs": [],
   "source": [
    "def spectral_rolloff(data, c=0.90):\n",
    "    total_energy = np.sum(np.square(data))\n",
    "    curr_energy = 0\n",
    "    count_fft = 0\n",
    "    fft_len = len(data)\n",
    "    while curr_energy <= c * total_energy and count_fft <= fft_len:\n",
    "        curr_energy += data[count_fft] ** 2\n",
    "        count_fft += 1\n",
    "    count_fft -= 1\n",
    "    return (count_fft - 1) / fft_len"
   ]
  },
  {
   "cell_type": "code",
   "execution_count": 5,
   "id": "319c48bb",
   "metadata": {},
   "outputs": [],
   "source": [
    "def spectral_centroid(data, f_s = 4000):\n",
    "    fft_len = len(data)\n",
    "    m = np.transpose((f_s / (2 * fft_len)) * np.arange(1, fft_len+1))\n",
    "    data = data / np.max(data)\n",
    "    c = np.sum(np.multiply(m, data)) / (np.sum(data) + np.spacing(1))\n",
    "    k = np.sum(np.square(m - c) * data)\n",
    "    l = (np.sum(data) + np.spacing(1))\n",
    "    \n",
    "    if k*l <0 :\n",
    "        s = math.sqrt( -1* k / l ) / (f_s / 2)\n",
    "        c = c / (f_s / 2)\n",
    "        return c\n",
    "    else:\n",
    "        s = math.sqrt( k / l ) / (f_s / 2)\n",
    "        c = c / (f_s / 2)\n",
    "        return c"
   ]
  },
  {
   "cell_type": "code",
   "execution_count": 6,
   "id": "55532b45",
   "metadata": {},
   "outputs": [],
   "source": [
    "def spectral_spread(data, f_s=4000):\n",
    "    fft_len = len(data)\n",
    "    m = np.transpose((f_s / (2 * fft_len)) * np.arange(1, fft_len+1))\n",
    "    data = data / np.max(data)\n",
    "    c = np.sum(np.multiply(m, data)) / (np.sum(data) + np.spacing(1))\n",
    "    k = np.sum(np.square(m - c) * data)\n",
    "    l = (np.sum(data) + np.spacing(1))\n",
    "    \n",
    "    if k*l <0 :\n",
    "        s = math.sqrt( -1* k / l ) / (f_s / 2)\n",
    "        c = c / (f_s / 2)\n",
    "        return c\n",
    "    else:\n",
    "        s = math.sqrt( k / l ) / (f_s / 2)\n",
    "        c = c / (f_s / 2)\n",
    "        return s"
   ]
  },
  {
   "cell_type": "markdown",
   "id": "ab6409f8",
   "metadata": {},
   "source": [
    "### define data"
   ]
  },
  {
   "cell_type": "code",
   "execution_count": 7,
   "id": "b138fab7",
   "metadata": {},
   "outputs": [],
   "source": [
    "path = \"/Users/ecem/Desktop/gyrocardiogram/phase2/\""
   ]
  },
  {
   "cell_type": "code",
   "execution_count": 8,
   "id": "449c9cd1",
   "metadata": {},
   "outputs": [],
   "source": [
    "x = np.load(path + \"10sec_x_splitted.npy\", allow_pickle= True)\n",
    "y = np.load(path + \"10sec_y_splitted.npy\", allow_pickle= True)\n",
    "z = np.load(path + \"10sec_z_splitted.npy\", allow_pickle= True)"
   ]
  },
  {
   "cell_type": "code",
   "execution_count": 9,
   "id": "78436ea3",
   "metadata": {},
   "outputs": [
    {
     "data": {
      "text/plain": [
       "(3917, 2560)"
      ]
     },
     "execution_count": 9,
     "metadata": {},
     "output_type": "execute_result"
    }
   ],
   "source": [
    "x.shape"
   ]
  },
  {
   "cell_type": "code",
   "execution_count": 10,
   "id": "c8cc127e",
   "metadata": {},
   "outputs": [
    {
     "data": {
      "text/plain": [
       "2560"
      ]
     },
     "execution_count": 10,
     "metadata": {},
     "output_type": "execute_result"
    }
   ],
   "source": [
    "len(x[0])"
   ]
  },
  {
   "cell_type": "code",
   "execution_count": 11,
   "id": "7fc6eb3f",
   "metadata": {},
   "outputs": [
    {
     "data": {
      "text/plain": [
       "2560"
      ]
     },
     "execution_count": 11,
     "metadata": {},
     "output_type": "execute_result"
    }
   ],
   "source": [
    "len(y[0])"
   ]
  },
  {
   "cell_type": "code",
   "execution_count": 12,
   "id": "7dbd666a",
   "metadata": {},
   "outputs": [
    {
     "data": {
      "text/plain": [
       "2560"
      ]
     },
     "execution_count": 12,
     "metadata": {},
     "output_type": "execute_result"
    }
   ],
   "source": [
    "len(z[0])"
   ]
  },
  {
   "cell_type": "code",
   "execution_count": 13,
   "id": "c5089db8",
   "metadata": {},
   "outputs": [],
   "source": [
    "diseased = np.stack((x, y, z), axis = 0)"
   ]
  },
  {
   "cell_type": "code",
   "execution_count": 14,
   "id": "55a03074",
   "metadata": {},
   "outputs": [
    {
     "name": "stdout",
     "output_type": "stream",
     "text": [
      "(3, 3917, 2560)\n"
     ]
    }
   ],
   "source": [
    "#sanity check\n",
    "print(diseased.shape)"
   ]
  },
  {
   "cell_type": "markdown",
   "id": "74e55e4c",
   "metadata": {},
   "source": [
    "## Feature Extraction:\n"
   ]
  },
  {
   "cell_type": "markdown",
   "id": "9d918c4f",
   "metadata": {},
   "source": [
    "### Spectral Entropy:"
   ]
  },
  {
   "cell_type": "code",
   "execution_count": 15,
   "id": "c83eda63",
   "metadata": {},
   "outputs": [],
   "source": [
    "dft_ = dft(diseased[0][1])[0]"
   ]
  },
  {
   "cell_type": "code",
   "execution_count": 16,
   "id": "e749f8e3",
   "metadata": {},
   "outputs": [
    {
     "data": {
      "text/plain": [
       "(2560,)"
      ]
     },
     "execution_count": 16,
     "metadata": {},
     "output_type": "execute_result"
    }
   ],
   "source": [
    "diseased[0,1].shape"
   ]
  },
  {
   "cell_type": "code",
   "execution_count": 17,
   "id": "3cf8349c",
   "metadata": {},
   "outputs": [
    {
     "data": {
      "text/plain": [
       "3.2743116201419538"
      ]
     },
     "execution_count": 17,
     "metadata": {},
     "output_type": "execute_result"
    }
   ],
   "source": [
    "entropy(diseased[0][1])"
   ]
  },
  {
   "cell_type": "code",
   "execution_count": 18,
   "id": "c3584feb",
   "metadata": {},
   "outputs": [],
   "source": [
    "entropy_ = np.ndarray((3, diseased.shape[1]))\n",
    "for i in range(diseased.shape[1]):\n",
    "    entropy_[0,i] = entropy(diseased[0,i], num_short_blocks = 10)\n",
    "    entropy_[1,i] = entropy(diseased[1,i], num_short_blocks = 10)\n",
    "    entropy_[2,i] = entropy(diseased[2,i], num_short_blocks = 10)            "
   ]
  },
  {
   "cell_type": "code",
   "execution_count": 19,
   "id": "15c703b9",
   "metadata": {},
   "outputs": [
    {
     "data": {
      "text/plain": [
       "(3, 3917)"
      ]
     },
     "execution_count": 19,
     "metadata": {},
     "output_type": "execute_result"
    }
   ],
   "source": [
    "entropy_.shape"
   ]
  },
  {
   "cell_type": "markdown",
   "id": "96f7ed64",
   "metadata": {},
   "source": [
    "### Spectral Rolloff"
   ]
  },
  {
   "cell_type": "code",
   "execution_count": 20,
   "id": "e63fd2b6",
   "metadata": {},
   "outputs": [
    {
     "data": {
      "text/plain": [
       "0.103125"
      ]
     },
     "execution_count": 20,
     "metadata": {},
     "output_type": "execute_result"
    }
   ],
   "source": [
    "spectral_rolloff(dft_)"
   ]
  },
  {
   "cell_type": "code",
   "execution_count": 21,
   "id": "6c951ae1",
   "metadata": {},
   "outputs": [],
   "source": [
    "spec_roll = np.ndarray((3, diseased.shape[1]))\n",
    "for i in range(diseased.shape[1]):\n",
    "    spec_roll[0,i] = spectral_rolloff(diseased[0,i])\n",
    "    spec_roll[1,i] = spectral_rolloff(diseased[1,i])\n",
    "    spec_roll[2,i] = spectral_rolloff(diseased[2,i])  \n",
    "    "
   ]
  },
  {
   "cell_type": "code",
   "execution_count": 22,
   "id": "e471e51b",
   "metadata": {},
   "outputs": [
    {
     "data": {
      "text/plain": [
       "(3, 3917)"
      ]
     },
     "execution_count": 22,
     "metadata": {},
     "output_type": "execute_result"
    }
   ],
   "source": [
    "spec_roll.shape"
   ]
  },
  {
   "cell_type": "code",
   "execution_count": 23,
   "id": "c9ca643e",
   "metadata": {
    "scrolled": true
   },
   "outputs": [
    {
     "data": {
      "text/plain": [
       "array([[0.8       , 0.88945312, 0.94257813, ..., 0.88515625, 0.86171875,\n",
       "        0.4328125 ],\n",
       "       [0.8796875 , 0.88476562, 0.88125   , ..., 0.8078125 , 0.85859375,\n",
       "        0.390625  ],\n",
       "       [0.87851563, 0.87304688, 0.91328125, ..., 0.91523438, 0.87109375,\n",
       "        0.45273438]])"
      ]
     },
     "execution_count": 23,
     "metadata": {},
     "output_type": "execute_result"
    }
   ],
   "source": [
    "spec_roll"
   ]
  },
  {
   "cell_type": "markdown",
   "id": "fb344b3a",
   "metadata": {},
   "source": [
    "### Spectral Centroid:"
   ]
  },
  {
   "cell_type": "code",
   "execution_count": 24,
   "id": "9b623579",
   "metadata": {},
   "outputs": [
    {
     "data": {
      "text/plain": [
       "0.29175691675502463"
      ]
     },
     "execution_count": 24,
     "metadata": {},
     "output_type": "execute_result"
    }
   ],
   "source": [
    "spectral_centroid(dft_)"
   ]
  },
  {
   "cell_type": "code",
   "execution_count": 25,
   "id": "0d8a001f",
   "metadata": {},
   "outputs": [
    {
     "name": "stderr",
     "output_type": "stream",
     "text": [
      "/var/folders/gd/3d6ckpdn4q30skhxnvs_p7b80000gn/T/ipykernel_47140/2867588435.py:4: RuntimeWarning: divide by zero encountered in true_divide\n",
      "  data = data / np.max(data)\n",
      "/var/folders/gd/3d6ckpdn4q30skhxnvs_p7b80000gn/T/ipykernel_47140/2867588435.py:4: RuntimeWarning: invalid value encountered in true_divide\n",
      "  data = data / np.max(data)\n"
     ]
    }
   ],
   "source": [
    "centr = np.ndarray((3, diseased.shape[1]))\n",
    "for i in range(diseased.shape[1]):\n",
    "    centr[0,i] = spectral_centroid(diseased[0,i])\n",
    "    centr[1,i] = spectral_centroid(diseased[1,i])\n",
    "    centr[2,i] = spectral_centroid(diseased[2,i])  "
   ]
  },
  {
   "cell_type": "code",
   "execution_count": 26,
   "id": "8383834b",
   "metadata": {},
   "outputs": [
    {
     "data": {
      "text/plain": [
       "(3, 3917)"
      ]
     },
     "execution_count": 26,
     "metadata": {},
     "output_type": "execute_result"
    }
   ],
   "source": [
    "centr.shape"
   ]
  },
  {
   "cell_type": "code",
   "execution_count": 27,
   "id": "6ed34d60",
   "metadata": {
    "scrolled": true
   },
   "outputs": [
    {
     "data": {
      "text/plain": [
       "array([[ 0.45448364,  0.49707354,  0.51349673, ...,  0.71025242,\n",
       "         0.58394504, -0.05804273],\n",
       "       [ 0.93892826,  0.15512827,  0.79594941, ...,  0.62306243,\n",
       "         0.45629857, -0.07539979],\n",
       "       [ 0.49429198,  0.49041168,  0.49398174, ...,  0.39691348,\n",
       "         0.45238621,  0.0583299 ]])"
      ]
     },
     "execution_count": 27,
     "metadata": {},
     "output_type": "execute_result"
    }
   ],
   "source": [
    "centr"
   ]
  },
  {
   "cell_type": "markdown",
   "id": "5019fb68",
   "metadata": {},
   "source": [
    "### Spectral Spread"
   ]
  },
  {
   "cell_type": "code",
   "execution_count": 28,
   "id": "0f6668ea",
   "metadata": {},
   "outputs": [
    {
     "name": "stderr",
     "output_type": "stream",
     "text": [
      "/var/folders/gd/3d6ckpdn4q30skhxnvs_p7b80000gn/T/ipykernel_47140/1137831754.py:4: RuntimeWarning: divide by zero encountered in true_divide\n",
      "  data = data / np.max(data)\n",
      "/var/folders/gd/3d6ckpdn4q30skhxnvs_p7b80000gn/T/ipykernel_47140/1137831754.py:4: RuntimeWarning: invalid value encountered in true_divide\n",
      "  data = data / np.max(data)\n"
     ]
    }
   ],
   "source": [
    "spec_spread = np.ndarray((3, diseased.shape[1]))\n",
    "for i in range(diseased.shape[1]):\n",
    "    spec_spread[0,i] = spectral_spread(diseased[0,i])\n",
    "    spec_spread[1,i] = spectral_spread(diseased[1,i])\n",
    "    spec_spread[2,i] = spectral_spread(diseased[2,i])  \n"
   ]
  },
  {
   "cell_type": "markdown",
   "id": "ed342388",
   "metadata": {},
   "source": [
    "# DIVIDE BY ZERO HATASINI SOR:"
   ]
  },
  {
   "cell_type": "code",
   "execution_count": 29,
   "id": "daf3a1ae",
   "metadata": {},
   "outputs": [
    {
     "data": {
      "text/plain": [
       "(3, 3917)"
      ]
     },
     "execution_count": 29,
     "metadata": {},
     "output_type": "execute_result"
    }
   ],
   "source": [
    "spec_spread.shape"
   ]
  },
  {
   "cell_type": "code",
   "execution_count": 30,
   "id": "590d9fff",
   "metadata": {
    "scrolled": true
   },
   "outputs": [
    {
     "data": {
      "text/plain": [
       "array([[ 0.31789196,  0.29211249,  0.29531714, ...,  0.46212766,\n",
       "         0.52265884, -0.05804273],\n",
       "       [ 0.93892826,  0.32913979,  0.41978198, ...,  0.504313  ,\n",
       "         0.50517219, -0.07539979],\n",
       "       [ 0.29154947,  0.2889934 ,  0.28911898, ...,  0.39691348,\n",
       "         0.42651615,  0.12907311]])"
      ]
     },
     "execution_count": 30,
     "metadata": {},
     "output_type": "execute_result"
    }
   ],
   "source": [
    "spec_spread"
   ]
  },
  {
   "cell_type": "markdown",
   "id": "cf8d541f",
   "metadata": {},
   "source": [
    "### Create DataFrame"
   ]
  },
  {
   "cell_type": "code",
   "execution_count": 31,
   "id": "aa73ff1e",
   "metadata": {},
   "outputs": [],
   "source": [
    "import pandas as pd"
   ]
  },
  {
   "cell_type": "code",
   "execution_count": 32,
   "id": "75b33461",
   "metadata": {},
   "outputs": [
    {
     "data": {
      "text/html": [
       "<div>\n",
       "<style scoped>\n",
       "    .dataframe tbody tr th:only-of-type {\n",
       "        vertical-align: middle;\n",
       "    }\n",
       "\n",
       "    .dataframe tbody tr th {\n",
       "        vertical-align: top;\n",
       "    }\n",
       "\n",
       "    .dataframe thead th {\n",
       "        text-align: right;\n",
       "    }\n",
       "</style>\n",
       "<table border=\"1\" class=\"dataframe\">\n",
       "  <thead>\n",
       "    <tr style=\"text-align: right;\">\n",
       "      <th></th>\n",
       "      <th>SE x</th>\n",
       "      <th>SE y</th>\n",
       "      <th>SE z</th>\n",
       "      <th>SR x</th>\n",
       "      <th>SR y</th>\n",
       "      <th>SR z</th>\n",
       "      <th>SC x</th>\n",
       "      <th>SC y</th>\n",
       "      <th>SC z</th>\n",
       "      <th>SS x</th>\n",
       "      <th>SS y</th>\n",
       "      <th>SS z</th>\n",
       "    </tr>\n",
       "  </thead>\n",
       "  <tbody>\n",
       "    <tr>\n",
       "      <th>0</th>\n",
       "      <td>2.764249</td>\n",
       "      <td>3.213640</td>\n",
       "      <td>3.292419</td>\n",
       "      <td>0.800000</td>\n",
       "      <td>0.879687</td>\n",
       "      <td>0.878516</td>\n",
       "      <td>0.454484</td>\n",
       "      <td>0.938928</td>\n",
       "      <td>0.494292</td>\n",
       "      <td>0.317892</td>\n",
       "      <td>0.938928</td>\n",
       "      <td>0.291549</td>\n",
       "    </tr>\n",
       "    <tr>\n",
       "      <th>1</th>\n",
       "      <td>3.274312</td>\n",
       "      <td>3.309540</td>\n",
       "      <td>3.312831</td>\n",
       "      <td>0.889453</td>\n",
       "      <td>0.884766</td>\n",
       "      <td>0.873047</td>\n",
       "      <td>0.497074</td>\n",
       "      <td>0.155128</td>\n",
       "      <td>0.490412</td>\n",
       "      <td>0.292112</td>\n",
       "      <td>0.329140</td>\n",
       "      <td>0.288993</td>\n",
       "    </tr>\n",
       "    <tr>\n",
       "      <th>2</th>\n",
       "      <td>3.298964</td>\n",
       "      <td>3.275258</td>\n",
       "      <td>3.308264</td>\n",
       "      <td>0.942578</td>\n",
       "      <td>0.881250</td>\n",
       "      <td>0.913281</td>\n",
       "      <td>0.513497</td>\n",
       "      <td>0.795949</td>\n",
       "      <td>0.493982</td>\n",
       "      <td>0.295317</td>\n",
       "      <td>0.419782</td>\n",
       "      <td>0.289119</td>\n",
       "    </tr>\n",
       "    <tr>\n",
       "      <th>3</th>\n",
       "      <td>3.284066</td>\n",
       "      <td>3.275852</td>\n",
       "      <td>3.306214</td>\n",
       "      <td>0.880469</td>\n",
       "      <td>0.871875</td>\n",
       "      <td>0.893359</td>\n",
       "      <td>0.539506</td>\n",
       "      <td>0.638711</td>\n",
       "      <td>0.499485</td>\n",
       "      <td>0.261887</td>\n",
       "      <td>0.408647</td>\n",
       "      <td>0.287926</td>\n",
       "    </tr>\n",
       "    <tr>\n",
       "      <th>4</th>\n",
       "      <td>3.280501</td>\n",
       "      <td>3.294480</td>\n",
       "      <td>3.312584</td>\n",
       "      <td>0.899609</td>\n",
       "      <td>0.888672</td>\n",
       "      <td>0.889844</td>\n",
       "      <td>0.521286</td>\n",
       "      <td>0.161650</td>\n",
       "      <td>0.501276</td>\n",
       "      <td>0.292120</td>\n",
       "      <td>0.237132</td>\n",
       "      <td>0.281535</td>\n",
       "    </tr>\n",
       "    <tr>\n",
       "      <th>...</th>\n",
       "      <td>...</td>\n",
       "      <td>...</td>\n",
       "      <td>...</td>\n",
       "      <td>...</td>\n",
       "      <td>...</td>\n",
       "      <td>...</td>\n",
       "      <td>...</td>\n",
       "      <td>...</td>\n",
       "      <td>...</td>\n",
       "      <td>...</td>\n",
       "      <td>...</td>\n",
       "      <td>...</td>\n",
       "    </tr>\n",
       "    <tr>\n",
       "      <th>3912</th>\n",
       "      <td>3.309207</td>\n",
       "      <td>3.281770</td>\n",
       "      <td>3.289307</td>\n",
       "      <td>0.881641</td>\n",
       "      <td>0.833594</td>\n",
       "      <td>0.882812</td>\n",
       "      <td>-20.216970</td>\n",
       "      <td>2.443424</td>\n",
       "      <td>-0.161938</td>\n",
       "      <td>-20.216970</td>\n",
       "      <td>2.443424</td>\n",
       "      <td>-0.161938</td>\n",
       "    </tr>\n",
       "    <tr>\n",
       "      <th>3913</th>\n",
       "      <td>3.275286</td>\n",
       "      <td>3.215557</td>\n",
       "      <td>3.293427</td>\n",
       "      <td>0.911328</td>\n",
       "      <td>0.920703</td>\n",
       "      <td>0.905078</td>\n",
       "      <td>0.328882</td>\n",
       "      <td>0.336628</td>\n",
       "      <td>0.784633</td>\n",
       "      <td>0.467273</td>\n",
       "      <td>0.453857</td>\n",
       "      <td>0.157898</td>\n",
       "    </tr>\n",
       "    <tr>\n",
       "      <th>3914</th>\n",
       "      <td>3.209732</td>\n",
       "      <td>3.136212</td>\n",
       "      <td>3.293772</td>\n",
       "      <td>0.885156</td>\n",
       "      <td>0.807813</td>\n",
       "      <td>0.915234</td>\n",
       "      <td>0.710252</td>\n",
       "      <td>0.623062</td>\n",
       "      <td>0.396913</td>\n",
       "      <td>0.462128</td>\n",
       "      <td>0.504313</td>\n",
       "      <td>0.396913</td>\n",
       "    </tr>\n",
       "    <tr>\n",
       "      <th>3915</th>\n",
       "      <td>3.174726</td>\n",
       "      <td>3.102717</td>\n",
       "      <td>3.294035</td>\n",
       "      <td>0.861719</td>\n",
       "      <td>0.858594</td>\n",
       "      <td>0.871094</td>\n",
       "      <td>0.583945</td>\n",
       "      <td>0.456299</td>\n",
       "      <td>0.452386</td>\n",
       "      <td>0.522659</td>\n",
       "      <td>0.505172</td>\n",
       "      <td>0.426516</td>\n",
       "    </tr>\n",
       "    <tr>\n",
       "      <th>3916</th>\n",
       "      <td>2.399446</td>\n",
       "      <td>2.325134</td>\n",
       "      <td>2.481740</td>\n",
       "      <td>0.432812</td>\n",
       "      <td>0.390625</td>\n",
       "      <td>0.452734</td>\n",
       "      <td>-0.058043</td>\n",
       "      <td>-0.075400</td>\n",
       "      <td>0.058330</td>\n",
       "      <td>-0.058043</td>\n",
       "      <td>-0.075400</td>\n",
       "      <td>0.129073</td>\n",
       "    </tr>\n",
       "  </tbody>\n",
       "</table>\n",
       "<p>3917 rows × 12 columns</p>\n",
       "</div>"
      ],
      "text/plain": [
       "          SE x      SE y      SE z      SR x      SR y      SR z       SC x  \\\n",
       "0     2.764249  3.213640  3.292419  0.800000  0.879687  0.878516   0.454484   \n",
       "1     3.274312  3.309540  3.312831  0.889453  0.884766  0.873047   0.497074   \n",
       "2     3.298964  3.275258  3.308264  0.942578  0.881250  0.913281   0.513497   \n",
       "3     3.284066  3.275852  3.306214  0.880469  0.871875  0.893359   0.539506   \n",
       "4     3.280501  3.294480  3.312584  0.899609  0.888672  0.889844   0.521286   \n",
       "...        ...       ...       ...       ...       ...       ...        ...   \n",
       "3912  3.309207  3.281770  3.289307  0.881641  0.833594  0.882812 -20.216970   \n",
       "3913  3.275286  3.215557  3.293427  0.911328  0.920703  0.905078   0.328882   \n",
       "3914  3.209732  3.136212  3.293772  0.885156  0.807813  0.915234   0.710252   \n",
       "3915  3.174726  3.102717  3.294035  0.861719  0.858594  0.871094   0.583945   \n",
       "3916  2.399446  2.325134  2.481740  0.432812  0.390625  0.452734  -0.058043   \n",
       "\n",
       "          SC y      SC z       SS x      SS y      SS z  \n",
       "0     0.938928  0.494292   0.317892  0.938928  0.291549  \n",
       "1     0.155128  0.490412   0.292112  0.329140  0.288993  \n",
       "2     0.795949  0.493982   0.295317  0.419782  0.289119  \n",
       "3     0.638711  0.499485   0.261887  0.408647  0.287926  \n",
       "4     0.161650  0.501276   0.292120  0.237132  0.281535  \n",
       "...        ...       ...        ...       ...       ...  \n",
       "3912  2.443424 -0.161938 -20.216970  2.443424 -0.161938  \n",
       "3913  0.336628  0.784633   0.467273  0.453857  0.157898  \n",
       "3914  0.623062  0.396913   0.462128  0.504313  0.396913  \n",
       "3915  0.456299  0.452386   0.522659  0.505172  0.426516  \n",
       "3916 -0.075400  0.058330  -0.058043 -0.075400  0.129073  \n",
       "\n",
       "[3917 rows x 12 columns]"
      ]
     },
     "execution_count": 32,
     "metadata": {},
     "output_type": "execute_result"
    }
   ],
   "source": [
    "spec_entropy = pd.DataFrame(entropy_.T, columns =[\"SE x\", \"SE y\", \"SE z\"])\n",
    "specroll = pd.DataFrame(spec_roll.T, columns =[\"SR x\", \"SR y\", \"SR z\"])\n",
    "spec_centr = pd.DataFrame(centr.T, columns =[\"SC x\", \"SC y\", \"SC z\"])\n",
    "spec_spread = pd.DataFrame(spec_spread.T, columns =[\"SS x\", \"SS y\", \"SS z\"])\n",
    "\n",
    "df = pd.concat([spec_entropy, specroll, spec_centr, spec_spread], axis =1)\n",
    "df"
   ]
  },
  {
   "cell_type": "code",
   "execution_count": 33,
   "id": "1cc42634",
   "metadata": {},
   "outputs": [],
   "source": [
    "df.to_csv(path + \"selected_features_10sec.csv\")"
   ]
  },
  {
   "cell_type": "code",
   "execution_count": null,
   "id": "dd59b9c0",
   "metadata": {},
   "outputs": [],
   "source": []
  }
 ],
 "metadata": {
  "kernelspec": {
   "display_name": "Python 3 (ipykernel)",
   "language": "python",
   "name": "python3"
  },
  "language_info": {
   "codemirror_mode": {
    "name": "ipython",
    "version": 3
   },
   "file_extension": ".py",
   "mimetype": "text/x-python",
   "name": "python",
   "nbconvert_exporter": "python",
   "pygments_lexer": "ipython3",
   "version": "3.9.9"
  }
 },
 "nbformat": 4,
 "nbformat_minor": 5
}
