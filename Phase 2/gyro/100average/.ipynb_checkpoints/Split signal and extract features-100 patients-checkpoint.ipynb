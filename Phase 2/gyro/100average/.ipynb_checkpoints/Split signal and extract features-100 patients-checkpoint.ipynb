{
 "cells": [
  {
   "cell_type": "code",
   "execution_count": 1,
   "id": "78bb2bef",
   "metadata": {},
   "outputs": [],
   "source": [
    "import numpy as np"
   ]
  },
  {
   "cell_type": "code",
   "execution_count": 2,
   "id": "18da1087",
   "metadata": {},
   "outputs": [],
   "source": [
    "dir_path = \"/Users/ecem/Desktop/gyrocardiogram/data\""
   ]
  },
  {
   "cell_type": "code",
   "execution_count": 3,
   "id": "8b055d05",
   "metadata": {},
   "outputs": [],
   "source": [
    "x = np.load(dir_path + \"/gyro_x.npy\", allow_pickle= True)\n",
    "y = np.load(dir_path + \"/gyro_y.npy\", allow_pickle= True)\n",
    "z = np.load(dir_path + \"/gyro_z.npy\", allow_pickle= True)"
   ]
  },
  {
   "cell_type": "code",
   "execution_count": 4,
   "id": "77279e43",
   "metadata": {},
   "outputs": [
    {
     "name": "stdout",
     "output_type": "stream",
     "text": [
      "(100,)\n",
      "(100,)\n",
      "(100,)\n"
     ]
    }
   ],
   "source": [
    "print(x.shape)\n",
    "print(y.shape)\n",
    "print(z.shape)"
   ]
  },
  {
   "cell_type": "code",
   "execution_count": 5,
   "id": "405b62e2",
   "metadata": {},
   "outputs": [],
   "source": [
    "diseased = np.vstack((x, y, z))\n",
    "diseased = diseased.reshape((100,3))"
   ]
  },
  {
   "cell_type": "code",
   "execution_count": 6,
   "id": "6a443f6f",
   "metadata": {},
   "outputs": [
    {
     "name": "stdout",
     "output_type": "stream",
     "text": [
      "(100, 3)\n"
     ]
    }
   ],
   "source": [
    "print(diseased.shape)"
   ]
  },
  {
   "cell_type": "code",
   "execution_count": 7,
   "id": "c33d7a84",
   "metadata": {},
   "outputs": [
    {
     "data": {
      "text/plain": [
       "array([0.51908397, 0.5648855 , 0.51908397, ..., 0.6259542 , 1.14503817,\n",
       "       0.73282443])"
      ]
     },
     "execution_count": 7,
     "metadata": {},
     "output_type": "execute_result"
    }
   ],
   "source": [
    "x[0]"
   ]
  },
  {
   "cell_type": "code",
   "execution_count": 8,
   "id": "303b1de7",
   "metadata": {},
   "outputs": [
    {
     "data": {
      "text/plain": [
       "array([0.51908397, 0.5648855 , 0.51908397, ..., 0.6259542 , 1.14503817,\n",
       "       0.73282443])"
      ]
     },
     "execution_count": 8,
     "metadata": {},
     "output_type": "execute_result"
    }
   ],
   "source": [
    "diseased[0][0]"
   ]
  },
  {
   "cell_type": "code",
   "execution_count": 9,
   "id": "22c3d3db",
   "metadata": {},
   "outputs": [],
   "source": [
    "def splitter(array, slicing_point = 10000, duration = 10, sampling_rate = 256):\n",
    "    wanted_npts = int(sampling_rate * duration) \n",
    "    npts = int(array[0].shape[0] - 10000)\n",
    "    lenght = npts // wanted_npts\n",
    "    remainder = int(np.around((((npts / wanted_npts - lenght)) * wanted_npts), 0))\n",
    "    \n",
    "    print(lenght)\n",
    "    \n",
    "    return [np.array_split(array[0][slicing_point + remainder:],lenght),\n",
    "           np.array_split(array[1][slicing_point + remainder:],lenght),\n",
    "           np.array_split(array[2][slicing_point + remainder:],lenght)]"
   ]
  },
  {
   "cell_type": "code",
   "execution_count": 10,
   "id": "daafd306",
   "metadata": {},
   "outputs": [],
   "source": [
    "def merger(array, slicing_point = 10000, duration = 10):\n",
    "    _x, _y, _z  = [], [], []\n",
    "    for i in range(array.shape[0]):\n",
    "        a, b, c = splitter(array[i], slicing_point = slicing_point, duration = duration)\n",
    "        print(type(a))\n",
    "        print(type(a[0]))\n",
    "        _x.append(a)\n",
    "        _y.append(b)\n",
    "        _z.append(c)\n",
    "\n",
    "    return _x,_y,_z"
   ]
  },
  {
   "cell_type": "code",
   "execution_count": 11,
   "id": "f08fa120",
   "metadata": {},
   "outputs": [
    {
     "name": "stdout",
     "output_type": "stream",
     "text": [
      "44\n",
      "<class 'list'>\n",
      "<class 'numpy.ndarray'>\n",
      "49\n",
      "<class 'list'>\n",
      "<class 'numpy.ndarray'>\n",
      "37\n",
      "<class 'list'>\n",
      "<class 'numpy.ndarray'>\n",
      "43\n",
      "<class 'list'>\n",
      "<class 'numpy.ndarray'>\n",
      "49\n",
      "<class 'list'>\n",
      "<class 'numpy.ndarray'>\n",
      "49\n",
      "<class 'list'>\n",
      "<class 'numpy.ndarray'>\n",
      "53\n",
      "<class 'list'>\n",
      "<class 'numpy.ndarray'>\n",
      "43\n",
      "<class 'list'>\n",
      "<class 'numpy.ndarray'>\n",
      "49\n",
      "<class 'list'>\n",
      "<class 'numpy.ndarray'>\n",
      "47\n",
      "<class 'list'>\n",
      "<class 'numpy.ndarray'>\n",
      "52\n",
      "<class 'list'>\n",
      "<class 'numpy.ndarray'>\n",
      "57\n",
      "<class 'list'>\n",
      "<class 'numpy.ndarray'>\n",
      "40\n",
      "<class 'list'>\n",
      "<class 'numpy.ndarray'>\n",
      "48\n",
      "<class 'list'>\n",
      "<class 'numpy.ndarray'>\n",
      "38\n",
      "<class 'list'>\n",
      "<class 'numpy.ndarray'>\n",
      "37\n",
      "<class 'list'>\n",
      "<class 'numpy.ndarray'>\n",
      "42\n",
      "<class 'list'>\n",
      "<class 'numpy.ndarray'>\n",
      "38\n",
      "<class 'list'>\n",
      "<class 'numpy.ndarray'>\n",
      "43\n",
      "<class 'list'>\n",
      "<class 'numpy.ndarray'>\n",
      "39\n",
      "<class 'list'>\n",
      "<class 'numpy.ndarray'>\n",
      "45\n",
      "<class 'list'>\n",
      "<class 'numpy.ndarray'>\n",
      "41\n",
      "<class 'list'>\n",
      "<class 'numpy.ndarray'>\n",
      "47\n",
      "<class 'list'>\n",
      "<class 'numpy.ndarray'>\n",
      "42\n",
      "<class 'list'>\n",
      "<class 'numpy.ndarray'>\n",
      "32\n",
      "<class 'list'>\n",
      "<class 'numpy.ndarray'>\n",
      "30\n",
      "<class 'list'>\n",
      "<class 'numpy.ndarray'>\n",
      "27\n",
      "<class 'list'>\n",
      "<class 'numpy.ndarray'>\n",
      "27\n",
      "<class 'list'>\n",
      "<class 'numpy.ndarray'>\n",
      "29\n",
      "<class 'list'>\n",
      "<class 'numpy.ndarray'>\n",
      "27\n",
      "<class 'list'>\n",
      "<class 'numpy.ndarray'>\n",
      "27\n",
      "<class 'list'>\n",
      "<class 'numpy.ndarray'>\n",
      "11\n",
      "<class 'list'>\n",
      "<class 'numpy.ndarray'>\n",
      "11\n",
      "<class 'list'>\n",
      "<class 'numpy.ndarray'>\n",
      "11\n",
      "<class 'list'>\n",
      "<class 'numpy.ndarray'>\n",
      "55\n",
      "<class 'list'>\n",
      "<class 'numpy.ndarray'>\n",
      "37\n",
      "<class 'list'>\n",
      "<class 'numpy.ndarray'>\n",
      "49\n",
      "<class 'list'>\n",
      "<class 'numpy.ndarray'>\n",
      "61\n",
      "<class 'list'>\n",
      "<class 'numpy.ndarray'>\n",
      "49\n",
      "<class 'list'>\n",
      "<class 'numpy.ndarray'>\n",
      "58\n",
      "<class 'list'>\n",
      "<class 'numpy.ndarray'>\n",
      "43\n",
      "<class 'list'>\n",
      "<class 'numpy.ndarray'>\n",
      "37\n",
      "<class 'list'>\n",
      "<class 'numpy.ndarray'>\n",
      "50\n",
      "<class 'list'>\n",
      "<class 'numpy.ndarray'>\n",
      "44\n",
      "<class 'list'>\n",
      "<class 'numpy.ndarray'>\n",
      "55\n",
      "<class 'list'>\n",
      "<class 'numpy.ndarray'>\n",
      "48\n",
      "<class 'list'>\n",
      "<class 'numpy.ndarray'>\n",
      "43\n",
      "<class 'list'>\n",
      "<class 'numpy.ndarray'>\n",
      "36\n",
      "<class 'list'>\n",
      "<class 'numpy.ndarray'>\n",
      "39\n",
      "<class 'list'>\n",
      "<class 'numpy.ndarray'>\n",
      "48\n",
      "<class 'list'>\n",
      "<class 'numpy.ndarray'>\n",
      "41\n",
      "<class 'list'>\n",
      "<class 'numpy.ndarray'>\n",
      "44\n",
      "<class 'list'>\n",
      "<class 'numpy.ndarray'>\n",
      "42\n",
      "<class 'list'>\n",
      "<class 'numpy.ndarray'>\n",
      "44\n",
      "<class 'list'>\n",
      "<class 'numpy.ndarray'>\n",
      "41\n",
      "<class 'list'>\n",
      "<class 'numpy.ndarray'>\n",
      "46\n",
      "<class 'list'>\n",
      "<class 'numpy.ndarray'>\n",
      "43\n",
      "<class 'list'>\n",
      "<class 'numpy.ndarray'>\n",
      "33\n",
      "<class 'list'>\n",
      "<class 'numpy.ndarray'>\n",
      "37\n",
      "<class 'list'>\n",
      "<class 'numpy.ndarray'>\n",
      "27\n",
      "<class 'list'>\n",
      "<class 'numpy.ndarray'>\n",
      "26\n",
      "<class 'list'>\n",
      "<class 'numpy.ndarray'>\n",
      "29\n",
      "<class 'list'>\n",
      "<class 'numpy.ndarray'>\n",
      "31\n",
      "<class 'list'>\n",
      "<class 'numpy.ndarray'>\n",
      "43\n",
      "<class 'list'>\n",
      "<class 'numpy.ndarray'>\n",
      "26\n",
      "<class 'list'>\n",
      "<class 'numpy.ndarray'>\n",
      "11\n",
      "<class 'list'>\n",
      "<class 'numpy.ndarray'>\n",
      "11\n",
      "<class 'list'>\n",
      "<class 'numpy.ndarray'>\n",
      "55\n",
      "<class 'list'>\n",
      "<class 'numpy.ndarray'>\n",
      "43\n",
      "<class 'list'>\n",
      "<class 'numpy.ndarray'>\n",
      "49\n",
      "<class 'list'>\n",
      "<class 'numpy.ndarray'>\n",
      "49\n",
      "<class 'list'>\n",
      "<class 'numpy.ndarray'>\n",
      "43\n",
      "<class 'list'>\n",
      "<class 'numpy.ndarray'>\n",
      "49\n",
      "<class 'list'>\n",
      "<class 'numpy.ndarray'>\n",
      "43\n",
      "<class 'list'>\n",
      "<class 'numpy.ndarray'>\n",
      "43\n",
      "<class 'list'>\n",
      "<class 'numpy.ndarray'>\n",
      "49\n",
      "<class 'list'>\n",
      "<class 'numpy.ndarray'>\n",
      "53\n",
      "<class 'list'>\n",
      "<class 'numpy.ndarray'>\n",
      "44\n",
      "<class 'list'>\n",
      "<class 'numpy.ndarray'>\n",
      "45\n",
      "<class 'list'>\n",
      "<class 'numpy.ndarray'>\n",
      "42\n",
      "<class 'list'>\n",
      "<class 'numpy.ndarray'>\n",
      "46\n",
      "<class 'list'>\n",
      "<class 'numpy.ndarray'>\n",
      "41\n",
      "<class 'list'>\n",
      "<class 'numpy.ndarray'>\n",
      "38\n",
      "<class 'list'>\n",
      "<class 'numpy.ndarray'>\n",
      "57\n",
      "<class 'list'>\n",
      "<class 'numpy.ndarray'>\n",
      "42\n",
      "<class 'list'>\n",
      "<class 'numpy.ndarray'>\n",
      "47\n",
      "<class 'list'>\n",
      "<class 'numpy.ndarray'>\n",
      "41\n",
      "<class 'list'>\n",
      "<class 'numpy.ndarray'>\n",
      "37\n",
      "<class 'list'>\n",
      "<class 'numpy.ndarray'>\n",
      "43\n",
      "<class 'list'>\n",
      "<class 'numpy.ndarray'>\n",
      "35\n",
      "<class 'list'>\n",
      "<class 'numpy.ndarray'>\n",
      "33\n",
      "<class 'list'>\n",
      "<class 'numpy.ndarray'>\n",
      "29\n",
      "<class 'list'>\n",
      "<class 'numpy.ndarray'>\n",
      "32\n",
      "<class 'list'>\n",
      "<class 'numpy.ndarray'>\n",
      "26\n",
      "<class 'list'>\n",
      "<class 'numpy.ndarray'>\n",
      "27\n",
      "<class 'list'>\n",
      "<class 'numpy.ndarray'>\n",
      "30\n",
      "<class 'list'>\n",
      "<class 'numpy.ndarray'>\n",
      "27\n",
      "<class 'list'>\n",
      "<class 'numpy.ndarray'>\n",
      "26\n",
      "<class 'list'>\n",
      "<class 'numpy.ndarray'>\n",
      "11\n",
      "<class 'list'>\n",
      "<class 'numpy.ndarray'>\n",
      "11\n",
      "<class 'list'>\n",
      "<class 'numpy.ndarray'>\n"
     ]
    }
   ],
   "source": [
    "_x, _y, _z = merger(diseased, duration = 10)"
   ]
  },
  {
   "cell_type": "code",
   "execution_count": 12,
   "id": "1c14d8e1",
   "metadata": {},
   "outputs": [
    {
     "data": {
      "text/plain": [
       "100"
      ]
     },
     "execution_count": 12,
     "metadata": {},
     "output_type": "execute_result"
    }
   ],
   "source": [
    "len(_x)"
   ]
  },
  {
   "cell_type": "code",
   "execution_count": 13,
   "id": "6fe5073c",
   "metadata": {},
   "outputs": [
    {
     "data": {
      "text/plain": [
       "list"
      ]
     },
     "execution_count": 13,
     "metadata": {},
     "output_type": "execute_result"
    }
   ],
   "source": [
    "type(_x)"
   ]
  },
  {
   "cell_type": "code",
   "execution_count": 14,
   "id": "a659bf1a",
   "metadata": {},
   "outputs": [
    {
     "data": {
      "text/plain": [
       "numpy.ndarray"
      ]
     },
     "execution_count": 14,
     "metadata": {},
     "output_type": "execute_result"
    }
   ],
   "source": [
    "type(_x[0][0])"
   ]
  },
  {
   "cell_type": "code",
   "execution_count": 15,
   "id": "16ec97d4",
   "metadata": {},
   "outputs": [
    {
     "name": "stderr",
     "output_type": "stream",
     "text": [
      "/var/folders/gd/3d6ckpdn4q30skhxnvs_p7b80000gn/T/ipykernel_31245/3947973974.py:1: VisibleDeprecationWarning: Creating an ndarray from ragged nested sequences (which is a list-or-tuple of lists-or-tuples-or ndarrays with different lengths or shapes) is deprecated. If you meant to do this, you must specify 'dtype=object' when creating the ndarray.\n",
      "  _x_ = np.array(_x)\n",
      "/var/folders/gd/3d6ckpdn4q30skhxnvs_p7b80000gn/T/ipykernel_31245/3947973974.py:2: VisibleDeprecationWarning: Creating an ndarray from ragged nested sequences (which is a list-or-tuple of lists-or-tuples-or ndarrays with different lengths or shapes) is deprecated. If you meant to do this, you must specify 'dtype=object' when creating the ndarray.\n",
      "  _y_ = np.array(_y)\n",
      "/var/folders/gd/3d6ckpdn4q30skhxnvs_p7b80000gn/T/ipykernel_31245/3947973974.py:3: VisibleDeprecationWarning: Creating an ndarray from ragged nested sequences (which is a list-or-tuple of lists-or-tuples-or ndarrays with different lengths or shapes) is deprecated. If you meant to do this, you must specify 'dtype=object' when creating the ndarray.\n",
      "  _z_ = np.array(_z)\n"
     ]
    }
   ],
   "source": [
    "_x_ = np.array(_x)\n",
    "_y_ = np.array(_y)\n",
    "_z_ = np.array(_z)"
   ]
  },
  {
   "cell_type": "code",
   "execution_count": 16,
   "id": "962dfcc9",
   "metadata": {},
   "outputs": [
    {
     "data": {
      "text/plain": [
       "numpy.ndarray"
      ]
     },
     "execution_count": 16,
     "metadata": {},
     "output_type": "execute_result"
    }
   ],
   "source": [
    "type(_x_)"
   ]
  },
  {
   "cell_type": "code",
   "execution_count": 17,
   "id": "1b6f5558",
   "metadata": {},
   "outputs": [
    {
     "data": {
      "text/plain": [
       "numpy.ndarray"
      ]
     },
     "execution_count": 17,
     "metadata": {},
     "output_type": "execute_result"
    }
   ],
   "source": [
    "type(_y_)"
   ]
  },
  {
   "cell_type": "code",
   "execution_count": 18,
   "id": "9bccaf0c",
   "metadata": {},
   "outputs": [
    {
     "data": {
      "text/plain": [
       "numpy.ndarray"
      ]
     },
     "execution_count": 18,
     "metadata": {},
     "output_type": "execute_result"
    }
   ],
   "source": [
    "type(_z_)"
   ]
  },
  {
   "cell_type": "code",
   "execution_count": 19,
   "id": "a638b618",
   "metadata": {},
   "outputs": [
    {
     "data": {
      "text/plain": [
       "(100,)"
      ]
     },
     "execution_count": 19,
     "metadata": {},
     "output_type": "execute_result"
    }
   ],
   "source": [
    "_x_.shape"
   ]
  },
  {
   "cell_type": "code",
   "execution_count": 20,
   "id": "719fb1e5",
   "metadata": {},
   "outputs": [
    {
     "data": {
      "text/plain": [
       "(100,)"
      ]
     },
     "execution_count": 20,
     "metadata": {},
     "output_type": "execute_result"
    }
   ],
   "source": [
    "_y_.shape"
   ]
  },
  {
   "cell_type": "code",
   "execution_count": 21,
   "id": "c2a178f6",
   "metadata": {},
   "outputs": [
    {
     "data": {
      "text/plain": [
       "(100,)"
      ]
     },
     "execution_count": 21,
     "metadata": {},
     "output_type": "execute_result"
    }
   ],
   "source": [
    "_z_.shape"
   ]
  },
  {
   "cell_type": "code",
   "execution_count": 22,
   "id": "d466837e",
   "metadata": {},
   "outputs": [
    {
     "data": {
      "text/plain": [
       "44"
      ]
     },
     "execution_count": 22,
     "metadata": {},
     "output_type": "execute_result"
    }
   ],
   "source": [
    "len(_x_[0])"
   ]
  },
  {
   "cell_type": "code",
   "execution_count": 23,
   "id": "9b19ab43",
   "metadata": {},
   "outputs": [],
   "source": [
    "np.save(\"/Users/ecem/Desktop/gyrocardiogram/phase2/100_x_splitted\", _x_, allow_pickle= True)\n",
    "np.save(\"/Users/ecem/Desktop/gyrocardiogram/phase2/100_y_splitted\", _y_, allow_pickle= True)\n",
    "np.save(\"/Users/ecem/Desktop/gyrocardiogram/phase2/100_z_splitted\", _z_, allow_pickle= True)"
   ]
  },
  {
   "cell_type": "code",
   "execution_count": null,
   "id": "0c42e2e0",
   "metadata": {},
   "outputs": [],
   "source": []
  }
 ],
 "metadata": {
  "kernelspec": {
   "display_name": "Python 3 (ipykernel)",
   "language": "python",
   "name": "python3"
  },
  "language_info": {
   "codemirror_mode": {
    "name": "ipython",
    "version": 3
   },
   "file_extension": ".py",
   "mimetype": "text/x-python",
   "name": "python",
   "nbconvert_exporter": "python",
   "pygments_lexer": "ipython3",
   "version": "3.9.9"
  }
 },
 "nbformat": 4,
 "nbformat_minor": 5
}
