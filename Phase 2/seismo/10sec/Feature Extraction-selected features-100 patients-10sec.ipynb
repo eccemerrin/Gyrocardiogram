{
 "cells": [
  {
   "cell_type": "code",
   "execution_count": 1,
   "id": "694203bd",
   "metadata": {},
   "outputs": [],
   "source": [
    "import numpy as np\n",
    "import math"
   ]
  },
  {
   "cell_type": "markdown",
   "id": "5f48c0b6",
   "metadata": {},
   "source": [
    "### define functions:"
   ]
  },
  {
   "cell_type": "code",
   "execution_count": 2,
   "id": "4210daf5",
   "metadata": {},
   "outputs": [],
   "source": [
    "def entropy(data, num_short_blocks=10):\n",
    "    eol = np.sum(np.square(data))\n",
    "    win_len = len(data)\n",
    "    sub_win_len = math.floor(win_len / num_short_blocks)\n",
    "\n",
    "    if win_len != sub_win_len * num_short_blocks:\n",
    "        data = data[0:sub_win_len * num_short_blocks]\n",
    "    sub_wins = data.reshape(sub_win_len, num_short_blocks, order='F').copy()\n",
    "    norm_sub_frame_energies = np.zeros((1, sub_wins.shape[1]))\n",
    "    for i in range(sub_wins.shape[1]):\n",
    "        norm_sub_frame_energies[0, i] = np.sum(np.square(sub_wins[:, i])) / (eol + np.spacing(1))\n",
    "    energy_entropy = 0\n",
    "    for i in range(norm_sub_frame_energies.shape[1]):\n",
    "        energy_entropy -= norm_sub_frame_energies[0, i] * math.log(norm_sub_frame_energies[0, i] + np.spacing(1), 2)\n",
    "    return energy_entropy"
   ]
  },
  {
   "cell_type": "code",
   "execution_count": 3,
   "id": "8f996db2",
   "metadata": {},
   "outputs": [],
   "source": [
    "def dft(data, f_s = 4000, p=0):\n",
    "    win_len = len(data)\n",
    "    fft = np.abs(np.fft.fft(data)) / win_len\n",
    "    if not p:\n",
    "        fft = fft[0:math.ceil(win_len)]\n",
    "        f_req = (f_s / 2) * np.arange(0, np.ceil(win_len / 2) + 1) / np.ceil(win_len / 2)\n",
    "    else:\n",
    "        fft = np.fft.fftshift(fft)\n",
    "        if win_len % 2:\n",
    "            f_req = np.arange(-(win_len - 1) / 2, (win_len - 1) / 2 + 1)\n",
    "        else:\n",
    "            f_req = np.arange(-win_len / 2, win_len / 2)\n",
    "    fft_1 = np.abs(fft)/win_len\n",
    "    fft_2 = fft_1[1:(round(win_len / 2) + 1)]\n",
    "    fft_2 = 2*fft_2\n",
    "    return fft_2, f_req"
   ]
  },
  {
   "cell_type": "code",
   "execution_count": 4,
   "id": "11f3894d",
   "metadata": {},
   "outputs": [],
   "source": [
    "def spectral_rolloff(data, c=0.90):\n",
    "    total_energy = np.sum(np.square(data))\n",
    "    curr_energy = 0\n",
    "    count_fft = 0\n",
    "    fft_len = len(data)\n",
    "    while curr_energy <= c * total_energy and count_fft <= fft_len:\n",
    "        curr_energy += data[count_fft] ** 2\n",
    "        count_fft += 1\n",
    "    count_fft -= 1\n",
    "    return (count_fft - 1) / fft_len"
   ]
  },
  {
   "cell_type": "code",
   "execution_count": 5,
   "id": "319c48bb",
   "metadata": {},
   "outputs": [],
   "source": [
    "def spectral_centroid(data, f_s = 4000):\n",
    "    fft_len = len(data)\n",
    "    m = np.transpose((f_s / (2 * fft_len)) * np.arange(1, fft_len+1))\n",
    "    data = data / np.max(data)\n",
    "    c = np.sum(np.multiply(m, data)) / (np.sum(data) + np.spacing(1))\n",
    "    k = np.sum(np.square(m - c) * data)\n",
    "    l = (np.sum(data) + np.spacing(1))\n",
    "    \n",
    "    if k*l <0 :\n",
    "        s = math.sqrt( -1* k / l ) / (f_s / 2)\n",
    "        c = c / (f_s / 2)\n",
    "        return c\n",
    "    else:\n",
    "        s = math.sqrt( k / l ) / (f_s / 2)\n",
    "        c = c / (f_s / 2)\n",
    "        return c"
   ]
  },
  {
   "cell_type": "code",
   "execution_count": 6,
   "id": "55532b45",
   "metadata": {},
   "outputs": [],
   "source": [
    "def spectral_spread(data, f_s=4000):\n",
    "    fft_len = len(data)\n",
    "    m = np.transpose((f_s / (2 * fft_len)) * np.arange(1, fft_len+1))\n",
    "    data = data / np.max(data)\n",
    "    c = np.sum(np.multiply(m, data)) / (np.sum(data) + np.spacing(1))\n",
    "    k = np.sum(np.square(m - c) * data)\n",
    "    l = (np.sum(data) + np.spacing(1))\n",
    "    \n",
    "    if k*l <0 :\n",
    "        s = math.sqrt( -1* k / l ) / (f_s / 2)\n",
    "        c = c / (f_s / 2)\n",
    "        return c\n",
    "    else:\n",
    "        s = math.sqrt( k / l ) / (f_s / 2)\n",
    "        c = c / (f_s / 2)\n",
    "        return s"
   ]
  },
  {
   "cell_type": "markdown",
   "id": "ab6409f8",
   "metadata": {},
   "source": [
    "### define data"
   ]
  },
  {
   "cell_type": "code",
   "execution_count": 7,
   "id": "b138fab7",
   "metadata": {},
   "outputs": [],
   "source": [
    "path = \"/Users/ecem/Desktop/gyrocardiogram/phase2/\""
   ]
  },
  {
   "cell_type": "code",
   "execution_count": 8,
   "id": "449c9cd1",
   "metadata": {},
   "outputs": [],
   "source": [
    "x = np.load(path + \"scg_10sec_x_splitted.npy\", allow_pickle= True)\n",
    "y = np.load(path + \"scg_10sec_y_splitted.npy\", allow_pickle= True)\n",
    "z = np.load(path + \"scg_10sec_z_splitted.npy\", allow_pickle= True)"
   ]
  },
  {
   "cell_type": "code",
   "execution_count": 9,
   "id": "78436ea3",
   "metadata": {},
   "outputs": [
    {
     "data": {
      "text/plain": [
       "(4414, 2560)"
      ]
     },
     "execution_count": 9,
     "metadata": {},
     "output_type": "execute_result"
    }
   ],
   "source": [
    "x.shape"
   ]
  },
  {
   "cell_type": "code",
   "execution_count": 10,
   "id": "c8cc127e",
   "metadata": {},
   "outputs": [
    {
     "data": {
      "text/plain": [
       "2560"
      ]
     },
     "execution_count": 10,
     "metadata": {},
     "output_type": "execute_result"
    }
   ],
   "source": [
    "len(x[0])"
   ]
  },
  {
   "cell_type": "code",
   "execution_count": 11,
   "id": "7fc6eb3f",
   "metadata": {},
   "outputs": [
    {
     "data": {
      "text/plain": [
       "2560"
      ]
     },
     "execution_count": 11,
     "metadata": {},
     "output_type": "execute_result"
    }
   ],
   "source": [
    "len(y[0])"
   ]
  },
  {
   "cell_type": "code",
   "execution_count": 12,
   "id": "7dbd666a",
   "metadata": {},
   "outputs": [
    {
     "data": {
      "text/plain": [
       "2560"
      ]
     },
     "execution_count": 12,
     "metadata": {},
     "output_type": "execute_result"
    }
   ],
   "source": [
    "len(z[0])"
   ]
  },
  {
   "cell_type": "code",
   "execution_count": 13,
   "id": "c5089db8",
   "metadata": {},
   "outputs": [],
   "source": [
    "diseased = np.stack((x, y, z), axis = 0)"
   ]
  },
  {
   "cell_type": "code",
   "execution_count": 14,
   "id": "55a03074",
   "metadata": {},
   "outputs": [
    {
     "name": "stdout",
     "output_type": "stream",
     "text": [
      "(3, 4414, 2560)\n"
     ]
    }
   ],
   "source": [
    "#sanity check\n",
    "print(diseased.shape)"
   ]
  },
  {
   "cell_type": "markdown",
   "id": "74e55e4c",
   "metadata": {},
   "source": [
    "## Feature Extraction:\n"
   ]
  },
  {
   "cell_type": "markdown",
   "id": "9d918c4f",
   "metadata": {},
   "source": [
    "### Spectral Entropy:"
   ]
  },
  {
   "cell_type": "code",
   "execution_count": 15,
   "id": "c83eda63",
   "metadata": {},
   "outputs": [],
   "source": [
    "dft_ = dft(diseased[0][1])[0]"
   ]
  },
  {
   "cell_type": "code",
   "execution_count": 16,
   "id": "e749f8e3",
   "metadata": {},
   "outputs": [
    {
     "data": {
      "text/plain": [
       "(2560,)"
      ]
     },
     "execution_count": 16,
     "metadata": {},
     "output_type": "execute_result"
    }
   ],
   "source": [
    "diseased[0,1].shape"
   ]
  },
  {
   "cell_type": "code",
   "execution_count": 17,
   "id": "3cf8349c",
   "metadata": {},
   "outputs": [
    {
     "data": {
      "text/plain": [
       "3.321919324678227"
      ]
     },
     "execution_count": 17,
     "metadata": {},
     "output_type": "execute_result"
    }
   ],
   "source": [
    "entropy(diseased[0][1])"
   ]
  },
  {
   "cell_type": "code",
   "execution_count": 18,
   "id": "c3584feb",
   "metadata": {},
   "outputs": [],
   "source": [
    "entropy_ = np.ndarray((3, diseased.shape[1]))\n",
    "for i in range(diseased.shape[1]):\n",
    "    entropy_[0,i] = entropy(diseased[0,i], num_short_blocks = 10)\n",
    "    entropy_[1,i] = entropy(diseased[1,i], num_short_blocks = 10)\n",
    "    entropy_[2,i] = entropy(diseased[2,i], num_short_blocks = 10)            "
   ]
  },
  {
   "cell_type": "code",
   "execution_count": 19,
   "id": "15c703b9",
   "metadata": {},
   "outputs": [
    {
     "data": {
      "text/plain": [
       "(3, 4414)"
      ]
     },
     "execution_count": 19,
     "metadata": {},
     "output_type": "execute_result"
    }
   ],
   "source": [
    "entropy_.shape"
   ]
  },
  {
   "cell_type": "markdown",
   "id": "96f7ed64",
   "metadata": {},
   "source": [
    "### Spectral Rolloff"
   ]
  },
  {
   "cell_type": "code",
   "execution_count": 20,
   "id": "e63fd2b6",
   "metadata": {},
   "outputs": [
    {
     "data": {
      "text/plain": [
       "0.25"
      ]
     },
     "execution_count": 20,
     "metadata": {},
     "output_type": "execute_result"
    }
   ],
   "source": [
    "spectral_rolloff(dft_)"
   ]
  },
  {
   "cell_type": "code",
   "execution_count": 21,
   "id": "6c951ae1",
   "metadata": {},
   "outputs": [],
   "source": [
    "spec_roll = np.ndarray((3, diseased.shape[1]))\n",
    "for i in range(diseased.shape[1]):\n",
    "    spec_roll[0,i] = spectral_rolloff(diseased[0,i])\n",
    "    spec_roll[1,i] = spectral_rolloff(diseased[1,i])\n",
    "    spec_roll[2,i] = spectral_rolloff(diseased[2,i])  \n",
    "    "
   ]
  },
  {
   "cell_type": "code",
   "execution_count": 22,
   "id": "e471e51b",
   "metadata": {},
   "outputs": [
    {
     "data": {
      "text/plain": [
       "(3, 4414)"
      ]
     },
     "execution_count": 22,
     "metadata": {},
     "output_type": "execute_result"
    }
   ],
   "source": [
    "spec_roll.shape"
   ]
  },
  {
   "cell_type": "code",
   "execution_count": 23,
   "id": "c9ca643e",
   "metadata": {
    "scrolled": true
   },
   "outputs": [
    {
     "data": {
      "text/plain": [
       "array([[0.90078125, 0.89921875, 0.89921875, ..., 0.89882812, 0.890625  ,\n",
       "        0.8875    ],\n",
       "       [0.89804688, 0.89882812, 0.89921875, ..., 0.89960938, 0.88632813,\n",
       "        0.87890625],\n",
       "       [0.89960938, 0.89921875, 0.89921875, ..., 0.89960938, 0.89960938,\n",
       "        0.89960938]])"
      ]
     },
     "execution_count": 23,
     "metadata": {},
     "output_type": "execute_result"
    }
   ],
   "source": [
    "spec_roll"
   ]
  },
  {
   "cell_type": "markdown",
   "id": "fb344b3a",
   "metadata": {},
   "source": [
    "### Spectral Centroid:"
   ]
  },
  {
   "cell_type": "code",
   "execution_count": 24,
   "id": "9b623579",
   "metadata": {},
   "outputs": [
    {
     "data": {
      "text/plain": [
       "0.29754440318774195"
      ]
     },
     "execution_count": 24,
     "metadata": {},
     "output_type": "execute_result"
    }
   ],
   "source": [
    "spectral_centroid(dft_)"
   ]
  },
  {
   "cell_type": "code",
   "execution_count": 25,
   "id": "0d8a001f",
   "metadata": {},
   "outputs": [
    {
     "name": "stderr",
     "output_type": "stream",
     "text": [
      "/var/folders/gd/3d6ckpdn4q30skhxnvs_p7b80000gn/T/ipykernel_48648/2867588435.py:4: RuntimeWarning: divide by zero encountered in true_divide\n",
      "  data = data / np.max(data)\n",
      "/var/folders/gd/3d6ckpdn4q30skhxnvs_p7b80000gn/T/ipykernel_48648/2867588435.py:4: RuntimeWarning: invalid value encountered in true_divide\n",
      "  data = data / np.max(data)\n"
     ]
    }
   ],
   "source": [
    "centr = np.ndarray((3, diseased.shape[1]))\n",
    "for i in range(diseased.shape[1]):\n",
    "    centr[0,i] = spectral_centroid(diseased[0,i])\n",
    "    centr[1,i] = spectral_centroid(diseased[1,i])\n",
    "    centr[2,i] = spectral_centroid(diseased[2,i])  "
   ]
  },
  {
   "cell_type": "code",
   "execution_count": 26,
   "id": "8383834b",
   "metadata": {},
   "outputs": [
    {
     "data": {
      "text/plain": [
       "(3, 4414)"
      ]
     },
     "execution_count": 26,
     "metadata": {},
     "output_type": "execute_result"
    }
   ],
   "source": [
    "centr.shape"
   ]
  },
  {
   "cell_type": "code",
   "execution_count": 27,
   "id": "6ed34d60",
   "metadata": {
    "scrolled": true
   },
   "outputs": [
    {
     "data": {
      "text/plain": [
       "array([[0.5019101 , 0.49999669, 0.49989894, ..., 0.50603604, 0.50273722,\n",
       "        0.49873106],\n",
       "       [0.49895767, 0.4995163 , 0.49997895, ..., 0.50781525, 0.50428544,\n",
       "        0.49917929],\n",
       "       [0.50024384, 0.50021557, 0.5001834 , ..., 0.50012387, 0.50016222,\n",
       "        0.50022746]])"
      ]
     },
     "execution_count": 27,
     "metadata": {},
     "output_type": "execute_result"
    }
   ],
   "source": [
    "centr"
   ]
  },
  {
   "cell_type": "markdown",
   "id": "5019fb68",
   "metadata": {},
   "source": [
    "### Spectral Spread"
   ]
  },
  {
   "cell_type": "code",
   "execution_count": 28,
   "id": "0f6668ea",
   "metadata": {},
   "outputs": [
    {
     "name": "stderr",
     "output_type": "stream",
     "text": [
      "/var/folders/gd/3d6ckpdn4q30skhxnvs_p7b80000gn/T/ipykernel_48648/1137831754.py:4: RuntimeWarning: divide by zero encountered in true_divide\n",
      "  data = data / np.max(data)\n",
      "/var/folders/gd/3d6ckpdn4q30skhxnvs_p7b80000gn/T/ipykernel_48648/1137831754.py:4: RuntimeWarning: invalid value encountered in true_divide\n",
      "  data = data / np.max(data)\n"
     ]
    }
   ],
   "source": [
    "spec_spread = np.ndarray((3, diseased.shape[1]))\n",
    "for i in range(diseased.shape[1]):\n",
    "    spec_spread[0,i] = spectral_spread(diseased[0,i])\n",
    "    spec_spread[1,i] = spectral_spread(diseased[1,i])\n",
    "    spec_spread[2,i] = spectral_spread(diseased[2,i])  \n"
   ]
  },
  {
   "cell_type": "code",
   "execution_count": null,
   "id": "61668062",
   "metadata": {},
   "outputs": [],
   "source": []
  },
  {
   "cell_type": "markdown",
   "id": "ed342388",
   "metadata": {},
   "source": [
    "# DIVIDE BY ZERO HATASINI SOR:"
   ]
  },
  {
   "cell_type": "code",
   "execution_count": 29,
   "id": "daf3a1ae",
   "metadata": {},
   "outputs": [
    {
     "data": {
      "text/plain": [
       "(3, 4414)"
      ]
     },
     "execution_count": 29,
     "metadata": {},
     "output_type": "execute_result"
    }
   ],
   "source": [
    "spec_spread.shape"
   ]
  },
  {
   "cell_type": "code",
   "execution_count": 30,
   "id": "590d9fff",
   "metadata": {
    "scrolled": true
   },
   "outputs": [
    {
     "data": {
      "text/plain": [
       "array([[0.28869345, 0.28867993, 0.2886001 , ..., 0.28894197, 0.28438344,\n",
       "        0.2842298 ],\n",
       "       [0.28863975, 0.28868779, 0.2886001 , ..., 0.29054769, 0.28292054,\n",
       "        0.28116037],\n",
       "       [0.28867626, 0.28866833, 0.28866746, ..., 0.28867202, 0.28873285,\n",
       "        0.28873328]])"
      ]
     },
     "execution_count": 30,
     "metadata": {},
     "output_type": "execute_result"
    }
   ],
   "source": [
    "spec_spread"
   ]
  },
  {
   "cell_type": "markdown",
   "id": "cf8d541f",
   "metadata": {},
   "source": [
    "### Create DataFrame"
   ]
  },
  {
   "cell_type": "code",
   "execution_count": 31,
   "id": "aa73ff1e",
   "metadata": {},
   "outputs": [],
   "source": [
    "import pandas as pd"
   ]
  },
  {
   "cell_type": "code",
   "execution_count": 32,
   "id": "75b33461",
   "metadata": {},
   "outputs": [
    {
     "data": {
      "text/html": [
       "<div>\n",
       "<style scoped>\n",
       "    .dataframe tbody tr th:only-of-type {\n",
       "        vertical-align: middle;\n",
       "    }\n",
       "\n",
       "    .dataframe tbody tr th {\n",
       "        vertical-align: top;\n",
       "    }\n",
       "\n",
       "    .dataframe thead th {\n",
       "        text-align: right;\n",
       "    }\n",
       "</style>\n",
       "<table border=\"1\" class=\"dataframe\">\n",
       "  <thead>\n",
       "    <tr style=\"text-align: right;\">\n",
       "      <th></th>\n",
       "      <th>SE x</th>\n",
       "      <th>SE y</th>\n",
       "      <th>SE z</th>\n",
       "      <th>SR x</th>\n",
       "      <th>SR y</th>\n",
       "      <th>SR z</th>\n",
       "      <th>SC x</th>\n",
       "      <th>SC y</th>\n",
       "      <th>SC z</th>\n",
       "      <th>SS x</th>\n",
       "      <th>SS y</th>\n",
       "      <th>SS z</th>\n",
       "    </tr>\n",
       "  </thead>\n",
       "  <tbody>\n",
       "    <tr>\n",
       "      <th>0</th>\n",
       "      <td>3.321794</td>\n",
       "      <td>3.321779</td>\n",
       "      <td>3.321928</td>\n",
       "      <td>0.900781</td>\n",
       "      <td>0.898047</td>\n",
       "      <td>0.899609</td>\n",
       "      <td>0.501910</td>\n",
       "      <td>0.498958</td>\n",
       "      <td>0.500244</td>\n",
       "      <td>0.288693</td>\n",
       "      <td>0.288640</td>\n",
       "      <td>0.288676</td>\n",
       "    </tr>\n",
       "    <tr>\n",
       "      <th>1</th>\n",
       "      <td>3.321919</td>\n",
       "      <td>3.321889</td>\n",
       "      <td>3.321928</td>\n",
       "      <td>0.899219</td>\n",
       "      <td>0.898828</td>\n",
       "      <td>0.899219</td>\n",
       "      <td>0.499997</td>\n",
       "      <td>0.499516</td>\n",
       "      <td>0.500216</td>\n",
       "      <td>0.288680</td>\n",
       "      <td>0.288688</td>\n",
       "      <td>0.288668</td>\n",
       "    </tr>\n",
       "    <tr>\n",
       "      <th>2</th>\n",
       "      <td>3.321912</td>\n",
       "      <td>3.321909</td>\n",
       "      <td>3.321928</td>\n",
       "      <td>0.899219</td>\n",
       "      <td>0.899219</td>\n",
       "      <td>0.899219</td>\n",
       "      <td>0.499899</td>\n",
       "      <td>0.499979</td>\n",
       "      <td>0.500183</td>\n",
       "      <td>0.288600</td>\n",
       "      <td>0.288600</td>\n",
       "      <td>0.288667</td>\n",
       "    </tr>\n",
       "    <tr>\n",
       "      <th>3</th>\n",
       "      <td>3.321833</td>\n",
       "      <td>3.321780</td>\n",
       "      <td>3.321928</td>\n",
       "      <td>0.896484</td>\n",
       "      <td>0.902344</td>\n",
       "      <td>0.899219</td>\n",
       "      <td>0.499137</td>\n",
       "      <td>0.501352</td>\n",
       "      <td>0.500161</td>\n",
       "      <td>0.288375</td>\n",
       "      <td>0.289310</td>\n",
       "      <td>0.288681</td>\n",
       "    </tr>\n",
       "    <tr>\n",
       "      <th>4</th>\n",
       "      <td>3.321859</td>\n",
       "      <td>3.321870</td>\n",
       "      <td>3.321928</td>\n",
       "      <td>0.900781</td>\n",
       "      <td>0.899219</td>\n",
       "      <td>0.899219</td>\n",
       "      <td>0.501234</td>\n",
       "      <td>0.499578</td>\n",
       "      <td>0.500206</td>\n",
       "      <td>0.288552</td>\n",
       "      <td>0.288620</td>\n",
       "      <td>0.288674</td>\n",
       "    </tr>\n",
       "    <tr>\n",
       "      <th>...</th>\n",
       "      <td>...</td>\n",
       "      <td>...</td>\n",
       "      <td>...</td>\n",
       "      <td>...</td>\n",
       "      <td>...</td>\n",
       "      <td>...</td>\n",
       "      <td>...</td>\n",
       "      <td>...</td>\n",
       "      <td>...</td>\n",
       "      <td>...</td>\n",
       "      <td>...</td>\n",
       "      <td>...</td>\n",
       "    </tr>\n",
       "    <tr>\n",
       "      <th>4409</th>\n",
       "      <td>3.315372</td>\n",
       "      <td>3.307817</td>\n",
       "      <td>3.321927</td>\n",
       "      <td>0.907813</td>\n",
       "      <td>0.912891</td>\n",
       "      <td>0.899219</td>\n",
       "      <td>0.507174</td>\n",
       "      <td>0.510179</td>\n",
       "      <td>0.500086</td>\n",
       "      <td>0.291749</td>\n",
       "      <td>0.294270</td>\n",
       "      <td>0.288629</td>\n",
       "    </tr>\n",
       "    <tr>\n",
       "      <th>4410</th>\n",
       "      <td>3.316430</td>\n",
       "      <td>3.309940</td>\n",
       "      <td>3.321927</td>\n",
       "      <td>0.907031</td>\n",
       "      <td>0.911719</td>\n",
       "      <td>0.899219</td>\n",
       "      <td>0.507915</td>\n",
       "      <td>0.510864</td>\n",
       "      <td>0.500083</td>\n",
       "      <td>0.290859</td>\n",
       "      <td>0.292761</td>\n",
       "      <td>0.288646</td>\n",
       "    </tr>\n",
       "    <tr>\n",
       "      <th>4411</th>\n",
       "      <td>3.317626</td>\n",
       "      <td>3.312692</td>\n",
       "      <td>3.321927</td>\n",
       "      <td>0.898828</td>\n",
       "      <td>0.899609</td>\n",
       "      <td>0.899609</td>\n",
       "      <td>0.506036</td>\n",
       "      <td>0.507815</td>\n",
       "      <td>0.500124</td>\n",
       "      <td>0.288942</td>\n",
       "      <td>0.290548</td>\n",
       "      <td>0.288672</td>\n",
       "    </tr>\n",
       "    <tr>\n",
       "      <th>4412</th>\n",
       "      <td>3.317750</td>\n",
       "      <td>3.313168</td>\n",
       "      <td>3.321927</td>\n",
       "      <td>0.890625</td>\n",
       "      <td>0.886328</td>\n",
       "      <td>0.899609</td>\n",
       "      <td>0.502737</td>\n",
       "      <td>0.504285</td>\n",
       "      <td>0.500162</td>\n",
       "      <td>0.284383</td>\n",
       "      <td>0.282921</td>\n",
       "      <td>0.288733</td>\n",
       "    </tr>\n",
       "    <tr>\n",
       "      <th>4413</th>\n",
       "      <td>3.318458</td>\n",
       "      <td>3.312484</td>\n",
       "      <td>3.321927</td>\n",
       "      <td>0.887500</td>\n",
       "      <td>0.878906</td>\n",
       "      <td>0.899609</td>\n",
       "      <td>0.498731</td>\n",
       "      <td>0.499179</td>\n",
       "      <td>0.500227</td>\n",
       "      <td>0.284230</td>\n",
       "      <td>0.281160</td>\n",
       "      <td>0.288733</td>\n",
       "    </tr>\n",
       "  </tbody>\n",
       "</table>\n",
       "<p>4414 rows × 12 columns</p>\n",
       "</div>"
      ],
      "text/plain": [
       "          SE x      SE y      SE z      SR x      SR y      SR z      SC x  \\\n",
       "0     3.321794  3.321779  3.321928  0.900781  0.898047  0.899609  0.501910   \n",
       "1     3.321919  3.321889  3.321928  0.899219  0.898828  0.899219  0.499997   \n",
       "2     3.321912  3.321909  3.321928  0.899219  0.899219  0.899219  0.499899   \n",
       "3     3.321833  3.321780  3.321928  0.896484  0.902344  0.899219  0.499137   \n",
       "4     3.321859  3.321870  3.321928  0.900781  0.899219  0.899219  0.501234   \n",
       "...        ...       ...       ...       ...       ...       ...       ...   \n",
       "4409  3.315372  3.307817  3.321927  0.907813  0.912891  0.899219  0.507174   \n",
       "4410  3.316430  3.309940  3.321927  0.907031  0.911719  0.899219  0.507915   \n",
       "4411  3.317626  3.312692  3.321927  0.898828  0.899609  0.899609  0.506036   \n",
       "4412  3.317750  3.313168  3.321927  0.890625  0.886328  0.899609  0.502737   \n",
       "4413  3.318458  3.312484  3.321927  0.887500  0.878906  0.899609  0.498731   \n",
       "\n",
       "          SC y      SC z      SS x      SS y      SS z  \n",
       "0     0.498958  0.500244  0.288693  0.288640  0.288676  \n",
       "1     0.499516  0.500216  0.288680  0.288688  0.288668  \n",
       "2     0.499979  0.500183  0.288600  0.288600  0.288667  \n",
       "3     0.501352  0.500161  0.288375  0.289310  0.288681  \n",
       "4     0.499578  0.500206  0.288552  0.288620  0.288674  \n",
       "...        ...       ...       ...       ...       ...  \n",
       "4409  0.510179  0.500086  0.291749  0.294270  0.288629  \n",
       "4410  0.510864  0.500083  0.290859  0.292761  0.288646  \n",
       "4411  0.507815  0.500124  0.288942  0.290548  0.288672  \n",
       "4412  0.504285  0.500162  0.284383  0.282921  0.288733  \n",
       "4413  0.499179  0.500227  0.284230  0.281160  0.288733  \n",
       "\n",
       "[4414 rows x 12 columns]"
      ]
     },
     "execution_count": 32,
     "metadata": {},
     "output_type": "execute_result"
    }
   ],
   "source": [
    "spec_entropy = pd.DataFrame(entropy_.T, columns =[\"SE x\", \"SE y\", \"SE z\"])\n",
    "specroll = pd.DataFrame(spec_roll.T, columns =[\"SR x\", \"SR y\", \"SR z\"])\n",
    "spec_centr = pd.DataFrame(centr.T, columns =[\"SC x\", \"SC y\", \"SC z\"])\n",
    "spec_spread = pd.DataFrame(spec_spread.T, columns =[\"SS x\", \"SS y\", \"SS z\"])\n",
    "\n",
    "df = pd.concat([spec_entropy, specroll, spec_centr, spec_spread], axis =1)\n",
    "df"
   ]
  },
  {
   "cell_type": "code",
   "execution_count": 33,
   "id": "9e607bdb",
   "metadata": {},
   "outputs": [
    {
     "data": {
      "text/plain": [
       "SE x    0\n",
       "SE y    0\n",
       "SE z    0\n",
       "SR x    0\n",
       "SR y    0\n",
       "SR z    0\n",
       "SC x    7\n",
       "SC y    2\n",
       "SC z    0\n",
       "SS x    7\n",
       "SS y    2\n",
       "SS z    0\n",
       "dtype: int64"
      ]
     },
     "execution_count": 33,
     "metadata": {},
     "output_type": "execute_result"
    }
   ],
   "source": [
    "df.isnull().sum()"
   ]
  },
  {
   "cell_type": "code",
   "execution_count": 33,
   "id": "1cc42634",
   "metadata": {},
   "outputs": [],
   "source": [
    "df.to_csv(path + \"scg_selected_features_10sec.csv\")"
   ]
  },
  {
   "cell_type": "code",
   "execution_count": null,
   "id": "dd59b9c0",
   "metadata": {},
   "outputs": [],
   "source": []
  }
 ],
 "metadata": {
  "kernelspec": {
   "display_name": "Python 3 (ipykernel)",
   "language": "python",
   "name": "python3"
  },
  "language_info": {
   "codemirror_mode": {
    "name": "ipython",
    "version": 3
   },
   "file_extension": ".py",
   "mimetype": "text/x-python",
   "name": "python",
   "nbconvert_exporter": "python",
   "pygments_lexer": "ipython3",
   "version": "3.9.9"
  }
 },
 "nbformat": 4,
 "nbformat_minor": 5
}
