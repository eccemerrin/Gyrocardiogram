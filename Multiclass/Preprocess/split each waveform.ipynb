{
 "cells": [
  {
   "cell_type": "code",
   "execution_count": 16,
   "id": "466a2dc2",
   "metadata": {},
   "outputs": [],
   "source": [
    "import numpy as np"
   ]
  },
  {
   "cell_type": "code",
   "execution_count": 17,
   "id": "ce06ed57",
   "metadata": {},
   "outputs": [],
   "source": [
    "dir_path = \"/Users/ecem/Desktop/gyrocardiogram/multiclass_data/data\""
   ]
  },
  {
   "cell_type": "code",
   "execution_count": 18,
   "id": "1ccbf715",
   "metadata": {},
   "outputs": [],
   "source": [
    "diseased = np.load(dir_path+ \"/diseased_gyro.npy\", allow_pickle = True)"
   ]
  },
  {
   "cell_type": "code",
   "execution_count": 19,
   "id": "ad5672a3",
   "metadata": {},
   "outputs": [
    {
     "name": "stdout",
     "output_type": "stream",
     "text": [
      "(60, 3)\n"
     ]
    }
   ],
   "source": [
    "print(diseased.shape)"
   ]
  },
  {
   "cell_type": "code",
   "execution_count": 20,
   "id": "636555ad",
   "metadata": {},
   "outputs": [
    {
     "name": "stdout",
     "output_type": "stream",
     "text": [
      "(124837,)\n"
     ]
    }
   ],
   "source": [
    "print(diseased[0][0].shape)"
   ]
  },
  {
   "cell_type": "code",
   "execution_count": 21,
   "id": "a5cd1e24",
   "metadata": {},
   "outputs": [],
   "source": [
    "def splitter(array, slicing_point = 10000, duration = 10, sampling_rate = 256):\n",
    "    wanted_npts = int(sampling_rate * duration) \n",
    "    npts = int(array[0].shape[0] - 10000)\n",
    "    lenght = npts // wanted_npts\n",
    "    remainder = int(np.around((((npts / wanted_npts - lenght)) * wanted_npts), 0))\n",
    "    \n",
    "    print(lenght)\n",
    "    \n",
    "    return [np.array_split(array[0][slicing_point + remainder:],lenght),\n",
    "           np.array_split(array[1][slicing_point + remainder:],lenght),\n",
    "           np.array_split(array[2][slicing_point + remainder:],lenght)]\n",
    "    "
   ]
  },
  {
   "cell_type": "code",
   "execution_count": 22,
   "id": "fccd5a1c",
   "metadata": {},
   "outputs": [],
   "source": [
    "def merger(array, slicing_point = 10000, duration = 10):\n",
    "    _x, _y, _z  = [], [], []\n",
    "\n",
    "    for i in range(len(array)):\n",
    "        a, b, c = splitter(array[i], slicing_point = slicing_point, duration = duration)\n",
    "        _x = _x + a\n",
    "        _y = _y + b\n",
    "        _z = _z + c\n",
    "\n",
    "\n",
    "        \n",
    "    return [_x,_y,_z]"
   ]
  },
  {
   "cell_type": "markdown",
   "id": "96c51d13",
   "metadata": {},
   "source": [
    "## Splitting into 10 sc frames"
   ]
  },
  {
   "cell_type": "code",
   "execution_count": 23,
   "id": "d3b59fd5",
   "metadata": {},
   "outputs": [
    {
     "name": "stdout",
     "output_type": "stream",
     "text": [
      "44\n",
      "55\n",
      "55\n",
      "43\n",
      "37\n",
      "37\n",
      "49\n",
      "49\n",
      "49\n",
      "49\n",
      "58\n",
      "43\n",
      "43\n",
      "49\n",
      "50\n",
      "47\n",
      "53\n",
      "44\n",
      "44\n",
      "55\n",
      "40\n",
      "42\n",
      "43\n",
      "48\n",
      "46\n",
      "41\n",
      "39\n",
      "37\n",
      "38\n",
      "57\n",
      "41\n",
      "42\n",
      "43\n",
      "41\n",
      "45\n",
      "41\n",
      "43\n",
      "46\n",
      "43\n",
      "33\n",
      "29\n",
      "32\n",
      "27\n",
      "26\n",
      "26\n",
      "27\n",
      "27\n",
      "29\n",
      "29\n",
      "30\n",
      "27\n",
      "27\n",
      "43\n",
      "26\n",
      "11\n",
      "11\n",
      "11\n",
      "11\n",
      "11\n",
      "11\n"
     ]
    }
   ],
   "source": [
    "_x, _y, _z = merger(diseased, duration = 10)"
   ]
  },
  {
   "cell_type": "code",
   "execution_count": 24,
   "id": "b31e8c03",
   "metadata": {},
   "outputs": [
    {
     "data": {
      "text/plain": [
       "numpy.ndarray"
      ]
     },
     "execution_count": 24,
     "metadata": {},
     "output_type": "execute_result"
    }
   ],
   "source": [
    "type(_x[0])"
   ]
  },
  {
   "cell_type": "code",
   "execution_count": 25,
   "id": "7e2ed0a5",
   "metadata": {},
   "outputs": [
    {
     "data": {
      "text/plain": [
       "2273"
      ]
     },
     "execution_count": 25,
     "metadata": {},
     "output_type": "execute_result"
    }
   ],
   "source": [
    "#sanity check\n",
    "len(_x)"
   ]
  },
  {
   "cell_type": "code",
   "execution_count": 26,
   "id": "fb6f25dc",
   "metadata": {},
   "outputs": [
    {
     "name": "stdout",
     "output_type": "stream",
     "text": [
      "2273\n",
      "2273\n"
     ]
    }
   ],
   "source": [
    "print(len(_y))\n",
    "print(len(_z))"
   ]
  },
  {
   "cell_type": "code",
   "execution_count": 27,
   "id": "6a666bcf",
   "metadata": {},
   "outputs": [
    {
     "name": "stdout",
     "output_type": "stream",
     "text": [
      "2560\n",
      "2560\n",
      "2560\n"
     ]
    }
   ],
   "source": [
    "# sanity check\n",
    "print(len(_x[0]))\n",
    "print(len(_y[20]))\n",
    "print(len(_z[19]))"
   ]
  },
  {
   "cell_type": "code",
   "execution_count": 28,
   "id": "52cdac70",
   "metadata": {},
   "outputs": [],
   "source": [
    "stacked_diseased = np.stack((_x, _y, _z),axis = 0)\n"
   ]
  },
  {
   "cell_type": "code",
   "execution_count": 29,
   "id": "5eed2d4f",
   "metadata": {},
   "outputs": [
    {
     "name": "stdout",
     "output_type": "stream",
     "text": [
      "(3, 2273, 2560)\n"
     ]
    }
   ],
   "source": [
    "print(stacked_diseased.shape)\n"
   ]
  },
  {
   "cell_type": "code",
   "execution_count": 30,
   "id": "a1c02d07",
   "metadata": {},
   "outputs": [],
   "source": [
    "np.save(dir_path + \"/diseased-10sec\", stacked_diseased, allow_pickle= True)\n"
   ]
  },
  {
   "cell_type": "code",
   "execution_count": null,
   "id": "18d0ff93",
   "metadata": {},
   "outputs": [],
   "source": []
  },
  {
   "cell_type": "code",
   "execution_count": null,
   "id": "e549d592",
   "metadata": {},
   "outputs": [],
   "source": []
  }
 ],
 "metadata": {
  "kernelspec": {
   "display_name": "Python 3 (ipykernel)",
   "language": "python",
   "name": "python3"
  },
  "language_info": {
   "codemirror_mode": {
    "name": "ipython",
    "version": 3
   },
   "file_extension": ".py",
   "mimetype": "text/x-python",
   "name": "python",
   "nbconvert_exporter": "python",
   "pygments_lexer": "ipython3",
   "version": "3.9.9"
  }
 },
 "nbformat": 4,
 "nbformat_minor": 5
}
