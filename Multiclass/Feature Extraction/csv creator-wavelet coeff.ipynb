{
 "cells": [
  {
   "cell_type": "markdown",
   "id": "9738d69c",
   "metadata": {},
   "source": [
    "### Imports"
   ]
  },
  {
   "cell_type": "code",
   "execution_count": 1,
   "id": "dc7b749c",
   "metadata": {},
   "outputs": [],
   "source": [
    "import warnings\n",
    "warnings.filterwarnings(\"ignore\")"
   ]
  },
  {
   "cell_type": "code",
   "execution_count": 2,
   "id": "749d0c72",
   "metadata": {},
   "outputs": [],
   "source": [
    "#imports\n",
    "import scipy.io\n",
    "import os\n",
    "import pandas\n",
    "import numpy as np\n",
    "import matplotlib.pyplot as plt\n",
    "import matplotlib.pylab as pl\n",
    "import matplotlib.gridspec as gridspec\n",
    "import obspy\n",
    "import pywt\n",
    "import pywt.data"
   ]
  },
  {
   "cell_type": "markdown",
   "id": "2bc54617",
   "metadata": {},
   "source": [
    "### Load the trimmed data "
   ]
  },
  {
   "cell_type": "code",
   "execution_count": 5,
   "id": "70b8abe8",
   "metadata": {},
   "outputs": [
    {
     "name": "stdout",
     "output_type": "stream",
     "text": [
      "(3, 2106, 2560)\n"
     ]
    }
   ],
   "source": [
    "path = \"/Users/ecem/Desktop/gyrocardiogram/multiclass_data/\"\n",
    "diseased = np.load(path + \"data/diseased-10sec.npy\", allow_pickle= True)\n",
    "print(diseased.shape)"
   ]
  },
  {
   "cell_type": "markdown",
   "id": "c0d9b74d",
   "metadata": {},
   "source": [
    "## Let's look at wavelet decomposition for a signal piece"
   ]
  },
  {
   "cell_type": "markdown",
   "id": "f8c7f06d",
   "metadata": {},
   "source": [
    "#### how our decomposition filter values look like"
   ]
  },
  {
   "cell_type": "code",
   "execution_count": 7,
   "id": "556de875",
   "metadata": {},
   "outputs": [],
   "source": [
    "w = pywt.Wavelet('sym5')"
   ]
  },
  {
   "cell_type": "code",
   "execution_count": 8,
   "id": "a2fa69f3",
   "metadata": {},
   "outputs": [],
   "source": [
    "coef_diseased_x, coef_diseased_y, coef_diseased_z = [], [], []\n",
    "for i in range(len(diseased[0])):\n",
    "    coef_diseased_x.append(pywt.wavedec(diseased[0][i], w, level=6))\n",
    "    coef_diseased_y.append(pywt.wavedec(diseased[1][i], w, level=6))\n",
    "    coef_diseased_z.append(pywt.wavedec(diseased[2][i], w, level=6))"
   ]
  },
  {
   "cell_type": "code",
   "execution_count": 9,
   "id": "95ab5a75",
   "metadata": {},
   "outputs": [],
   "source": [
    "import pandas as pd"
   ]
  },
  {
   "cell_type": "code",
   "execution_count": 10,
   "id": "c1361c4d",
   "metadata": {},
   "outputs": [
    {
     "name": "stderr",
     "output_type": "stream",
     "text": [
      "/Users/ecem/miniforge3/envs/tf-metal/lib/python3.9/site-packages/numpy/core/shape_base.py:420: VisibleDeprecationWarning: Creating an ndarray from ragged nested sequences (which is a list-or-tuple of lists-or-tuples-or ndarrays with different lengths or shapes) is deprecated. If you meant to do this, you must specify 'dtype=object' when creating the ndarray.\n",
      "  arrays = [asanyarray(arr) for arr in arrays]\n"
     ]
    }
   ],
   "source": [
    "diseased = np.stack((coef_diseased_x, coef_diseased_y, coef_diseased_z), axis = 0)"
   ]
  },
  {
   "cell_type": "code",
   "execution_count": 11,
   "id": "bedc418f",
   "metadata": {},
   "outputs": [
    {
     "data": {
      "text/plain": [
       "(3, 2106, 7)"
      ]
     },
     "execution_count": 11,
     "metadata": {},
     "output_type": "execute_result"
    }
   ],
   "source": [
    "diseased.shape"
   ]
  },
  {
   "cell_type": "markdown",
   "id": "37f4e1b1",
   "metadata": {},
   "source": [
    "### Level by level"
   ]
  },
  {
   "cell_type": "code",
   "execution_count": 14,
   "id": "95d28b26",
   "metadata": {},
   "outputs": [],
   "source": [
    "def level_coef_extractor_3d(array, lvl = 0):\n",
    "    \n",
    "    lenn = array[0][0][lvl].shape[0] #48\n",
    "    coef = np.ones(shape = (array.shape[0], array.shape[1], lenn)) #219,48\n",
    "    \n",
    "    for i in range(array.shape[1]):\n",
    "        coef[0,i,:] = array[0][i][lvl]\n",
    "        coef[1,i,:] = array[1][i][lvl]\n",
    "        coef[2,i,:] = array[2][i][lvl]\n",
    "        \n",
    "    return coef"
   ]
  },
  {
   "cell_type": "code",
   "execution_count": 15,
   "id": "4e06553b",
   "metadata": {},
   "outputs": [],
   "source": [
    "def saver(array = 0, lvl = 0, dir_path = None, name = 'blank'):\n",
    "    coefs = level_coef_extractor_3d(array, lvl)\n",
    "    np.save(dir_path + \"/\"+ str(name) + \"_lvl_\"  + str(lvl), coefs, allow_pickle = True)\n",
    "    del coefs"
   ]
  },
  {
   "cell_type": "code",
   "execution_count": 17,
   "id": "0e5c5c82",
   "metadata": {},
   "outputs": [],
   "source": [
    "saver(diseased, 0, path, 'feature_extr/four-disease')\n"
   ]
  },
  {
   "cell_type": "code",
   "execution_count": null,
   "id": "2c9d620e",
   "metadata": {},
   "outputs": [],
   "source": []
  }
 ],
 "metadata": {
  "kernelspec": {
   "display_name": "Python 3 (ipykernel)",
   "language": "python",
   "name": "python3"
  },
  "language_info": {
   "codemirror_mode": {
    "name": "ipython",
    "version": 3
   },
   "file_extension": ".py",
   "mimetype": "text/x-python",
   "name": "python",
   "nbconvert_exporter": "python",
   "pygments_lexer": "ipython3",
   "version": "3.9.9"
  }
 },
 "nbformat": 4,
 "nbformat_minor": 5
}
