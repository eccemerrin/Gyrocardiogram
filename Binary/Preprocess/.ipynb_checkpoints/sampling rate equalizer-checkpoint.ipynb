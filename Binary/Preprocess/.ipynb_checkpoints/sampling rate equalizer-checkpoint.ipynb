{
 "cells": [
  {
   "cell_type": "code",
   "execution_count": 1,
   "id": "77d0bd37",
   "metadata": {},
   "outputs": [],
   "source": [
    "import numpy as np\n",
    "import pandas as pd\n",
    "import os"
   ]
  },
  {
   "cell_type": "code",
   "execution_count": 2,
   "id": "b148b8a3",
   "metadata": {},
   "outputs": [],
   "source": [
    "dir_path = \"/Users/ecem/Desktop/gyrocardiogram/data\""
   ]
  },
  {
   "cell_type": "code",
   "execution_count": 3,
   "id": "e7c98ffd",
   "metadata": {},
   "outputs": [],
   "source": [
    "x = np.load(dir_path + \"/gyro_x.npy\", allow_pickle= True)\n",
    "y = np.load(dir_path + \"/gyro_y.npy\", allow_pickle= True)\n",
    "z = np.load(dir_path + \"/gyro_z.npy\", allow_pickle= True)"
   ]
  },
  {
   "cell_type": "code",
   "execution_count": 4,
   "id": "1f55c9de",
   "metadata": {},
   "outputs": [],
   "source": [
    "heart = pd.read_excel(\"/Users/ecem/Desktop/seismocardiogram/data/diseased-dataset/Summary_Pub_Deidentified.xlsx\")\n",
    "df = heart.copy().fillna(0)"
   ]
  },
  {
   "cell_type": "code",
   "execution_count": 5,
   "id": "53f0ec0d",
   "metadata": {},
   "outputs": [],
   "source": [
    "idx = np.where(df['Sampling rate(Hz)'].round(0) == 512)"
   ]
  },
  {
   "cell_type": "code",
   "execution_count": 6,
   "id": "175b2032",
   "metadata": {},
   "outputs": [
    {
     "data": {
      "text/plain": [
       "91    UP-22\n",
       "92    UP-23\n",
       "93    UP-24\n",
       "94    UP-25\n",
       "95    UP-26\n",
       "96    UP-27\n",
       "97    UP-28\n",
       "98    UP-29\n",
       "99    UP-30\n",
       "Name: Patient ID, dtype: object"
      ]
     },
     "execution_count": 6,
     "metadata": {},
     "output_type": "execute_result"
    }
   ],
   "source": [
    "df.loc[idx]['Patient ID']"
   ]
  },
  {
   "cell_type": "code",
   "execution_count": 7,
   "id": "6dbc4e9b",
   "metadata": {},
   "outputs": [],
   "source": [
    "import obspy"
   ]
  },
  {
   "cell_type": "code",
   "execution_count": 8,
   "id": "35638fd5",
   "metadata": {},
   "outputs": [],
   "source": [
    "x_ = x[91:]\n",
    "y_ = y[91:]\n",
    "z_ = z[91:]"
   ]
  },
  {
   "cell_type": "code",
   "execution_count": 9,
   "id": "979d2ed7",
   "metadata": {},
   "outputs": [],
   "source": [
    "trace_x = []\n",
    "trace_y = []\n",
    "trace_z = []\n",
    "\n",
    "for i in range(9):\n",
    "    \n",
    "    tr_x = obspy.core.trace.Trace(x_[i]).detrend(\"linear\").taper(max_percentage=0.05,type=\"hann\")\n",
    "    tr_y = obspy.core.trace.Trace(y_[i]).detrend(\"linear\").taper(max_percentage=0.05,type=\"hann\")\n",
    "    tr_z = obspy.core.trace.Trace(z_[i]).detrend(\"linear\").taper(max_percentage=0.05,type=\"hann\")\n",
    "    \n",
    "    tr_x.stats.sampling_rate = 512\n",
    "    tr_y.stats.sampling_rate = 512\n",
    "    tr_z.stats.sampling_rate = 512\n",
    "    \n",
    "    \n",
    "    tr_x_ = tr_x.resample(256)\n",
    "    tr_y_ = tr_y.resample(256)\n",
    "    tr_z_ = tr_z.resample(256)\n",
    "    \n",
    "    \n",
    "    trace_x.append(tr_x_.data)\n",
    "    trace_y.append(tr_y_.data)\n",
    "    trace_z.append(tr_z_.data)\n",
    "    \n",
    "    del tr_x, tr_y,tr_z\n",
    "    "
   ]
  },
  {
   "cell_type": "code",
   "execution_count": 10,
   "id": "551fc13c",
   "metadata": {},
   "outputs": [
    {
     "data": {
      "text/plain": [
       "0.0004359361440567234"
      ]
     },
     "execution_count": 10,
     "metadata": {},
     "output_type": "execute_result"
    }
   ],
   "source": [
    "x[91][0]"
   ]
  },
  {
   "cell_type": "code",
   "execution_count": 11,
   "id": "586fd2ec",
   "metadata": {},
   "outputs": [
    {
     "name": "stdout",
     "output_type": "stream",
     "text": [
      "(154512,)\n",
      "(153539,)\n",
      "(76815,)\n",
      "(78272,)\n",
      "(78932,)\n",
      "(78293,)\n",
      "(77449,)\n",
      "(76496,)\n",
      "(76704,)\n"
     ]
    }
   ],
   "source": [
    "for i in range(9):\n",
    "    print(x[91+i].shape)"
   ]
  },
  {
   "cell_type": "code",
   "execution_count": 12,
   "id": "61902e2d",
   "metadata": {},
   "outputs": [
    {
     "data": {
      "text/plain": [
       "(154512,)"
      ]
     },
     "execution_count": 12,
     "metadata": {},
     "output_type": "execute_result"
    }
   ],
   "source": [
    "x[91].shape"
   ]
  },
  {
   "cell_type": "code",
   "execution_count": 13,
   "id": "cadd39f3",
   "metadata": {},
   "outputs": [
    {
     "data": {
      "text/plain": [
       "0.0004359361440567234"
      ]
     },
     "execution_count": 13,
     "metadata": {},
     "output_type": "execute_result"
    }
   ],
   "source": [
    "x[91][0]"
   ]
  },
  {
   "cell_type": "code",
   "execution_count": 14,
   "id": "f17fb422",
   "metadata": {},
   "outputs": [],
   "source": [
    "x[91:] = trace_x\n",
    "y[91:] = trace_y\n",
    "z[91:] = trace_z"
   ]
  },
  {
   "cell_type": "code",
   "execution_count": 15,
   "id": "9f9f3147",
   "metadata": {},
   "outputs": [
    {
     "name": "stdout",
     "output_type": "stream",
     "text": [
      "(77256,)\n",
      "(76769,)\n",
      "(38407,)\n",
      "(39136,)\n",
      "(39466,)\n",
      "(39146,)\n",
      "(38724,)\n",
      "(38248,)\n",
      "(38352,)\n"
     ]
    }
   ],
   "source": [
    "for i in range(9):\n",
    "    print(trace_x[i].shape)"
   ]
  },
  {
   "cell_type": "code",
   "execution_count": 16,
   "id": "a2d203d3",
   "metadata": {},
   "outputs": [
    {
     "data": {
      "text/plain": [
       "(77256,)"
      ]
     },
     "execution_count": 16,
     "metadata": {},
     "output_type": "execute_result"
    }
   ],
   "source": [
    "x[91].shape"
   ]
  },
  {
   "cell_type": "code",
   "execution_count": 17,
   "id": "42ca6ff5",
   "metadata": {},
   "outputs": [
    {
     "data": {
      "text/plain": [
       "(77256,)"
      ]
     },
     "execution_count": 17,
     "metadata": {},
     "output_type": "execute_result"
    }
   ],
   "source": [
    "y[91].shape"
   ]
  },
  {
   "cell_type": "code",
   "execution_count": 18,
   "id": "b368b7a1",
   "metadata": {},
   "outputs": [
    {
     "data": {
      "text/plain": [
       "(77256,)"
      ]
     },
     "execution_count": 18,
     "metadata": {},
     "output_type": "execute_result"
    }
   ],
   "source": [
    "z[91].shape"
   ]
  },
  {
   "cell_type": "code",
   "execution_count": 19,
   "id": "9d242384",
   "metadata": {},
   "outputs": [],
   "source": [
    "np.save(dir_path + \"/gyro_x\", x, allow_pickle= True)\n",
    "np.save(dir_path + \"/gyro_y\", y, allow_pickle= True)\n",
    "np.save(dir_path + \"/gyro_z\", z, allow_pickle= True)\n"
   ]
  },
  {
   "cell_type": "code",
   "execution_count": null,
   "id": "8340560a",
   "metadata": {},
   "outputs": [],
   "source": []
  }
 ],
 "metadata": {
  "kernelspec": {
   "display_name": "Python 3 (ipykernel)",
   "language": "python",
   "name": "python3"
  },
  "language_info": {
   "codemirror_mode": {
    "name": "ipython",
    "version": 3
   },
   "file_extension": ".py",
   "mimetype": "text/x-python",
   "name": "python",
   "nbconvert_exporter": "python",
   "pygments_lexer": "ipython3",
   "version": "3.9.9"
  }
 },
 "nbformat": 4,
 "nbformat_minor": 5
}
