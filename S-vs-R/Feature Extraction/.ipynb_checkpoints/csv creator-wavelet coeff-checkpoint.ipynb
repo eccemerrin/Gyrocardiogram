{
 "cells": [
  {
   "cell_type": "markdown",
   "id": "9738d69c",
   "metadata": {},
   "source": [
    "### Imports"
   ]
  },
  {
   "cell_type": "code",
   "execution_count": 1,
   "id": "dc7b749c",
   "metadata": {},
   "outputs": [],
   "source": [
    "import warnings\n",
    "warnings.filterwarnings(\"ignore\")"
   ]
  },
  {
   "cell_type": "code",
   "execution_count": 2,
   "id": "749d0c72",
   "metadata": {},
   "outputs": [],
   "source": [
    "#imports\n",
    "import scipy.io\n",
    "import os\n",
    "import pandas\n",
    "import numpy as np\n",
    "import matplotlib.pyplot as plt\n",
    "import matplotlib.pylab as pl\n",
    "import matplotlib.gridspec as gridspec\n",
    "import obspy\n",
    "import pywt\n",
    "import pywt.data"
   ]
  },
  {
   "cell_type": "markdown",
   "id": "2bc54617",
   "metadata": {},
   "source": [
    "### Load the trimmed data "
   ]
  },
  {
   "cell_type": "code",
   "execution_count": 3,
   "id": "70b8abe8",
   "metadata": {},
   "outputs": [
    {
     "name": "stdout",
     "output_type": "stream",
     "text": [
      "(3, 1070, 2560)\n"
     ]
    }
   ],
   "source": [
    "path = \"/Users/ecem/Desktop/gyrocardiogram/s-vs-r/\"\n",
    "diseased_s = np.load(path + \"data/diseased-10sec-s.npy\", allow_pickle= True)\n",
    "diseased_r = np.load(path + \"data/diseased-10sec-r.npy\", allow_pickle= True)\n",
    "\n",
    "print(diseased_s.shape)"
   ]
  },
  {
   "cell_type": "markdown",
   "id": "c0d9b74d",
   "metadata": {},
   "source": [
    "## Let's look at wavelet decomposition for a signal piece"
   ]
  },
  {
   "cell_type": "markdown",
   "id": "f8c7f06d",
   "metadata": {},
   "source": [
    "#### how our decomposition filter values look like"
   ]
  },
  {
   "cell_type": "code",
   "execution_count": 4,
   "id": "556de875",
   "metadata": {},
   "outputs": [],
   "source": [
    "w = pywt.Wavelet('sym5')"
   ]
  },
  {
   "cell_type": "code",
   "execution_count": 5,
   "id": "a2fa69f3",
   "metadata": {},
   "outputs": [],
   "source": [
    "coef_diseased_x_s, coef_diseased_y_s, coef_diseased_z_s = [], [], []\n",
    "for i in range(len(diseased_s[0])):\n",
    "    coef_diseased_x_s.append(pywt.wavedec(diseased_s[0][i], w, level=6))\n",
    "    coef_diseased_y_s.append(pywt.wavedec(diseased_s[1][i], w, level=6))\n",
    "    coef_diseased_z_s.append(pywt.wavedec(diseased_s[2][i], w, level=6))"
   ]
  },
  {
   "cell_type": "code",
   "execution_count": 6,
   "id": "e0d7dc99",
   "metadata": {},
   "outputs": [],
   "source": [
    "coef_diseased_x_r, coef_diseased_y_r, coef_diseased_z_r = [], [], []\n",
    "for i in range(len(diseased_r[0])):\n",
    "    coef_diseased_x_r.append(pywt.wavedec(diseased_r[0][i], w, level=6))\n",
    "    coef_diseased_y_r.append(pywt.wavedec(diseased_r[1][i], w, level=6))\n",
    "    coef_diseased_z_r.append(pywt.wavedec(diseased_r[2][i], w, level=6))"
   ]
  },
  {
   "cell_type": "code",
   "execution_count": 7,
   "id": "95ab5a75",
   "metadata": {},
   "outputs": [],
   "source": [
    "import pandas as pd"
   ]
  },
  {
   "cell_type": "code",
   "execution_count": 8,
   "id": "c1361c4d",
   "metadata": {},
   "outputs": [],
   "source": [
    "diseased_s = np.stack((coef_diseased_x_s, coef_diseased_y_s, coef_diseased_z_s), axis = 0)\n",
    "diseased_r = np.stack((coef_diseased_x_r, coef_diseased_y_r, coef_diseased_z_r), axis = 0)"
   ]
  },
  {
   "cell_type": "code",
   "execution_count": 9,
   "id": "bedc418f",
   "metadata": {},
   "outputs": [
    {
     "data": {
      "text/plain": [
       "(3, 2017, 7)"
      ]
     },
     "execution_count": 9,
     "metadata": {},
     "output_type": "execute_result"
    }
   ],
   "source": [
    "diseased_r.shape"
   ]
  },
  {
   "cell_type": "markdown",
   "id": "37f4e1b1",
   "metadata": {},
   "source": [
    "### Level by level"
   ]
  },
  {
   "cell_type": "code",
   "execution_count": 10,
   "id": "95d28b26",
   "metadata": {},
   "outputs": [],
   "source": [
    "def level_coef_extractor_3d(array, lvl = 0):\n",
    "    \n",
    "    lenn = array[0][0][lvl].shape[0] #48\n",
    "    coef = np.ones(shape = (array.shape[0], array.shape[1], lenn)) #219,48\n",
    "    \n",
    "    for i in range(array.shape[1]):\n",
    "        coef[0,i,:] = array[0][i][lvl]\n",
    "        coef[1,i,:] = array[1][i][lvl]\n",
    "        coef[2,i,:] = array[2][i][lvl]\n",
    "        \n",
    "    return coef"
   ]
  },
  {
   "cell_type": "code",
   "execution_count": 11,
   "id": "4e06553b",
   "metadata": {},
   "outputs": [],
   "source": [
    "def saver(array = 0, lvl = 0, dir_path = None, name = 'blank'):\n",
    "    coefs = level_coef_extractor_3d(array, lvl)\n",
    "    np.save(dir_path + \"/\"+ str(name) + \"_lvl_\"  + str(lvl), coefs, allow_pickle = True)\n",
    "    del coefs"
   ]
  },
  {
   "cell_type": "code",
   "execution_count": 12,
   "id": "0e5c5c82",
   "metadata": {},
   "outputs": [],
   "source": [
    "saver(diseased_s, 0, path, 'data/s-wavelet')\n",
    "saver(diseased_r, 0, path, 'data/r-wavelet')"
   ]
  }
 ],
 "metadata": {
  "kernelspec": {
   "display_name": "Python 3 (ipykernel)",
   "language": "python",
   "name": "python3"
  },
  "language_info": {
   "codemirror_mode": {
    "name": "ipython",
    "version": 3
   },
   "file_extension": ".py",
   "mimetype": "text/x-python",
   "name": "python",
   "nbconvert_exporter": "python",
   "pygments_lexer": "ipython3",
   "version": "3.9.9"
  }
 },
 "nbformat": 4,
 "nbformat_minor": 5
}
