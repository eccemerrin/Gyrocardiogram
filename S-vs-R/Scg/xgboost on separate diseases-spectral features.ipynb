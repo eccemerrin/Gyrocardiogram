{
 "cells": [
  {
   "cell_type": "markdown",
   "id": "5ff5c96f",
   "metadata": {},
   "source": [
    "### features:\n",
    "* selected spectogram coef\n",
    "* zero crossing rate\n",
    "* selected chromogram values\n",
    "* selected tempogram values\n",
    "* wavelet of level 0"
   ]
  },
  {
   "cell_type": "code",
   "execution_count": 1,
   "id": "dcd92ee4",
   "metadata": {},
   "outputs": [],
   "source": [
    "import pandas as pd \n",
    "import numpy as np\n",
    "from sklearn.model_selection import train_test_split\n",
    "from sklearn.metrics import auc\n",
    "from sklearn.feature_selection import VarianceThreshold\n",
    "from sklearn.metrics import confusion_matrix, roc_curve, roc_auc_score, precision_recall_curve, recall_score\n",
    "import matplotlib.pyplot as plt\n",
    "from yellowbrick.classifier import ClassBalance, ROCAUC, ClassificationReport, ClassPredictionError\n",
    "import itertools"
   ]
  },
  {
   "cell_type": "code",
   "execution_count": 2,
   "id": "77055433",
   "metadata": {},
   "outputs": [],
   "source": [
    "csv_path = \"/Users/ecem/Desktop/gyrocardiogram/s-vs-r\""
   ]
  },
  {
   "cell_type": "markdown",
   "id": "859b3496",
   "metadata": {},
   "source": [
    "## Load data"
   ]
  },
  {
   "cell_type": "markdown",
   "id": "84ab66f1",
   "metadata": {},
   "source": [
    "Here, our target is to predict disease correctly. So; our y will be disease column of  dataset"
   ]
  },
  {
   "cell_type": "code",
   "execution_count": 3,
   "id": "7db05d41",
   "metadata": {},
   "outputs": [],
   "source": [
    "features = pd.read_csv(csv_path + \"/spectral_features_scg.csv\", index_col = 0)"
   ]
  },
  {
   "cell_type": "code",
   "execution_count": 4,
   "id": "110960ee",
   "metadata": {},
   "outputs": [
    {
     "data": {
      "text/html": [
       "<div>\n",
       "<style scoped>\n",
       "    .dataframe tbody tr th:only-of-type {\n",
       "        vertical-align: middle;\n",
       "    }\n",
       "\n",
       "    .dataframe tbody tr th {\n",
       "        vertical-align: top;\n",
       "    }\n",
       "\n",
       "    .dataframe thead th {\n",
       "        text-align: right;\n",
       "    }\n",
       "</style>\n",
       "<table border=\"1\" class=\"dataframe\">\n",
       "  <thead>\n",
       "    <tr style=\"text-align: right;\">\n",
       "      <th></th>\n",
       "      <th>SR x</th>\n",
       "      <th>E z</th>\n",
       "      <th>E x</th>\n",
       "      <th>E y</th>\n",
       "      <th>SR z</th>\n",
       "      <th>SS z</th>\n",
       "      <th>SE x</th>\n",
       "      <th>SE y</th>\n",
       "      <th>SE z</th>\n",
       "      <th>SC y</th>\n",
       "      <th>SS x</th>\n",
       "      <th>SC x</th>\n",
       "      <th>SS y</th>\n",
       "      <th>SC z</th>\n",
       "      <th>SR y</th>\n",
       "    </tr>\n",
       "  </thead>\n",
       "  <tbody>\n",
       "    <tr>\n",
       "      <th>0</th>\n",
       "      <td>0.206250</td>\n",
       "      <td>3.321919</td>\n",
       "      <td>3.321548</td>\n",
       "      <td>3.321678</td>\n",
       "      <td>2.953125e-01</td>\n",
       "      <td>0.247556</td>\n",
       "      <td>1.326060</td>\n",
       "      <td>0.388094</td>\n",
       "      <td>2.013945</td>\n",
       "      <td>0.259748</td>\n",
       "      <td>0.281333</td>\n",
       "      <td>0.302684</td>\n",
       "      <td>0.287911</td>\n",
       "      <td>2.859439e-01</td>\n",
       "      <td>0.033594</td>\n",
       "    </tr>\n",
       "    <tr>\n",
       "      <th>1</th>\n",
       "      <td>0.309375</td>\n",
       "      <td>3.321920</td>\n",
       "      <td>3.321668</td>\n",
       "      <td>3.321678</td>\n",
       "      <td>3.171875e-01</td>\n",
       "      <td>0.251753</td>\n",
       "      <td>1.749851</td>\n",
       "      <td>0.404518</td>\n",
       "      <td>2.075349</td>\n",
       "      <td>0.272052</td>\n",
       "      <td>0.285380</td>\n",
       "      <td>0.328710</td>\n",
       "      <td>0.290203</td>\n",
       "      <td>2.999224e-01</td>\n",
       "      <td>0.028906</td>\n",
       "    </tr>\n",
       "    <tr>\n",
       "      <th>2</th>\n",
       "      <td>0.396094</td>\n",
       "      <td>3.321922</td>\n",
       "      <td>3.321799</td>\n",
       "      <td>3.321751</td>\n",
       "      <td>3.460937e-01</td>\n",
       "      <td>0.251265</td>\n",
       "      <td>2.068534</td>\n",
       "      <td>0.489166</td>\n",
       "      <td>2.192129</td>\n",
       "      <td>0.300373</td>\n",
       "      <td>0.285031</td>\n",
       "      <td>0.340882</td>\n",
       "      <td>0.294217</td>\n",
       "      <td>3.114147e-01</td>\n",
       "      <td>0.038281</td>\n",
       "    </tr>\n",
       "    <tr>\n",
       "      <th>3</th>\n",
       "      <td>0.400000</td>\n",
       "      <td>3.321922</td>\n",
       "      <td>3.321825</td>\n",
       "      <td>3.321755</td>\n",
       "      <td>3.382812e-01</td>\n",
       "      <td>0.250696</td>\n",
       "      <td>2.105146</td>\n",
       "      <td>0.465596</td>\n",
       "      <td>2.137057</td>\n",
       "      <td>0.285988</td>\n",
       "      <td>0.281644</td>\n",
       "      <td>0.338696</td>\n",
       "      <td>0.289880</td>\n",
       "      <td>3.132213e-01</td>\n",
       "      <td>0.037500</td>\n",
       "    </tr>\n",
       "    <tr>\n",
       "      <th>4</th>\n",
       "      <td>0.381250</td>\n",
       "      <td>3.321924</td>\n",
       "      <td>3.321794</td>\n",
       "      <td>3.321758</td>\n",
       "      <td>3.453125e-01</td>\n",
       "      <td>0.254326</td>\n",
       "      <td>1.985826</td>\n",
       "      <td>0.487260</td>\n",
       "      <td>2.217650</td>\n",
       "      <td>0.281957</td>\n",
       "      <td>0.285216</td>\n",
       "      <td>0.333969</td>\n",
       "      <td>0.292110</td>\n",
       "      <td>3.114619e-01</td>\n",
       "      <td>0.049219</td>\n",
       "    </tr>\n",
       "    <tr>\n",
       "      <th>...</th>\n",
       "      <td>...</td>\n",
       "      <td>...</td>\n",
       "      <td>...</td>\n",
       "      <td>...</td>\n",
       "      <td>...</td>\n",
       "      <td>...</td>\n",
       "      <td>...</td>\n",
       "      <td>...</td>\n",
       "      <td>...</td>\n",
       "      <td>...</td>\n",
       "      <td>...</td>\n",
       "      <td>...</td>\n",
       "      <td>...</td>\n",
       "      <td>...</td>\n",
       "      <td>...</td>\n",
       "    </tr>\n",
       "    <tr>\n",
       "      <th>2012</th>\n",
       "      <td>0.572072</td>\n",
       "      <td>3.321927</td>\n",
       "      <td>3.321532</td>\n",
       "      <td>3.311345</td>\n",
       "      <td>3.154749e+180</td>\n",
       "      <td>0.270685</td>\n",
       "      <td>0.794899</td>\n",
       "      <td>0.347932</td>\n",
       "      <td>2.513784</td>\n",
       "      <td>0.292104</td>\n",
       "      <td>0.286042</td>\n",
       "      <td>0.403641</td>\n",
       "      <td>0.264417</td>\n",
       "      <td>2.583923e+161</td>\n",
       "      <td>-0.136127</td>\n",
       "    </tr>\n",
       "    <tr>\n",
       "      <th>2013</th>\n",
       "      <td>-0.124001</td>\n",
       "      <td>3.321925</td>\n",
       "      <td>3.321484</td>\n",
       "      <td>3.304559</td>\n",
       "      <td>2.212087e+214</td>\n",
       "      <td>0.225259</td>\n",
       "      <td>2.311011</td>\n",
       "      <td>1.331310</td>\n",
       "      <td>2.568464</td>\n",
       "      <td>-0.966435</td>\n",
       "      <td>0.231898</td>\n",
       "      <td>0.120739</td>\n",
       "      <td>0.215633</td>\n",
       "      <td>6.307379e-311</td>\n",
       "      <td>0.197016</td>\n",
       "    </tr>\n",
       "    <tr>\n",
       "      <th>2014</th>\n",
       "      <td>0.116211</td>\n",
       "      <td>3.302838</td>\n",
       "      <td>2.902293</td>\n",
       "      <td>3.149356</td>\n",
       "      <td>1.428540e+248</td>\n",
       "      <td>0.211171</td>\n",
       "      <td>0.658981</td>\n",
       "      <td>0.935960</td>\n",
       "      <td>0.541818</td>\n",
       "      <td>-0.197797</td>\n",
       "      <td>0.209855</td>\n",
       "      <td>-0.498068</td>\n",
       "      <td>0.215413</td>\n",
       "      <td>2.583979e+161</td>\n",
       "      <td>-0.172135</td>\n",
       "    </tr>\n",
       "    <tr>\n",
       "      <th>2015</th>\n",
       "      <td>0.257894</td>\n",
       "      <td>3.211450</td>\n",
       "      <td>2.715989</td>\n",
       "      <td>3.068933</td>\n",
       "      <td>5.134579e+199</td>\n",
       "      <td>0.239102</td>\n",
       "      <td>0.490014</td>\n",
       "      <td>0.609912</td>\n",
       "      <td>0.119040</td>\n",
       "      <td>-0.412650</td>\n",
       "      <td>0.207599</td>\n",
       "      <td>0.070740</td>\n",
       "      <td>0.222084</td>\n",
       "      <td>2.875173e+161</td>\n",
       "      <td>0.033885</td>\n",
       "    </tr>\n",
       "    <tr>\n",
       "      <th>2016</th>\n",
       "      <td>-0.458397</td>\n",
       "      <td>3.159717</td>\n",
       "      <td>2.368286</td>\n",
       "      <td>3.074920</td>\n",
       "      <td>1.714575e+214</td>\n",
       "      <td>0.226968</td>\n",
       "      <td>0.522362</td>\n",
       "      <td>0.355654</td>\n",
       "      <td>0.105653</td>\n",
       "      <td>0.084407</td>\n",
       "      <td>0.245138</td>\n",
       "      <td>0.340099</td>\n",
       "      <td>0.262654</td>\n",
       "      <td>7.751111e+228</td>\n",
       "      <td>-0.036674</td>\n",
       "    </tr>\n",
       "  </tbody>\n",
       "</table>\n",
       "<p>3538 rows × 15 columns</p>\n",
       "</div>"
      ],
      "text/plain": [
       "          SR x       E z       E x       E y           SR z      SS z  \\\n",
       "0     0.206250  3.321919  3.321548  3.321678   2.953125e-01  0.247556   \n",
       "1     0.309375  3.321920  3.321668  3.321678   3.171875e-01  0.251753   \n",
       "2     0.396094  3.321922  3.321799  3.321751   3.460937e-01  0.251265   \n",
       "3     0.400000  3.321922  3.321825  3.321755   3.382812e-01  0.250696   \n",
       "4     0.381250  3.321924  3.321794  3.321758   3.453125e-01  0.254326   \n",
       "...        ...       ...       ...       ...            ...       ...   \n",
       "2012  0.572072  3.321927  3.321532  3.311345  3.154749e+180  0.270685   \n",
       "2013 -0.124001  3.321925  3.321484  3.304559  2.212087e+214  0.225259   \n",
       "2014  0.116211  3.302838  2.902293  3.149356  1.428540e+248  0.211171   \n",
       "2015  0.257894  3.211450  2.715989  3.068933  5.134579e+199  0.239102   \n",
       "2016 -0.458397  3.159717  2.368286  3.074920  1.714575e+214  0.226968   \n",
       "\n",
       "          SE x      SE y      SE z      SC y      SS x      SC x      SS y  \\\n",
       "0     1.326060  0.388094  2.013945  0.259748  0.281333  0.302684  0.287911   \n",
       "1     1.749851  0.404518  2.075349  0.272052  0.285380  0.328710  0.290203   \n",
       "2     2.068534  0.489166  2.192129  0.300373  0.285031  0.340882  0.294217   \n",
       "3     2.105146  0.465596  2.137057  0.285988  0.281644  0.338696  0.289880   \n",
       "4     1.985826  0.487260  2.217650  0.281957  0.285216  0.333969  0.292110   \n",
       "...        ...       ...       ...       ...       ...       ...       ...   \n",
       "2012  0.794899  0.347932  2.513784  0.292104  0.286042  0.403641  0.264417   \n",
       "2013  2.311011  1.331310  2.568464 -0.966435  0.231898  0.120739  0.215633   \n",
       "2014  0.658981  0.935960  0.541818 -0.197797  0.209855 -0.498068  0.215413   \n",
       "2015  0.490014  0.609912  0.119040 -0.412650  0.207599  0.070740  0.222084   \n",
       "2016  0.522362  0.355654  0.105653  0.084407  0.245138  0.340099  0.262654   \n",
       "\n",
       "               SC z      SR y  \n",
       "0      2.859439e-01  0.033594  \n",
       "1      2.999224e-01  0.028906  \n",
       "2      3.114147e-01  0.038281  \n",
       "3      3.132213e-01  0.037500  \n",
       "4      3.114619e-01  0.049219  \n",
       "...             ...       ...  \n",
       "2012  2.583923e+161 -0.136127  \n",
       "2013  6.307379e-311  0.197016  \n",
       "2014  2.583979e+161 -0.172135  \n",
       "2015  2.875173e+161  0.033885  \n",
       "2016  7.751111e+228 -0.036674  \n",
       "\n",
       "[3538 rows x 15 columns]"
      ]
     },
     "execution_count": 4,
     "metadata": {},
     "output_type": "execute_result"
    }
   ],
   "source": [
    "features"
   ]
  },
  {
   "cell_type": "code",
   "execution_count": 5,
   "id": "5763a424",
   "metadata": {},
   "outputs": [
    {
     "data": {
      "text/plain": [
       "SR x    0\n",
       "E z     0\n",
       "E x     0\n",
       "E y     0\n",
       "SR z    0\n",
       "SS z    0\n",
       "SE x    0\n",
       "SE y    0\n",
       "SE z    0\n",
       "SC y    0\n",
       "SS x    0\n",
       "SC x    0\n",
       "SS y    0\n",
       "SC z    0\n",
       "SR y    0\n",
       "dtype: int64"
      ]
     },
     "execution_count": 5,
     "metadata": {},
     "output_type": "execute_result"
    }
   ],
   "source": [
    "features.isna().sum()"
   ]
  },
  {
   "cell_type": "code",
   "execution_count": 6,
   "id": "c0315ccc",
   "metadata": {},
   "outputs": [
    {
     "data": {
      "text/plain": [
       "SR x    0\n",
       "E z     0\n",
       "E x     0\n",
       "E y     0\n",
       "SR z    0\n",
       "SS z    0\n",
       "SE x    0\n",
       "SE y    0\n",
       "SE z    0\n",
       "SC y    0\n",
       "SS x    0\n",
       "SC x    0\n",
       "SS y    0\n",
       "SC z    0\n",
       "SR y    0\n",
       "dtype: int64"
      ]
     },
     "execution_count": 6,
     "metadata": {},
     "output_type": "execute_result"
    }
   ],
   "source": [
    "features[features == np.inf].count()"
   ]
  },
  {
   "cell_type": "code",
   "execution_count": 7,
   "id": "d31f5089",
   "metadata": {},
   "outputs": [],
   "source": [
    "y = np.concatenate( [np.ones((1521)), np.zeros((2017))] )"
   ]
  },
  {
   "cell_type": "code",
   "execution_count": 8,
   "id": "0b4e2c75",
   "metadata": {},
   "outputs": [
    {
     "data": {
      "text/plain": [
       "(3538,)"
      ]
     },
     "execution_count": 8,
     "metadata": {},
     "output_type": "execute_result"
    }
   ],
   "source": [
    "y.shape"
   ]
  },
  {
   "cell_type": "code",
   "execution_count": 9,
   "id": "a9b6bdfd",
   "metadata": {},
   "outputs": [
    {
     "name": "stderr",
     "output_type": "stream",
     "text": [
      "/Users/ecem/miniforge3/envs/tf-metal/lib/python3.9/site-packages/sklearn/utils/extmath.py:999: RuntimeWarning: overflow encountered in square\n",
      "  temp **= 2\n",
      "/Users/ecem/miniforge3/envs/tf-metal/lib/python3.9/site-packages/sklearn/utils/extmath.py:1005: RuntimeWarning: overflow encountered in square\n",
      "  new_unnormalized_variance -= correction**2 / new_sample_count\n",
      "/Users/ecem/miniforge3/envs/tf-metal/lib/python3.9/site-packages/sklearn/utils/extmath.py:1005: RuntimeWarning: invalid value encountered in subtract\n",
      "  new_unnormalized_variance -= correction**2 / new_sample_count\n",
      "/Users/ecem/miniforge3/envs/tf-metal/lib/python3.9/site-packages/sklearn/preprocessing/_data.py:84: RuntimeWarning: overflow encountered in square\n",
      "  upper_bound = n_samples * eps * var + (n_samples * mean * eps) ** 2\n"
     ]
    }
   ],
   "source": [
    "from sklearn.preprocessing import StandardScaler\n",
    "scaler = StandardScaler()\n",
    "x_train = scaler.fit_transform(features)"
   ]
  },
  {
   "cell_type": "code",
   "execution_count": 10,
   "id": "fc4b5e19",
   "metadata": {},
   "outputs": [],
   "source": [
    "X_train, X_valid, y_train, y_valid = train_test_split(x_train, y, train_size=0.8, test_size=0.2,\n",
    "                                                                random_state=42)"
   ]
  },
  {
   "cell_type": "code",
   "execution_count": 11,
   "id": "6d796dcf",
   "metadata": {},
   "outputs": [
    {
     "data": {
      "text/html": [
       "<style>#sk-container-id-1 {color: black;background-color: white;}#sk-container-id-1 pre{padding: 0;}#sk-container-id-1 div.sk-toggleable {background-color: white;}#sk-container-id-1 label.sk-toggleable__label {cursor: pointer;display: block;width: 100%;margin-bottom: 0;padding: 0.3em;box-sizing: border-box;text-align: center;}#sk-container-id-1 label.sk-toggleable__label-arrow:before {content: \"▸\";float: left;margin-right: 0.25em;color: #696969;}#sk-container-id-1 label.sk-toggleable__label-arrow:hover:before {color: black;}#sk-container-id-1 div.sk-estimator:hover label.sk-toggleable__label-arrow:before {color: black;}#sk-container-id-1 div.sk-toggleable__content {max-height: 0;max-width: 0;overflow: hidden;text-align: left;background-color: #f0f8ff;}#sk-container-id-1 div.sk-toggleable__content pre {margin: 0.2em;color: black;border-radius: 0.25em;background-color: #f0f8ff;}#sk-container-id-1 input.sk-toggleable__control:checked~div.sk-toggleable__content {max-height: 200px;max-width: 100%;overflow: auto;}#sk-container-id-1 input.sk-toggleable__control:checked~label.sk-toggleable__label-arrow:before {content: \"▾\";}#sk-container-id-1 div.sk-estimator input.sk-toggleable__control:checked~label.sk-toggleable__label {background-color: #d4ebff;}#sk-container-id-1 div.sk-label input.sk-toggleable__control:checked~label.sk-toggleable__label {background-color: #d4ebff;}#sk-container-id-1 input.sk-hidden--visually {border: 0;clip: rect(1px 1px 1px 1px);clip: rect(1px, 1px, 1px, 1px);height: 1px;margin: -1px;overflow: hidden;padding: 0;position: absolute;width: 1px;}#sk-container-id-1 div.sk-estimator {font-family: monospace;background-color: #f0f8ff;border: 1px dotted black;border-radius: 0.25em;box-sizing: border-box;margin-bottom: 0.5em;}#sk-container-id-1 div.sk-estimator:hover {background-color: #d4ebff;}#sk-container-id-1 div.sk-parallel-item::after {content: \"\";width: 100%;border-bottom: 1px solid gray;flex-grow: 1;}#sk-container-id-1 div.sk-label:hover label.sk-toggleable__label {background-color: #d4ebff;}#sk-container-id-1 div.sk-serial::before {content: \"\";position: absolute;border-left: 1px solid gray;box-sizing: border-box;top: 0;bottom: 0;left: 50%;z-index: 0;}#sk-container-id-1 div.sk-serial {display: flex;flex-direction: column;align-items: center;background-color: white;padding-right: 0.2em;padding-left: 0.2em;position: relative;}#sk-container-id-1 div.sk-item {position: relative;z-index: 1;}#sk-container-id-1 div.sk-parallel {display: flex;align-items: stretch;justify-content: center;background-color: white;position: relative;}#sk-container-id-1 div.sk-item::before, #sk-container-id-1 div.sk-parallel-item::before {content: \"\";position: absolute;border-left: 1px solid gray;box-sizing: border-box;top: 0;bottom: 0;left: 50%;z-index: -1;}#sk-container-id-1 div.sk-parallel-item {display: flex;flex-direction: column;z-index: 1;position: relative;background-color: white;}#sk-container-id-1 div.sk-parallel-item:first-child::after {align-self: flex-end;width: 50%;}#sk-container-id-1 div.sk-parallel-item:last-child::after {align-self: flex-start;width: 50%;}#sk-container-id-1 div.sk-parallel-item:only-child::after {width: 0;}#sk-container-id-1 div.sk-dashed-wrapped {border: 1px dashed gray;margin: 0 0.4em 0.5em 0.4em;box-sizing: border-box;padding-bottom: 0.4em;background-color: white;}#sk-container-id-1 div.sk-label label {font-family: monospace;font-weight: bold;display: inline-block;line-height: 1.2em;}#sk-container-id-1 div.sk-label-container {text-align: center;}#sk-container-id-1 div.sk-container {/* jupyter's `normalize.less` sets `[hidden] { display: none; }` but bootstrap.min.css set `[hidden] { display: none !important; }` so we also need the `!important` here to be able to override the default hidden behavior on the sphinx rendered scikit-learn.org. See: https://github.com/scikit-learn/scikit-learn/issues/21755 */display: inline-block !important;position: relative;}#sk-container-id-1 div.sk-text-repr-fallback {display: none;}</style><div id=\"sk-container-id-1\" class=\"sk-top-container\"><div class=\"sk-text-repr-fallback\"><pre>XGBClassifier(base_score=0.5, booster=&#x27;gbtree&#x27;, callbacks=None,\n",
       "              colsample_bylevel=1, colsample_bynode=1, colsample_bytree=1,\n",
       "              early_stopping_rounds=None, enable_categorical=False,\n",
       "              eval_metric=&#x27;merror&#x27;, gamma=0, gpu_id=-1, grow_policy=&#x27;depthwise&#x27;,\n",
       "              importance_type=None, interaction_constraints=&#x27;&#x27;,\n",
       "              learning_rate=0.300000012, max_bin=256, max_cat_to_onehot=4,\n",
       "              max_delta_step=0, max_depth=6, max_leaves=0, min_child_weight=1,\n",
       "              missing=nan, monotone_constraints=&#x27;()&#x27;, n_estimators=100,\n",
       "              n_jobs=0, num_parallel_tree=1, predictor=&#x27;auto&#x27;, random_state=42,\n",
       "              reg_alpha=0, reg_lambda=1, ...)</pre><b>In a Jupyter environment, please rerun this cell to show the HTML representation or trust the notebook. <br />On GitHub, the HTML representation is unable to render, please try loading this page with nbviewer.org.</b></div><div class=\"sk-container\" hidden><div class=\"sk-item\"><div class=\"sk-estimator sk-toggleable\"><input class=\"sk-toggleable__control sk-hidden--visually\" id=\"sk-estimator-id-1\" type=\"checkbox\" checked><label for=\"sk-estimator-id-1\" class=\"sk-toggleable__label sk-toggleable__label-arrow\">XGBClassifier</label><div class=\"sk-toggleable__content\"><pre>XGBClassifier(base_score=0.5, booster=&#x27;gbtree&#x27;, callbacks=None,\n",
       "              colsample_bylevel=1, colsample_bynode=1, colsample_bytree=1,\n",
       "              early_stopping_rounds=None, enable_categorical=False,\n",
       "              eval_metric=&#x27;merror&#x27;, gamma=0, gpu_id=-1, grow_policy=&#x27;depthwise&#x27;,\n",
       "              importance_type=None, interaction_constraints=&#x27;&#x27;,\n",
       "              learning_rate=0.300000012, max_bin=256, max_cat_to_onehot=4,\n",
       "              max_delta_step=0, max_depth=6, max_leaves=0, min_child_weight=1,\n",
       "              missing=nan, monotone_constraints=&#x27;()&#x27;, n_estimators=100,\n",
       "              n_jobs=0, num_parallel_tree=1, predictor=&#x27;auto&#x27;, random_state=42,\n",
       "              reg_alpha=0, reg_lambda=1, ...)</pre></div></div></div></div></div>"
      ],
      "text/plain": [
       "XGBClassifier(base_score=0.5, booster='gbtree', callbacks=None,\n",
       "              colsample_bylevel=1, colsample_bynode=1, colsample_bytree=1,\n",
       "              early_stopping_rounds=None, enable_categorical=False,\n",
       "              eval_metric='merror', gamma=0, gpu_id=-1, grow_policy='depthwise',\n",
       "              importance_type=None, interaction_constraints='',\n",
       "              learning_rate=0.300000012, max_bin=256, max_cat_to_onehot=4,\n",
       "              max_delta_step=0, max_depth=6, max_leaves=0, min_child_weight=1,\n",
       "              missing=nan, monotone_constraints='()', n_estimators=100,\n",
       "              n_jobs=0, num_parallel_tree=1, predictor='auto', random_state=42,\n",
       "              reg_alpha=0, reg_lambda=1, ...)"
      ]
     },
     "execution_count": 11,
     "metadata": {},
     "output_type": "execute_result"
    }
   ],
   "source": [
    "import xgboost as xgb\n",
    "model  = xgb.XGBClassifier(random_state = 42, eval_metric = 'merror') \n",
    "\n",
    "# Fit the model\n",
    "model.fit(X_train, y_train)"
   ]
  },
  {
   "cell_type": "code",
   "execution_count": 12,
   "id": "3deabbce",
   "metadata": {},
   "outputs": [],
   "source": [
    "predictions = model.predict(X_valid)"
   ]
  },
  {
   "cell_type": "code",
   "execution_count": 13,
   "id": "a4edd857",
   "metadata": {},
   "outputs": [],
   "source": [
    "classes = ['S', 'R']"
   ]
  },
  {
   "cell_type": "code",
   "execution_count": 14,
   "id": "69ecf1cf",
   "metadata": {},
   "outputs": [
    {
     "data": {
      "image/png": "[encoded data removed]",
      "text/plain": [
       "<Figure size 900x500 with 1 Axes>"
      ]
     },
     "metadata": {},
     "output_type": "display_data"
    }
   ],
   "source": [
    "rocauc = ROCAUC(model, size=(900, 500), classes=classes )\n",
    "\n",
    "rocauc.fit(X_train, y_train)       \n",
    "rocauc.score(X_valid, y_valid)  \n",
    "r = rocauc.poof()"
   ]
  },
  {
   "cell_type": "code",
   "execution_count": 15,
   "id": "c8886d49",
   "metadata": {},
   "outputs": [
    {
     "name": "stderr",
     "output_type": "stream",
     "text": [
      "/Users/ecem/miniforge3/envs/tf-metal/lib/python3.9/site-packages/yellowbrick/classifier/base.py:232: YellowbrickWarning: could not determine class_counts_ from previously fitted classifier\n",
      "  warnings.warn(\n"
     ]
    },
    {
     "data": {
      "image/png": "[encoded data removed]",
      "text/plain": [
       "<Figure size 425x400 with 2 Axes>"
      ]
     },
     "metadata": {},
     "output_type": "display_data"
    }
   ],
   "source": [
    "report = ClassificationReport(model, size=(425, 400), classes=classes, cmap = 'BuPu' )\n",
    "\n",
    "report.score(X_valid, y_valid)\n",
    "c = report.poof()"
   ]
  },
  {
   "cell_type": "code",
   "execution_count": 16,
   "id": "2c2f2a40",
   "metadata": {},
   "outputs": [
    {
     "data": {
      "image/png": "[encoded data removed]",
      "text/plain": [
       "<Figure size 576x396 with 2 Axes>"
      ]
     },
     "metadata": {},
     "output_type": "display_data"
    }
   ],
   "source": [
    "from sklearn.metrics import ConfusionMatrixDisplay\n",
    "conf =  ConfusionMatrixDisplay.from_estimator(model, X_valid, y_valid, display_labels= ['S', 'R'], cmap = 'BuPu') \n",
    "conf.ax_.set_title(\"Confusion Matrix\")\n",
    "plt.grid(None)\n",
    "plt.show()"
   ]
  },
  {
   "cell_type": "code",
   "execution_count": 17,
   "id": "e6a3d35a",
   "metadata": {},
   "outputs": [
    {
     "name": "stdout",
     "output_type": "stream",
     "text": [
      "accuracy: 94.49%\n",
      "recall: 94.49%\n",
      "precision: 94.66%\n"
     ]
    }
   ],
   "source": [
    "from sklearn.metrics import accuracy_score\n",
    "accuracy = accuracy_score(y_valid, predictions)\n",
    "print(\"accuracy: %.2f%%\" % (accuracy * 100.0))\n",
    "\n",
    "recall = recall_score(y_valid, predictions, average= 'weighted')\n",
    "print(\"recall: %.2f%%\" % (recall * 100.0))\n",
    "\n",
    "from sklearn.metrics import precision_score\n",
    "precision = precision_score(y_valid, predictions, average= 'weighted')\n",
    "print(\"precision: %.2f%%\" % (precision * 100.0))"
   ]
  },
  {
   "cell_type": "markdown",
   "id": "4a625f55",
   "metadata": {},
   "source": [
    "### with 0.2 variation"
   ]
  },
  {
   "cell_type": "code",
   "execution_count": 18,
   "id": "e06b3e3f",
   "metadata": {},
   "outputs": [
    {
     "name": "stderr",
     "output_type": "stream",
     "text": [
      "/Users/ecem/miniforge3/envs/tf-metal/lib/python3.9/site-packages/sklearn/feature_selection/_variance_threshold.py:104: RuntimeWarning: Degrees of freedom <= 0 for slice.\n",
      "  self.variances_ = np.nanvar(X, axis=0)\n"
     ]
    },
    {
     "data": {
      "text/html": [
       "<div>\n",
       "<style scoped>\n",
       "    .dataframe tbody tr th:only-of-type {\n",
       "        vertical-align: middle;\n",
       "    }\n",
       "\n",
       "    .dataframe tbody tr th {\n",
       "        vertical-align: top;\n",
       "    }\n",
       "\n",
       "    .dataframe thead th {\n",
       "        text-align: right;\n",
       "    }\n",
       "</style>\n",
       "<table border=\"1\" class=\"dataframe\">\n",
       "  <thead>\n",
       "    <tr style=\"text-align: right;\">\n",
       "      <th></th>\n",
       "      <th>SR x</th>\n",
       "      <th>E z</th>\n",
       "      <th>E x</th>\n",
       "      <th>E y</th>\n",
       "      <th>SS z</th>\n",
       "      <th>SE x</th>\n",
       "      <th>SE y</th>\n",
       "      <th>SE z</th>\n",
       "      <th>SC y</th>\n",
       "      <th>SS x</th>\n",
       "      <th>SC x</th>\n",
       "      <th>SS y</th>\n",
       "      <th>SR y</th>\n",
       "    </tr>\n",
       "  </thead>\n",
       "  <tbody>\n",
       "    <tr>\n",
       "      <th>0</th>\n",
       "      <td>0.206250</td>\n",
       "      <td>3.321919</td>\n",
       "      <td>3.321548</td>\n",
       "      <td>3.321678</td>\n",
       "      <td>0.247556</td>\n",
       "      <td>1.326060</td>\n",
       "      <td>0.388094</td>\n",
       "      <td>2.013945</td>\n",
       "      <td>0.259748</td>\n",
       "      <td>0.281333</td>\n",
       "      <td>0.302684</td>\n",
       "      <td>0.287911</td>\n",
       "      <td>0.033594</td>\n",
       "    </tr>\n",
       "    <tr>\n",
       "      <th>1</th>\n",
       "      <td>0.309375</td>\n",
       "      <td>3.321920</td>\n",
       "      <td>3.321668</td>\n",
       "      <td>3.321678</td>\n",
       "      <td>0.251753</td>\n",
       "      <td>1.749851</td>\n",
       "      <td>0.404518</td>\n",
       "      <td>2.075349</td>\n",
       "      <td>0.272052</td>\n",
       "      <td>0.285380</td>\n",
       "      <td>0.328710</td>\n",
       "      <td>0.290203</td>\n",
       "      <td>0.028906</td>\n",
       "    </tr>\n",
       "    <tr>\n",
       "      <th>2</th>\n",
       "      <td>0.396094</td>\n",
       "      <td>3.321922</td>\n",
       "      <td>3.321799</td>\n",
       "      <td>3.321751</td>\n",
       "      <td>0.251265</td>\n",
       "      <td>2.068534</td>\n",
       "      <td>0.489166</td>\n",
       "      <td>2.192129</td>\n",
       "      <td>0.300373</td>\n",
       "      <td>0.285031</td>\n",
       "      <td>0.340882</td>\n",
       "      <td>0.294217</td>\n",
       "      <td>0.038281</td>\n",
       "    </tr>\n",
       "    <tr>\n",
       "      <th>3</th>\n",
       "      <td>0.400000</td>\n",
       "      <td>3.321922</td>\n",
       "      <td>3.321825</td>\n",
       "      <td>3.321755</td>\n",
       "      <td>0.250696</td>\n",
       "      <td>2.105146</td>\n",
       "      <td>0.465596</td>\n",
       "      <td>2.137057</td>\n",
       "      <td>0.285988</td>\n",
       "      <td>0.281644</td>\n",
       "      <td>0.338696</td>\n",
       "      <td>0.289880</td>\n",
       "      <td>0.037500</td>\n",
       "    </tr>\n",
       "    <tr>\n",
       "      <th>4</th>\n",
       "      <td>0.381250</td>\n",
       "      <td>3.321924</td>\n",
       "      <td>3.321794</td>\n",
       "      <td>3.321758</td>\n",
       "      <td>0.254326</td>\n",
       "      <td>1.985826</td>\n",
       "      <td>0.487260</td>\n",
       "      <td>2.217650</td>\n",
       "      <td>0.281957</td>\n",
       "      <td>0.285216</td>\n",
       "      <td>0.333969</td>\n",
       "      <td>0.292110</td>\n",
       "      <td>0.049219</td>\n",
       "    </tr>\n",
       "    <tr>\n",
       "      <th>...</th>\n",
       "      <td>...</td>\n",
       "      <td>...</td>\n",
       "      <td>...</td>\n",
       "      <td>...</td>\n",
       "      <td>...</td>\n",
       "      <td>...</td>\n",
       "      <td>...</td>\n",
       "      <td>...</td>\n",
       "      <td>...</td>\n",
       "      <td>...</td>\n",
       "      <td>...</td>\n",
       "      <td>...</td>\n",
       "      <td>...</td>\n",
       "    </tr>\n",
       "    <tr>\n",
       "      <th>2012</th>\n",
       "      <td>0.572072</td>\n",
       "      <td>3.321927</td>\n",
       "      <td>3.321532</td>\n",
       "      <td>3.311345</td>\n",
       "      <td>0.270685</td>\n",
       "      <td>0.794899</td>\n",
       "      <td>0.347932</td>\n",
       "      <td>2.513784</td>\n",
       "      <td>0.292104</td>\n",
       "      <td>0.286042</td>\n",
       "      <td>0.403641</td>\n",
       "      <td>0.264417</td>\n",
       "      <td>-0.136127</td>\n",
       "    </tr>\n",
       "    <tr>\n",
       "      <th>2013</th>\n",
       "      <td>-0.124001</td>\n",
       "      <td>3.321925</td>\n",
       "      <td>3.321484</td>\n",
       "      <td>3.304559</td>\n",
       "      <td>0.225259</td>\n",
       "      <td>2.311011</td>\n",
       "      <td>1.331310</td>\n",
       "      <td>2.568464</td>\n",
       "      <td>-0.966435</td>\n",
       "      <td>0.231898</td>\n",
       "      <td>0.120739</td>\n",
       "      <td>0.215633</td>\n",
       "      <td>0.197016</td>\n",
       "    </tr>\n",
       "    <tr>\n",
       "      <th>2014</th>\n",
       "      <td>0.116211</td>\n",
       "      <td>3.302838</td>\n",
       "      <td>2.902293</td>\n",
       "      <td>3.149356</td>\n",
       "      <td>0.211171</td>\n",
       "      <td>0.658981</td>\n",
       "      <td>0.935960</td>\n",
       "      <td>0.541818</td>\n",
       "      <td>-0.197797</td>\n",
       "      <td>0.209855</td>\n",
       "      <td>-0.498068</td>\n",
       "      <td>0.215413</td>\n",
       "      <td>-0.172135</td>\n",
       "    </tr>\n",
       "    <tr>\n",
       "      <th>2015</th>\n",
       "      <td>0.257894</td>\n",
       "      <td>3.211450</td>\n",
       "      <td>2.715989</td>\n",
       "      <td>3.068933</td>\n",
       "      <td>0.239102</td>\n",
       "      <td>0.490014</td>\n",
       "      <td>0.609912</td>\n",
       "      <td>0.119040</td>\n",
       "      <td>-0.412650</td>\n",
       "      <td>0.207599</td>\n",
       "      <td>0.070740</td>\n",
       "      <td>0.222084</td>\n",
       "      <td>0.033885</td>\n",
       "    </tr>\n",
       "    <tr>\n",
       "      <th>2016</th>\n",
       "      <td>-0.458397</td>\n",
       "      <td>3.159717</td>\n",
       "      <td>2.368286</td>\n",
       "      <td>3.074920</td>\n",
       "      <td>0.226968</td>\n",
       "      <td>0.522362</td>\n",
       "      <td>0.355654</td>\n",
       "      <td>0.105653</td>\n",
       "      <td>0.084407</td>\n",
       "      <td>0.245138</td>\n",
       "      <td>0.340099</td>\n",
       "      <td>0.262654</td>\n",
       "      <td>-0.036674</td>\n",
       "    </tr>\n",
       "  </tbody>\n",
       "</table>\n",
       "<p>3538 rows × 13 columns</p>\n",
       "</div>"
      ],
      "text/plain": [
       "          SR x       E z       E x       E y      SS z      SE x      SE y  \\\n",
       "0     0.206250  3.321919  3.321548  3.321678  0.247556  1.326060  0.388094   \n",
       "1     0.309375  3.321920  3.321668  3.321678  0.251753  1.749851  0.404518   \n",
       "2     0.396094  3.321922  3.321799  3.321751  0.251265  2.068534  0.489166   \n",
       "3     0.400000  3.321922  3.321825  3.321755  0.250696  2.105146  0.465596   \n",
       "4     0.381250  3.321924  3.321794  3.321758  0.254326  1.985826  0.487260   \n",
       "...        ...       ...       ...       ...       ...       ...       ...   \n",
       "2012  0.572072  3.321927  3.321532  3.311345  0.270685  0.794899  0.347932   \n",
       "2013 -0.124001  3.321925  3.321484  3.304559  0.225259  2.311011  1.331310   \n",
       "2014  0.116211  3.302838  2.902293  3.149356  0.211171  0.658981  0.935960   \n",
       "2015  0.257894  3.211450  2.715989  3.068933  0.239102  0.490014  0.609912   \n",
       "2016 -0.458397  3.159717  2.368286  3.074920  0.226968  0.522362  0.355654   \n",
       "\n",
       "          SE z      SC y      SS x      SC x      SS y      SR y  \n",
       "0     2.013945  0.259748  0.281333  0.302684  0.287911  0.033594  \n",
       "1     2.075349  0.272052  0.285380  0.328710  0.290203  0.028906  \n",
       "2     2.192129  0.300373  0.285031  0.340882  0.294217  0.038281  \n",
       "3     2.137057  0.285988  0.281644  0.338696  0.289880  0.037500  \n",
       "4     2.217650  0.281957  0.285216  0.333969  0.292110  0.049219  \n",
       "...        ...       ...       ...       ...       ...       ...  \n",
       "2012  2.513784  0.292104  0.286042  0.403641  0.264417 -0.136127  \n",
       "2013  2.568464 -0.966435  0.231898  0.120739  0.215633  0.197016  \n",
       "2014  0.541818 -0.197797  0.209855 -0.498068  0.215413 -0.172135  \n",
       "2015  0.119040 -0.412650  0.207599  0.070740  0.222084  0.033885  \n",
       "2016  0.105653  0.084407  0.245138  0.340099  0.262654 -0.036674  \n",
       "\n",
       "[3538 rows x 13 columns]"
      ]
     },
     "execution_count": 18,
     "metadata": {},
     "output_type": "execute_result"
    }
   ],
   "source": [
    "vt = VarianceThreshold(threshold = 0.2)\n",
    "_ = vt.fit(x_train)\n",
    "masked = vt.get_support()\n",
    "features_masked = features.loc[:, masked]\n",
    "features_masked # uncomment to see the dataframe"
   ]
  },
  {
   "cell_type": "code",
   "execution_count": 19,
   "id": "dab19914",
   "metadata": {},
   "outputs": [],
   "source": [
    "X_train_, X_valid_, y_train_, y_valid_ = train_test_split(features_masked, y, train_size=0.8, test_size=0.2,\n",
    "                                                                random_state=42)"
   ]
  },
  {
   "cell_type": "code",
   "execution_count": 20,
   "id": "d36e716e",
   "metadata": {},
   "outputs": [
    {
     "data": {
      "text/html": [
       "<style>#sk-container-id-2 {color: black;background-color: white;}#sk-container-id-2 pre{padding: 0;}#sk-container-id-2 div.sk-toggleable {background-color: white;}#sk-container-id-2 label.sk-toggleable__label {cursor: pointer;display: block;width: 100%;margin-bottom: 0;padding: 0.3em;box-sizing: border-box;text-align: center;}#sk-container-id-2 label.sk-toggleable__label-arrow:before {content: \"▸\";float: left;margin-right: 0.25em;color: #696969;}#sk-container-id-2 label.sk-toggleable__label-arrow:hover:before {color: black;}#sk-container-id-2 div.sk-estimator:hover label.sk-toggleable__label-arrow:before {color: black;}#sk-container-id-2 div.sk-toggleable__content {max-height: 0;max-width: 0;overflow: hidden;text-align: left;background-color: #f0f8ff;}#sk-container-id-2 div.sk-toggleable__content pre {margin: 0.2em;color: black;border-radius: 0.25em;background-color: #f0f8ff;}#sk-container-id-2 input.sk-toggleable__control:checked~div.sk-toggleable__content {max-height: 200px;max-width: 100%;overflow: auto;}#sk-container-id-2 input.sk-toggleable__control:checked~label.sk-toggleable__label-arrow:before {content: \"▾\";}#sk-container-id-2 div.sk-estimator input.sk-toggleable__control:checked~label.sk-toggleable__label {background-color: #d4ebff;}#sk-container-id-2 div.sk-label input.sk-toggleable__control:checked~label.sk-toggleable__label {background-color: #d4ebff;}#sk-container-id-2 input.sk-hidden--visually {border: 0;clip: rect(1px 1px 1px 1px);clip: rect(1px, 1px, 1px, 1px);height: 1px;margin: -1px;overflow: hidden;padding: 0;position: absolute;width: 1px;}#sk-container-id-2 div.sk-estimator {font-family: monospace;background-color: #f0f8ff;border: 1px dotted black;border-radius: 0.25em;box-sizing: border-box;margin-bottom: 0.5em;}#sk-container-id-2 div.sk-estimator:hover {background-color: #d4ebff;}#sk-container-id-2 div.sk-parallel-item::after {content: \"\";width: 100%;border-bottom: 1px solid gray;flex-grow: 1;}#sk-container-id-2 div.sk-label:hover label.sk-toggleable__label {background-color: #d4ebff;}#sk-container-id-2 div.sk-serial::before {content: \"\";position: absolute;border-left: 1px solid gray;box-sizing: border-box;top: 0;bottom: 0;left: 50%;z-index: 0;}#sk-container-id-2 div.sk-serial {display: flex;flex-direction: column;align-items: center;background-color: white;padding-right: 0.2em;padding-left: 0.2em;position: relative;}#sk-container-id-2 div.sk-item {position: relative;z-index: 1;}#sk-container-id-2 div.sk-parallel {display: flex;align-items: stretch;justify-content: center;background-color: white;position: relative;}#sk-container-id-2 div.sk-item::before, #sk-container-id-2 div.sk-parallel-item::before {content: \"\";position: absolute;border-left: 1px solid gray;box-sizing: border-box;top: 0;bottom: 0;left: 50%;z-index: -1;}#sk-container-id-2 div.sk-parallel-item {display: flex;flex-direction: column;z-index: 1;position: relative;background-color: white;}#sk-container-id-2 div.sk-parallel-item:first-child::after {align-self: flex-end;width: 50%;}#sk-container-id-2 div.sk-parallel-item:last-child::after {align-self: flex-start;width: 50%;}#sk-container-id-2 div.sk-parallel-item:only-child::after {width: 0;}#sk-container-id-2 div.sk-dashed-wrapped {border: 1px dashed gray;margin: 0 0.4em 0.5em 0.4em;box-sizing: border-box;padding-bottom: 0.4em;background-color: white;}#sk-container-id-2 div.sk-label label {font-family: monospace;font-weight: bold;display: inline-block;line-height: 1.2em;}#sk-container-id-2 div.sk-label-container {text-align: center;}#sk-container-id-2 div.sk-container {/* jupyter's `normalize.less` sets `[hidden] { display: none; }` but bootstrap.min.css set `[hidden] { display: none !important; }` so we also need the `!important` here to be able to override the default hidden behavior on the sphinx rendered scikit-learn.org. See: https://github.com/scikit-learn/scikit-learn/issues/21755 */display: inline-block !important;position: relative;}#sk-container-id-2 div.sk-text-repr-fallback {display: none;}</style><div id=\"sk-container-id-2\" class=\"sk-top-container\"><div class=\"sk-text-repr-fallback\"><pre>XGBClassifier(base_score=0.5, booster=&#x27;gbtree&#x27;, callbacks=None,\n",
       "              colsample_bylevel=1, colsample_bynode=1, colsample_bytree=1,\n",
       "              early_stopping_rounds=None, enable_categorical=False,\n",
       "              eval_metric=&#x27;merror&#x27;, gamma=0, gpu_id=-1, grow_policy=&#x27;depthwise&#x27;,\n",
       "              importance_type=None, interaction_constraints=&#x27;&#x27;,\n",
       "              learning_rate=0.300000012, max_bin=256, max_cat_to_onehot=4,\n",
       "              max_delta_step=0, max_depth=6, max_leaves=0, min_child_weight=1,\n",
       "              missing=nan, monotone_constraints=&#x27;()&#x27;, n_estimators=100,\n",
       "              n_jobs=0, num_parallel_tree=1, predictor=&#x27;auto&#x27;, random_state=42,\n",
       "              reg_alpha=0, reg_lambda=1, ...)</pre><b>In a Jupyter environment, please rerun this cell to show the HTML representation or trust the notebook. <br />On GitHub, the HTML representation is unable to render, please try loading this page with nbviewer.org.</b></div><div class=\"sk-container\" hidden><div class=\"sk-item\"><div class=\"sk-estimator sk-toggleable\"><input class=\"sk-toggleable__control sk-hidden--visually\" id=\"sk-estimator-id-2\" type=\"checkbox\" checked><label for=\"sk-estimator-id-2\" class=\"sk-toggleable__label sk-toggleable__label-arrow\">XGBClassifier</label><div class=\"sk-toggleable__content\"><pre>XGBClassifier(base_score=0.5, booster=&#x27;gbtree&#x27;, callbacks=None,\n",
       "              colsample_bylevel=1, colsample_bynode=1, colsample_bytree=1,\n",
       "              early_stopping_rounds=None, enable_categorical=False,\n",
       "              eval_metric=&#x27;merror&#x27;, gamma=0, gpu_id=-1, grow_policy=&#x27;depthwise&#x27;,\n",
       "              importance_type=None, interaction_constraints=&#x27;&#x27;,\n",
       "              learning_rate=0.300000012, max_bin=256, max_cat_to_onehot=4,\n",
       "              max_delta_step=0, max_depth=6, max_leaves=0, min_child_weight=1,\n",
       "              missing=nan, monotone_constraints=&#x27;()&#x27;, n_estimators=100,\n",
       "              n_jobs=0, num_parallel_tree=1, predictor=&#x27;auto&#x27;, random_state=42,\n",
       "              reg_alpha=0, reg_lambda=1, ...)</pre></div></div></div></div></div>"
      ],
      "text/plain": [
       "XGBClassifier(base_score=0.5, booster='gbtree', callbacks=None,\n",
       "              colsample_bylevel=1, colsample_bynode=1, colsample_bytree=1,\n",
       "              early_stopping_rounds=None, enable_categorical=False,\n",
       "              eval_metric='merror', gamma=0, gpu_id=-1, grow_policy='depthwise',\n",
       "              importance_type=None, interaction_constraints='',\n",
       "              learning_rate=0.300000012, max_bin=256, max_cat_to_onehot=4,\n",
       "              max_delta_step=0, max_depth=6, max_leaves=0, min_child_weight=1,\n",
       "              missing=nan, monotone_constraints='()', n_estimators=100,\n",
       "              n_jobs=0, num_parallel_tree=1, predictor='auto', random_state=42,\n",
       "              reg_alpha=0, reg_lambda=1, ...)"
      ]
     },
     "execution_count": 20,
     "metadata": {},
     "output_type": "execute_result"
    }
   ],
   "source": [
    "import xgboost as xgb\n",
    "model_  = xgb.XGBClassifier(random_state = 42, eval_metric = 'merror' ) \n",
    "\n",
    "# Fit the model\n",
    "model_.fit(X_train_, y_train_)"
   ]
  },
  {
   "cell_type": "code",
   "execution_count": 21,
   "id": "0077a40d",
   "metadata": {},
   "outputs": [],
   "source": [
    "predictions_ = model_.predict(X_valid_)"
   ]
  },
  {
   "cell_type": "code",
   "execution_count": 22,
   "id": "414ca68d",
   "metadata": {},
   "outputs": [
    {
     "data": {
      "image/png": "[encoded data removed]",
      "text/plain": [
       "<Figure size 900x500 with 1 Axes>"
      ]
     },
     "metadata": {},
     "output_type": "display_data"
    }
   ],
   "source": [
    "rocauc_ = ROCAUC(model_, size=(900, 500), classes=classes)\n",
    "\n",
    "rocauc_.fit(X_train_, y_train_)       \n",
    "rocauc_.score(X_valid_, y_valid_)  \n",
    "r = rocauc_.poof()"
   ]
  },
  {
   "cell_type": "code",
   "execution_count": 23,
   "id": "86cf9fc6",
   "metadata": {},
   "outputs": [
    {
     "data": {
      "image/png": "[encoded data removed]",
      "text/plain": [
       "<Figure size 576x396 with 2 Axes>"
      ]
     },
     "metadata": {},
     "output_type": "display_data"
    }
   ],
   "source": [
    "conf_ =  ConfusionMatrixDisplay.from_estimator(model_, X_valid_, y_valid_, display_labels= ['S','R' ], cmap = 'BuPu')   \n",
    "conf_.ax_.set_title(\"Confusion Matrix\")\n",
    "plt.grid(None)\n",
    "plt.show()"
   ]
  },
  {
   "cell_type": "code",
   "execution_count": 24,
   "id": "e62bc362",
   "metadata": {},
   "outputs": [
    {
     "name": "stdout",
     "output_type": "stream",
     "text": [
      "Accuracy: 95.62%\n"
     ]
    }
   ],
   "source": [
    "from sklearn.metrics import accuracy_score\n",
    "accuracy = accuracy_score(y_valid_, predictions_)\n",
    "print(\"Accuracy: %.2f%%\" % (accuracy * 100.0))"
   ]
  },
  {
   "cell_type": "code",
   "execution_count": 25,
   "id": "91b3c76e",
   "metadata": {},
   "outputs": [
    {
     "name": "stdout",
     "output_type": "stream",
     "text": [
      "recall: 95.62%\n",
      "precision: 95.80%\n"
     ]
    }
   ],
   "source": [
    "recall = recall_score(y_valid_, predictions_, average= 'weighted')\n",
    "print(\"recall: %.2f%%\" % (recall * 100.0))\n",
    "\n",
    "from sklearn.metrics import precision_score\n",
    "precision = precision_score(y_valid_, predictions_, average= 'weighted')\n",
    "print(\"precision: %.2f%%\" % (precision * 100.0))"
   ]
  },
  {
   "cell_type": "code",
   "execution_count": null,
   "id": "7bd829ae",
   "metadata": {},
   "outputs": [],
   "source": []
  },
  {
   "cell_type": "code",
   "execution_count": null,
   "id": "a2f14f2e",
   "metadata": {},
   "outputs": [],
   "source": []
  }
 ],
 "metadata": {
  "kernelspec": {
   "display_name": "Python 3 (ipykernel)",
   "language": "python",
   "name": "python3"
  },
  "language_info": {
   "codemirror_mode": {
    "name": "ipython",
    "version": 3
   },
   "file_extension": ".py",
   "mimetype": "text/x-python",
   "name": "python",
   "nbconvert_exporter": "python",
   "pygments_lexer": "ipython3",
   "version": "3.9.9"
  }
 },
 "nbformat": 4,
 "nbformat_minor": 5
}
