{
 "cells": [
  {
   "cell_type": "markdown",
   "id": "ef32bcac",
   "metadata": {},
   "source": [
    "### imports"
   ]
  },
  {
   "cell_type": "code",
   "execution_count": 1,
   "id": "564c67ff",
   "metadata": {},
   "outputs": [],
   "source": [
    "import os\n",
    "import numpy as np\n",
    "import pandas as pd\n",
    "import warnings\n",
    "warnings.filterwarnings('ignore')"
   ]
  },
  {
   "cell_type": "markdown",
   "id": "e40ea7d9",
   "metadata": {},
   "source": [
    "For this part, you need to change dir_path to path of ypur directory which contains .csv files."
   ]
  },
  {
   "cell_type": "code",
   "execution_count": 2,
   "id": "75620186",
   "metadata": {},
   "outputs": [],
   "source": [
    "dir_path = \"/Users/ecem/Desktop/seismocardiogram/data/diseased-dataset/Raw_Recordings\""
   ]
  },
  {
   "cell_type": "code",
   "execution_count": 3,
   "id": "66080b5c",
   "metadata": {},
   "outputs": [],
   "source": [
    "target_path  = \"/Users/ecem/Desktop/gyrocardiogram/data/\""
   ]
  },
  {
   "cell_type": "code",
   "execution_count": 4,
   "id": "16a20eb7",
   "metadata": {},
   "outputs": [],
   "source": [
    "files_cp, files_up, x, y, z = [],[], [], [], []"
   ]
  },
  {
   "cell_type": "code",
   "execution_count": 5,
   "id": "e8e9b615",
   "metadata": {},
   "outputs": [],
   "source": [
    "for file in os.listdir(dir_path):\n",
    "    if file.startswith(\"CP\"):\n",
    "        files_cp.append(os.path.join(dir_path, file))"
   ]
  },
  {
   "cell_type": "code",
   "execution_count": 6,
   "id": "a43e4ddc",
   "metadata": {},
   "outputs": [],
   "source": [
    "for file in os.listdir(dir_path):\n",
    "    if file.startswith(\"UP\"):\n",
    "        files_up.append(os.path.join(dir_path, file))"
   ]
  },
  {
   "cell_type": "code",
   "execution_count": 7,
   "id": "21100d5a",
   "metadata": {
    "scrolled": true
   },
   "outputs": [
    {
     "data": {
      "text/plain": [
       "['/Users/ecem/Desktop/seismocardiogram/data/diseased-dataset/Raw_Recordings/CP-01-Raw.txt',\n",
       " '/Users/ecem/Desktop/seismocardiogram/data/diseased-dataset/Raw_Recordings/CP-02-Raw.csv',\n",
       " '/Users/ecem/Desktop/seismocardiogram/data/diseased-dataset/Raw_Recordings/CP-03-Raw.csv',\n",
       " '/Users/ecem/Desktop/seismocardiogram/data/diseased-dataset/Raw_Recordings/CP-04-Raw.csv',\n",
       " '/Users/ecem/Desktop/seismocardiogram/data/diseased-dataset/Raw_Recordings/CP-05-Raw.csv',\n",
       " '/Users/ecem/Desktop/seismocardiogram/data/diseased-dataset/Raw_Recordings/CP-06-Raw.csv',\n",
       " '/Users/ecem/Desktop/seismocardiogram/data/diseased-dataset/Raw_Recordings/CP-07-Raw.csv',\n",
       " '/Users/ecem/Desktop/seismocardiogram/data/diseased-dataset/Raw_Recordings/CP-08-Raw.csv',\n",
       " '/Users/ecem/Desktop/seismocardiogram/data/diseased-dataset/Raw_Recordings/CP-09-Raw.csv',\n",
       " '/Users/ecem/Desktop/seismocardiogram/data/diseased-dataset/Raw_Recordings/CP-10-Raw.csv',\n",
       " '/Users/ecem/Desktop/seismocardiogram/data/diseased-dataset/Raw_Recordings/CP-11-Raw.csv',\n",
       " '/Users/ecem/Desktop/seismocardiogram/data/diseased-dataset/Raw_Recordings/CP-12-Raw.csv',\n",
       " '/Users/ecem/Desktop/seismocardiogram/data/diseased-dataset/Raw_Recordings/CP-13-Raw.csv',\n",
       " '/Users/ecem/Desktop/seismocardiogram/data/diseased-dataset/Raw_Recordings/CP-14-Raw.csv',\n",
       " '/Users/ecem/Desktop/seismocardiogram/data/diseased-dataset/Raw_Recordings/CP-15-Raw.csv',\n",
       " '/Users/ecem/Desktop/seismocardiogram/data/diseased-dataset/Raw_Recordings/CP-16-Raw.csv',\n",
       " '/Users/ecem/Desktop/seismocardiogram/data/diseased-dataset/Raw_Recordings/CP-17-Raw.csv',\n",
       " '/Users/ecem/Desktop/seismocardiogram/data/diseased-dataset/Raw_Recordings/CP-18-Raw.csv',\n",
       " '/Users/ecem/Desktop/seismocardiogram/data/diseased-dataset/Raw_Recordings/CP-19-Raw.csv',\n",
       " '/Users/ecem/Desktop/seismocardiogram/data/diseased-dataset/Raw_Recordings/CP-20-Raw.csv',\n",
       " '/Users/ecem/Desktop/seismocardiogram/data/diseased-dataset/Raw_Recordings/CP-21-Raw.csv',\n",
       " '/Users/ecem/Desktop/seismocardiogram/data/diseased-dataset/Raw_Recordings/CP-22-Raw.csv',\n",
       " '/Users/ecem/Desktop/seismocardiogram/data/diseased-dataset/Raw_Recordings/CP-23-Raw.csv',\n",
       " '/Users/ecem/Desktop/seismocardiogram/data/diseased-dataset/Raw_Recordings/CP-24-Raw.csv',\n",
       " '/Users/ecem/Desktop/seismocardiogram/data/diseased-dataset/Raw_Recordings/CP-25-Raw.csv',\n",
       " '/Users/ecem/Desktop/seismocardiogram/data/diseased-dataset/Raw_Recordings/CP-26-Raw.csv',\n",
       " '/Users/ecem/Desktop/seismocardiogram/data/diseased-dataset/Raw_Recordings/CP-27-Raw.csv',\n",
       " '/Users/ecem/Desktop/seismocardiogram/data/diseased-dataset/Raw_Recordings/CP-28-Raw.csv',\n",
       " '/Users/ecem/Desktop/seismocardiogram/data/diseased-dataset/Raw_Recordings/CP-29-Raw.csv',\n",
       " '/Users/ecem/Desktop/seismocardiogram/data/diseased-dataset/Raw_Recordings/CP-30-Raw.csv',\n",
       " '/Users/ecem/Desktop/seismocardiogram/data/diseased-dataset/Raw_Recordings/CP-31-Raw.csv',\n",
       " '/Users/ecem/Desktop/seismocardiogram/data/diseased-dataset/Raw_Recordings/CP-32-Raw.csv',\n",
       " '/Users/ecem/Desktop/seismocardiogram/data/diseased-dataset/Raw_Recordings/CP-33-Raw.csv',\n",
       " '/Users/ecem/Desktop/seismocardiogram/data/diseased-dataset/Raw_Recordings/CP-34-Raw.csv',\n",
       " '/Users/ecem/Desktop/seismocardiogram/data/diseased-dataset/Raw_Recordings/CP-35-Raw.csv',\n",
       " '/Users/ecem/Desktop/seismocardiogram/data/diseased-dataset/Raw_Recordings/CP-36-Raw.csv',\n",
       " '/Users/ecem/Desktop/seismocardiogram/data/diseased-dataset/Raw_Recordings/CP-37-Raw.csv',\n",
       " '/Users/ecem/Desktop/seismocardiogram/data/diseased-dataset/Raw_Recordings/CP-38-Raw.csv',\n",
       " '/Users/ecem/Desktop/seismocardiogram/data/diseased-dataset/Raw_Recordings/CP-39-Raw.csv',\n",
       " '/Users/ecem/Desktop/seismocardiogram/data/diseased-dataset/Raw_Recordings/CP-40-Raw.csv',\n",
       " '/Users/ecem/Desktop/seismocardiogram/data/diseased-dataset/Raw_Recordings/CP-41-Raw.csv',\n",
       " '/Users/ecem/Desktop/seismocardiogram/data/diseased-dataset/Raw_Recordings/CP-42-Raw.csv',\n",
       " '/Users/ecem/Desktop/seismocardiogram/data/diseased-dataset/Raw_Recordings/CP-43-Raw.csv',\n",
       " '/Users/ecem/Desktop/seismocardiogram/data/diseased-dataset/Raw_Recordings/CP-44-Raw.csv',\n",
       " '/Users/ecem/Desktop/seismocardiogram/data/diseased-dataset/Raw_Recordings/CP-45-Raw.csv',\n",
       " '/Users/ecem/Desktop/seismocardiogram/data/diseased-dataset/Raw_Recordings/CP-46-Raw.csv',\n",
       " '/Users/ecem/Desktop/seismocardiogram/data/diseased-dataset/Raw_Recordings/CP-47-Raw.csv',\n",
       " '/Users/ecem/Desktop/seismocardiogram/data/diseased-dataset/Raw_Recordings/CP-48-Raw.csv',\n",
       " '/Users/ecem/Desktop/seismocardiogram/data/diseased-dataset/Raw_Recordings/CP-49-Raw.csv',\n",
       " '/Users/ecem/Desktop/seismocardiogram/data/diseased-dataset/Raw_Recordings/CP-50-Raw.csv',\n",
       " '/Users/ecem/Desktop/seismocardiogram/data/diseased-dataset/Raw_Recordings/CP-51-Raw.csv',\n",
       " '/Users/ecem/Desktop/seismocardiogram/data/diseased-dataset/Raw_Recordings/CP-52-Raw.csv',\n",
       " '/Users/ecem/Desktop/seismocardiogram/data/diseased-dataset/Raw_Recordings/CP-53-Raw.csv',\n",
       " '/Users/ecem/Desktop/seismocardiogram/data/diseased-dataset/Raw_Recordings/CP-54-Raw.csv',\n",
       " '/Users/ecem/Desktop/seismocardiogram/data/diseased-dataset/Raw_Recordings/CP-55-Raw.csv',\n",
       " '/Users/ecem/Desktop/seismocardiogram/data/diseased-dataset/Raw_Recordings/CP-56-Raw.csv',\n",
       " '/Users/ecem/Desktop/seismocardiogram/data/diseased-dataset/Raw_Recordings/CP-57-Raw.csv',\n",
       " '/Users/ecem/Desktop/seismocardiogram/data/diseased-dataset/Raw_Recordings/CP-58-Raw.csv',\n",
       " '/Users/ecem/Desktop/seismocardiogram/data/diseased-dataset/Raw_Recordings/CP-59-Raw.csv',\n",
       " '/Users/ecem/Desktop/seismocardiogram/data/diseased-dataset/Raw_Recordings/CP-60-Raw.csv',\n",
       " '/Users/ecem/Desktop/seismocardiogram/data/diseased-dataset/Raw_Recordings/CP-61-Raw.csv',\n",
       " '/Users/ecem/Desktop/seismocardiogram/data/diseased-dataset/Raw_Recordings/CP-62-Raw.csv',\n",
       " '/Users/ecem/Desktop/seismocardiogram/data/diseased-dataset/Raw_Recordings/CP-63-Raw.csv',\n",
       " '/Users/ecem/Desktop/seismocardiogram/data/diseased-dataset/Raw_Recordings/CP-64-Raw.csv',\n",
       " '/Users/ecem/Desktop/seismocardiogram/data/diseased-dataset/Raw_Recordings/CP-65-Raw.csv',\n",
       " '/Users/ecem/Desktop/seismocardiogram/data/diseased-dataset/Raw_Recordings/CP-66-Raw.csv',\n",
       " '/Users/ecem/Desktop/seismocardiogram/data/diseased-dataset/Raw_Recordings/CP-67-Raw.csv',\n",
       " '/Users/ecem/Desktop/seismocardiogram/data/diseased-dataset/Raw_Recordings/CP-68-Raw.csv',\n",
       " '/Users/ecem/Desktop/seismocardiogram/data/diseased-dataset/Raw_Recordings/CP-69-Raw.csv',\n",
       " '/Users/ecem/Desktop/seismocardiogram/data/diseased-dataset/Raw_Recordings/CP-70-Raw.csv']"
      ]
     },
     "execution_count": 7,
     "metadata": {},
     "output_type": "execute_result"
    }
   ],
   "source": [
    "files_cp = sorted(files_cp)\n",
    "files_cp"
   ]
  },
  {
   "cell_type": "code",
   "execution_count": 8,
   "id": "5abc2e3e",
   "metadata": {},
   "outputs": [
    {
     "data": {
      "text/plain": [
       "['/Users/ecem/Desktop/seismocardiogram/data/diseased-dataset/Raw_Recordings/UP-01-Raw.csv',\n",
       " '/Users/ecem/Desktop/seismocardiogram/data/diseased-dataset/Raw_Recordings/UP-02-Raw.csv',\n",
       " '/Users/ecem/Desktop/seismocardiogram/data/diseased-dataset/Raw_Recordings/UP-03-Raw.csv',\n",
       " '/Users/ecem/Desktop/seismocardiogram/data/diseased-dataset/Raw_Recordings/UP-04-Raw.csv',\n",
       " '/Users/ecem/Desktop/seismocardiogram/data/diseased-dataset/Raw_Recordings/UP-05-Raw.csv',\n",
       " '/Users/ecem/Desktop/seismocardiogram/data/diseased-dataset/Raw_Recordings/UP-06-Raw.csv',\n",
       " '/Users/ecem/Desktop/seismocardiogram/data/diseased-dataset/Raw_Recordings/UP-07-Raw.csv',\n",
       " '/Users/ecem/Desktop/seismocardiogram/data/diseased-dataset/Raw_Recordings/UP-08-Raw.csv',\n",
       " '/Users/ecem/Desktop/seismocardiogram/data/diseased-dataset/Raw_Recordings/UP-09-Raw.csv',\n",
       " '/Users/ecem/Desktop/seismocardiogram/data/diseased-dataset/Raw_Recordings/UP-10-Raw.csv',\n",
       " '/Users/ecem/Desktop/seismocardiogram/data/diseased-dataset/Raw_Recordings/UP-11-Raw.csv',\n",
       " '/Users/ecem/Desktop/seismocardiogram/data/diseased-dataset/Raw_Recordings/UP-12-Raw.csv',\n",
       " '/Users/ecem/Desktop/seismocardiogram/data/diseased-dataset/Raw_Recordings/UP-13-Raw.csv',\n",
       " '/Users/ecem/Desktop/seismocardiogram/data/diseased-dataset/Raw_Recordings/UP-14-Raw.csv',\n",
       " '/Users/ecem/Desktop/seismocardiogram/data/diseased-dataset/Raw_Recordings/UP-15-Raw.csv',\n",
       " '/Users/ecem/Desktop/seismocardiogram/data/diseased-dataset/Raw_Recordings/UP-16-Raw.csv',\n",
       " '/Users/ecem/Desktop/seismocardiogram/data/diseased-dataset/Raw_Recordings/UP-17-Raw.csv',\n",
       " '/Users/ecem/Desktop/seismocardiogram/data/diseased-dataset/Raw_Recordings/UP-18-Raw.csv',\n",
       " '/Users/ecem/Desktop/seismocardiogram/data/diseased-dataset/Raw_Recordings/UP-19-Raw.csv',\n",
       " '/Users/ecem/Desktop/seismocardiogram/data/diseased-dataset/Raw_Recordings/UP-20-Raw.csv',\n",
       " '/Users/ecem/Desktop/seismocardiogram/data/diseased-dataset/Raw_Recordings/UP-21-Raw.csv',\n",
       " '/Users/ecem/Desktop/seismocardiogram/data/diseased-dataset/Raw_Recordings/UP-22-Raw.csv',\n",
       " '/Users/ecem/Desktop/seismocardiogram/data/diseased-dataset/Raw_Recordings/UP-23-Raw.csv',\n",
       " '/Users/ecem/Desktop/seismocardiogram/data/diseased-dataset/Raw_Recordings/UP-24-Raw.csv',\n",
       " '/Users/ecem/Desktop/seismocardiogram/data/diseased-dataset/Raw_Recordings/UP-25-Raw.csv',\n",
       " '/Users/ecem/Desktop/seismocardiogram/data/diseased-dataset/Raw_Recordings/UP-26-Raw.csv',\n",
       " '/Users/ecem/Desktop/seismocardiogram/data/diseased-dataset/Raw_Recordings/UP-27-Raw.csv',\n",
       " '/Users/ecem/Desktop/seismocardiogram/data/diseased-dataset/Raw_Recordings/UP-28-Raw.csv',\n",
       " '/Users/ecem/Desktop/seismocardiogram/data/diseased-dataset/Raw_Recordings/UP-29-Raw.csv',\n",
       " '/Users/ecem/Desktop/seismocardiogram/data/diseased-dataset/Raw_Recordings/UP-30-Raw.csv']"
      ]
     },
     "execution_count": 8,
     "metadata": {},
     "output_type": "execute_result"
    }
   ],
   "source": [
    "files_up = sorted(files_up)\n",
    "files_up"
   ]
  },
  {
   "cell_type": "code",
   "execution_count": 9,
   "id": "464f5a80",
   "metadata": {},
   "outputs": [
    {
     "data": {
      "text/html": [
       "<div>\n",
       "<style scoped>\n",
       "    .dataframe tbody tr th:only-of-type {\n",
       "        vertical-align: middle;\n",
       "    }\n",
       "\n",
       "    .dataframe tbody tr th {\n",
       "        vertical-align: top;\n",
       "    }\n",
       "\n",
       "    .dataframe thead th {\n",
       "        text-align: right;\n",
       "    }\n",
       "</style>\n",
       "<table border=\"1\" class=\"dataframe\">\n",
       "  <thead>\n",
       "    <tr style=\"text-align: right;\">\n",
       "      <th></th>\n",
       "      <th>Shimmer_D0CD_Accel_LN_X_CAL</th>\n",
       "      <th>Shimmer_D0CD_Accel_LN_Y_CAL</th>\n",
       "      <th>Shimmer_D0CD_Accel_LN_Z_CAL</th>\n",
       "    </tr>\n",
       "  </thead>\n",
       "  <tbody>\n",
       "    <tr>\n",
       "      <th>1</th>\n",
       "      <td>1.9565217391304348</td>\n",
       "      <td>1.9130434782608696</td>\n",
       "      <td>10.891304347826086</td>\n",
       "    </tr>\n",
       "    <tr>\n",
       "      <th>2</th>\n",
       "      <td>1.9565217391304348</td>\n",
       "      <td>1.9565217391304348</td>\n",
       "      <td>10.891304347826086</td>\n",
       "    </tr>\n",
       "    <tr>\n",
       "      <th>3</th>\n",
       "      <td>1.9891304347826086</td>\n",
       "      <td>2.0</td>\n",
       "      <td>10.92391304347826</td>\n",
       "    </tr>\n",
       "    <tr>\n",
       "      <th>4</th>\n",
       "      <td>2.010869565217391</td>\n",
       "      <td>2.0217391304347827</td>\n",
       "      <td>10.91304347826087</td>\n",
       "    </tr>\n",
       "    <tr>\n",
       "      <th>5</th>\n",
       "      <td>2.032608695652174</td>\n",
       "      <td>2.010869565217391</td>\n",
       "      <td>10.91304347826087</td>\n",
       "    </tr>\n",
       "    <tr>\n",
       "      <th>...</th>\n",
       "      <td>...</td>\n",
       "      <td>...</td>\n",
       "      <td>...</td>\n",
       "    </tr>\n",
       "    <tr>\n",
       "      <th>124833</th>\n",
       "      <td>0.7608695652173912</td>\n",
       "      <td>2.25</td>\n",
       "      <td>10.804347826086957</td>\n",
       "    </tr>\n",
       "    <tr>\n",
       "      <th>124834</th>\n",
       "      <td>0.7826086956521738</td>\n",
       "      <td>2.2391304347826084</td>\n",
       "      <td>10.782608695652174</td>\n",
       "    </tr>\n",
       "    <tr>\n",
       "      <th>124835</th>\n",
       "      <td>0.7826086956521738</td>\n",
       "      <td>2.2282608695652173</td>\n",
       "      <td>10.76086956521739</td>\n",
       "    </tr>\n",
       "    <tr>\n",
       "      <th>124836</th>\n",
       "      <td>0.7934782608695652</td>\n",
       "      <td>2.2065217391304346</td>\n",
       "      <td>10.76086956521739</td>\n",
       "    </tr>\n",
       "    <tr>\n",
       "      <th>124837</th>\n",
       "      <td>0.8043478260869565</td>\n",
       "      <td>2.1630434782608696</td>\n",
       "      <td>10.793478260869565</td>\n",
       "    </tr>\n",
       "  </tbody>\n",
       "</table>\n",
       "<p>124837 rows × 3 columns</p>\n",
       "</div>"
      ],
      "text/plain": [
       "       Shimmer_D0CD_Accel_LN_X_CAL Shimmer_D0CD_Accel_LN_Y_CAL  \\\n",
       "1               1.9565217391304348          1.9130434782608696   \n",
       "2               1.9565217391304348          1.9565217391304348   \n",
       "3               1.9891304347826086                         2.0   \n",
       "4                2.010869565217391          2.0217391304347827   \n",
       "5                2.032608695652174           2.010869565217391   \n",
       "...                            ...                         ...   \n",
       "124833          0.7608695652173912                        2.25   \n",
       "124834          0.7826086956521738          2.2391304347826084   \n",
       "124835          0.7826086956521738          2.2282608695652173   \n",
       "124836          0.7934782608695652          2.2065217391304346   \n",
       "124837          0.8043478260869565          2.1630434782608696   \n",
       "\n",
       "       Shimmer_D0CD_Accel_LN_Z_CAL  \n",
       "1               10.891304347826086  \n",
       "2               10.891304347826086  \n",
       "3                10.92391304347826  \n",
       "4                10.91304347826087  \n",
       "5                10.91304347826087  \n",
       "...                            ...  \n",
       "124833          10.804347826086957  \n",
       "124834          10.782608695652174  \n",
       "124835           10.76086956521739  \n",
       "124836           10.76086956521739  \n",
       "124837          10.793478260869565  \n",
       "\n",
       "[124837 rows x 3 columns]"
      ]
     },
     "execution_count": 9,
     "metadata": {},
     "output_type": "execute_result"
    }
   ],
   "source": [
    "df = pd.read_csv(files_cp[0], \n",
    "            dtype='unicode', engine='python')\n",
    "df.iloc[1:-1,1:4]"
   ]
  },
  {
   "cell_type": "code",
   "execution_count": 10,
   "id": "4102ac02",
   "metadata": {
    "scrolled": true
   },
   "outputs": [
    {
     "name": "stdout",
     "output_type": "stream",
     "text": [
      "0\n",
      "1\n",
      "2\n",
      "3\n",
      "4\n",
      "5\n",
      "6\n",
      "7\n",
      "8\n",
      "9\n",
      "10\n",
      "11\n",
      "12\n",
      "13\n",
      "14\n",
      "15\n",
      "16\n",
      "17\n",
      "18\n",
      "19\n",
      "20\n",
      "21\n",
      "22\n",
      "23\n",
      "24\n",
      "25\n",
      "26\n",
      "27\n",
      "28\n",
      "29\n",
      "30\n",
      "31\n",
      "32\n",
      "33\n",
      "34\n",
      "35\n",
      "36\n",
      "37\n",
      "38\n",
      "39\n",
      "40\n",
      "41\n",
      "42\n",
      "43\n",
      "44\n",
      "45\n",
      "46\n",
      "47\n",
      "48\n",
      "49\n",
      "50\n",
      "51\n",
      "52\n",
      "53\n",
      "54\n",
      "55\n",
      "56\n",
      "57\n",
      "58\n",
      "59\n",
      "60\n",
      "61\n",
      "62\n",
      "63\n",
      "64\n",
      "65\n",
      "66\n",
      "67\n",
      "68\n",
      "69\n"
     ]
    }
   ],
   "source": [
    "for i in range(len(files_cp)):\n",
    "    print(i)\n",
    "    df = pd.read_csv(files_cp[i], \n",
    "            dtype='unicode', engine='python')\n",
    "    df_ = df.iloc[1:-1,1:4]\n",
    "\n",
    "    \n",
    "    x.append(np.array(df_[\"Shimmer_D0CD_Accel_LN_X_CAL\"].astype(float)))\n",
    "    y.append(np.array(df_[\"Shimmer_D0CD_Accel_LN_Y_CAL\"].astype(float)))\n",
    "    z.append(np.array(df_[\"Shimmer_D0CD_Accel_LN_Z_CAL\"].astype(float)))\n"
   ]
  },
  {
   "cell_type": "code",
   "execution_count": 11,
   "id": "1531d8e9",
   "metadata": {
    "scrolled": true
   },
   "outputs": [],
   "source": [
    "for i in range(len(files_up)): \n",
    "    if i == 0:\n",
    "        k = pd.read_csv(files_up[i], dtype='unicode', index_col = 0)\n",
    "        df = k.iloc[1:,1:4]\n",
    "\n",
    "        x.append(np.array(df[\"ECG_Accel_LN_X_CAL\"].astype(float)))\n",
    "        y.append(np.array(df[\"ECG_Accel_LN_Y_CAL\"].astype(float)))\n",
    "        z.append(np.array(df[\"ECG_Accel_LN_Z_CAL\"].astype(float)))\n",
    "        \n",
    "    \n",
    "    else:\n",
    "\n",
    "        k = pd.read_csv(files_up[i], dtype='unicode', sep ='\\s+|,|\\t')\n",
    "\n",
    "\n",
    "        df = k.iloc[1:,1:4]\n",
    "\n",
    "        x.append(np.array(df[\"ECG_Accel_LN_X_CAL\"].astype(float)))\n",
    "        y.append(np.array(df[\"ECG_Accel_LN_Y_CAL\"].astype(float)))\n",
    "        z.append(np.array(df[\"ECG_Accel_LN_Z_CAL\"].astype(float)))\n",
    "        "
   ]
  },
  {
   "cell_type": "code",
   "execution_count": 12,
   "id": "bb8d4ee6",
   "metadata": {},
   "outputs": [
    {
     "data": {
      "text/plain": [
       "100"
      ]
     },
     "execution_count": 12,
     "metadata": {},
     "output_type": "execute_result"
    }
   ],
   "source": [
    "len(x)"
   ]
  },
  {
   "cell_type": "code",
   "execution_count": 13,
   "id": "920ac7e7",
   "metadata": {},
   "outputs": [],
   "source": [
    "x = np.array(x)\n",
    "y = np.array(y)\n",
    "z = np.array(z)"
   ]
  },
  {
   "cell_type": "code",
   "execution_count": 14,
   "id": "65238945",
   "metadata": {},
   "outputs": [
    {
     "name": "stdout",
     "output_type": "stream",
     "text": [
      "100\n",
      "100\n"
     ]
    }
   ],
   "source": [
    "print(len(y))\n",
    "print(len(z))"
   ]
  },
  {
   "cell_type": "code",
   "execution_count": 15,
   "id": "4cd3709c",
   "metadata": {},
   "outputs": [],
   "source": [
    "np.save(target_path + \"/scg_x\", x, allow_pickle= True)\n",
    "np.save(target_path + \"/scg_y\", y, allow_pickle= True)\n",
    "np.save(target_path + \"/scg_z\", z, allow_pickle= True)\n",
    "\n",
    "x = np.load(target_path + \"/scg_x.npy\", allow_pickle= True)"
   ]
  },
  {
   "cell_type": "code",
   "execution_count": 16,
   "id": "5fb96f27",
   "metadata": {},
   "outputs": [
    {
     "data": {
      "text/plain": [
       "(100,)"
      ]
     },
     "execution_count": 16,
     "metadata": {},
     "output_type": "execute_result"
    }
   ],
   "source": [
    "x.shape"
   ]
  },
  {
   "cell_type": "code",
   "execution_count": null,
   "id": "b9af6f7b",
   "metadata": {},
   "outputs": [],
   "source": []
  }
 ],
 "metadata": {
  "kernelspec": {
   "display_name": "Python 3 (ipykernel)",
   "language": "python",
   "name": "python3"
  },
  "language_info": {
   "codemirror_mode": {
    "name": "ipython",
    "version": 3
   },
   "file_extension": ".py",
   "mimetype": "text/x-python",
   "name": "python",
   "nbconvert_exporter": "python",
   "pygments_lexer": "ipython3",
   "version": "3.9.9"
  }
 },
 "nbformat": 4,
 "nbformat_minor": 5
}
