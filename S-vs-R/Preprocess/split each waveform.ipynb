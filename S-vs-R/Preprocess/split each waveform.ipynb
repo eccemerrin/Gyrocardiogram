{
 "cells": [
  {
   "cell_type": "code",
   "execution_count": 1,
   "id": "466a2dc2",
   "metadata": {},
   "outputs": [],
   "source": [
    "import numpy as np"
   ]
  },
  {
   "cell_type": "code",
   "execution_count": 2,
   "id": "ce06ed57",
   "metadata": {},
   "outputs": [],
   "source": [
    "dir_path = \"/Users/ecem/Desktop/gyrocardiogram/multiclass_data/data\""
   ]
  },
  {
   "cell_type": "code",
   "execution_count": 3,
   "id": "1ccbf715",
   "metadata": {},
   "outputs": [],
   "source": [
    "diseased_s = np.load(dir_path+ \"/diseased_gyro_s.npy\", allow_pickle = True)\n",
    "diseased_r = np.load(dir_path+ \"/diseased_gyro_r.npy\", allow_pickle = True)"
   ]
  },
  {
   "cell_type": "code",
   "execution_count": 4,
   "id": "ad5672a3",
   "metadata": {},
   "outputs": [
    {
     "name": "stdout",
     "output_type": "stream",
     "text": [
      "(36, 3)\n"
     ]
    }
   ],
   "source": [
    "print(diseased_s.shape)"
   ]
  },
  {
   "cell_type": "code",
   "execution_count": 5,
   "id": "636555ad",
   "metadata": {},
   "outputs": [
    {
     "name": "stdout",
     "output_type": "stream",
     "text": [
      "(44, 3)\n"
     ]
    }
   ],
   "source": [
    "print(diseased_r.shape)"
   ]
  },
  {
   "cell_type": "code",
   "execution_count": 6,
   "id": "a5cd1e24",
   "metadata": {},
   "outputs": [],
   "source": [
    "def splitter(array, slicing_point = 10000, duration = 10, sampling_rate = 256, s = 0):\n",
    "    wanted_npts = int(sampling_rate * duration) \n",
    "    npts = int(array[0].shape[0] - 10000)\n",
    "    lenght = npts // wanted_npts\n",
    "    remainder = int(np.around((((npts / wanted_npts - lenght)) * wanted_npts), 0))\n",
    "    s += lenght\n",
    "    \n",
    "    return [np.array_split(array[0][slicing_point + remainder:],lenght),\n",
    "           np.array_split(array[1][slicing_point + remainder:],lenght),\n",
    "           np.array_split(array[2][slicing_point + remainder:],lenght), s]\n",
    "    "
   ]
  },
  {
   "cell_type": "code",
   "execution_count": 7,
   "id": "fccd5a1c",
   "metadata": {},
   "outputs": [],
   "source": [
    "def merger(array, slicing_point = 10000, duration = 10):\n",
    "    _x, _y, _z  = [], [], []\n",
    "    summ=0\n",
    "    for i in range(len(array)):\n",
    "        a, b, c, summ = splitter(array[i], slicing_point = slicing_point, duration = duration, s = summ )\n",
    "        _x = _x + a\n",
    "        _y = _y + b\n",
    "        _z = _z + c\n",
    "        \n",
    "    print(summ)\n",
    "\n",
    "        \n",
    "    return [_x,_y,_z]"
   ]
  },
  {
   "cell_type": "markdown",
   "id": "96c51d13",
   "metadata": {},
   "source": [
    "## Splitting into 10 sc frames"
   ]
  },
  {
   "cell_type": "code",
   "execution_count": 8,
   "id": "d3b59fd5",
   "metadata": {},
   "outputs": [
    {
     "name": "stdout",
     "output_type": "stream",
     "text": [
      "1070\n"
     ]
    }
   ],
   "source": [
    "s_x, s_y, s_z = merger(diseased_s, duration = 10)"
   ]
  },
  {
   "cell_type": "code",
   "execution_count": 9,
   "id": "b31e8c03",
   "metadata": {},
   "outputs": [
    {
     "data": {
      "text/plain": [
       "numpy.ndarray"
      ]
     },
     "execution_count": 9,
     "metadata": {},
     "output_type": "execute_result"
    }
   ],
   "source": [
    "type(s_x[0])"
   ]
  },
  {
   "cell_type": "code",
   "execution_count": 10,
   "id": "7e2ed0a5",
   "metadata": {},
   "outputs": [
    {
     "data": {
      "text/plain": [
       "1070"
      ]
     },
     "execution_count": 10,
     "metadata": {},
     "output_type": "execute_result"
    }
   ],
   "source": [
    "#sanity check\n",
    "len(s_x)"
   ]
  },
  {
   "cell_type": "code",
   "execution_count": 11,
   "id": "fb6f25dc",
   "metadata": {},
   "outputs": [
    {
     "name": "stdout",
     "output_type": "stream",
     "text": [
      "1070\n",
      "1070\n"
     ]
    }
   ],
   "source": [
    "print(len(s_y))\n",
    "print(len(s_z))"
   ]
  },
  {
   "cell_type": "code",
   "execution_count": 12,
   "id": "6a666bcf",
   "metadata": {},
   "outputs": [
    {
     "name": "stdout",
     "output_type": "stream",
     "text": [
      "2560\n",
      "2560\n",
      "2560\n"
     ]
    }
   ],
   "source": [
    "# sanity check\n",
    "print(len(s_x[0]))\n",
    "print(len(s_y[20]))\n",
    "print(len(s_z[19]))"
   ]
  },
  {
   "cell_type": "code",
   "execution_count": 13,
   "id": "52cdac70",
   "metadata": {},
   "outputs": [],
   "source": [
    "stacked_diseased_s = np.stack((s_x, s_y, s_z),axis = 0)\n"
   ]
  },
  {
   "cell_type": "code",
   "execution_count": 14,
   "id": "5eed2d4f",
   "metadata": {},
   "outputs": [
    {
     "name": "stdout",
     "output_type": "stream",
     "text": [
      "(3, 1070, 2560)\n"
     ]
    }
   ],
   "source": [
    "print(stacked_diseased_s.shape)\n"
   ]
  },
  {
   "cell_type": "code",
   "execution_count": 15,
   "id": "1f0081c3",
   "metadata": {},
   "outputs": [
    {
     "name": "stdout",
     "output_type": "stream",
     "text": [
      "2017\n"
     ]
    }
   ],
   "source": [
    "r_x, r_y, r_z = merger(diseased_r, duration = 10)"
   ]
  },
  {
   "cell_type": "code",
   "execution_count": 16,
   "id": "b928b3cb",
   "metadata": {},
   "outputs": [
    {
     "data": {
      "text/plain": [
       "numpy.ndarray"
      ]
     },
     "execution_count": 16,
     "metadata": {},
     "output_type": "execute_result"
    }
   ],
   "source": [
    "type(r_x[0])"
   ]
  },
  {
   "cell_type": "code",
   "execution_count": 17,
   "id": "d1cd2c81",
   "metadata": {},
   "outputs": [
    {
     "data": {
      "text/plain": [
       "2017"
      ]
     },
     "execution_count": 17,
     "metadata": {},
     "output_type": "execute_result"
    }
   ],
   "source": [
    "#sanity check\n",
    "len(r_x)"
   ]
  },
  {
   "cell_type": "code",
   "execution_count": 18,
   "id": "0c705b9d",
   "metadata": {},
   "outputs": [
    {
     "name": "stdout",
     "output_type": "stream",
     "text": [
      "2017\n",
      "2017\n"
     ]
    }
   ],
   "source": [
    "print(len(r_y))\n",
    "print(len(r_z))"
   ]
  },
  {
   "cell_type": "code",
   "execution_count": 19,
   "id": "9d0ec8df",
   "metadata": {},
   "outputs": [
    {
     "name": "stdout",
     "output_type": "stream",
     "text": [
      "2560\n",
      "2560\n",
      "2560\n"
     ]
    }
   ],
   "source": [
    "# sanity check\n",
    "print(len(r_x[0]))\n",
    "print(len(r_y[20]))\n",
    "print(len(r_z[19]))"
   ]
  },
  {
   "cell_type": "code",
   "execution_count": 20,
   "id": "173abe8f",
   "metadata": {},
   "outputs": [
    {
     "name": "stdout",
     "output_type": "stream",
     "text": [
      "(3, 2017, 2560)\n"
     ]
    }
   ],
   "source": [
    "stacked_diseased_r = np.stack((r_x, r_y, r_z),axis = 0)\n",
    "print(stacked_diseased_r.shape)"
   ]
  },
  {
   "cell_type": "code",
   "execution_count": 21,
   "id": "a1c02d07",
   "metadata": {},
   "outputs": [],
   "source": [
    "np.save(dir_path + \"/diseased-10sec-s\", stacked_diseased_s, allow_pickle= True)\n",
    "np.save(dir_path + \"/diseased-10sec-r\", stacked_diseased_r, allow_pickle= True)"
   ]
  },
  {
   "cell_type": "code",
   "execution_count": null,
   "id": "18d0ff93",
   "metadata": {},
   "outputs": [],
   "source": []
  },
  {
   "cell_type": "code",
   "execution_count": null,
   "id": "e549d592",
   "metadata": {},
   "outputs": [],
   "source": []
  }
 ],
 "metadata": {
  "kernelspec": {
   "display_name": "Python 3 (ipykernel)",
   "language": "python",
   "name": "python3"
  },
  "language_info": {
   "codemirror_mode": {
    "name": "ipython",
    "version": 3
   },
   "file_extension": ".py",
   "mimetype": "text/x-python",
   "name": "python",
   "nbconvert_exporter": "python",
   "pygments_lexer": "ipython3",
   "version": "3.9.9"
  }
 },
 "nbformat": 4,
 "nbformat_minor": 5
}
